{
  "nbformat": 4,
  "nbformat_minor": 0,
  "metadata": {
    "colab": {
      "provenance": []
    },
    "kernelspec": {
      "name": "python3",
      "display_name": "Python 3"
    },
    "language_info": {
      "name": "python"
    }
  },
  "cells": [
    {
      "cell_type": "markdown",
      "source": [
        "---\n",
        "\n",
        "# **Manejo de Excepciones en Python**\n",
        "\n",
        "## **¿Qué es una Excepción?**\n",
        "Una **excepción** en Python es un evento que interrumpe el flujo normal de ejecución de un programa. Las excepciones generalmente ocurren cuando el código encuentra un error en tiempo de ejecución, como intentar dividir entre cero o acceder a un índice que no existe en una lista.\n",
        "\n",
        "Python ofrece un conjunto de excepciones predefinidas que permiten manejar estos casos, y también permite a los desarrolladores definir sus propias excepciones personalizadas.\n",
        "\n",
        "---\n",
        "\n",
        "## **Manejo de Excepciones**\n",
        "\n",
        "Para manejar excepciones en Python, usamos los bloques `try`, `except`, `else` y `finally`. A continuación, se explica cómo funcionan:\n",
        "\n",
        "1. **`try`:** El bloque de código que puede generar una excepción.\n",
        "2. **`except`:** Se ejecuta si se genera una excepción en el bloque `try`.\n",
        "3. **`else`:** Se ejecuta si no ocurre ninguna excepción.\n",
        "4. **`finally`:** Se ejecuta siempre, independientemente de si ocurrió una excepción o no.\n",
        "\n",
        "### **Ejemplo de manejo básico de excepciones:**\n",
        "\n",
        "```python\n",
        "def dividir(a, b):\n",
        "    try:\n",
        "        return a / b\n",
        "    except ZeroDivisionError:\n",
        "        return \"No se puede dividir entre cero\"\n",
        "    except TypeError:\n",
        "        return \"Los operandos deben ser números\"\n",
        "```\n",
        "\n",
        "### **Explicación:**\n",
        "- Si intentamos dividir entre cero, se lanza una excepción `ZeroDivisionError` y la función devuelve un mensaje de error.\n",
        "- Si los operandos no son números, se lanza una excepción `TypeError` y se devuelve otro mensaje de error.\n",
        "\n",
        "### **Prueba:**\n",
        "\n",
        "```python\n",
        "print(dividir(10, 2))   # Debería devolver 5\n",
        "print(dividir(10, 0))   # Debería devolver \"No se puede dividir entre cero\"\n",
        "print(dividir(10, \"a\")) # Debería devolver \"Los operandos deben ser números\"\n",
        "```\n",
        "\n",
        "---\n",
        "\n",
        "## **Definir Excepciones Personalizadas**\n",
        "\n",
        "Además de las excepciones predefinidas, podemos crear nuestras propias excepciones personalizadas. Esto es útil cuando queremos manejar errores específicos de nuestra aplicación.\n",
        "\n",
        "### **Ejemplo:**\n",
        "\n",
        "```python\n",
        "class ErrorSaldoInsuficiente(Exception):\n",
        "    \"\"\"Excepción personalizada para saldo insuficiente.\"\"\"\n",
        "    pass\n",
        "\n",
        "class CuentaBancaria:\n",
        "    def __init__(self, saldo=0):\n",
        "        self.saldo = saldo\n",
        "\n",
        "    def retirar(self, cantidad):\n",
        "        if cantidad > self.saldo:\n",
        "            raise ErrorSaldoInsuficiente(\"Saldo insuficiente para realizar el retiro\")\n",
        "        self.saldo -= cantidad\n",
        "        return self.saldo\n",
        "```\n",
        "\n",
        "### **Uso y manejo de la excepción personalizada:**\n",
        "\n",
        "```python\n",
        "cuenta = CuentaBancaria(100)\n",
        "\n",
        "try:\n",
        "    cuenta.retirar(150)\n",
        "except ErrorSaldoInsuficiente as e:\n",
        "    print(e)  # Debería imprimir \"Saldo insuficiente para realizar el retiro\"\n",
        "```\n",
        "\n",
        "---\n",
        "\n",
        "## **Pruebas de Excepciones con `pytest`**\n",
        "\n",
        "Al escribir pruebas unitarias, es importante asegurarse de que el código maneje las excepciones adecuadamente. `pytest` facilita la prueba de excepciones utilizando el bloque `pytest.raises()`.\n",
        "\n",
        "### **Ejemplo de prueba de excepciones con `pytest`:**\n",
        "\n",
        "Queremos probar que nuestra clase `CuentaBancaria` lanza la excepción `ErrorSaldoInsuficiente` cuando intentamos retirar más dinero del que hay en la cuenta.\n",
        "\n",
        "```python\n",
        "%%writefile test_cuenta_bancaria.py\n",
        "\n",
        "import pytest\n",
        "from cuenta_bancaria import CuentaBancaria, ErrorSaldoInsuficiente\n",
        "\n",
        "def test_retirar_saldo_insuficiente():\n",
        "    cuenta = CuentaBancaria(100)\n",
        "\n",
        "    # Verificamos que se lance la excepción al intentar retirar más de lo permitido\n",
        "    with pytest.raises(ErrorSaldoInsuficiente, match=\"Saldo insuficiente\"):\n",
        "        cuenta.retirar(150)\n",
        "```\n",
        "\n",
        "### **Explicación:**\n",
        "- **`pytest.raises`**: Se usa para verificar que una excepción específica se lance dentro de un bloque de código.\n",
        "- **`match`**: Podemos usarlo para verificar que el mensaje de la excepción contenga una cadena específica.\n",
        "- Si el bloque no lanza la excepción especificada, la prueba falla.\n",
        "\n",
        "### **Prueba adicional de éxito:**\n",
        "\n",
        "También podemos probar que el retiro sea exitoso si la cantidad solicitada está dentro del saldo disponible:\n",
        "\n",
        "```python\n",
        "def test_retirar_exitoso():\n",
        "    cuenta = CuentaBancaria(100)\n",
        "    saldo_restante = cuenta.retirar(50)\n",
        "    assert saldo_restante == 50\n",
        "```\n",
        "\n",
        "---\n",
        "\n",
        "## **Múltiples Excepciones en una Función**\n",
        "\n",
        "En muchas ocasiones, una función puede lanzar más de un tipo de excepción. En tales casos, puedes agregar varias pruebas para cubrir cada excepción por separado.\n",
        "\n",
        "### **Ejemplo:**\n",
        "\n",
        "Modifiquemos la función `dividir` para que también maneje casos donde los operandos no son números:\n",
        "\n",
        "```python\n",
        "def dividir(a, b):\n",
        "    try:\n",
        "        return a / b\n",
        "    except ZeroDivisionError:\n",
        "        raise ZeroDivisionError(\"No se puede dividir entre cero\")\n",
        "    except TypeError:\n",
        "        raise TypeError(\"Los operandos deben ser números\")\n",
        "```\n",
        "\n",
        "### **Pruebas con `pytest`:**\n",
        "\n",
        "```python\n",
        "%%writefile test_dividir.py\n",
        "\n",
        "import pytest\n",
        "from dividir import dividir\n",
        "\n",
        "def test_dividir_por_cero():\n",
        "    with pytest.raises(ZeroDivisionError, match=\"No se puede dividir entre cero\"):\n",
        "        dividir(10, 0)\n",
        "\n",
        "def test_dividir_tipos_invalidos():\n",
        "    with pytest.raises(TypeError, match=\"Los operandos deben ser números\"):\n",
        "        dividir(10, \"a\")\n",
        "```\n",
        "\n",
        "### **Explicación:**\n",
        "- Aquí verificamos que se lanzan las excepciones correctas (`ZeroDivisionError` y `TypeError`) para los respectivos casos erróneos.\n",
        "\n",
        "---\n",
        "\n",
        "## **Uso de `finally` para limpieza**\n",
        "\n",
        "Cuando tienes código que requiere siempre ejecutarse, sin importar si ocurrió una excepción, puedes usar el bloque `finally`. Esto es útil para limpiar recursos como conexiones a bases de datos o archivos abiertos.\n",
        "\n",
        "### **Ejemplo:**\n",
        "\n",
        "```python\n",
        "def leer_archivo(ruta):\n",
        "    try:\n",
        "        archivo = open(ruta, 'r')\n",
        "        return archivo.read()\n",
        "    except FileNotFoundError:\n",
        "        return \"Archivo no encontrado\"\n",
        "    finally:\n",
        "        print(\"Cerrando archivo (si está abierto)\")\n",
        "        try:\n",
        "            archivo.close()\n",
        "        except NameError:\n",
        "            pass  # El archivo no se abrió\n",
        "```\n",
        "\n",
        "En este caso, la función intentará cerrar el archivo, incluso si ocurrió un error al intentar abrirlo.\n",
        "\n",
        "---\n",
        "\n",
        "## **Conclusión**\n",
        "\n",
        "El manejo adecuado de excepciones es una parte importante del desarrollo de software robusto. Python proporciona una forma simple y flexible de manejar errores con bloques `try`, `except`, `else`, y `finally`. Al mismo tiempo, `pytest` ofrece herramientas poderosas para asegurarse de que las excepciones se manejen correctamente en las pruebas.\n",
        "\n",
        "### **Puntos Clave:**\n",
        "- **Manejo de excepciones**: Usa bloques `try`, `except`, `else` y `finally` para manejar errores de forma segura.\n",
        "- **Excepciones personalizadas**: Crea tus propias excepciones para manejar casos específicos de tu aplicación.\n",
        "- **Pruebas de excepciones con `pytest`**: Usa `pytest.raises` para verificar que las excepciones se lancen cuando se espera.\n",
        "- **Siempre limpiar recursos**: Usa `finally` para garantizar que los recursos se limpien, incluso cuando ocurren errores.\n",
        "\n",
        "---\n"
      ],
      "metadata": {
        "id": "EJyl5oqmkI9G"
      }
    },
    {
      "cell_type": "markdown",
      "source": [
        "# Códigos"
      ],
      "metadata": {
        "id": "WW3FGktdkNEV"
      }
    },
    {
      "cell_type": "code",
      "source": [
        "def dividir(a, b):\n",
        "  return a / b"
      ],
      "metadata": {
        "id": "ypwTXkm_kmGG"
      },
      "execution_count": null,
      "outputs": []
    },
    {
      "cell_type": "code",
      "source": [
        "print(dividir(10, 2))   # Qué devuelve?\n",
        "print(dividir(10, 0))   # Qué devuelve?\n",
        "print(dividir(10, \"a\")) # Qué devuelve?"
      ],
      "metadata": {
        "id": "ve8X99lRkW2u",
        "colab": {
          "base_uri": "https://localhost:8080/",
          "height": 263
        },
        "outputId": "1f39dd98-de24-4155-a8cc-240a4693f462"
      },
      "execution_count": null,
      "outputs": [
        {
          "output_type": "stream",
          "name": "stdout",
          "text": [
            "5.0\n"
          ]
        },
        {
          "output_type": "error",
          "ename": "ZeroDivisionError",
          "evalue": "division by zero",
          "traceback": [
            "\u001b[0;31m---------------------------------------------------------------------------\u001b[0m",
            "\u001b[0;31mZeroDivisionError\u001b[0m                         Traceback (most recent call last)",
            "\u001b[0;32m<ipython-input-12-0336b2149935>\u001b[0m in \u001b[0;36m<cell line: 2>\u001b[0;34m()\u001b[0m\n\u001b[1;32m      1\u001b[0m \u001b[0mprint\u001b[0m\u001b[0;34m(\u001b[0m\u001b[0mdividir\u001b[0m\u001b[0;34m(\u001b[0m\u001b[0;36m10\u001b[0m\u001b[0;34m,\u001b[0m \u001b[0;36m2\u001b[0m\u001b[0;34m)\u001b[0m\u001b[0;34m)\u001b[0m   \u001b[0;31m# Qué devuelve?\u001b[0m\u001b[0;34m\u001b[0m\u001b[0;34m\u001b[0m\u001b[0m\n\u001b[0;32m----> 2\u001b[0;31m \u001b[0mprint\u001b[0m\u001b[0;34m(\u001b[0m\u001b[0mdividir\u001b[0m\u001b[0;34m(\u001b[0m\u001b[0;36m10\u001b[0m\u001b[0;34m,\u001b[0m \u001b[0;36m0\u001b[0m\u001b[0;34m)\u001b[0m\u001b[0;34m)\u001b[0m   \u001b[0;31m# Qué devuelve?\u001b[0m\u001b[0;34m\u001b[0m\u001b[0;34m\u001b[0m\u001b[0m\n\u001b[0m\u001b[1;32m      3\u001b[0m \u001b[0mprint\u001b[0m\u001b[0;34m(\u001b[0m\u001b[0mdividir\u001b[0m\u001b[0;34m(\u001b[0m\u001b[0;36m10\u001b[0m\u001b[0;34m,\u001b[0m \u001b[0;34m\"a\"\u001b[0m\u001b[0;34m)\u001b[0m\u001b[0;34m)\u001b[0m \u001b[0;31m# Qué devuelve?\u001b[0m\u001b[0;34m\u001b[0m\u001b[0;34m\u001b[0m\u001b[0m\n",
            "\u001b[0;32m<ipython-input-11-964c9d34259e>\u001b[0m in \u001b[0;36mdividir\u001b[0;34m(a, b)\u001b[0m\n\u001b[1;32m      1\u001b[0m \u001b[0;32mdef\u001b[0m \u001b[0mdividir\u001b[0m\u001b[0;34m(\u001b[0m\u001b[0ma\u001b[0m\u001b[0;34m,\u001b[0m \u001b[0mb\u001b[0m\u001b[0;34m)\u001b[0m\u001b[0;34m:\u001b[0m\u001b[0;34m\u001b[0m\u001b[0;34m\u001b[0m\u001b[0m\n\u001b[0;32m----> 2\u001b[0;31m   \u001b[0;32mreturn\u001b[0m \u001b[0ma\u001b[0m \u001b[0;34m/\u001b[0m \u001b[0mb\u001b[0m\u001b[0;34m\u001b[0m\u001b[0;34m\u001b[0m\u001b[0m\n\u001b[0m",
            "\u001b[0;31mZeroDivisionError\u001b[0m: division by zero"
          ]
        }
      ]
    },
    {
      "cell_type": "code",
      "execution_count": null,
      "metadata": {
        "id": "T7rALIeBjHmM"
      },
      "outputs": [],
      "source": [
        "def dividir(a, b):\n",
        "  try:\n",
        "    return a / b\n",
        "  except ZeroDivisionError:\n",
        "    return \"No se puede dividir entre cero\"\n",
        "  except TypeError:\n",
        "    return \"Los operandos deben ser números\""
      ]
    },
    {
      "cell_type": "code",
      "source": [
        "print(dividir(10, 2))   # Qué devuelve?\n",
        "print(dividir(10, 0))   # Qué devuelve?\n",
        "print(dividir(10, \"a\")) # Qué devuelve?"
      ],
      "metadata": {
        "colab": {
          "base_uri": "https://localhost:8080/"
        },
        "collapsed": true,
        "id": "senIREQQkpRK",
        "outputId": "321b1797-07f8-4738-e6a2-a3e807042229"
      },
      "execution_count": null,
      "outputs": [
        {
          "output_type": "stream",
          "name": "stdout",
          "text": [
            "5.0\n",
            "No se puede dividir entre cero\n",
            "Los operandos deben ser números\n"
          ]
        }
      ]
    },
    {
      "cell_type": "markdown",
      "source": [
        "### Generando una excepción personalizada"
      ],
      "metadata": {
        "id": "8LPl88SdkjDh"
      }
    },
    {
      "cell_type": "code",
      "source": [
        "class ErrorSaldoInsuficiente(Exception):\n",
        "  \"\"\"Excepción personalizada para saldo insuficiente.\"\"\"\n",
        "  pass\n",
        "\n",
        "class CuentaBancaria:\n",
        "  def __init__(self, saldo=0):\n",
        "    self.saldo = saldo\n",
        "\n",
        "  def retirar(self, cantidad):\n",
        "    if cantidad > self.saldo:\n",
        "      raise ErrorSaldoInsuficiente(\"Saldo insuficiente para realizar el retiro\")\n",
        "    self.saldo -= cantidad\n",
        "    return self.saldo"
      ],
      "metadata": {
        "id": "MjVWNRxQkYvz"
      },
      "execution_count": null,
      "outputs": []
    },
    {
      "cell_type": "markdown",
      "source": [
        "### Usando la excepción personalizada"
      ],
      "metadata": {
        "id": "4ICIrqSMkhRY"
      }
    },
    {
      "cell_type": "code",
      "source": [
        "cuenta = CuentaBancaria(100)\n",
        "\n",
        "try:\n",
        "  cuenta.retirar(150)\n",
        "except ErrorSaldoInsuficiente as e:\n",
        "  print(e)  # Debería imprimir \"Saldo insuficiente para realizar el retiro\""
      ],
      "metadata": {
        "id": "j5zaHcdykgED"
      },
      "execution_count": null,
      "outputs": []
    },
    {
      "cell_type": "markdown",
      "source": [
        "# Un ejemplo más robusto"
      ],
      "metadata": {
        "id": "t375Mi7wljRU"
      }
    },
    {
      "cell_type": "markdown",
      "source": [
        "---\n",
        "\n",
        "### **Escenario: Sistema de Alquiler de Vehículos**\n",
        "\n",
        "Supongamos que estamos desarrollando un sistema de alquiler de vehículos donde se manejan las siguientes situaciones:\n",
        "\n",
        "1. **ErrorVehiculoNoDisponible**: Se lanza cuando un usuario intenta alquilar un vehículo que ya está alquilado.\n",
        "2. **ErrorSaldoInsuficiente**: Se lanza cuando un usuario intenta alquilar un vehículo pero no tiene suficiente saldo.\n",
        "3. **ErrorCantidadInvalida**: Se lanza cuando se intenta agregar una cantidad negativa al saldo.\n",
        "\n",
        "Cada clase estará diseñada para manejar diferentes aspectos del sistema, y se usarán los bloques `try`, `except`, `else` y `finally` para garantizar que las excepciones se manejen correctamente.\n",
        "\n",
        "---\n",
        "\n",
        "### **Definición de Excepciones Personalizadas**\n",
        "\n",
        "```python\n",
        "# excepciones.py\n",
        "class ErrorVehiculoNoDisponible(Exception):\n",
        "    \"\"\"Se lanza cuando el vehículo ya ha sido alquilado.\"\"\"\n",
        "    pass\n",
        "\n",
        "class ErrorSaldoInsuficiente(Exception):\n",
        "    \"\"\"Se lanza cuando el saldo del usuario no es suficiente.\"\"\"\n",
        "    pass\n",
        "\n",
        "class ErrorCantidadInvalida(Exception):\n",
        "    \"\"\"Se lanza cuando se intenta operar con una cantidad negativa.\"\"\"\n",
        "    pass\n",
        "```\n",
        "\n",
        "---\n",
        "\n",
        "### **Clase `Vehiculo`**\n",
        "\n",
        "La clase `Vehiculo` representa un vehículo que puede ser alquilado. Cada vehículo tiene un estado de disponibilidad (disponible o alquilado).\n",
        "\n",
        "```python\n",
        "# vehiculo.py\n",
        "class Vehiculo:\n",
        "    def __init__(self, tipo: str, costo_por_dia: float):\n",
        "        self.tipo = tipo\n",
        "        self.costo_por_dia = costo_por_dia\n",
        "        self.disponible = True\n",
        "\n",
        "    def alquilar(self):\n",
        "        \"\"\"Marca el vehículo como alquilado si está disponible.\"\"\"\n",
        "        if not self.disponible:\n",
        "            raise ErrorVehiculoNoDisponible(f\"El vehículo {self.tipo} ya está alquilado.\")\n",
        "        self.disponible = False\n",
        "\n",
        "    def devolver(self):\n",
        "        \"\"\"Marca el vehículo como disponible.\"\"\"\n",
        "        self.disponible = True\n",
        "```\n",
        "\n",
        "---\n",
        "\n",
        "### **Clase `Cliente`**\n",
        "\n",
        "La clase `Cliente` maneja las interacciones financieras, como agregar saldo y realizar pagos.\n",
        "\n",
        "```python\n",
        "# cliente.py\n",
        "class Cliente:\n",
        "    def __init__(self, nombre: str, saldo: float = 0.0):\n",
        "        self.nombre = nombre\n",
        "        self.saldo = saldo\n",
        "\n",
        "    def agregar_saldo(self, cantidad: float):\n",
        "        \"\"\"Agrega saldo a la cuenta del cliente. No permite cantidades negativas.\"\"\"\n",
        "        if cantidad <= 0:\n",
        "            raise ErrorCantidadInvalida(\"No se puede agregar una cantidad negativa o cero al saldo.\")\n",
        "        self.saldo += cantidad\n",
        "        print(f\"Saldo actualizado: {self.saldo}\")\n",
        "\n",
        "    def pagar(self, cantidad: float):\n",
        "        \"\"\"Realiza un pago si el cliente tiene suficiente saldo.\"\"\"\n",
        "        if cantidad > self.saldo:\n",
        "            raise ErrorSaldoInsuficiente(\"Saldo insuficiente para realizar el pago.\")\n",
        "        self.saldo -= cantidad\n",
        "        print(f\"Pago exitoso. Saldo restante: {self.saldo}\")\n",
        "```\n",
        "\n",
        "---\n",
        "\n",
        "### **Clase `SistemaAlquiler`**\n",
        "\n",
        "Esta clase es responsable de gestionar la interacción entre el cliente y el vehículo, y de realizar el alquiler.\n",
        "\n",
        "```python\n",
        "# sistema_alquiler.py\n",
        "class SistemaAlquiler:\n",
        "    def __init__(self, cliente: Cliente, vehiculo: Vehiculo):\n",
        "        self.cliente = cliente\n",
        "        self.vehiculo = vehiculo\n",
        "\n",
        "    def procesar_alquiler(self, dias: int):\n",
        "        \"\"\"Procesa el alquiler de un vehículo por una cantidad de días.\"\"\"\n",
        "        try:\n",
        "            costo_total = self.vehiculo.costo_por_dia * dias\n",
        "            print(f\"Procesando alquiler de {self.vehiculo.tipo} por {dias} días. Costo total: {costo_total}\")\n",
        "            \n",
        "            # Intentar alquilar el vehículo\n",
        "            self.vehiculo.alquilar()\n",
        "\n",
        "            # Intentar realizar el pago\n",
        "            self.cliente.pagar(costo_total)\n",
        "        \n",
        "        except ErrorVehiculoNoDisponible as e:\n",
        "            print(f\"Error: {e}\")\n",
        "        \n",
        "        except ErrorSaldoInsuficiente as e:\n",
        "            print(f\"Error: {e}\")\n",
        "        \n",
        "        except ErrorCantidadInvalida as e:\n",
        "            print(f\"Error: {e}\")\n",
        "\n",
        "        else:\n",
        "            # Este bloque se ejecuta si no se lanza ninguna excepción\n",
        "            print(f\"Alquiler exitoso. {self.cliente.nombre} ha alquilado el vehículo por {dias} días.\")\n",
        "        \n",
        "        finally:\n",
        "            # Este bloque se ejecuta siempre, ocurra o no una excepción\n",
        "            if not self.vehiculo.disponible:\n",
        "                print(f\"Vehículo {self.vehiculo.tipo} ahora está alquilado.\")\n",
        "            else:\n",
        "                print(f\"Vehículo {self.vehiculo.tipo} sigue disponible.\")\n",
        "```\n",
        "\n",
        "---\n",
        "\n",
        "### **Ejemplo de Uso**\n",
        "\n",
        "Aquí mostramos cómo interactuarían estas clases en un flujo típico de negocio.\n",
        "\n",
        "```python\n",
        "# main.py\n",
        "from cliente import Cliente\n",
        "from vehiculo import Vehiculo\n",
        "from sistema_alquiler import SistemaAlquiler\n",
        "from excepciones import ErrorVehiculoNoDisponible, ErrorSaldoInsuficiente, ErrorCantidadInvalida\n",
        "\n",
        "# Crear cliente y vehículo\n",
        "cliente = Cliente(\"Juan\", saldo=500)\n",
        "vehiculo = Vehiculo(\"Auto\", costo_por_dia=100)\n",
        "\n",
        "# Crear el sistema de alquiler\n",
        "sistema = SistemaAlquiler(cliente, vehiculo)\n",
        "\n",
        "# Intentar alquilar el vehículo\n",
        "try:\n",
        "    sistema.procesar_alquiler(dias=3)\n",
        "except (ErrorVehiculoNoDisponible, ErrorSaldoInsuficiente, ErrorCantidadInvalida) as e:\n",
        "    print(f\"Excepción manejada: {e}\")\n",
        "\n",
        "# Intentar alquilar de nuevo (debería fallar porque ya está alquilado)\n",
        "try:\n",
        "    sistema.procesar_alquiler(dias=1)\n",
        "except (ErrorVehiculoNoDisponible, ErrorSaldoInsuficiente, ErrorCantidadInvalida) as e:\n",
        "    print(f\"Excepción manejada: {e}\")\n",
        "\n",
        "# Devolver el vehículo y luego intentar alquilar de nuevo\n",
        "vehiculo.devolver()\n",
        "\n",
        "# Intentar alquilar después de devolver\n",
        "try:\n",
        "    sistema.procesar_alquiler(dias=1)\n",
        "except (ErrorVehiculoNoDisponible, ErrorSaldoInsuficiente, ErrorCantidadInvalida) as e:\n",
        "    print(f\"Excepción manejada: {e}\")\n",
        "```\n",
        "\n",
        "### **Explicación del flujo:**\n",
        "\n",
        "1. **Primer alquiler:** El cliente `Juan` alquila el `Auto` por 3 días, lo cual tiene un costo de 300. Si tiene suficiente saldo y el vehículo está disponible, el alquiler será exitoso.\n",
        "2. **Segundo alquiler:** Como el vehículo ya fue alquilado, se lanza la excepción `ErrorVehiculoNoDisponible`.\n",
        "3. **Devolver el vehículo:** Después de devolver el vehículo, el cliente puede volver a intentar alquilarlo.\n",
        "\n",
        "### **Bloques Try/Except/Else/Finally:**\n",
        "\n",
        "- **`try`**: Intenta realizar el proceso de alquiler (alquilar el vehículo y realizar el pago).\n",
        "- **`except`**: Maneja las excepciones personalizadas (`ErrorVehiculoNoDisponible`, `ErrorSaldoInsuficiente`, `ErrorCantidadInvalida`).\n",
        "- **`else`**: Se ejecuta si no hubo excepciones, lo que significa que el alquiler fue exitoso.\n",
        "- **`finally`**: Siempre se ejecuta para informar si el vehículo está alquilado o disponible, asegurando que el estado del vehículo se reporte correctamente, independientemente de si ocurrió o no una excepción.\n",
        "\n",
        "---\n",
        "\n",
        "### **Conclusión:**\n",
        "\n",
        "Este ejemplo demuestra cómo usar excepciones personalizadas y un buen manejo de errores con `try`, `except`, `else` y `finally` en un sistema de alquiler de vehículos. El uso de excepciones personalizadas mejora la claridad del código y permite manejar los errores de manera más específica. Además, `finally` garantiza que se manejen correctamente los recursos, como el estado del vehículo."
      ],
      "metadata": {
        "id": "uYStMZ9xlmUo"
      }
    },
    {
      "cell_type": "code",
      "source": [
        "%%writefile excepciones.py\n",
        "# excepciones.py\n",
        "class ErrorVehiculoNoDisponible(Exception):\n",
        "  \"\"\"Se lanza cuando el vehículo ya ha sido alquilado.\"\"\"\n",
        "  pass\n",
        "\n",
        "class ErrorSaldoInsuficiente(Exception):\n",
        "  \"\"\"Se lanza cuando el saldo del usuario no es suficiente.\"\"\"\n",
        "  pass\n",
        "\n",
        "class ErrorCantidadInvalida(Exception):\n",
        "  \"\"\"Se lanza cuando se intenta operar con una cantidad negativa.\"\"\"\n",
        "  pass\n"
      ],
      "metadata": {
        "colab": {
          "base_uri": "https://localhost:8080/"
        },
        "id": "6Rk9Kg1QllD0",
        "outputId": "477ad28f-f693-4645-ae13-0c808824c493"
      },
      "execution_count": null,
      "outputs": [
        {
          "output_type": "stream",
          "name": "stdout",
          "text": [
            "Overwriting excepciones.py\n"
          ]
        }
      ]
    },
    {
      "cell_type": "code",
      "source": [
        "%%writefile vehiculo.py\n",
        "from excepciones import ErrorVehiculoNoDisponible, ErrorSaldoInsuficiente, ErrorCantidadInvalida\n",
        "# vehiculo.py\n",
        "class Vehiculo:\n",
        "  def __init__(self, tipo: str, costo_por_dia: float):\n",
        "    self.tipo = tipo\n",
        "    self.costo_por_dia = costo_por_dia\n",
        "    self.disponible = True\n",
        "\n",
        "  def alquilar(self):\n",
        "    \"\"\"Marca el vehículo como alquilado si está disponible.\"\"\"\n",
        "    if not self.disponible:\n",
        "        raise ErrorVehiculoNoDisponible(f\"El vehículo {self.tipo} ya está alquilado.\")\n",
        "    self.disponible = False\n",
        "\n",
        "  def devolver(self):\n",
        "    \"\"\"Marca el vehículo como disponible.\"\"\"\n",
        "    self.disponible = True\n"
      ],
      "metadata": {
        "colab": {
          "base_uri": "https://localhost:8080/"
        },
        "id": "h5XA7JBGlxoL",
        "outputId": "2122f0fe-098e-452d-8ae2-74d30147524c"
      },
      "execution_count": null,
      "outputs": [
        {
          "output_type": "stream",
          "name": "stdout",
          "text": [
            "Overwriting vehiculo.py\n"
          ]
        }
      ]
    },
    {
      "cell_type": "code",
      "source": [
        "%%writefile cliente.py\n",
        "from excepciones import ErrorVehiculoNoDisponible, ErrorSaldoInsuficiente, ErrorCantidadInvalida\n",
        "# cliente.py\n",
        "class Cliente:\n",
        "  def __init__(self, nombre: str, saldo: float = 0.0):\n",
        "    self.nombre = nombre\n",
        "    self.saldo = saldo\n",
        "\n",
        "  def agregar_saldo(self, cantidad: float):\n",
        "    \"\"\"Agrega saldo a la cuenta del cliente. No permite cantidades negativas.\"\"\"\n",
        "    if cantidad <= 0:\n",
        "        raise ErrorCantidadInvalida(\"No se puede agregar una cantidad negativa o cero al saldo.\")\n",
        "    self.saldo += cantidad\n",
        "    print(f\"Saldo actualizado: {self.saldo}\")\n",
        "\n",
        "  def pagar(self, cantidad: float):\n",
        "    \"\"\"Realiza un pago si el cliente tiene suficiente saldo.\"\"\"\n",
        "    if cantidad > self.saldo:\n",
        "        raise ErrorSaldoInsuficiente(\"Saldo insuficiente para realizar el pago.\")\n",
        "    self.saldo -= cantidad\n",
        "    print(f\"Pago exitoso. Saldo restante: {self.saldo}\")\n"
      ],
      "metadata": {
        "colab": {
          "base_uri": "https://localhost:8080/"
        },
        "id": "Xy0PNPD1l2pK",
        "outputId": "dd6b9222-29b3-4fd5-a283-b973946bac17"
      },
      "execution_count": null,
      "outputs": [
        {
          "output_type": "stream",
          "name": "stdout",
          "text": [
            "Overwriting cliente.py\n"
          ]
        }
      ]
    },
    {
      "cell_type": "code",
      "source": [
        "%%writefile sistema_alquiler.py\n",
        "from cliente import Cliente\n",
        "from vehiculo import Vehiculo\n",
        "from excepciones import ErrorVehiculoNoDisponible, ErrorSaldoInsuficiente, ErrorCantidadInvalida\n",
        "# sistema_alquiler.py\n",
        "class SistemaAlquiler:\n",
        "  def __init__(self, cliente: Cliente, vehiculo: Vehiculo):\n",
        "    self.cliente = cliente\n",
        "    self.vehiculo = vehiculo\n",
        "\n",
        "  def procesar_alquiler(self, dias: int):\n",
        "    \"\"\"Procesa el alquiler de un vehículo por una cantidad de días.\"\"\"\n",
        "    try:\n",
        "      costo_total = self.vehiculo.costo_por_dia * dias\n",
        "      print(f\"Procesando alquiler de {self.vehiculo.tipo} por {dias} días. Costo total: {costo_total}\")\n",
        "\n",
        "      # Intentar alquilar el vehículo\n",
        "      self.vehiculo.alquilar()\n",
        "\n",
        "      # Intentar realizar el pago\n",
        "      self.cliente.pagar(costo_total)\n",
        "\n",
        "    except ErrorVehiculoNoDisponible as e:\n",
        "      print(f\"Error: {e}\")\n",
        "\n",
        "    except ErrorSaldoInsuficiente as e:\n",
        "      print(f\"Error: {e}\")\n",
        "\n",
        "    except ErrorCantidadInvalida as e:\n",
        "      print(f\"Error: {e}\")\n",
        "\n",
        "    else:\n",
        "      # Este bloque se ejecuta si no se lanza ninguna excepción\n",
        "      print(f\"Alquiler exitoso. {self.cliente.nombre} ha alquilado el vehículo por {dias} días.\")\n",
        "\n",
        "    finally:\n",
        "      # Este bloque se ejecuta siempre, ocurra o no una excepción\n",
        "      if not self.vehiculo.disponible:\n",
        "          print(f\"Vehículo {self.vehiculo.tipo} ahora está alquilado.\")\n",
        "      else:\n",
        "          print(f\"Vehículo {self.vehiculo.tipo} sigue disponible.\")\n"
      ],
      "metadata": {
        "colab": {
          "base_uri": "https://localhost:8080/"
        },
        "id": "Z0PjdJIpl6DN",
        "outputId": "4eee477a-58a4-4f02-d4c1-7cc942ba208c"
      },
      "execution_count": null,
      "outputs": [
        {
          "output_type": "stream",
          "name": "stdout",
          "text": [
            "Overwriting sistema_alquiler.py\n"
          ]
        }
      ]
    },
    {
      "cell_type": "code",
      "source": [
        "# main.py\n",
        "from cliente import Cliente\n",
        "from vehiculo import Vehiculo\n",
        "from sistema_alquiler import SistemaAlquiler\n",
        "from excepciones import ErrorVehiculoNoDisponible, ErrorSaldoInsuficiente, ErrorCantidadInvalida\n",
        "\n",
        "# Crear cliente y vehículo\n",
        "cliente = Cliente(\"Juan\", saldo=500)\n",
        "vehiculo = Vehiculo(\"Auto\", costo_por_dia=100)\n",
        "\n",
        "# Crear el sistema de alquiler\n",
        "sistema = SistemaAlquiler(cliente, vehiculo)\n",
        "\n",
        "# Intentar alquilar el vehículo\n",
        "try:\n",
        "  sistema.procesar_alquiler(dias=3)\n",
        "except (ErrorVehiculoNoDisponible, ErrorSaldoInsuficiente, ErrorCantidadInvalida) as e:\n",
        "  print(f\"Excepción manejada: {e}\")\n",
        "\n",
        "# Intentar alquilar de nuevo (debería fallar porque ya está alquilado)\n",
        "try:\n",
        "  sistema.procesar_alquiler(dias=1)\n",
        "except (ErrorVehiculoNoDisponible, ErrorSaldoInsuficiente, ErrorCantidadInvalida) as e:\n",
        "  print(f\"Excepción manejada: {e}\")\n",
        "\n",
        "# Devolver el vehículo y luego intentar alquilar de nuevo\n",
        "vehiculo.devolver()\n",
        "\n",
        "# Intentar alquilar después de devolver\n",
        "try:\n",
        "  sistema.procesar_alquiler(dias=1)\n",
        "except (ErrorVehiculoNoDisponible, ErrorSaldoInsuficiente, ErrorCantidadInvalida) as e:\n",
        "  print(f\"Excepción manejada: {e}\")\n"
      ],
      "metadata": {
        "colab": {
          "base_uri": "https://localhost:8080/"
        },
        "id": "MmVSgyLOmCgK",
        "outputId": "03f91d52-6940-4bed-f054-18d52127f21c"
      },
      "execution_count": null,
      "outputs": [
        {
          "output_type": "stream",
          "name": "stdout",
          "text": [
            "Procesando alquiler de Auto por 3 días. Costo total: 300\n",
            "Pago exitoso. Saldo restante: 200\n",
            "Alquiler exitoso. Juan ha alquilado el vehículo por 3 días.\n",
            "Vehículo Auto ahora está alquilado.\n",
            "Procesando alquiler de Auto por 1 días. Costo total: 100\n",
            "Error: El vehículo Auto ya está alquilado.\n",
            "Vehículo Auto ahora está alquilado.\n",
            "Procesando alquiler de Auto por 1 días. Costo total: 100\n",
            "Pago exitoso. Saldo restante: 100\n",
            "Alquiler exitoso. Juan ha alquilado el vehículo por 1 días.\n",
            "Vehículo Auto ahora está alquilado.\n"
          ]
        }
      ]
    },
    {
      "cell_type": "markdown",
      "source": [
        "# RETO\n",
        "\n",
        "### **Reto: Sistema de Gestión de Reservas de Hotel con Excepciones Personalizadas**\n",
        "\n",
        "#### **Descripción del Reto:**\n",
        "\n",
        "En este reto, los estudiantes deben implementar un sistema básico de **gestión de reservas de habitaciones en un hotel** que maneje diferentes tipos de excepciones personalizadas. El sistema debe permitir a los clientes reservar habitaciones por una cantidad de días, pagar por las reservas, y gestionar los errores relacionados con disponibilidad, pagos, y entradas incorrectas.\n",
        "\n",
        "---\n",
        "\n",
        "#### **Requisitos del Sistema:**\n",
        "\n",
        "1. **Clases principales a implementar:**\n",
        "   - **Habitacion:** Representa una habitación en el hotel con un tipo (sencilla, doble, suite) y un costo por noche.\n",
        "   - **Cliente:** Maneja las reservas y el saldo del cliente.\n",
        "   - **SistemaReservas:** Gestiona las interacciones entre el cliente y las habitaciones, y el proceso de pago.\n",
        "   \n",
        "2. **Excepciones Personalizadas:**\n",
        "   - **ErrorHabitacionNoDisponible:** Se lanza cuando el cliente intenta reservar una habitación que ya está reservada.\n",
        "   - **ErrorSaldoInsuficiente:** Se lanza cuando el cliente intenta reservar una habitación pero no tiene saldo suficiente.\n",
        "   - **ErrorCantidadInvalida:** Se lanza cuando se intenta agregar un saldo negativo o cero, o si los días reservados son cero o negativos.\n",
        "\n",
        "3. **Flujo básico del sistema:**\n",
        "   - Un cliente debe ser capaz de:\n",
        "     - Agregar saldo a su cuenta.\n",
        "     - Reservar una habitación si está disponible.\n",
        "     - Pagar por la habitación basada en el número de días.\n",
        "     - Recibir un mensaje de éxito o error dependiendo del estado de la habitación o del saldo disponible.\n",
        "   - Los errores de disponibilidad o de saldo insuficiente deben manejarse con excepciones personalizadas.\n",
        "   - El sistema debe garantizar que las reservas no ocurran si hay un error, pero que los recursos sean gestionados de forma segura usando `finally` para reportar siempre el estado de las habitaciones.\n",
        "\n",
        "---\n",
        "\n",
        "#### **Instrucciones:**\n",
        "\n",
        "1. **Definir Excepciones Personalizadas**:\n",
        "   Los estudiantes deben crear al menos tres excepciones personalizadas para manejar los errores del sistema de reservas.\n",
        "   - `ErrorHabitacionNoDisponible`: Cuando la habitación ya está reservada.\n",
        "   - `ErrorSaldoInsuficiente`: Cuando el saldo del cliente no es suficiente.\n",
        "   - `ErrorCantidadInvalida`: Cuando se ingresa un número negativo de días o saldo.\n",
        "\n",
        "2. **Implementar las Clases:**\n",
        "   - **Habitacion:** Tendrá atributos como el tipo de habitación y el costo por noche, además de un estado de disponibilidad. Incluir métodos para reservar y liberar la habitación.\n",
        "   - **Cliente:** Permite que el cliente agregue saldo a su cuenta, maneje sus reservas y pague.\n",
        "   - **SistemaReservas:** Coordina el proceso de reservar una habitación y pagarla.\n",
        "\n",
        "3. **Manejo de Excepciones:**\n",
        "   Los estudiantes deben usar **`try`**, **`except`**, **`else`**, y **`finally`** para manejar adecuadamente los errores durante el proceso de reserva y pago.\n",
        "\n",
        "4. **Validación de Casos:**\n",
        "   - Los estudiantes deben asegurarse de que sus clases manejen los siguientes casos:\n",
        "     - Intentar reservar una habitación que ya está reservada.\n",
        "     - Intentar reservar una habitación sin suficiente saldo.\n",
        "     - Intentar agregar un saldo negativo o reservar por un número negativo de días.\n",
        "     - Mensaje de éxito al reservar correctamente una habitación.\n",
        "     - Uso del bloque `finally` para confirmar siempre el estado de la habitación (si está reservada o disponible).\n",
        "\n",
        "\n",
        "---\n",
        "\n",
        "### **Desafío Adicional:**\n",
        "- **Añadir múltiples habitaciones y clientes** al sistema y gestionar la asignación y liberación de habitaciones en paralelo.\n",
        "- **Implementar un sistema de cancelación de reservas**, asegurándose de manejar correctamente el reembolso del saldo si es necesario.\n",
        "\n"
      ],
      "metadata": {
        "id": "GBBksyQmnrR_"
      }
    }
  ]
}