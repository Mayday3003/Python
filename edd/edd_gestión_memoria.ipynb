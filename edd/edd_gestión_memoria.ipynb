{
  "nbformat": 4,
  "nbformat_minor": 0,
  "metadata": {
    "colab": {
      "provenance": []
    },
    "kernelspec": {
      "name": "python3",
      "display_name": "Python 3"
    },
    "language_info": {
      "name": "python"
    }
  },
  "cells": [
    {
      "cell_type": "markdown",
      "source": [
        "# Entendiendo la gestión de memoria en Python"
      ],
      "metadata": {
        "id": "B6IYaLfxAC2T"
      }
    },
    {
      "cell_type": "markdown",
      "source": [
        "## 🔥 ¡Reto: La Lista de Personas! 🔥\n",
        "👥 Desafío:\n",
        "\n",
        "📌 Paso 1:\n",
        "🛠️ Construye una lista de tamaño N llena de objetos de tipo Persona.\n",
        "Cada persona debe tener:\n",
        "✔️ Nombre\n",
        "✔️ Edad\n",
        "✔️ Un saludo personalizado con su nombre y edad.\n",
        "\n",
        "📌 Paso 2:\n",
        "🧠 Analiza la matriz y haz que saluden aquellas personas que sean mayores que todos sus vecinos adyacentes (izquierda y derecha).\n",
        "\n",
        "📌 Paso 3:\n",
        "📊 Cuenta cuántas personas cumplen con esta condición y retorna ese número.\n",
        "\n",
        "🎯 Objetivo: Implementar funciones para cada uno de los pasos descritos. Ten muy en cuenta el uso de typehints y apóyate en dunder methods que puedan ser útiles. 🚀"
      ],
      "metadata": {
        "id": "kK54p7iq_yhY"
      }
    },
    {
      "cell_type": "code",
      "source": [
        "import random\n",
        "\n",
        "class Persona:\n",
        "  def __init__(self, nombre, edad):\n",
        "    self.nombre = nombre\n",
        "    self.edad = edad\n",
        "\n",
        "  def saludar(self) -> str:\n",
        "    return f\"me llamo {self.nombre} y tengo {self.edad} años\"\n",
        "\n",
        "  def __repr__(self) -> str:\n",
        "    return f\"{self.nombre}, {self.edad}\"\n",
        "\n",
        "def generar_lista(n: int) -> list[Persona]:\n",
        "  personas = []\n",
        "  for i in range(n):\n",
        "    edad = random.randint(1,100)\n",
        "    nombre = f\"persona {edad}\"\n",
        "    persona = Persona(nombre, edad)\n",
        "    personas.append(persona)\n",
        "  return personas\n",
        "\n",
        "def analizar_lista(lista_personas: list[Persona]) -> int:\n",
        "  contador = 0\n",
        "  for idx, persona in enumerate(lista_personas):\n",
        "    if(idx == 0):\n",
        "      if(persona.edad > lista_personas[idx+1].edad):\n",
        "        print(persona.saludar())\n",
        "        contador += 1\n",
        "        continue\n",
        "    if(idx == len(lista_personas)-1):\n",
        "      if(persona.edad > lista_personas[idx-1].edad):\n",
        "        print(persona.saludar())\n",
        "        contador += 1\n",
        "        continue\n",
        "    if(persona.edad > lista_personas[idx-1].edad and persona.edad > lista_personas[idx+1].edad):\n",
        "      print(persona.saludar())\n",
        "      contador += 1\n",
        "\n",
        "  return contador\n",
        "\n",
        "lista = generar_lista(10)\n",
        "print(lista)\n",
        "analizar_lista(lista)"
      ],
      "metadata": {
        "id": "pHvSvgpT_yD7",
        "colab": {
          "base_uri": "https://localhost:8080/"
        },
        "outputId": "e01cfceb-0aac-4b04-c3e7-1ec34eb0e9ee"
      },
      "execution_count": null,
      "outputs": [
        {
          "output_type": "stream",
          "name": "stdout",
          "text": [
            "[persona 40, 40, persona 66, 66, persona 32, 32, persona 34, 34, persona 44, 44, persona 28, 28, persona 62, 62, persona 23, 23, persona 14, 14, persona 11, 11]\n",
            "me llamo persona 66 y tengo 66 años\n",
            "me llamo persona 44 y tengo 44 años\n",
            "me llamo persona 62 y tengo 62 años\n"
          ]
        },
        {
          "output_type": "execute_result",
          "data": {
            "text/plain": [
              "3"
            ]
          },
          "metadata": {},
          "execution_count": 171
        }
      ]
    },
    {
      "cell_type": "code",
      "source": [
        "def f():\n",
        "  print(\"hola\")\n",
        "print(\"adiós\")"
      ],
      "metadata": {
        "colab": {
          "base_uri": "https://localhost:8080/"
        },
        "id": "7iWZ9GMhgfTY",
        "outputId": "98e3663f-8138-4327-e20e-0095c0b1669f"
      },
      "execution_count": null,
      "outputs": [
        {
          "output_type": "execute_result",
          "data": {
            "text/plain": [
              "5"
            ]
          },
          "metadata": {},
          "execution_count": 148
        }
      ]
    },
    {
      "cell_type": "markdown",
      "source": [
        "# **Ejemplo: Call Stack con Funciones Encadenadas**"
      ],
      "metadata": {
        "id": "NF07167eG0zL"
      }
    },
    {
      "cell_type": "markdown",
      "source": [
        "---\n",
        "\n",
        "\n",
        "```python\n",
        "def funcion_a():\n",
        "    print(\"Entrando en funcion_a\")\n",
        "    funcion_b()\n",
        "    print(\"Saliendo de funcion_a\")\n",
        "\n",
        "def funcion_b():\n",
        "    print(\"Entrando en funcion_b\")\n",
        "    funcion_c()\n",
        "    print(\"Saliendo de funcion_b\")\n",
        "\n",
        "def funcion_c():\n",
        "    print(\"Entrando en funcion_c\")\n",
        "    print(\"Saliendo de funcion_c\")\n",
        "\n",
        "# Llamamos a la primera función\n",
        "funcion_a()\n",
        "```\n",
        "\n",
        "---\n",
        "\n",
        "### **Explicación del flujo de ejecución en el Call Stack**\n",
        "Cuando ejecutamos `funcion_a()`, la ejecución sigue estos pasos:\n",
        "\n",
        "1. Se llama `funcion_a()`, que entra en el call stack.\n",
        "2. Dentro de `funcion_a()`, se llama `funcion_b()`, que se apila en el call stack.\n",
        "3. Dentro de `funcion_b()`, se llama `funcion_c()`, que se apila en el call stack.\n",
        "4. `funcion_c()` se ejecuta completamente y **se desapila** del call stack.\n",
        "5. `funcion_b()` continúa después de `funcion_c()`, se ejecuta completamente y **se desapila** del call stack.\n",
        "6. `funcion_a()` continúa después de `funcion_b()`, se ejecuta completamente y **se desapila** del call stack.\n",
        "7. El programa finaliza cuando el call stack está vacío.\n",
        "\n",
        "---\n",
        "\n",
        "### **Salida esperada en consola**\n",
        "```\n",
        "Entrando en funcion_a\n",
        "Entrando en funcion_b\n",
        "Entrando en funcion_c\n",
        "Saliendo de funcion_c\n",
        "Saliendo de funcion_b\n",
        "Saliendo de funcion_a\n",
        "```\n",
        "\n",
        "---\n",
        "\n",
        "### **Concepto clave**\n",
        "El **call stack** funciona como una estructura de datos **LIFO** (Last In, First Out). Cada vez que se llama a una función, esta se apila en la pila de llamadas. Cuando una función finaliza, se desapila y la ejecución continúa con la función anterior.\n"
      ],
      "metadata": {
        "id": "Gq2PAcEjEyv9"
      }
    },
    {
      "cell_type": "markdown",
      "source": [
        "## Corre estos ejercicios y analiza el CallStack (puedes usar python tutor para visualizar mejor)\n",
        "---\n",
        "\n",
        "## **Ejercicio 1: Referencias en Memoria y Recolección de Basura**\n",
        "### **Objetivo:**\n",
        "Comprender cómo Python maneja referencias en memoria y la recolección de basura.\n",
        "\n",
        "### **Enunciado:**  \n",
        "En Python, las variables no almacenan directamente los datos, sino que contienen referencias a objetos en memoria. Considera el siguiente código:\n",
        "\n",
        "```python\n",
        "import sys\n",
        "\n",
        "a = [1, 2, 3]\n",
        "b = a\n",
        "c = a\n",
        "\n",
        "print(sys.getrefcount(a))  # ¿Cuántas referencias existen a la lista en este punto?\n",
        "\n",
        "del a  # Eliminamos una referencia\n",
        "print(sys.getrefcount(b))  # ¿Cuántas referencias quedan?\n",
        "\n",
        "c = None  # Otra referencia eliminada\n",
        "print(\"¿La lista sigue existiendo en memoria?\")\n",
        "```\n",
        "\n",
        "**Preguntas:**\n",
        "1. ¿Cuántas referencias hay a la lista en cada punto del código?\n",
        "2. ¿Cuándo se eliminará la lista de la memoria?\n",
        "3. ¿Qué ocurre si se asigna un objeto grande a una variable sin referencias previas?\n",
        "\n",
        "### **Explicación:**  \n",
        "Este ejercicio muestra cómo Python maneja la memoria con **referencias** y cómo funciona la **recolección de basura** (garbage collection). Python usa **conteo de referencias** para liberar memoria automáticamente cuando ningún nombre apunta a un objeto.\n",
        "\n",
        "---\n",
        "\n",
        "## **Ejercicio 2: Call Stack y Recursión**\n",
        "### **Objetivo:**\n",
        "Comprender cómo Python maneja la pila de llamadas (**call stack**) y qué ocurre con recursiones profundas.\n",
        "\n",
        "### **Enunciado:**  \n",
        "Python usa una pila de llamadas (**call stack**) para gestionar la ejecución de funciones. Observa el siguiente código:\n",
        "\n",
        "```python\n",
        "def count_down(n):\n",
        "    if n == 0:\n",
        "        print(\"Fin de la recursión\")\n",
        "        return\n",
        "    print(f\"Llamada con n={n}\")\n",
        "    count_down(n - 1)\n",
        "    print(f\"Retornando n={n}\")\n",
        "\n",
        "count_down(5)\n",
        "```\n",
        "\n",
        "**Preguntas:**\n",
        "1. ¿Cómo se comporta la pila de llamadas en este caso?\n",
        "2. ¿Cuál es el orden de ejecución de las instrucciones `print`?\n",
        "3. ¿Qué ocurrirá si aumentamos `n` a 1000? ¿Cómo evitar un **RecursionError**?\n",
        "\n",
        "### **Explicación:**  \n",
        "Cuando una función se llama a sí misma, Python coloca cada llamada en la **pila de llamadas** (**call stack**) hasta alcanzar el caso base. Luego, las llamadas se resuelven en orden **LIFO** (Last In, First Out). Si la recursión es muy profunda, se genera un **Stack Overflow** en Python (**RecursionError**).\n",
        "\n",
        "Para evitarlo, se pueden usar estrategias como:\n",
        "- Transformar la función recursiva en iterativa.\n",
        "- Incrementar el límite con `sys.setrecursionlimit(n)`.\n",
        "- Usar **tail recursion** (Python no la optimiza nativamente).\n",
        "\n",
        "---\n"
      ],
      "metadata": {
        "id": "L6QOwsfxE3r4"
      }
    },
    {
      "cell_type": "code",
      "source": [
        "import sys\n",
        "\n",
        "a = [1, 2, 3]\n",
        "b = a\n",
        "c = a\n",
        "\n",
        "print(sys.getrefcount(a))  # ¿Cuántas referencias existen a la lista en este punto?\n",
        "\n",
        "del a  # Eliminamos una referencia\n",
        "print(sys.getrefcount(b))  # ¿Cuántas referencias quedan?\n",
        "\n",
        "c = None  # Otra referencia eliminada\n",
        "print(\"¿La lista sigue existiendo en memoria?\")"
      ],
      "metadata": {
        "colab": {
          "base_uri": "https://localhost:8080/"
        },
        "id": "2VhVgtTjFRdl",
        "outputId": "fbd6b528-6aa2-43e2-a6d1-b7414d75ec6c"
      },
      "execution_count": null,
      "outputs": [
        {
          "output_type": "stream",
          "name": "stdout",
          "text": [
            "4\n",
            "3\n",
            "¿La lista sigue existiendo en memoria?\n"
          ]
        }
      ]
    },
    {
      "cell_type": "code",
      "source": [
        "a = [1, 2, 3]\n",
        "b = a\n",
        "c = a\n",
        "\n",
        "print(sys.getrefcount(a))  # ¿Cuántas referencias existen a la lista en este punto?\n",
        "\n",
        "del a  # Eliminamos una referencia\n",
        "print(b)\n",
        "print(sys.getrefcount(b))  # ¿Cuántas referencias existen a la lista en este punto?"
      ],
      "metadata": {
        "colab": {
          "base_uri": "https://localhost:8080/"
        },
        "id": "vVTo4Oy0pxEN",
        "outputId": "8a6034f7-b309-4df6-dc88-7721003dda93"
      },
      "execution_count": null,
      "outputs": [
        {
          "output_type": "stream",
          "name": "stdout",
          "text": [
            "4\n",
            "[1, 2, 3]\n",
            "3\n"
          ]
        }
      ]
    },
    {
      "cell_type": "markdown",
      "source": [
        "# Explicación Detallada - Conteo de referencias"
      ],
      "metadata": {
        "id": "-kBn5x-HGl9i"
      }
    },
    {
      "cell_type": "markdown",
      "source": [
        "\n",
        "\n",
        "---\n",
        "\n",
        "### **1️⃣ Creación de la lista y referencias**\n",
        "```python\n",
        "import sys\n",
        "\n",
        "a = [1, 2, 3]  # Se crea una lista en memoria\n",
        "b = a  # Se asigna 'a' a 'b', ambas apuntan al mismo objeto\n",
        "c = a  # Se asigna 'a' a 'c', todas apuntan al mismo objeto\n",
        "```\n",
        "Aquí:\n",
        "- `a`, `b` y `c` son **nombres de variables** que apuntan a la **misma lista en memoria**.\n",
        "- No se crean copias de la lista, solo más **referencias** al mismo objeto.\n",
        "- **Python usa conteo de referencias para manejar la memoria**.\n",
        "\n",
        "---\n",
        "\n",
        "### **2️⃣ Contando referencias con `sys.getrefcount`**\n",
        "```python\n",
        "print(sys.getrefcount(a))\n",
        "```\n",
        "- `sys.getrefcount(obj)` devuelve **cuántas referencias existen a `obj`**.\n",
        "- La salida **no es exactamente 3** (por `a`, `b` y `c`), sino **al menos 4**. ¿Por qué?\n",
        "  - `a`, `b` y `c` referencian la lista.\n",
        "  - **Python internamente crea una referencia temporal** al evaluar `sys.getrefcount(a)`, aumentando el conteo en **1**.\n",
        "  - Si imprimimos `sys.getrefcount(a)`, probablemente veamos **4**.\n",
        "\n",
        "---\n",
        "\n",
        "### **3️⃣ Eliminación de una referencia**\n",
        "```python\n",
        "del a  # Se elimina la referencia 'a'\n",
        "```\n",
        "- `del a` **no borra la lista**, solo elimina el nombre `a` que apuntaba a ella.\n",
        "- `b` y `c` **siguen referenciando la misma lista** en memoria.\n",
        "\n",
        "```python\n",
        "print(sys.getrefcount(b))\n",
        "```\n",
        "- Como `a` ya no existe, `sys.getrefcount(b)` mostrará **un número menor** (probablemente 3, por `b`, `c` y la referencia temporal de `sys.getrefcount`).\n",
        "\n",
        "---\n",
        "\n",
        "### **4️⃣ Eliminación de otra referencia**\n",
        "```python\n",
        "c = None  # Se elimina la referencia 'c'\n",
        "```\n",
        "- `c` deja de apuntar a la lista y ahora apunta a `None`.\n",
        "- Solo queda **b** apuntando a la lista.\n",
        "\n",
        "**¿La lista sigue existiendo?**\n",
        "✅ **Sí**, porque `b` aún la referencia.\n",
        "\n",
        "Pero si hacemos:\n",
        "```python\n",
        "b = None  # Ahora ninguna variable apunta a la lista\n",
        "```\n",
        "- La lista **se vuelve inalcanzable** y Python la **elimina automáticamente** mediante **recolección de basura** (`garbage collection`).\n",
        "\n",
        "---\n",
        "\n",
        "### **🔍 Conceptos clave**\n",
        "1. **Python usa conteo de referencias**: Un objeto se mantiene en memoria **mientras al menos una variable lo referencia**.\n",
        "2. **Cuando el conteo de referencias llega a 0**, Python **libera la memoria** automáticamente.\n",
        "3. **`del` elimina referencias, no objetos**: Un objeto solo se elimina cuando **ninguna variable lo apunta**.\n",
        "4. **`sys.getrefcount(obj)` devuelve referencias activas**: Pero incluye una referencia temporal adicional cuando se evalúa.\n",
        "\n",
        "---\n",
        "\n",
        "### **📌 ¿Qué pasaría si...?**\n",
        "🔹 **Si agregamos más referencias**, por ejemplo:\n",
        "```python\n",
        "d = b\n",
        "e = b\n",
        "print(sys.getrefcount(b))  # Debería aumentar\n",
        "```\n",
        "🔹 **Si creamos copias con `copy.deepcopy()`**, la nueva lista tendrá **su propio espacio en memoria** y su propio conteo de referencias.\n",
        "\n",
        "🔹 **Si usamos `gc.collect()`**, podemos forzar la recolección de basura.\n",
        "\n",
        "---\n"
      ],
      "metadata": {
        "id": "ELfBlUfDGbAv"
      }
    },
    {
      "cell_type": "code",
      "source": [],
      "metadata": {
        "id": "IRs4GEUbGse6"
      },
      "execution_count": null,
      "outputs": []
    },
    {
      "cell_type": "markdown",
      "source": [
        "# **Ejemplo: Call Stack con Manejo de Excepciones**"
      ],
      "metadata": {
        "id": "iSSoRrd_GrXp"
      }
    },
    {
      "cell_type": "markdown",
      "source": [
        "---\n",
        "\n",
        "\n",
        "```python\n",
        "def funcion_a():\n",
        "    try:\n",
        "        print(\"Entrando en funcion_a\")\n",
        "        funcion_b()\n",
        "    except ZeroDivisionError:\n",
        "        print(\"Excepción manejada en funcion_a\")\n",
        "    print(\"Saliendo de funcion_a\")\n",
        "\n",
        "def funcion_b():\n",
        "    print(\"Entrando en funcion_b\")\n",
        "    funcion_c()\n",
        "    print(\"Saliendo de funcion_b\")\n",
        "\n",
        "def funcion_c():\n",
        "    print(\"Entrando en funcion_c\")\n",
        "    resultado = 10 / 0  # Error: división por cero\n",
        "    print(\"Saliendo de funcion_c\")  # Esta línea nunca se ejecuta\n",
        "\n",
        "# Llamamos a la función principal\n",
        "funcion_a()\n",
        "```\n",
        "\n",
        "---\n",
        "\n",
        "### **Explicación del flujo de ejecución en el Call Stack**\n",
        "1. Se llama a `funcion_a()`, que **se apila** en el call stack.\n",
        "2. Dentro de `funcion_a()`, se llama a `funcion_b()`, que **se apila** en el call stack.\n",
        "3. Dentro de `funcion_b()`, se llama a `funcion_c()`, que **se apila** en el call stack.\n",
        "4. En `funcion_c()`, se intenta ejecutar `resultado = 10 / 0`, lo que genera un **ZeroDivisionError**.\n",
        "5. Python empieza a buscar un **manejador de excepciones** en `funcion_c()`, pero no lo encuentra, por lo que `funcion_c()` **se desapila** abruptamente.\n",
        "6. Python busca un **manejador de excepciones** en `funcion_b()`, pero tampoco lo encuentra, por lo que `funcion_b()` **se desapila** abruptamente.\n",
        "7. Python encuentra un **manejador de excepciones** en `funcion_a()`, por lo que ejecuta el bloque `except ZeroDivisionError` y continúa la ejecución normal.\n",
        "8. `funcion_a()` **se desapila** y el programa finaliza.\n",
        "\n",
        "---\n",
        "\n",
        "### **Salida esperada en consola**\n",
        "```\n",
        "Entrando en funcion_a\n",
        "Entrando en funcion_b\n",
        "Entrando en funcion_c\n",
        "Excepción manejada en funcion_a\n",
        "Saliendo de funcion_a\n",
        "```\n",
        "\n",
        "---\n",
        "\n",
        "### **Concepto clave**\n",
        "- **El call stack sigue una estructura LIFO (Last In, First Out)**: La función que se llama más recientemente se ejecuta primero y finaliza antes que las anteriores.\n",
        "- **Las excepciones afectan el call stack**: Cuando una excepción no es manejada dentro de una función, la función **se desapila abruptamente** y la excepción se propaga a la función anterior en la pila.\n",
        "- **El manejo de excepciones puede cambiar el flujo del programa**: Si `funcion_a()` no tuviera un bloque `try-except`, el programa se detendría con un error.\n",
        "\n",
        "---\n"
      ],
      "metadata": {
        "id": "NbwWRny-FwWa"
      }
    },
    {
      "cell_type": "code",
      "source": [
        "def funcion_a():\n",
        "  try:\n",
        "    print(\"Entrando en funcion_a\")\n",
        "    funcion_b()\n",
        "  except ZeroDivisionError:\n",
        "    print(\"Excepción manejada en funcion_a\")\n",
        "  print(\"Saliendo de funcion_a\")\n",
        "\n",
        "def funcion_b():\n",
        "  print(\"Entrando en funcion_b\")\n",
        "  funcion_c()\n",
        "  print(\"Saliendo de funcion_b\")\n",
        "\n",
        "def funcion_c():\n",
        "  print(\"Entrando en funcion_c\")\n",
        "  resultado = 10 / 0  # Error: división por cero\n",
        "  print(\"Saliendo de funcion_c\")  # Esta línea nunca se ejecuta\n",
        "\n",
        "# Llamamos a la función principal\n",
        "funcion_a()"
      ],
      "metadata": {
        "colab": {
          "base_uri": "https://localhost:8080/"
        },
        "id": "t96eq32fF2GB",
        "outputId": "37c57d30-9c78-4d9e-aee6-ac8b23bf67b6"
      },
      "execution_count": null,
      "outputs": [
        {
          "output_type": "stream",
          "name": "stdout",
          "text": [
            "Entrando en funcion_a\n",
            "Entrando en funcion_b\n",
            "Entrando en funcion_c\n",
            "Excepción manejada en funcion_a\n",
            "Saliendo de funcion_a\n"
          ]
        }
      ]
    }
  ]
}