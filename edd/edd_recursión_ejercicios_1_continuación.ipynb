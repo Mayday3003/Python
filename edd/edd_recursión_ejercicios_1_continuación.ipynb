{
  "cells": [
    {
      "cell_type": "markdown",
      "metadata": {
        "id": "5pAkyWSgAfDA"
      },
      "source": [
        "# 1"
      ]
    },
    {
      "cell_type": "markdown",
      "metadata": {
        "id": "qszA5otYAMlD"
      },
      "source": [
        "\n",
        "---\n",
        "\n",
        "### 6. **Máximo común divisor (MCD)**\n",
        "   Implementa una función recursiva que calcule el máximo común divisor (MCD) de dos números.\n",
        "\n",
        "   ```python\n",
        "   def mcd(a, b):\n",
        "       pass\n",
        "   ```\n",
        "\n",
        "   **Ejemplo:**\n",
        "   ```python\n",
        "   mcd(48, 18)  # Output: 6\n",
        "   mcd(101, 103) # Output: 1\n",
        "   ```\n",
        "\n"
      ]
    },
    {
      "cell_type": "code",
      "execution_count": 23,
      "metadata": {
        "id": "uWxJnGhqAO1l"
      },
      "outputs": [
        {
          "name": "stdout",
          "output_type": "stream",
          "text": [
            "None\n",
            "None\n"
          ]
        }
      ],
      "source": [
        "def mcd(a,b, divisor = None):\n",
        "    if divisor is None:\n",
        "        divisor = min(a,b)  \n",
        "    if a % divisor == 0 and b % divisor == 0:\n",
        "      return divisor\n",
        "    \n",
        "print(mcd(48, 18))  # Output: 6\n",
        "print(mcd(101, 103)) # Output: 1"
      ]
    },
    {
      "cell_type": "markdown",
      "metadata": {
        "id": "pCffnpmfAPWF"
      },
      "source": [
        "---\n",
        "\n",
        "### 7. **Verificar si un número es primo**\n",
        "   Crea una función recursiva que determine si un número es primo.\n",
        "\n",
        "   ```python\n",
        "   def es_primo(n, divisor=2):\n",
        "       pass\n",
        "   ```\n",
        "\n",
        "   **Ejemplo:**\n",
        "   ```python\n",
        "   es_primo(7)   # Output: True\n",
        "   es_primo(12)  # Output: False\n",
        "   ```\n",
        "\n"
      ]
    },
    {
      "cell_type": "code",
      "execution_count": null,
      "metadata": {
        "id": "ayX5l4qrARRk"
      },
      "outputs": [],
      "source": [
        "def es_primo(n ,divisor = 2):\n",
        "    if n < 1:\n",
        "        return False\n",
        "    if n == 2:\n",
        "        return True\n",
        "    \n",
        "    \n",
        "        "
      ]
    },
    {
      "cell_type": "markdown",
      "metadata": {
        "id": "Lm6eBUigARqN"
      },
      "source": [
        "---\n",
        "\n",
        "### 8. **Suma de los dígitos de un número**\n",
        "   Implementa una función recursiva que sume los dígitos de un número entero positivo.\n",
        "\n",
        "   ```python\n",
        "   def suma_digitos(n):\n",
        "       pass\n",
        "   ```\n",
        "\n",
        "   **Ejemplo:**\n",
        "   ```python\n",
        "   suma_digitos(123)  # Output: 6\n",
        "   suma_digitos(987)  # Output: 24\n",
        "   ```\n",
        "\n"
      ]
    },
    {
      "cell_type": "code",
      "execution_count": 12,
      "metadata": {
        "id": "XdkPbcOWATks"
      },
      "outputs": [
        {
          "name": "stdout",
          "output_type": "stream",
          "text": [
            "6\n",
            "24\n",
            "5\n",
            "13\n",
            "20\n"
          ]
        }
      ],
      "source": [
        "def suma_digitos(n):\n",
        "    if n < 10:\n",
        "        return n\n",
        "    return (n % 10) + suma_digitos(n // 10)\n",
        "\n",
        "\n",
        "print(suma_digitos(123))  \n",
        "print(suma_digitos(987))  \n",
        "print(suma_digitos(5))   \n",
        "print(suma_digitos(85))  \n",
        "print(suma_digitos(5555))   \n",
        " \n"
      ]
    },
    {
      "cell_type": "markdown",
      "metadata": {
        "id": "W_rZo0qbAT6o"
      },
      "source": [
        "---\n",
        "\n",
        "### 9. **Búsqueda binaria recursiva**\n",
        "   Implementa una función recursiva que realice una búsqueda binaria en una lista ordenada.\n",
        "\n",
        "   ```python\n",
        "   def busqueda_binaria(lista, objetivo, inicio=0, fin=None):\n",
        "       pass\n",
        "   ```\n",
        "\n",
        "   **Ejemplo:**\n",
        "   ```python\n",
        "   busqueda_binaria([1, 3, 5, 7, 9], 5)  # Output: True\n",
        "   busqueda_binaria([2, 4, 6, 8, 10], 7) # Output: False\n",
        "   ```\n",
        "\n"
      ]
    },
    {
      "cell_type": "code",
      "execution_count": null,
      "metadata": {},
      "outputs": [
        {
          "name": "stdout",
          "output_type": "stream",
          "text": [
            "True\n",
            "False\n",
            "True\n"
          ]
        }
      ],
      "source": [
        "def busqueda_binaria(lista, objetivo, inicio=0, fin=None): \n",
        "    \n",
        "    if fin is None:\n",
        "        fin = len(lista) - 1  \n",
        "        \n",
        "    if inicio > fin: \n",
        "        return False  \n",
        "    medio = (inicio + fin) // 2 \n",
        "\n",
        "    if lista[medio] == objetivo:\n",
        "        return True  \n",
        "\n",
        "    if lista[medio] > objetivo:\n",
        "        return busqueda_binaria(lista, objetivo, inicio, medio - 1)  \n",
        "    \n",
        "    return busqueda_binaria(lista, objetivo, medio + 1, fin) \n",
        "\n",
        "\n",
        "print(busqueda_binaria([1, 3, 5, 7, 9], 5))  \n",
        "print(busqueda_binaria([2, 4, 6, 8, 10], 7)) \n",
        "print(busqueda_binaria([2, 4, 6, 8, 10, 15], 15)) \n",
        "\n"
      ]
    },
    {
      "cell_type": "markdown",
      "metadata": {
        "id": "RuGrZcHXAVxL"
      },
      "source": [
        "---\n",
        "\n",
        "### 10. **Permutaciones de una cadena**\n",
        "   Crea una función recursiva que genere todas las permutaciones de una cadena de texto.\n",
        "\n",
        "   ```python\n",
        "   def permutaciones(cadena, prefijo=\"\"):\n",
        "       pass\n",
        "   ```\n",
        "\n",
        "   **Ejemplo:**\n",
        "   ```python\n",
        "   permutaciones(\"abc\")  \n",
        "   # Output:\n",
        "   # abc\n",
        "   # acb\n",
        "   # bac\n",
        "   # bca\n",
        "   # cab\n",
        "   # cba\n",
        "   ```\n",
        "\n",
        "---"
      ]
    },
    {
      "cell_type": "code",
      "execution_count": null,
      "metadata": {},
      "outputs": [],
      "source": [
        "def permutaciones(cadena,prefijo='',index =0):\n",
        "    if len(cadena) == 0: \n",
        "     return prefijo\n",
        "    \n",
        "    cadena[index] \n",
        " \n",
        " \n",
        "    "
      ]
    }
  ],
  "metadata": {
    "colab": {
      "provenance": []
    },
    "kernelspec": {
      "display_name": "base",
      "language": "python",
      "name": "python3"
    },
    "language_info": {
      "codemirror_mode": {
        "name": "ipython",
        "version": 3
      },
      "file_extension": ".py",
      "mimetype": "text/x-python",
      "name": "python",
      "nbconvert_exporter": "python",
      "pygments_lexer": "ipython3",
      "version": "3.12.2"
    }
  },
  "nbformat": 4,
  "nbformat_minor": 0
}
