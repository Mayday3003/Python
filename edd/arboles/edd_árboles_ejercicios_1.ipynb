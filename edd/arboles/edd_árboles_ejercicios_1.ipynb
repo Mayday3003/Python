{
  "nbformat": 4,
  "nbformat_minor": 0,
  "metadata": {
    "colab": {
      "provenance": []
    },
    "kernelspec": {
      "name": "python3",
      "display_name": "Python 3"
    },
    "language_info": {
      "name": "python"
    }
  },
  "cells": [
    {
      "cell_type": "markdown",
      "source": [
        "# 🌿 Ejercicios Intermedios: Árboles Binarios y de Búsqueda (BST)\n",
        "\n",
        "Este notebook está diseñado para practicar conceptos intermedios sobre árboles binarios y árboles binarios de búsqueda. Todos los ejercicios parten del supuesto de que ya tienes implementadas las clases `NodoBinario` o `NodoBST` y sus árboles envoltorios (`ArbolBinario` o `ArbolBST`).\n",
        "\n",
        "\n",
        "\n",
        "\n",
        "\n",
        "\n",
        "\n",
        "\n",
        "\n",
        "\n",
        "\n",
        "\n",
        "\n",
        "\n",
        "\n",
        "\n",
        "---\n"
      ],
      "metadata": {
        "id": "dVA3HjXol0vA"
      }
    },
    {
      "cell_type": "code",
      "source": [
        "#Aquí puedes poner las clases base (Nodos y Árboles)"
      ],
      "metadata": {
        "id": "RvzV82cImZh4"
      },
      "execution_count": null,
      "outputs": []
    },
    {
      "cell_type": "markdown",
      "source": [
        "---\n",
        "\n",
        "## 🔁 Ejercicio 1: Recorrido en orden (inorden)\n",
        "\n",
        "Implementa una función `inorden(nodo)` que recorra el árbol y devuelva una lista con los valores en **orden ascendente** (izquierda → raíz → derecha).\n",
        "\n",
        "> 📌 Este recorrido es especialmente útil en árboles BST para recuperar los valores ordenados."
      ],
      "metadata": {
        "id": "kt8o60pYl3VX"
      }
    },
    {
      "cell_type": "code",
      "source": [],
      "metadata": {
        "id": "qVqUKw7al9mG"
      },
      "execution_count": null,
      "outputs": []
    },
    {
      "cell_type": "markdown",
      "source": [
        "\n",
        "---\n",
        "\n",
        "## 🔁 Ejercicio 2: Recorrido preorden y postorden\n",
        "\n",
        "Implementa dos funciones:\n",
        "- `preorden(nodo)` → raíz → izquierda → derecha\n",
        "- `postorden(nodo)` → izquierda → derecha → raíz\n",
        "\n",
        "> 🔍 Usa estas funciones para practicar la navegación recursiva sobre los nodos."
      ],
      "metadata": {
        "id": "aIe_lIq9l_Vf"
      }
    },
    {
      "cell_type": "code",
      "source": [],
      "metadata": {
        "id": "rHToYUqJmAQB"
      },
      "execution_count": null,
      "outputs": []
    },
    {
      "cell_type": "markdown",
      "source": [
        "---\n",
        "\n",
        "## 📏 Ejercicio 3: Altura del árbol\n",
        "\n",
        "Crea una función `altura(nodo)` que calcule la altura de un árbol binario, definida como la longitud del camino más largo desde la raíz hasta una hoja.\n"
      ],
      "metadata": {
        "id": "7MQCGJ6smAfP"
      }
    },
    {
      "cell_type": "code",
      "source": [],
      "metadata": {
        "id": "z6RrZZUpmCjI"
      },
      "execution_count": null,
      "outputs": []
    },
    {
      "cell_type": "markdown",
      "source": [
        "---\n",
        "\n",
        "## 🍃 Ejercicio 4: Contar hojas\n",
        "\n",
        "Crea una función `contar_hojas(nodo)` que cuente cuántos nodos hoja (sin hijos) hay en el árbol.\n"
      ],
      "metadata": {
        "id": "rVfmkqs0mCyn"
      }
    },
    {
      "cell_type": "code",
      "source": [],
      "metadata": {
        "id": "syaxlJr5mE72"
      },
      "execution_count": null,
      "outputs": []
    },
    {
      "cell_type": "markdown",
      "source": [
        "---\n",
        "\n",
        "## 🔍 Ejercicio 5: Verificar si un valor está en el árbol\n",
        "\n",
        "Implementa una función `existe(nodo, valor)` que indique si un valor dado está presente en el árbol (retorna `True` o `False`).\n",
        "\n",
        "> 📎 Aplica especialmente la lógica de búsqueda de BST si está disponible."
      ],
      "metadata": {
        "id": "_aS336VNmFMn"
      }
    },
    {
      "cell_type": "code",
      "source": [],
      "metadata": {
        "id": "8nlBc-UZmHsW"
      },
      "execution_count": null,
      "outputs": []
    },
    {
      "cell_type": "markdown",
      "source": [
        "---\n",
        "\n",
        "## ♻️ Ejercicio 6: Espejar un árbol (inverso)\n",
        "\n",
        "Crea una función `espejar(nodo)` que invierta el árbol binario, intercambiando izquierda y derecha en cada nodo.\n",
        "\n",
        "> 🔄 Se espera que un nuevo árbol sea una imagen en espejo del original."
      ],
      "metadata": {
        "id": "qGdDwKbmmIBf"
      }
    },
    {
      "cell_type": "code",
      "source": [],
      "metadata": {
        "id": "eqoefABlmKF3"
      },
      "execution_count": null,
      "outputs": []
    },
    {
      "cell_type": "markdown",
      "source": [
        "---\n",
        "\n",
        "## 🧮 Ejercicio 7: Suma de todos los nodos\n",
        "\n",
        "Crea una función `suma_nodos(nodo)` que calcule la suma total de los valores numéricos en el árbol.\n"
      ],
      "metadata": {
        "id": "oI_OAtpJmKVO"
      }
    },
    {
      "cell_type": "code",
      "source": [],
      "metadata": {
        "id": "hUIF8OSgmMWP"
      },
      "execution_count": null,
      "outputs": []
    },
    {
      "cell_type": "markdown",
      "source": [
        "---\n",
        "\n",
        "## 🌿 Ejercicio 8: Verificar si un árbol es un BST válido\n",
        "\n",
        "Implementa una función `es_bst(nodo, min_val=None, max_val=None)` que verifique si la estructura cumple con las reglas de un árbol de búsqueda:\n",
        "- Subárbol izquierdo < nodo < subárbol derecho\n",
        "\n",
        "> ⚠️ Este ejercicio requiere validar recursivamente los rangos válidos."
      ],
      "metadata": {
        "id": "8mFoqJ6emM0I"
      }
    },
    {
      "cell_type": "code",
      "source": [],
      "metadata": {
        "id": "7PGAxee4mRWf"
      },
      "execution_count": null,
      "outputs": []
    },
    {
      "cell_type": "markdown",
      "source": [
        "---\n",
        "\n",
        "## 📊 Ejercicio 9: Niveles del árbol (recorrido por niveles)\n",
        "\n",
        "Crea una función `niveles(nodo)` que imprima o retorne los valores del árbol agrupados por nivel (nivel 0, 1, 2, ...).\n",
        "\n",
        "> 📚 Puedes usar una estructura de cola para hacer recorrido BFS."
      ],
      "metadata": {
        "id": "PNTypnIemRjv"
      }
    },
    {
      "cell_type": "code",
      "source": [],
      "metadata": {
        "id": "-fZjASNgmSZf"
      },
      "execution_count": null,
      "outputs": []
    },
    {
      "cell_type": "markdown",
      "source": [
        "\n",
        "---\n",
        "\n",
        "## 🧩 Ejercicio 10: Encontrar el ancestro común más cercano (LCA)\n",
        "\n",
        "Dado un árbol BST y dos valores, crea una función `lca(nodo, v1, v2)` que devuelva el nodo que representa el ancestro común más cercano entre ambos valores.\n",
        "\n",
        "> 🧠 Aplica la propiedad de los BST para decidir hacia qué subárbol avanzar."
      ],
      "metadata": {
        "id": "VVgAsm0wmUKH"
      }
    },
    {
      "cell_type": "code",
      "execution_count": null,
      "metadata": {
        "id": "eiwRsQPwh_gk"
      },
      "outputs": [],
      "source": []
    }
  ]
}