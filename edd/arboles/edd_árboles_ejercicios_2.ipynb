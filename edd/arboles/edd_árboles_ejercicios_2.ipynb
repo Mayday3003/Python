{
  "nbformat": 4,
  "nbformat_minor": 0,
  "metadata": {
    "colab": {
      "provenance": []
    },
    "kernelspec": {
      "name": "python3",
      "display_name": "Python 3"
    },
    "language_info": {
      "name": "python"
    }
  },
  "cells": [
    {
      "cell_type": "markdown",
      "source": [
        "# 🌳 Ejercicios Avanzados: Árboles Binarios y de Búsqueda (BST)\n",
        "\n",
        "Este conjunto de ejercicios está pensado para reforzar tus habilidades avanzadas de programación con árboles binarios y árboles binarios de búsqueda. Aquí aplicarás conceptos de recursividad, estructuras auxiliares, análisis de propiedades y diseño algorítmico.\n",
        "\n",
        "## ✅ Consejos\n",
        "\n",
        "- Usa estructuras auxiliares (pilas, colas, diccionarios) cuando sea necesario\n",
        "- Antes de programar, **dibuja ejemplos** para entender el patrón\n",
        "- Prueba tus funciones con árboles desbalanceados y no triviales 🧪"
      ],
      "metadata": {
        "id": "wOSAol3zm9iG"
      }
    },
    {
      "cell_type": "code",
      "source": [],
      "metadata": {
        "id": "FLhaAtnwnbWO"
      },
      "execution_count": null,
      "outputs": []
    },
    {
      "cell_type": "markdown",
      "source": [
        "---\n",
        "\n",
        "## 🔁 Ejercicio 1: Recorrido inorden iterativo\n",
        "\n",
        "Implementa una versión **no recursiva** del recorrido inorden usando una pila.\n",
        "- Entrada: nodo raíz\n",
        "- Salida: lista con los valores en orden inorden\n",
        "\n",
        "> 💡 Ideal para repasar el uso de estructuras auxiliares en árboles.\n"
      ],
      "metadata": {
        "id": "UPbTuZsdnCJv"
      }
    },
    {
      "cell_type": "code",
      "source": [],
      "metadata": {
        "id": "31TDYnPonDuu"
      },
      "execution_count": null,
      "outputs": []
    },
    {
      "cell_type": "markdown",
      "source": [
        "---\n",
        "\n",
        "## 💡 Ejercicio 2: Comprobar si dos árboles son idénticos\n",
        "\n",
        "Crea una función `son_identicos(nodo1, nodo2)` que determine si dos árboles binarios tienen la misma estructura y valores."
      ],
      "metadata": {
        "id": "4E0kuhlInFY-"
      }
    },
    {
      "cell_type": "code",
      "source": [],
      "metadata": {
        "id": "UiYhm29MnF7m"
      },
      "execution_count": null,
      "outputs": []
    },
    {
      "cell_type": "markdown",
      "source": [
        "---\n",
        "\n",
        "## 🧠 Ejercicio 3: Reconstruir un árbol desde inorden y preorden\n",
        "\n",
        "Dados dos listas:\n",
        "- Preorden: orden de visita raíz → izquierda → derecha\n",
        "- Inorden: izquierda → raíz → derecha\n",
        "\n",
        "Implementa una función que reconstruya el árbol binario original.\n",
        "\n",
        "> 🧩 Este ejercicio implica identificar correctamente la raíz y subárboles en cada paso recursivo."
      ],
      "metadata": {
        "id": "dEespJ8LnGWQ"
      }
    },
    {
      "cell_type": "code",
      "source": [],
      "metadata": {
        "id": "aSlzhZJnnIJn"
      },
      "execution_count": null,
      "outputs": []
    },
    {
      "cell_type": "markdown",
      "source": [
        "---\n",
        "\n",
        "## 🌿 Ejercicio 4: Convertir un BST en una lista enlazada ordenada\n",
        "\n",
        "Transforma un BST en una lista enlazada (solo con punteros a la derecha) con los nodos ordenados de menor a mayor.\n",
        "\n",
        "> ✅ Puedes reutilizar el recorrido inorden para obtener el orden correcto."
      ],
      "metadata": {
        "id": "6MOetavrnJtG"
      }
    },
    {
      "cell_type": "code",
      "source": [],
      "metadata": {
        "id": "XoNeShxjnKUn"
      },
      "execution_count": null,
      "outputs": []
    },
    {
      "cell_type": "markdown",
      "source": [
        "---\n",
        "\n",
        "## ⚖️ Ejercicio 5: Verificar si un árbol binario está balanceado\n",
        "\n",
        "Implementa una función `es_balanceado(nodo)` que retorne `True` si el árbol binario está balanceado (diferencia de altura entre hijos ≤ 1 en todos los nodos).\n",
        "\n",
        "> 🧠 Este ejercicio es clave para diseñar árboles eficientes.\n"
      ],
      "metadata": {
        "id": "owVSe6GznLgW"
      }
    },
    {
      "cell_type": "code",
      "source": [],
      "metadata": {
        "id": "W67AhxuLnMEv"
      },
      "execution_count": null,
      "outputs": []
    },
    {
      "cell_type": "markdown",
      "source": [
        "---\n",
        "\n",
        "## 🪓 Ejercicio 6: Eliminar un nodo con dos hijos en BST\n",
        "\n",
        "Implementa una función `eliminar(valor)` en un BST que permita:\n",
        "- Buscar y eliminar un nodo\n",
        "- Si el nodo tiene dos hijos, reemplázalo por su **sucesor inorden**\n",
        "\n",
        "> 🎯 Este es el caso más complejo en la operación de eliminación.\n"
      ],
      "metadata": {
        "id": "JMc7ionqnNZX"
      }
    },
    {
      "cell_type": "code",
      "source": [],
      "metadata": {
        "id": "7NCbdNa-nN-u"
      },
      "execution_count": null,
      "outputs": []
    },
    {
      "cell_type": "markdown",
      "source": [
        "---\n",
        "\n",
        "## 🔍 Ejercicio 7: Encontrar la k-ésima menor clave en un BST\n",
        "\n",
        "Implementa una función `k_menor(nodo, k)` que devuelva el k-ésimo valor más pequeño del árbol (según orden inorden).\n",
        "\n",
        "> 📊 Debe recorrer el árbol eficientemente sin almacenar todos los valores."
      ],
      "metadata": {
        "id": "6o1bP2nLnP1G"
      }
    },
    {
      "cell_type": "code",
      "source": [],
      "metadata": {
        "id": "pt-Gty7-nQYX"
      },
      "execution_count": null,
      "outputs": []
    },
    {
      "cell_type": "markdown",
      "source": [
        "---\n",
        "\n",
        "## 📚 Ejercicio 8: Devolver todos los caminos raíz-hoja\n",
        "\n",
        "Implementa una función `caminos_raiz_hoja(nodo)` que retorne una lista de listas con todos los caminos desde la raíz hasta las hojas.\n",
        "\n",
        "> Ejemplo de salida:\n",
        "```\n",
        "[[10, 5, 2], [10, 5, 7], [10, 15]]\n",
        "```\n"
      ],
      "metadata": {
        "id": "rjNvCSRknR5W"
      }
    },
    {
      "cell_type": "code",
      "source": [],
      "metadata": {
        "id": "kzIWB4YCnSg_"
      },
      "execution_count": null,
      "outputs": []
    },
    {
      "cell_type": "markdown",
      "source": [
        "---\n",
        "\n",
        "## 🔎 Ejercicio 9: Verificar si un árbol contiene una suma de ruta\n",
        "\n",
        "Implementa una función `tiene_suma_ruta(nodo, suma)` que retorne `True` si existe algún camino desde la raíz hasta una hoja que sume exactamente `suma`."
      ],
      "metadata": {
        "id": "jkI2QQPPnUX4"
      }
    },
    {
      "cell_type": "code",
      "source": [],
      "metadata": {
        "id": "zALa7ok3nU9G"
      },
      "execution_count": null,
      "outputs": []
    },
    {
      "cell_type": "markdown",
      "source": [
        "\n",
        "\n",
        "\n",
        "\n",
        "\n",
        "\n",
        "\n",
        "\n",
        "\n",
        "\n",
        "\n",
        "\n",
        "\n",
        "\n",
        "\n",
        "---\n",
        "\n",
        "## 🧩 Ejercicio 10: Convertir un árbol binario en su representación por niveles (lista de listas)\n",
        "\n",
        "Crea una función `a_niveles(nodo)` que devuelva una lista de listas, donde cada sublista contiene los valores de los nodos en un mismo nivel del árbol.\n",
        "\n",
        "> 🧠 Este ejercicio combina recorrido BFS con estructuración de salida.\n",
        "\n",
        "---\n",
        "\n",
        "\n",
        "\n"
      ],
      "metadata": {
        "id": "NpuFdsiAm7Cf"
      }
    },
    {
      "cell_type": "code",
      "execution_count": null,
      "metadata": {
        "id": "JLg0U_qIm3X6"
      },
      "outputs": [],
      "source": []
    }
  ]
}