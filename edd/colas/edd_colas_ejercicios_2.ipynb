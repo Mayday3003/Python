{
  "cells": [
    {
      "cell_type": "code",
      "execution_count": 6,
      "metadata": {},
      "outputs": [],
      "source": [
        "class EmptyQueue(Exception):\n",
        "  ...\n",
        "\n",
        "class Queue:\n",
        "  def __init__(self):\n",
        "    self.__queue: list[int] = []\n",
        "\n",
        "  # agrega al final de la cola\n",
        "  def enqueue(self, element: int):\n",
        "    self.__queue.append(element)\n",
        "\n",
        "  # retorna y elimina el primer elemento que entró\n",
        "  def dequeue(self) -> int:\n",
        "    if(len(self.__queue) == 0):\n",
        "      raise EmptyQueue(\"Cola Vacía...\")\n",
        "    return self.__queue.pop(0)\n",
        "\n",
        "  # retorna el primer elemento que entró\n",
        "  def first(self) -> int:\n",
        "    if(len(self.__queue) == 0):\n",
        "      raise EmptyQueue(\"Cola Vacía...\")\n",
        "    return self.__queue[0]\n",
        "\n",
        "  def __repr__(self):\n",
        "    return str(self.__queue)\n",
        "\n",
        "  def __len__(self):\n",
        "    return len(self.__queue)"
      ]
    },
    {
      "cell_type": "markdown",
      "metadata": {
        "id": "1BD1WPKFNImW"
      },
      "source": [
        "### **1️⃣ Invertir una Cola Usando Solo Otras Colas 🔄**  \n",
        "**Objetivo:** Implementar un algoritmo que **invierta una cola** utilizando únicamente **otras colas** como estructuras auxiliares.  \n",
        "\n",
        "📌 **Tareas:**  \n",
        "- Se recibe una **cola con `n` elementos**.  \n",
        "- La salida debe ser la misma cola pero en **orden inverso**.  \n",
        "- **Restricción:** No puedes usar pilas (`stack`), listas (`list`), arreglos (`array`) ni estructuras adicionales que no sean colas.  \n",
        "- **Bonificación:** Intenta invertir la cola **sin usar colas adicionales**.  \n",
        "\n",
        "📌 **Ejemplo:**  \n",
        "```plaintext\n",
        "Entrada: [1, 2, 3, 4, 5]  (Cola con orden FIFO)  \n",
        "Salida:  [5, 4, 3, 2, 1]  (Cola invertida)\n",
        "```\n",
        "\n",
        "🔹 **Pistas:**  \n",
        "✅ Piensa en cómo podrías manipular los elementos con operaciones de `enqueue()` y `dequeue()`.  \n",
        "✅ Considera utilizar **X colas auxiliares** para lograr la inversión.  \n",
        "✅ Para la bonificación, analiza si puedes invertir los elementos **dentro de la misma estructura** de la cola original.  \n"
      ]
    },
    {
      "cell_type": "code",
      "execution_count": 26,
      "metadata": {
        "id": "aZJ1-GEWMsgl"
      },
      "outputs": [
        {
          "name": "stdout",
          "output_type": "stream",
          "text": [
            "Cola original: [1, 2, 3, 4, 5]\n",
            "Cola invertida: [5, 4, 3, 2, 1]\n"
          ]
        }
      ],
      "source": [
        "def invertir_cola(cola):\n",
        "    if len(cola) == 0:\n",
        "        return\n",
        "    \n",
        "    temp = cola.dequeue()  \n",
        "    invertir_cola(cola)    \n",
        "    cola.enqueue(temp)    \n",
        "\n",
        "q = Queue()\n",
        "for i in [1, 2, 3, 4, 5]:\n",
        "    q.enqueue(i)\n",
        "\n",
        "print(\"Cola original:\", q)\n",
        "invertir_cola(q)\n",
        "print(\"Cola invertida:\", q)\n"
      ]
    },
    {
      "cell_type": "markdown",
      "metadata": {
        "id": "RQgz8E2BNL7m"
      },
      "source": [
        "### **2️⃣ Invertir la Segunda Mitad de una Cola Usando Solo Otras Colas 🔄**  \n",
        "**Objetivo:** Implementar un algoritmo que **invierta solo la segunda mitad de una cola**, utilizando únicamente **otras colas** como estructuras auxiliares.  \n",
        "\n",
        "📌 **Tareas:**  \n",
        "- Se recibe una **cola con `n` elementos**.  \n",
        "- La primera mitad de la cola debe **permanecer en el mismo orden**.  \n",
        "- La segunda mitad debe **invertirse** antes de volver a la cola original.  \n",
        "- **Restricción:** No puedes usar pilas (`stack`), listas (`list`), arreglos (`array`) ni estructuras adicionales que no sean colas.  \n",
        "\n",
        "📌 **Ejemplo:**  \n",
        "```plaintext\n",
        "Entrada: [1, 2, 3, 4, 5, 6]  (Cola con orden FIFO)  \n",
        "Salida:  [1, 2, 3, 6, 5, 4]  (La segunda mitad fue invertida)\n",
        "```\n",
        "\n",
        "🔹 **Pistas:**  \n",
        "✅ Usa una cola auxiliar para separar la primera y segunda mitad.  \n",
        "✅ Otra cola puede ayudarte a **invertir** la segunda mitad.  \n",
        "✅ Una vez invertida, reconstruye la cola con el orden correcto.  \n",
        "\n"
      ]
    },
    {
      "cell_type": "code",
      "execution_count": 31,
      "metadata": {
        "id": "EsHxnqtxNiEJ"
      },
      "outputs": [
        {
          "name": "stdout",
          "output_type": "stream",
          "text": [
            "Cola original: [1, 2, 3, 4, 5, 6]\n",
            "[1, 2, 3]\n",
            "[6, 5, 4]\n",
            "Cola modificada: [1, 2, 3, 6, 5, 4]\n"
          ]
        }
      ],
      "source": [
        "def invertir_segunda_mitad(cola: Queue):\n",
        "    if len(cola) < 2:\n",
        "        return  \n",
        "    \n",
        "    mitad = len(cola) // 2  \n",
        "    cola1 = Queue() \n",
        "    cola2 = Queue()  \n",
        "\n",
        "    for _ in range(mitad):  \n",
        "        cola1.enqueue(cola.dequeue())  \n",
        "    print(cola1)\n",
        "\n",
        "    while len(cola) > 0:\n",
        "        cola2.enqueue(cola.dequeue())\n",
        "\n",
        "    invertir_cola(cola2)\n",
        "    \n",
        "    print(cola2)\n",
        "    \n",
        "\n",
        "    while len(cola1) > 0:\n",
        "        cola.enqueue(cola1.dequeue()) \n",
        "    \n",
        "    while len(cola2) > 0:\n",
        "        cola.enqueue(cola2.dequeue()) \n",
        "        \n",
        "\n",
        "q = Queue()\n",
        "for i in [1, 2, 3, 4, 5, 6]:\n",
        "    q.enqueue(i)\n",
        "\n",
        "print(\"Cola original:\", q)\n",
        "invertir_segunda_mitad(q)\n",
        "print(\"Cola modificada:\", q)\n"
      ]
    },
    {
      "cell_type": "markdown",
      "metadata": {
        "id": "Mev9s976NiXo"
      },
      "source": [
        "### **3️⃣ Encontrar Dos Números en una Cola que Suman `n` 🔢**  \n",
        "**Objetivo:** Implementar un algoritmo que, dado una **cola llena de números enteros**, encuentre **dos valores `x` y `y`** dentro de la cola tal que **`x + y = n`**.  \n",
        "\n",
        "📌 **Tareas:**  \n",
        "- Se recibe una **cola con `n` números enteros**.  \n",
        "- Se debe **buscar dos números dentro de la cola** cuya suma sea igual a un número dado `n`.  \n",
        "- Se deben **devolver `x` y `y`** si existen, o indicar que no hay solución.  \n",
        "- **Restricción:** Solo se pueden usar **colas como estructura de datos**, sin listas, diccionarios, arreglos u otras estructuras.  \n",
        "\n",
        "📌 **Ejemplo 1:** (Caso con solución)  \n",
        "```plaintext\n",
        "Entrada: Cola = [1, 3, 7, 2, 8], n = 10  \n",
        "Salida: (2, 8)\n",
        "```\n",
        "\n",
        "📌 **Ejemplo 2:** (Caso sin solución)  \n",
        "```plaintext\n",
        "Entrada: Cola = [5, 6, 7, 8], n = 15  \n",
        "Salida: \"No existen dos números que sumen 15.\"\n",
        "```\n",
        "\n",
        "🔹 **Pistas:**  \n",
        "✅ Extrae elementos de la cola y agrégales a una cola auxiliar para poder compararlos con los siguientes.  \n",
        "✅ Evita comparar el mismo número consigo mismo.  \n",
        "✅ Piensa en cómo puedes reutilizar la cola para evitar perder datos.  \n",
        "\n"
      ]
    },
    {
      "cell_type": "code",
      "execution_count": null,
      "metadata": {
        "id": "RUdGjAPEOpkf"
      },
      "outputs": [],
      "source": []
    },
    {
      "cell_type": "markdown",
      "metadata": {
        "id": "xCuthIrJPcc_"
      },
      "source": [
        "### **4️⃣ Buscar un Valor en una Cola de Colas y Devolver su Posición 🔍**  \n",
        "**Objetivo:** Implementar un algoritmo que, dada una **cola de colas** (una cola donde cada elemento es otra cola), **busque un valor `X`** y **devuelva su posición** en la estructura.  \n",
        "\n",
        "📌 **Tareas:**  \n",
        "- Se recibe una **cola de colas** donde cada subcola contiene varios números.  \n",
        "- Se debe recorrer la estructura y **buscar el valor `X`** dentro de alguna de las colas.  \n",
        "- Si el valor se encuentra, devuelve su **posición en la estructura** (cola en la que está y su índice dentro de esa cola).  \n",
        "- Si el valor **no está presente**, devuelve `-1`.  \n",
        "- **Restricción:** Solo se pueden usar **colas** como estructura de datos, sin listas, diccionarios, arreglos u otras estructuras.  \n",
        "\n",
        "📌 **Ejemplo 1:** (Caso con el valor presente)  \n",
        "```plaintext\n",
        "Entrada:  \n",
        "Cola de colas = [\n",
        "   [3, 5, 7],\n",
        "   [1, 9, 2],\n",
        "   [8, 4, 6]\n",
        "]  \n",
        "X = 9  \n",
        "Salida: (2, 2)  (Está en la segunda subcola, posición 2)\n",
        "```\n",
        "\n",
        "📌 **Ejemplo 2:** (Caso sin el valor)  \n",
        "```plaintext\n",
        "Entrada:  \n",
        "Cola de colas = [\n",
        "   [3, 5, 7],\n",
        "   [1, 9, 2],\n",
        "   [8, 4, 6]\n",
        "]  \n",
        "X = 10  \n",
        "Salida: -1  (El valor no está en ninguna subcola)\n",
        "```\n",
        "\n",
        "🔹 **Pistas:**  \n",
        "✅ Recorre cada subcola una por una, verificando si el valor `X` está presente.  \n",
        "✅ Mantén un contador para registrar **la posición de la subcola y el índice del valor dentro de ella**.  \n",
        "✅ No olvides devolver `-1` si `X` no se encuentra en ninguna subcola.  \n"
      ]
    },
    {
      "cell_type": "code",
      "execution_count": null,
      "metadata": {
        "id": "jBjwLx9MPgJ2"
      },
      "outputs": [],
      "source": []
    },
    {
      "cell_type": "markdown",
      "metadata": {
        "id": "10X-d6iRYuNH"
      },
      "source": [
        "### 6️⃣ 🔄 Gestión de Múltiples Filas en un Banco con una Cola de Colas 🏦💰  \n",
        "\n",
        "📖 **Historia:**  \n",
        "El banco **FastBank** 🏦 ha implementado un sistema de atención al cliente con **varias filas**, cada una dedicada a un tipo de servicio:  \n",
        "1. **Depósitos y retiros** 💵  \n",
        "2. **Préstamos y créditos** 🏠  \n",
        "3. **Atención general** 📑  \n",
        "\n",
        "Para mejorar la eficiencia, han decidido implementar una **cola de colas** que gestione todas las filas y asigne **el siguiente cliente de manera dinámica** según la disponibilidad de los cajeros.  \n",
        "\n",
        "📌 **Descripción:**  \n",
        "Debes implementar un sistema que maneje una **cola de colas**, donde cada subcola representa un tipo de servicio. Los clientes deben ser **atendidos en orden de llegada dentro de su fila**, pero **los cajeros pueden atender cualquier tipo de fila** dependiendo de la prioridad del momento.  \n",
        "\n",
        "✅ **Condiciones:**  \n",
        "- Se tiene una **cola de colas**, donde cada subcola representa una fila de atención.  \n",
        "- Cada turno se debe atender **el cliente más antiguo de la fila con mayor acumulación de personas**.  \n",
        "- Si todas las filas tienen la misma cantidad de clientes, se atiende en **orden de prioridad predefinida** (`Depósitos`, luego `Préstamos`, luego `Atención General`).  \n",
        "- La función debe actualizar las colas después de cada atención.  \n",
        "\n",
        "🔢 **Ejemplo de Entrada y Salida:**  \n",
        "\n",
        "📥 **Entrada:**  \n",
        "```python\n",
        "cola_de_colas = {\n",
        "    \"Depósitos y Retiros\": [\"Cliente 1\", \"Cliente 2\", \"Cliente 3\"],\n",
        "    \"Préstamos y Créditos\": [\"Cliente 4\", \"Cliente 5\"],\n",
        "    \"Atención General\": [\"Cliente 6\", \"Cliente 7\", \"Cliente 8\", \"Cliente 9\"]\n",
        "}\n",
        "```\n",
        "\n",
        "📤 **Salida tras atender clientes:**  \n",
        "```\n",
        "Atendiendo a Cliente 6 (Atención General)  \n",
        "Atendiendo a Cliente 7 (Atención General)  \n",
        "Atendiendo a Cliente 8 (Atención General)  \n",
        "Atendiendo a Cliente 9 (Atención General)  \n",
        "Atendiendo a Cliente 1 (Depósitos y Retiros)  \n",
        "Atendiendo a Cliente 2 (Depósitos y Retiros)  \n",
        "Atendiendo a Cliente 3 (Depósitos y Retiros)  \n",
        "Atendiendo a Cliente 4 (Préstamos y Créditos)  \n",
        "Atendiendo a Cliente 5 (Préstamos y Créditos)  \n",
        "🏦 ¡Todos los clientes han sido atendidos! 🎉\n",
        "```\n",
        "\n"
      ]
    },
    {
      "cell_type": "code",
      "execution_count": null,
      "metadata": {
        "id": "TL1NzesPY04u"
      },
      "outputs": [],
      "source": []
    }
  ],
  "metadata": {
    "colab": {
      "provenance": []
    },
    "kernelspec": {
      "display_name": "edd",
      "language": "python",
      "name": "python3"
    },
    "language_info": {
      "codemirror_mode": {
        "name": "ipython",
        "version": 3
      },
      "file_extension": ".py",
      "mimetype": "text/x-python",
      "name": "python",
      "nbconvert_exporter": "python",
      "pygments_lexer": "ipython3",
      "version": "3.13.2"
    }
  },
  "nbformat": 4,
  "nbformat_minor": 0
}
