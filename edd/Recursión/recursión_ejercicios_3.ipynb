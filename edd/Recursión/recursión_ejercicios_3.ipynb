{
  "nbformat": 4,
  "nbformat_minor": 0,
  "metadata": {
    "colab": {
      "provenance": []
    },
    "kernelspec": {
      "name": "python3",
      "display_name": "Python 3"
    },
    "language_info": {
      "name": "python"
    }
  },
  "cells": [
    {
      "cell_type": "markdown",
      "source": [
        "# 1"
      ],
      "metadata": {
        "id": "yUcMf1iRAoYW"
      }
    },
    {
      "cell_type": "markdown",
      "source": [
        "\n",
        "\n",
        "---\n",
        "\n",
        "### 1️⃣ **Eliminar caracteres repetidos consecutivos en un string**\n",
        "Dado un string, elimina los caracteres repetidos consecutivos utilizando recursión.\n",
        "\n",
        "**Ejemplo de entrada y salida:**\n",
        "```python\n",
        "eliminar_repetidos(\"aaabbcddd\")  # Output: \"abcd\"\n",
        "eliminar_repetidos(\"helloo\")      # Output: \"helo\"\n",
        "```\n",
        "\n",
        "\n"
      ],
      "metadata": {
        "id": "cRiLXoRpDT8w"
      }
    },
    {
      "cell_type": "code",
      "execution_count": null,
      "metadata": {
        "id": "_Va8lp1tAl8H"
      },
      "outputs": [],
      "source": []
    },
    {
      "cell_type": "markdown",
      "source": [
        "---\n",
        "\n",
        "### 2️⃣ **Contar la cantidad de veces que aparece un carácter en un string**\n",
        "Implementa una función recursiva que cuente cuántas veces aparece un carácter en un string.\n",
        "\n",
        "**Ejemplo de entrada y salida:**\n",
        "```python\n",
        "contar_caracter(\"banana\", \"a\")  # Output: 3\n",
        "contar_caracter(\"mississippi\", \"s\")  # Output: 4\n",
        "```\n",
        "\n"
      ],
      "metadata": {
        "id": "lGw5DW5KDYeG"
      }
    },
    {
      "cell_type": "code",
      "source": [],
      "metadata": {
        "id": "i8zOiekADbuJ"
      },
      "execution_count": null,
      "outputs": []
    },
    {
      "cell_type": "markdown",
      "source": [
        "---\n",
        "\n",
        "### 3️⃣ **Verificar si un string es un anagrama de otro**\n",
        "Crea una función recursiva que determine si dos strings son anagramas (contienen las mismas letras en distinto orden).\n",
        "\n",
        "**Ejemplo de entrada y salida:**\n",
        "```python\n",
        "es_anagrama(\"listen\", \"silent\")  # Output: True\n",
        "es_anagrama(\"hello\", \"world\")    # Output: False\n",
        "```\n",
        "\n"
      ],
      "metadata": {
        "id": "46eccvh_DcFR"
      }
    },
    {
      "cell_type": "code",
      "source": [],
      "metadata": {
        "id": "CLclSOs_Dg2k"
      },
      "execution_count": null,
      "outputs": []
    },
    {
      "cell_type": "markdown",
      "source": [
        "---\n",
        "\n",
        "### 4️⃣ **Contar vocales en un string**\n",
        "Implementa una función recursiva que cuente el número total de vocales en un string.\n",
        "\n",
        "**Ejemplo de entrada y salida:**\n",
        "```python\n",
        "contar_vocales(\"recursion\")  # Output: 4\n",
        "contar_vocales(\"python\")     # Output: 1\n",
        "```\n"
      ],
      "metadata": {
        "id": "MMeaNmerDhIi"
      }
    },
    {
      "cell_type": "code",
      "source": [],
      "metadata": {
        "id": "_SIDdr5KDjWs"
      },
      "execution_count": null,
      "outputs": []
    },
    {
      "cell_type": "markdown",
      "source": [
        "\n",
        "---\n",
        "\n",
        "### 5️⃣ **Encontrar la subcadena más larga de caracteres consecutivos iguales**\n",
        "Dado un string, encuentra la subcadena más larga de caracteres consecutivos iguales.\n",
        "\n",
        "**Ejemplo de entrada y salida:**\n",
        "```python\n",
        "subcadena_mas_larga(\"aaabbccccdd\")  # Output: \"cccc\"\n",
        "subcadena_mas_larga(\"banana\")       # Output: \"aa\"\n",
        "```\n",
        "\n"
      ],
      "metadata": {
        "id": "--mhzMm5Dj31"
      }
    },
    {
      "cell_type": "code",
      "source": [],
      "metadata": {
        "id": "qjquE6CpDmD6"
      },
      "execution_count": null,
      "outputs": []
    },
    {
      "cell_type": "markdown",
      "source": [
        "---\n",
        "\n",
        "### 6️⃣ **Buscar una palabra en una matriz de letras (Word Search)**\n",
        "Dada una matriz de letras y una palabra, verifica si la palabra puede ser encontrada recorriendo la matriz en direcciones horizontales o verticales.\n",
        "\n",
        "**Ejemplo de entrada y salida:**\n",
        "```python\n",
        "matriz = [\n",
        "    ['A', 'B', 'C', 'E'],\n",
        "    ['S', 'F', 'C', 'S'],\n",
        "    ['A', 'D', 'E', 'E']\n",
        "]\n",
        "\n",
        "buscar_palabra(matriz, \"FCS\")  # Output: True\n",
        "buscar_palabra(matriz, \"ABCB\") # Output: False\n",
        "```\n",
        "\n"
      ],
      "metadata": {
        "id": "JovM18zVDmaN"
      }
    },
    {
      "cell_type": "code",
      "source": [],
      "metadata": {
        "id": "ASFhIB9-DrTX"
      },
      "execution_count": null,
      "outputs": []
    },
    {
      "cell_type": "markdown",
      "source": [
        "---\n",
        "\n",
        "### 7️⃣ **Rotar una matriz NxN 90 grados en sentido horario**\n",
        "Dada una matriz cuadrada `NxN`, rota la matriz en 90 grados hacia la derecha utilizando recursión.\n",
        "\n",
        "**Ejemplo de entrada y salida:**\n",
        "```python\n",
        "matriz = [\n",
        "    [1, 2, 3],\n",
        "    [4, 5, 6],\n",
        "    [7, 8, 9]\n",
        "]\n",
        "\n",
        "rotar_matriz(matriz)\n",
        "# Output:\n",
        "# [\n",
        "#    [7, 4, 1],\n",
        "#    [8, 5, 2],\n",
        "#    [9, 6, 3]\n",
        "# ]\n",
        "```\n"
      ],
      "metadata": {
        "id": "fDBIP14gDrlu"
      }
    },
    {
      "cell_type": "code",
      "source": [],
      "metadata": {
        "id": "F5cqeROyDtgM"
      },
      "execution_count": null,
      "outputs": []
    },
    {
      "cell_type": "markdown",
      "source": [
        "\n",
        "---\n",
        "\n",
        "### 8️⃣ **Contar islas en una matriz binaria**\n",
        "Dada una matriz de `0`s y `1`s, cuenta cuántas \"islas\" de `1`s existen. Una isla se define como un conjunto de `1`s conectados en direcciones arriba, abajo, izquierda o derecha.\n",
        "\n",
        "**Ejemplo de entrada y salida:**\n",
        "```python\n",
        "matriz = [\n",
        "    [1, 1, 0, 0, 0],\n",
        "    [1, 1, 0, 0, 1],\n",
        "    [0, 0, 0, 1, 1],\n",
        "    [0, 0, 0, 0, 0]\n",
        "]\n",
        "\n",
        "contar_islas(matriz)  # Output: 3\n",
        "```\n",
        "\n"
      ],
      "metadata": {
        "id": "_hjBf-uTDt1U"
      }
    },
    {
      "cell_type": "code",
      "source": [],
      "metadata": {
        "id": "kUweJHaQDwhN"
      },
      "execution_count": null,
      "outputs": []
    },
    {
      "cell_type": "markdown",
      "source": [
        "---\n",
        "\n",
        "### 9️⃣ **Buscar el camino más corto en una matriz (Laberinto)**\n",
        "Dado un laberinto representado por `0`s (paredes) y `1`s (caminos), encuentra el camino más corto desde la esquina superior izquierda hasta la esquina inferior derecha.\n",
        "\n",
        "**Ejemplo de entrada y salida:**\n",
        "```python\n",
        "matriz = [\n",
        "    [1, 0, 1, 1],\n",
        "    [1, 1, 1, 0],\n",
        "    [0, 0, 1, 1],\n",
        "    [1, 1, 1, 1]\n",
        "]\n",
        "\n",
        "camino_mas_corto(matriz)  # Output: 5 (pasos mínimos)\n",
        "```\n",
        "\n"
      ],
      "metadata": {
        "id": "L1cwof68DxMv"
      }
    },
    {
      "cell_type": "code",
      "source": [],
      "metadata": {
        "id": "jLo52xu1DzIJ"
      },
      "execution_count": null,
      "outputs": []
    },
    {
      "cell_type": "markdown",
      "source": [
        "---\n",
        "\n",
        "### 🔟 **Expandir una región en una matriz (Flood Fill)**\n",
        "Dada una matriz y una coordenada `(x, y)`, expande la región cambiando todos los valores conectados al valor original en `(x, y)`, de forma similar a la herramienta de \"relleno\" en un programa de dibujo.\n",
        "\n",
        "**Ejemplo de entrada y salida:**\n",
        "```python\n",
        "matriz = [\n",
        "    [1, 1, 2, 2],\n",
        "    [1, 1, 2, 2],\n",
        "    [3, 3, 2, 2],\n",
        "    [3, 3, 3, 3]\n",
        "]\n",
        "\n",
        "flood_fill(matriz, 0, 0, 9)\n",
        "# Output:\n",
        "# [\n",
        "#    [9, 9, 2, 2],\n",
        "#    [9, 9, 2, 2],\n",
        "#    [3, 3, 2, 2],\n",
        "#    [3, 3, 3, 3]\n",
        "# ]\n",
        "```\n",
        "\n",
        "---"
      ],
      "metadata": {
        "id": "e68H0l5aDzmV"
      }
    }
  ]
}