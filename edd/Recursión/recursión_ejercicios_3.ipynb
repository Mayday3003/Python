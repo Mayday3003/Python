{
  "cells": [
    {
      "cell_type": "markdown",
      "metadata": {},
      "source": [
        "---\n",
        "\n",
        "# Ejercicios anteriores \n",
        "\n",
        "### 2. **Contar elementos en una lista anidada**\n",
        "   Escribe una función recursiva que cuente el número total de elementos en una lista, considerando que puede contener sublistas anidadas.\n",
        "\n",
        "   ```python\n",
        "   def contar_elementos(lista):\n",
        "       pass\n",
        "   ```\n",
        "\n",
        "   **Ejemplo:**\n",
        "   ```python\n",
        "   contar_elementos([1, [2, 3], [4, [5, 6]]])  # Output: 6\n",
        "   contar_elementos([[], [1, [2, 3]], 4])      # Output: 4\n",
        "   ```\n"
      ]
    },
    {
      "cell_type": "code",
      "execution_count": null,
      "metadata": {},
      "outputs": [
        {
          "name": "stdout",
          "output_type": "stream",
          "text": [
            "6\n",
            "4\n"
          ]
        }
      ],
      "source": [
        "# Ejemplo de uso\n",
        "def contar_elementos(lista, index=0):\n",
        "    if index == len(lista):  # Caso base: si el índice alcanza el tamaño de la lista\n",
        "        return 0\n",
        "    if isinstance(lista[index], list):  \n",
        "        return contar_elementos(lista[index]) + contar_elementos(lista, index + 1)\n",
        "    return 1 + contar_elementos(lista, index + 1)  \n",
        "\n",
        "\n",
        "\n",
        "print(contar_elementos([1, [2, 3], [4, [5, 6]]]))  # Output: 6\n",
        "print(contar_elementos([[], [1, [2, 3]], 4]))      # Output: 4\n"
      ]
    },
    {
      "cell_type": "markdown",
      "metadata": {},
      "source": [
        "---\n",
        "\n",
        "### 10. **Permutaciones de una cadena**\n",
        "   Crea una función recursiva que genere todas las permutaciones de una cadena de texto.\n",
        "\n",
        "   ```python\n",
        "   def permutaciones(cadena, prefijo=\"\"):\n",
        "       pass\n",
        "   ```\n",
        "\n",
        "   **Ejemplo:**\n",
        "   ```python\n",
        "   permutaciones(\"abc\")  \n",
        "   # Output:\n",
        "   # abc\n",
        "   # acb\n",
        "   # bac\n",
        "   # bca\n",
        "   # cab\n",
        "   # cba\n",
        "   ```\n",
        "\n",
        "---"
      ]
    },
    {
      "cell_type": "markdown",
      "metadata": {},
      "source": [
        "## Sumatoria fila más larga de la matríz\n",
        "Dada una matríz con el tamaño de las filas diferentes, se debe encontrar la fila más larga e imprimir la sumatoria de esta fila"
      ]
    },
    {
      "cell_type": "code",
      "execution_count": null,
      "metadata": {},
      "outputs": [
        {
          "data": {
            "text/plain": [
              "334"
            ]
          },
          "execution_count": 1,
          "metadata": {},
          "output_type": "execute_result"
        }
      ],
      "source": [
        "def sumatoria_fila_mas_larga(matriz, fila=0, columna=0, max_fila=0, max_len=0, suma=0, suma_temp=0):\n",
        "    if fila == len(matriz):  # Caso base\n",
        "        return suma\n",
        "    \n",
        "    if columna == len(matriz[fila]): \n",
        "        if len(matriz[fila]) > max_len:\n",
        "            max_fila = fila\n",
        "            max_len = len(matriz[fila])\n",
        "            suma = suma_temp  \n",
        "        return sumatoria_fila_mas_larga(matriz, fila + 1, 0, max_fila, max_len, suma, 0)  # Pasamos a la siguiente fila\n",
        "    \n",
        "    return sumatoria_fila_mas_larga(matriz, fila, columna + 1, max_fila, max_len, suma, suma_temp + matriz[fila][columna])  \n",
        "\n",
        "# Ejemplo de matriz\n",
        "m = [\n",
        "    [46, 23, 70, 78, 96, 67,2],\n",
        "    [52, 47, 73, 59, 98, 3,1,1],\n",
        "    [27, 24, 57, 83, 67, 4],\n",
        "    [94, 89, 36, 74, 24, 5],\n",
        "    [77, 61, 39, 41, 77, 6]\n",
        "]\n",
        "\n",
        "# Llamar a la función\n",
        "sumatoria_fila_mas_larga(m)\n"
      ]
    },
    {
      "cell_type": "markdown",
      "metadata": {
        "id": "yUcMf1iRAoYW"
      },
      "source": [
        "# 1"
      ]
    },
    {
      "cell_type": "markdown",
      "metadata": {
        "id": "cRiLXoRpDT8w"
      },
      "source": [
        "\n",
        "\n",
        "---\n",
        "\n",
        "### 1️⃣ **Eliminar caracteres repetidos consecutivos en un string**\n",
        "Dado un string, elimina los caracteres repetidos consecutivos utilizando recursión.\n",
        "\n",
        "**Ejemplo de entrada y salida:**\n",
        "```python\n",
        "eliminar_repetidos(\"aaabbcddd\")  # Output: \"abcd\"\n",
        "eliminar_repetidos(\"helloo\")      # Output: \"helo\"\n",
        "```\n",
        "\n",
        "\n"
      ]
    },
    {
      "cell_type": "code",
      "execution_count": null,
      "metadata": {
        "id": "_Va8lp1tAl8H"
      },
      "outputs": [
        {
          "name": "stdout",
          "output_type": "stream",
          "text": [
            "abcd\n",
            "heloh\n"
          ]
        }
      ],
      "source": [
        "def eliminar_repetidos(cadena, i=0, resultado=\"\"):\n",
        "    if i == len(cadena):  # Caso base\n",
        "        return resultado\n",
        "\n",
        "    if i == 0 or cadena[i] != cadena[i - 1]:  \n",
        "        return eliminar_repetidos(cadena, i + 1, resultado + cadena[i])\n",
        "\n",
        "    return eliminar_repetidos(cadena, i + 1, resultado) \n",
        "\n",
        "print(eliminar_repetidos(\"aaabbcddd\"))  # Output: \"abcd\"\n",
        "print(eliminar_repetidos(\"helloo\"))     # Output: \"helo\"\n"
      ]
    },
    {
      "cell_type": "markdown",
      "metadata": {
        "id": "lGw5DW5KDYeG"
      },
      "source": [
        "---\n",
        "\n",
        "### 2️⃣ **Contar la cantidad de veces que aparece un carácter en un string**\n",
        "Implementa una función recursiva que cuente cuántas veces aparece un carácter en un string.\n",
        "\n",
        "**Ejemplo de entrada y salida:**\n",
        "```python\n",
        "contar_caracter(\"banana\", \"a\")  # Output: 3\n",
        "contar_caracter(\"mississippi\", \"s\")  # Output: 4\n",
        "```\n",
        "\n"
      ]
    },
    {
      "cell_type": "code",
      "execution_count": 2,
      "metadata": {
        "id": "i8zOiekADbuJ"
      },
      "outputs": [
        {
          "name": "stdout",
          "output_type": "stream",
          "text": [
            "3\n",
            "4\n",
            "7\n"
          ]
        }
      ],
      "source": [
        "def contar_caracter(cadena, caracter, index=0, contador=0):\n",
        "    if index == len(cadena):  # Caso base\n",
        "        return contador\n",
        "\n",
        "    nuevo_contador = contador + 1 if cadena[index] == caracter else contador\n",
        "\n",
        "    return contar_caracter(cadena, caracter, index + 1, nuevo_contador)\n",
        "\n",
        "# Ejemplo de uso\n",
        "print(contar_caracter(\"banana\", \"a\"))       # Output: 3\n",
        "print(contar_caracter(\"mississippi\", \"s\"))  # Output: 4\n",
        "print(contar_caracter(\"mississippisss\", \"s\"))  # Output: 7\n"
      ]
    },
    {
      "cell_type": "markdown",
      "metadata": {
        "id": "46eccvh_DcFR"
      },
      "source": [
        "---\n",
        "\n",
        "### 3️⃣ **Verificar si un string es un anagrama de otro** \n",
        "Crea una función recursiva que determine si dos strings son anagramas (contienen las mismas letras en distinto orden).\n",
        "\n",
        "**Ejemplo de entrada y salida:**\n",
        "```python\n",
        "es_anagrama(\"listen\", \"silent\")  # Output: True\n",
        "es_anagrama(\"hello\", \"world\")    # Output: False\n",
        "```\n",
        "\n"
      ]
    },
    {
      "cell_type": "code",
      "execution_count": null,
      "metadata": {
        "id": "CLclSOs_Dg2k"
      },
      "outputs": [
        {
          "name": "stdout",
          "output_type": "stream",
          "text": [
            "True\n",
            "False\n",
            "True\n",
            "True\n",
            "False\n"
          ]
        }
      ],
      "source": [
        "def es_anagrama(cadena1, cadena2, caracter=None, contador1=0, contador2=0, indice=0, i=0):\n",
        "    if len(cadena1) != len(cadena2):  # Si las longitudes son diferentes, no pueden ser anagramas\n",
        "        return False\n",
        "\n",
        "    if indice == len(cadena1): \n",
        "        return True\n",
        "\n",
        "    if caracter is None:  \n",
        "        return es_anagrama(cadena1, cadena2, cadena1[indice], 0, 0, indice, 0)\n",
        "\n",
        "    if i == len(cadena1):  # Si ya contamos todas las apariciones de `caracter`\n",
        "        return contador1 == contador2 and es_anagrama(cadena1, cadena2, None, 0, 0, indice + 1, 0)\n",
        "\n",
        "    # Contamos ocurrencias de `caracter` en ambas cadenas de forma recursiva\n",
        "    contador1 += 1 if cadena1[i] == caracter else 0\n",
        "    contador2 += 1 if cadena2[i] == caracter else 0\n",
        "\n",
        "    return es_anagrama(cadena1, cadena2, caracter, contador1, contador2, indice, i + 1)\n",
        "\n",
        "# Ejemplo de uso\n",
        "print(es_anagrama(\"listen\", \"silent\"))  # Output: True\n",
        "print(es_anagrama(\"hello\", \"world\"))    # Output: False\n",
        "print(es_anagrama(\"abcd\", \"dbca\"))      # Output: True\n",
        "print(es_anagrama(\"aabb\", \"abab\"))      # Output: True\n",
        "print(es_anagrama(\"test\", \"ttew\"))      # Output: False\n"
      ]
    },
    {
      "cell_type": "markdown",
      "metadata": {
        "id": "MMeaNmerDhIi"
      },
      "source": [
        "---\n",
        "\n",
        "### 4️⃣ **Contar vocales en un string**\n",
        "Implementa una función recursiva que cuente el número total de vocales en un string.\n",
        "\n",
        "**Ejemplo de entrada y salida:**\n",
        "```python\n",
        "contar_vocales(\"recursion\")  # Output: 4\n",
        "contar_vocales(\"python\")     # Output: 1\n",
        "```\n"
      ]
    },
    {
      "cell_type": "code",
      "execution_count": null,
      "metadata": {
        "id": "_SIDdr5KDjWs"
      },
      "outputs": [
        {
          "name": "stdout",
          "output_type": "stream",
          "text": [
            "4\n",
            "1\n",
            "5\n",
            "0\n",
            "0\n"
          ]
        }
      ],
      "source": [
        "def contar_vocales(cadena, i=0, contador=0):\n",
        "    if i == len(cadena):  # Caso base: cuando terminamos de recorrer la cadena\n",
        "        return contador\n",
        "\n",
        "    es_vocal = cadena[i].lower() in \"aeiou\" \n",
        "    return contar_vocales(cadena, i + 1, contador + (1 if es_vocal else 0))\n",
        "\n",
        "# Ejemplo de uso\n",
        "print(contar_vocales(\"recursion\"))  # Output: 4\n",
        "print(contar_vocales(\"python\"))     # Output: 1\n",
        "print(contar_vocales(\"AEIOU\"))      # Output: 5\n",
        "print(contar_vocales(\"bcdfg\"))      # Output: 0\n",
        "print(contar_vocales(\"\"))           # Output: 0\n"
      ]
    },
    {
      "cell_type": "markdown",
      "metadata": {
        "id": "--mhzMm5Dj31"
      },
      "source": [
        "\n",
        "---\n",
        "\n",
        "### 5️⃣ **Encontrar la subcadena más larga de caracteres consecutivos iguales  (Dudoso)** \n",
        "Dado un string, encuentra la subcadena más larga de caracteres consecutivos iguales.\n",
        "\n",
        "**Ejemplo de entrada y salida:**\n",
        "```python\n",
        "subcadena_mas_larga(\"aaabbccccdd\")  # Output: \"cccc\"\n",
        "subcadena_mas_larga(\"banana\")       # Output: \"aa\"\n",
        "```\n",
        "\n"
      ]
    },
    {
      "cell_type": "code",
      "execution_count": 8,
      "metadata": {
        "id": "qjquE6CpDmD6"
      },
      "outputs": [
        {
          "name": "stdout",
          "output_type": "stream",
          "text": [
            "cccc\n",
            "b\n",
            "ddddd\n",
            "x\n",
            "\n",
            "aaaaa\n"
          ]
        }
      ],
      "source": [
        "def subcadena_mas_larga(cadena, i=0, actual=\"\", max_sub=\"\", count=0, max_count=0):\n",
        "    if i == len(cadena):  # Caso base\n",
        "        return actual if count > max_count else max_sub \n",
        "\n",
        "    if i == 0 or cadena[i] == cadena[i - 1]:  \n",
        "        return subcadena_mas_larga(cadena, i + 1, actual + cadena[i], max_sub, count + 1, max_count)\n",
        "\n",
        "\n",
        "    if count > max_count:\n",
        "        max_sub, max_count = actual, count\n",
        "\n",
        "    return subcadena_mas_larga(cadena, i + 1, cadena[i], max_sub, 1, max_count)\n",
        "\n",
        "# Ejemplo de uso\n",
        "print(subcadena_mas_larga(\"aaabbccccdd\"))  # Output: \"cccc\"\n",
        "print(subcadena_mas_larga(\"banana\"))       # Output: \"aa\"\n",
        "print(subcadena_mas_larga(\"aabbbccddddd\")) # Output: \"ddddd\"\n",
        "print(subcadena_mas_larga(\"xyz\"))          # Output: \"x\"\n",
        "print(subcadena_mas_larga(\"\"))             # Output: \"\"\n",
        "print(subcadena_mas_larga(\"aaaaabbbaaa\"))     # Output: \"bbb\"\n"
      ]
    },
    {
      "cell_type": "markdown",
      "metadata": {
        "id": "JovM18zVDmaN"
      },
      "source": [
        "---\n",
        "\n",
        "### 6️⃣ **Buscar una palabra en una matriz de letras (Word Search)**\n",
        "Dada una matriz de letras y una palabra, verifica si la palabra puede ser encontrada recorriendo la matriz en direcciones horizontales o verticales.\n",
        "\n",
        "**Ejemplo de entrada y salida:**\n",
        "```python\n",
        "matriz = [\n",
        "    ['A', 'B', 'C', 'E'],\n",
        "    ['S', 'F', 'C', 'S'],\n",
        "    ['A', 'D', 'E', 'E']\n",
        "]\n",
        "\n",
        "buscar_palabra(matriz, \"FCS\")  # Output: True\n",
        "buscar_palabra(matriz, \"ABCB\") # Output: False\n",
        "```\n",
        "\n"
      ]
    },
    {
      "cell_type": "code",
      "execution_count": 46,
      "metadata": {
        "id": "ASFhIB9-DrTX"
      },
      "outputs": [
        {
          "name": "stdout",
          "output_type": "stream",
          "text": [
            "True\n",
            "False\n",
            "True\n",
            "True\n"
          ]
        }
      ],
      "source": [
        "def buscar_palabra(matriz, palabra, fila=0, col=0, index=0, visitado=None, start=True):\n",
        "    if start:  # Inicializa la búsqueda desde cada celda de la matriz\n",
        "        if fila == len(matriz):  # Caso base: terminó de recorrer la matriz sin encontrar la palabra\n",
        "            return False\n",
        "        if col == len(matriz[0]):  # Mueve a la siguiente fila\n",
        "            return buscar_palabra(matriz, palabra, fila + 1, 0, 0, None, True)\n",
        "        if buscar_palabra(matriz, palabra, fila, col, 0, set(), False):  # Intenta encontrar desde esta celda\n",
        "            return True\n",
        "        return buscar_palabra(matriz, palabra, fila, col + 1, 0, None, True)  # Recorre la matriz\n",
        "\n",
        "    # Desde aquí comienza la búsqueda de la palabra en la matriz\n",
        "    if index == len(palabra):  # Se encontró la palabra completa\n",
        "        return True\n",
        "    if (fila < 0 or fila >= len(matriz) or \n",
        "        col < 0 or col >= len(matriz[0]) or \n",
        "        palabra[index] != matriz[fila][col] or \n",
        "        (fila, col) in visitado):  \n",
        "        return False  # Verifica que la posición sea válida\n",
        "\n",
        "    visitado.add((fila, col))  # Marca como visitado\n",
        "\n",
        "    # Búsqueda recursiva en las 4 direcciones\n",
        "    if (buscar_palabra(matriz, palabra, fila + 1, col, index + 1, visitado, False) or  \n",
        "        buscar_palabra(matriz, palabra, fila - 1, col, index + 1, visitado, False) or  \n",
        "        buscar_palabra(matriz, palabra, fila, col + 1, index + 1, visitado, False) or  \n",
        "        buscar_palabra(matriz, palabra, fila, col - 1, index + 1, visitado, False)):  \n",
        "        return True\n",
        "\n",
        "    visitado.remove((fila, col))  # Desmarca para otras rutas posibles\n",
        "    return False\n",
        "\n",
        "# Ejemplo de uso\n",
        "matriz = [\n",
        "    ['A', 'B', 'C', 'E'],\n",
        "    ['S', 'F', 'C', 'S'],\n",
        "    ['A', 'D', 'E', 'E']\n",
        "]\n",
        "\n",
        "print(buscar_palabra(matriz, \"FCS\"))  # Output: True\n",
        "print(buscar_palabra(matriz, \"ABCB\")) # Output: False\n",
        "print(buscar_palabra(matriz, \"SEE\"))  # Output: True\n",
        "print(buscar_palabra(matriz, \"ADEE\")) # Output: True\n"
      ]
    },
    {
      "cell_type": "markdown",
      "metadata": {
        "id": "fDBIP14gDrlu"
      },
      "source": [
        "---\n",
        "\n",
        "### 7️⃣ **Rotar una matriz NxN 90 grados en sentido horario**\n",
        "Dada una matriz cuadrada `NxN`, rota la matriz en 90 grados hacia la derecha utilizando recursión.\n",
        "\n",
        "**Ejemplo de entrada y salida:**\n",
        "```python\n",
        "matriz = [\n",
        "    [1, 2, 3],\n",
        "    [4, 5, 6],\n",
        "    [7, 8, 9]\n",
        "]\n",
        "\n",
        "rotar_matriz(matriz)\n",
        "# Output:\n",
        "# [\n",
        "#    [7, 4, 1],\n",
        "#    [8, 5, 2],\n",
        "#    [9, 6, 3]\n",
        "# ]\n",
        "```\n"
      ]
    },
    {
      "cell_type": "code",
      "execution_count": 47,
      "metadata": {
        "id": "F5cqeROyDtgM"
      },
      "outputs": [
        {
          "name": "stdout",
          "output_type": "stream",
          "text": [
            "[7, 4, 1]\n",
            "[8, 5, 2]\n",
            "[9, 6, 3]\n"
          ]
        }
      ],
      "source": [
        "def rotar_matriz(matriz, fila=0, col=0, nueva=None, n=None):\n",
        "    if nueva is None:  # Inicializa la nueva matriz vacía del mismo tamaño\n",
        "        n = len(matriz)\n",
        "        nueva = [[0] * n for _ in range(n)]\n",
        "\n",
        "    if fila == n:  # Caso base: si se recorrió toda la matriz original\n",
        "        return nueva\n",
        "\n",
        "    if col == n:  # Cuando termina una fila, pasa a la siguiente\n",
        "        return rotar_matriz(matriz, fila + 1, 0, nueva, n)\n",
        "\n",
        "    # Asigna el valor rotado en la nueva posición\n",
        "    nueva[col][n - 1 - fila] = matriz[fila][col]\n",
        "\n",
        "    return rotar_matriz(matriz, fila, col + 1, nueva, n)  # Recorre la fila actual\n",
        "\n",
        "# Ejemplo de uso\n",
        "matriz = [\n",
        "    [1, 2, 3],\n",
        "    [4, 5, 6],\n",
        "    [7, 8, 9]\n",
        "]\n",
        "\n",
        "resultado = rotar_matriz(matriz)\n",
        "for fila in resultado:\n",
        "    print(fila)\n"
      ]
    },
    {
      "cell_type": "markdown",
      "metadata": {
        "id": "_hjBf-uTDt1U"
      },
      "source": [
        "\n",
        "---\n",
        "\n",
        "### 8️⃣ **Contar islas en una matriz binaria**\n",
        "Dada una matriz de `0`s y `1`s, cuenta cuántas \"islas\" de `1`s existen. Una isla se define como un conjunto de `1`s conectados en direcciones arriba, abajo, izquierda o derecha.\n",
        "\n",
        "**Ejemplo de entrada y salida:**\n",
        "```python\n",
        "matriz = [\n",
        "    [1, 1, 0, 0, 0],\n",
        "    [1, 1, 0, 0, 1],\n",
        "    [0, 0, 0, 1, 1],\n",
        "    [0, 0, 0, 0, 0]\n",
        "]\n",
        "\n",
        "contar_islas(matriz)  # Output: 2\n",
        "```\n",
        "\n"
      ]
    },
    {
      "cell_type": "code",
      "execution_count": null,
      "metadata": {
        "id": "kUweJHaQDwhN"
      },
      "outputs": [
        {
          "name": "stdout",
          "output_type": "stream",
          "text": [
            "2\n"
          ]
        }
      ],
      "source": [
        "def contar_islas(matriz, i=0, j=0, visitados=None, contador=0):\n",
        "    if visitados is None:\n",
        "        visitados = set()\n",
        "\n",
        "    if i >= len(matriz):  # Si terminamos de recorrer la matriz, devolvemos el contador\n",
        "        return contador\n",
        "\n",
        "    if j >= len(matriz[0]):  # Si terminamos una fila, pasamos a la siguiente\n",
        "        return contar_islas(matriz, i + 1, 0, visitados, contador)\n",
        "\n",
        "    if (i, j) not in visitados and matriz[i][j] == 1:\n",
        "        contador += 1  # Se ha encontrado una nueva isla\n",
        "        def marcar_isla(i, j):  # Función interna para marcar la isla\n",
        "            if i < 0 or j < 0 or i >= len(matriz) or j >= len(matriz[0]) or (i, j) in visitados or matriz[i][j] == 0:\n",
        "                return\n",
        "            visitados.add((i, j))\n",
        "            marcar_isla(i + 1, j)  # Abajo\n",
        "            marcar_isla(i - 1, j)  # Arriba\n",
        "            marcar_isla(i, j + 1)  # Derecha\n",
        "            marcar_isla(i, j - 1)  # Izquierda\n",
        "\n",
        "        marcar_isla(i, j)  # Llamamos a la función interna para marcar la isla completa\n",
        "\n",
        "    return contar_islas(matriz, i, j + 1, visitados, contador)  # Avanzamos en la fila\n",
        "\n",
        "# Ejemplo de uso\n",
        "matriz = [\n",
        "    [1, 1, 0, 0, 0],\n",
        "    [1, 1, 0, 0, 1],\n",
        "    [0, 0, 0, 1, 1],\n",
        "    [0, 0, 0, 0, 0]\n",
        "]\n",
        "\n",
        "print(contar_islas(matriz))  # Output: 2"
      ]
    },
    {
      "cell_type": "markdown",
      "metadata": {
        "id": "L1cwof68DxMv"
      },
      "source": [
        "---\n",
        "\n",
        "### 9️⃣ **Buscar el camino más corto en una matriz (Laberinto) MALLLL**\n",
        "Dado un laberinto representado por `0`s (paredes) y `1`s (caminos), encuentra el camino más corto desde la esquina superior izquierda hasta la esquina inferior derecha.\n",
        "\n",
        "**Ejemplo de entrada y salida:**\n",
        "```python\n",
        "matriz = [\n",
        "    [1, 0, 1, 1],\n",
        "    [1, 1, 1, 0],\n",
        "    [0, 0, 1, 1],\n",
        "    [1, 1, 1, 1]\n",
        "]\n",
        "\n",
        "camino_mas_corto(matriz)  # Output: 5 (pasos mínimos)\n",
        "```\n",
        "\n"
      ]
    },
    {
      "cell_type": "code",
      "execution_count": 9,
      "metadata": {
        "id": "jLo52xu1DzIJ"
      },
      "outputs": [
        {
          "name": "stdout",
          "output_type": "stream",
          "text": [
            "7\n"
          ]
        }
      ],
      "source": [
        "def camino_mas_corto(matriz, i=0, j=0, visitados=None):\n",
        "    if visitados is None:\n",
        "        visitados = set()\n",
        "    \n",
        "    filas, columnas = len(matriz), len(matriz[0])\n",
        "    \n",
        "    # Si la posición es inválida o es una pared (0) o ya ha sido visitada, devolvemos infinito\n",
        "    if i < 0 or j < 0 or i >= filas or j >= columnas or matriz[i][j] == 0 or (i, j) in visitados:\n",
        "        return float('inf')\n",
        "\n",
        "    # Si llegamos a la meta (esquina inferior derecha), devolvemos 1 (contamos este paso)\n",
        "    if i == filas - 1 and j == columnas - 1:\n",
        "        return 1\n",
        "\n",
        "    visitados.add((i, j))  # Marcamos la celda como visitada\n",
        "\n",
        "    # Exploramos todas las direcciones posibles: abajo, derecha, arriba, izquierda\n",
        "    abajo = camino_mas_corto(matriz, i + 1, j, visitados)\n",
        "    derecha = camino_mas_corto(matriz, i, j + 1, visitados)\n",
        "    arriba = camino_mas_corto(matriz, i - 1, j, visitados)\n",
        "    izquierda = camino_mas_corto(matriz, i, j - 1, visitados)\n",
        "\n",
        "    visitados.remove((i, j))  # Desmarcamos la celda antes de regresar\n",
        "\n",
        "    # Tomamos el mínimo entre todas las rutas posibles\n",
        "    minimo = min(abajo, derecha, arriba, izquierda)\n",
        "\n",
        "    # Si no hay camino, devolvemos infinito, de lo contrario sumamos 1 al camino más corto encontrado\n",
        "    return minimo + 1 if minimo != float('inf') else float('inf')\n",
        "\n",
        "# Ejemplo de uso\n",
        "matriz = [\n",
        "    [1, 0, 1, 1],\n",
        "    [1, 1, 1, 0],\n",
        "    [0, 0, 1, 1],\n",
        "    [1, 1, 1, 1]\n",
        "]\n",
        "\n",
        "resultado = camino_mas_corto(matriz)\n",
        "\n",
        "print(resultado if resultado != float('inf') else -1)  # Si no hay camino, devolvemos -1\n"
      ]
    },
    {
      "cell_type": "markdown",
      "metadata": {
        "id": "e68H0l5aDzmV"
      },
      "source": [
        "---\n",
        "\n",
        "### 🔟 **Expandir una región en una matriz (Flood Fill)**\n",
        "Dada una matriz y una coordenada `(x, y)`, expande la región cambiando todos los valores conectados al valor original en `(x, y)`, de forma similar a la herramienta de \"relleno\" en un programa de dibujo.\n",
        "\n",
        "**Ejemplo de entrada y salida:**\n",
        "```python\n",
        "matriz = [\n",
        "    [1, 1, 2, 2],\n",
        "    [1, 1, 2, 2],\n",
        "    [3, 3, 2, 2],\n",
        "    [3, 3, 3, 3]\n",
        "]\n",
        "\n",
        "flood_fill(matriz, 0, 0, 9)\n",
        "# Output:\n",
        "# [\n",
        "#    [9, 9, 2, 2],\n",
        "#    [9, 9, 2, 2],\n",
        "#    [3, 3, 2, 2],\n",
        "#    [3, 3, 3, 3]\n",
        "# ]\n",
        "```\n",
        "\n",
        "---"
      ]
    },
    {
      "cell_type": "code",
      "execution_count": 11,
      "metadata": {},
      "outputs": [
        {
          "name": "stdout",
          "output_type": "stream",
          "text": [
            "[9, 9, 2, 2]\n",
            "[9, 9, 2, 2]\n",
            "[3, 3, 2, 2]\n",
            "[3, 3, 3, 3]\n"
          ]
        }
      ],
      "source": [
        "def flood_fill(matriz, x, y, nuevo_color):\n",
        "    filas, columnas = len(matriz), len(matriz[0])\n",
        "    color_original = matriz[x][y]\n",
        "\n",
        "    # Si el color original ya es el nuevo color, no hacemos nada\n",
        "    if color_original == nuevo_color:\n",
        "        return\n",
        "\n",
        "    def expandir(i, j):\n",
        "        # Si está fuera de los límites o ya es de otro color, detener la expansión\n",
        "        if i < 0 or i >= filas or j < 0 or j >= columnas or matriz[i][j] != color_original:\n",
        "            return\n",
        "\n",
        "        # Cambiar el color\n",
        "        matriz[i][j] = nuevo_color\n",
        "\n",
        "        # Llamadas recursivas en 4 direcciones: arriba, abajo, izquierda, derecha\n",
        "        expandir(i + 1, j)\n",
        "        expandir(i - 1, j)\n",
        "        expandir(i, j + 1)\n",
        "        expandir(i, j - 1)\n",
        "\n",
        "    expandir(x, y)  # Iniciar desde la posición dada\n",
        "\n",
        "# 🔹 **Ejemplo de uso**\n",
        "matriz = [\n",
        "    [1, 1, 2, 2],\n",
        "    [1, 1, 2, 2],\n",
        "    [3, 3, 2, 2],\n",
        "    [3, 3, 3, 3]\n",
        "]\n",
        "\n",
        "flood_fill(matriz, 0, 0, 9)\n",
        "\n",
        "# 🔹 **Salida esperada**\n",
        "for fila in matriz:\n",
        "    print(fila)\n"
      ]
    }
  ],
  "metadata": {
    "colab": {
      "provenance": []
    },
    "kernelspec": {
      "display_name": "edd",
      "language": "python",
      "name": "python3"
    },
    "language_info": {
      "codemirror_mode": {
        "name": "ipython",
        "version": 3
      },
      "file_extension": ".py",
      "mimetype": "text/x-python",
      "name": "python",
      "nbconvert_exporter": "python",
      "pygments_lexer": "ipython3",
      "version": "3.13.2"
    }
  },
  "nbformat": 4,
  "nbformat_minor": 0
}
