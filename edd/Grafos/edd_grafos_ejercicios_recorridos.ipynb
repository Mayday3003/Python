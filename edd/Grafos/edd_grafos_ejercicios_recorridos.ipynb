{
  "cells": [
    {
      "cell_type": "markdown",
      "metadata": {
        "id": "qNVGQS3xSv5J"
      },
      "source": [
        "# 📘 Recorridos en Grafos: Paso a Paso para Implementar BFS y DFS\n"
      ]
    },
    {
      "cell_type": "markdown",
      "metadata": {
        "id": "gEV4ztjNSyFI"
      },
      "source": [
        "---\n",
        "\n",
        "# 🌟 Introducción\n",
        "\n",
        "En este notebook aprenderemos a **estructurar mentalmente** cómo se implementan los dos recorridos fundamentales en grafos:\n",
        "- **BFS (Breadth-First Search)**\n",
        "- **DFS (Depth-First Search)**\n"
      ]
    },
    {
      "cell_type": "markdown",
      "metadata": {
        "id": "HDovV58ASuzr"
      },
      "source": [
        "\n",
        "\n",
        "\n",
        "\n",
        "---\n",
        "\n",
        "# 🧠 Paso a Paso para implementar BFS (Breadth-First Search)\n",
        "\n",
        "## 📋 Objetivo\n",
        "\n",
        "Visitar todos los nodos de un grafo **nivel por nivel**, comenzando desde un nodo origen.\n",
        "\n",
        "## 🛤️ Algoritmo de pensamiento\n",
        "\n",
        "1. **Crear una estructura para marcar visitados**.\n",
        "   - Puede ser un `set` o una `lista`.\n",
        "\n",
        "2. **Crear una cola** para almacenar los nodos por visitar.\n",
        "   - Al inicio, agrega el nodo de partida.\n",
        "\n",
        "3. **Mientras la cola no esté vacía:**\n",
        "   - Extrae el primer nodo de la cola.\n",
        "   - Marca el nodo como visitado.\n",
        "   - Procesa el nodo (por ejemplo, imprímelo o guárdalo).\n",
        "   - Agrega a la cola todos los vecinos **no visitados**.\n",
        "\n",
        "## 📌 Pensamiento clave\n",
        "\n",
        "- **Primero en entrar, primero en salir.** (Cola)\n",
        "- Procesa el nivel completo antes de bajar de nivel.\n",
        "\n",
        "\n",
        "---\n",
        "\n",
        "## 🛠️ Espacio para implementar BFS"
      ]
    },
    {
      "cell_type": "code",
      "execution_count": null,
      "metadata": {
        "id": "chGSRoBmSsqh"
      },
      "outputs": [
        {
          "name": "stdout",
          "output_type": "stream",
          "text": [
            "['A', 'B', 'C', 'D', 'E', 'F']\n"
          ]
        }
      ],
      "source": [
        "def BFS_LISTA(lista: list, inicio):\n",
        "    visitados = []\n",
        "    queue = []\n",
        "    queue.append(inicio)\n",
        "    \n",
        "    while queue:\n",
        "       current = queue.pop(0)\n",
        "       if current not in visitados:\n",
        "        visitados.append(current)\n",
        "        lista_hijos = lista[current]\n",
        "        for vecino in lista_hijos:\n",
        "            if vecino not in visitados and vecino not in queue:\n",
        "             queue.append(vecino)\n",
        "    return visitados\n",
        "           \n",
        "        \n",
        "grafo = {\n",
        "    \"A\": [\"B\", \"C\"],\n",
        "    \"B\": [\"D\", \"E\"],\n",
        "    \"C\": [\"F\"],\n",
        "    \"D\": [],\n",
        "    \"E\": [\"F\"],\n",
        "    \"F\": []\n",
        "}\n",
        "\n",
        "print(BFS_LISTA(grafo, \"A\"))\n"
      ]
    },
    {
      "cell_type": "code",
      "execution_count": null,
      "metadata": {},
      "outputs": [],
      "source": [
        "def bfs_matriz(matriz, inicio):\n",
        "    visitados = []\n",
        "    queue = []\n",
        "    queue.append(inicio)\n",
        "    node_list = \n",
        "    \n",
        "    while queue:\n",
        "        current = queue.pop(0)\n",
        "        \n",
        "        "
      ]
    },
    {
      "cell_type": "markdown",
      "metadata": {
        "id": "cVM8lYTYTD95"
      },
      "source": [
        "---\n",
        "\n",
        "# 🧠 Paso a Paso para implementar DFS (Depth-First Search)\n",
        "\n",
        "## 📋 Objetivo\n",
        "\n",
        "Visitar todos los nodos de un grafo **siguiendo un camino lo más profundo posible**, antes de retroceder.\n",
        "\n",
        "## 🛤️ Algoritmo de pensamiento\n",
        "\n",
        "### Opción 1: DFS usando Recursión\n",
        "\n",
        "1. **Crear una estructura para marcar visitados**.\n",
        "\n",
        "2. **Definir una función recursiva** que reciba el nodo actual.\n",
        "\n",
        "3. En cada llamada:\n",
        "   - Marca el nodo como visitado.\n",
        "   - Procesa el nodo (por ejemplo, imprímelo o guárdalo).\n",
        "   - Para cada vecino **no visitado**, llama recursivamente la función.\n",
        "\n",
        "\n",
        "\n",
        "## 🛠️ Espacio para implementar DFS (Recursivo)\n",
        "\n"
      ]
    },
    {
      "cell_type": "code",
      "execution_count": null,
      "metadata": {
        "id": "OvbryC4pTPu4"
      },
      "outputs": [],
      "source": [
        "def DFS(lista:list, inicio):\n",
        "    visitados = []\n",
        "    "
      ]
    },
    {
      "cell_type": "markdown",
      "metadata": {
        "id": "aADOp0yJTQEI"
      },
      "source": [
        "### Opción 2: DFS usando Pila (sin recursión)\n",
        "\n",
        "1. **Crear una estructura para marcar visitados**.\n",
        "\n",
        "2. **Crear una pila**.\n",
        "   - Al inicio, agrega el nodo de partida.\n",
        "\n",
        "3. **Mientras la pila no esté vacía:**\n",
        "   - Extrae el último nodo agregado.\n",
        "   - Si no está visitado:\n",
        "     - Márcalo como visitado.\n",
        "     - Procesa el nodo.\n",
        "     - Agrega todos sus vecinos a la pila.\n",
        "\n",
        "## 📌 Pensamiento clave\n",
        "\n",
        "- **Último en entrar, primero en salir.** (Pila)\n",
        "- Sigue un camino profundo antes de retroceder.\n",
        "\n",
        "\n",
        "---\n",
        "---\n",
        "\n",
        "## 🛠️ Espacio para implementar DFS (Iterativo con pila)\n",
        "\n",
        "\n"
      ]
    },
    {
      "cell_type": "code",
      "execution_count": null,
      "metadata": {
        "id": "9tROfbIWTTnI"
      },
      "outputs": [],
      "source": []
    },
    {
      "cell_type": "markdown",
      "metadata": {
        "id": "-ASF7HgbTT7A"
      },
      "source": [
        "---\n",
        "\n",
        "# 🧩 Consejos para ambas implementaciones\n",
        "\n",
        "- Usa una estructura para registrar qué nodos ya visitaste y evitar ciclos infinitos.\n",
        "- Asegúrate de **procesar** un nodo **sólo cuando lo visites por primera vez**.\n",
        "- En grafos no conexos (grafos donde no todo está conectado), necesitarás recorrer desde **todos los nodos no visitados**.\n",
        "\n",
        "\n",
        "---\n",
        "\n",
        "# 🎯 Resumen\n",
        "\n",
        "| Recorrido | Estructura principal | Tipo de exploración | Mejor para |\n",
        "|:---------|:----------------------|:--------------------|:-----------|\n",
        "| BFS | Cola | Explorar nivel por nivel | Distancias mínimas |\n",
        "| DFS | Pila o Recursión | Explorar camino profundo | Detectar ciclos, explorar todas las rutas |\n",
        "\n"
      ]
    },
    {
      "cell_type": "code",
      "execution_count": null,
      "metadata": {
        "id": "Ypol6YIZTW4Q"
      },
      "outputs": [],
      "source": []
    },
    {
      "cell_type": "markdown",
      "metadata": {
        "id": "YdCmHVPqTvY4"
      },
      "source": [
        "# 📘 Ejercicios Prácticos de Recorridos en Grafos (BFS y DFS)\n",
        "\n"
      ]
    },
    {
      "cell_type": "markdown",
      "metadata": {
        "id": "DIav4tbuT3Jx"
      },
      "source": [
        "---\n",
        "\n",
        "# 🧩 Ejercicio 1: Recorrido BFS completo\n",
        "\n",
        "## Descripción\n",
        "Dado un grafo representado como una **lista de adyacencia**, realiza un recorrido **BFS** desde un nodo de inicio y devuelve el orden en que se visitan los nodos.\n",
        "\n",
        "## Ejemplo\n",
        "\n",
        "Entrada:\n",
        "```python\n",
        "grafo = {\n",
        "    'A': ['B', 'C'],\n",
        "    'B': ['D', 'E'],\n",
        "    'C': ['F'],\n",
        "    'D': [],\n",
        "    'E': ['F'],\n",
        "    'F': []\n",
        "}\n",
        "Inicio = 'A'\n",
        "```\n",
        "\n",
        "Salida esperada:\n",
        "```python\n",
        "['A', 'B', 'C', 'D', 'E', 'F']\n",
        "```\n"
      ]
    },
    {
      "cell_type": "code",
      "execution_count": 6,
      "metadata": {
        "id": "82XSoLv8T7s4"
      },
      "outputs": [
        {
          "data": {
            "text/plain": [
              "[]"
            ]
          },
          "execution_count": 6,
          "metadata": {},
          "output_type": "execute_result"
        }
      ],
      "source": [
        "def bfs(grafo: dict, inicio: str):\n",
        "    visitados = []\n",
        "    visitados.append(inicio)\n",
        "    while visitados:\n",
        "        actual = visitados.pop(0)\n",
        "        lista_actual = grafo[actual] \n",
        "        for i in lista_actual:\n",
        "            if i not in visitados:\n",
        "             visitados.append(i)\n",
        "    return visitados\n",
        "\n",
        "\n",
        "grafo = {\n",
        "    'A': ['B', 'C'],\n",
        "    'B': ['D', 'E'],\n",
        "    'C': ['F'],\n",
        "    'D': [],\n",
        "    'E': ['F'],\n",
        "    'F': []\n",
        "}\n",
        "\n",
        "bfs(grafo, 'A')"
      ]
    },
    {
      "cell_type": "markdown",
      "metadata": {
        "id": "LXNDXmTwT91Z"
      },
      "source": [
        "---\n",
        "\n",
        "# 🧩 Ejercicio 2: Recorrido DFS completo (recursivo)\n",
        "\n",
        "## Descripción\n",
        "Dado un grafo representado como una **lista de adyacencia**, realiza un recorrido **DFS recursivo** desde un nodo de inicio y devuelve el orden de visita.\n",
        "\n",
        "## Ejemplo\n",
        "\n",
        "Entrada:\n",
        "```python\n",
        "grafo = {\n",
        "    '0': ['1', '2'],\n",
        "    '1': ['3', '4'],\n",
        "    '2': [],\n",
        "    '3': [],\n",
        "    '4': []\n",
        "}\n",
        "Inicio = '0'\n",
        "```\n",
        "\n",
        "Salida esperada:\n",
        "```python\n",
        "['0', '1', '3', '4', '2']\n",
        "```"
      ]
    },
    {
      "cell_type": "code",
      "execution_count": null,
      "metadata": {
        "id": "p_ZbRMmBT_ex"
      },
      "outputs": [],
      "source": []
    },
    {
      "cell_type": "markdown",
      "metadata": {
        "id": "H5I3YxcQUAG4"
      },
      "source": [
        "---\n",
        "\n",
        "# 🧩 Ejercicio 3: ¿Existe un camino? (usando BFS)\n",
        "\n",
        "## Descripción\n",
        "Determina si existe un camino entre dos nodos usando **BFS**.\n",
        "\n",
        "## Ejemplo\n",
        "\n",
        "Entrada:\n",
        "```python\n",
        "grafo = {\n",
        "    'A': ['B'],\n",
        "    'B': ['C'],\n",
        "    'C': [],\n",
        "    'D': ['A']\n",
        "}\n",
        "Inicio = 'D', Destino = 'C'\n",
        "```\n",
        "\n",
        "Salida esperada:\n",
        "```python\n",
        "True\n",
        "```\n"
      ]
    },
    {
      "cell_type": "code",
      "execution_count": 14,
      "metadata": {
        "id": "UTY1SEgpUDEe"
      },
      "outputs": [
        {
          "name": "stdout",
          "output_type": "stream",
          "text": [
            "True\n"
          ]
        }
      ],
      "source": [
        "def BFS(lista: list, inicio, final):\n",
        "    visitados = []\n",
        "    queue = []\n",
        "    queue.append(inicio)\n",
        "    \n",
        "    while queue:\n",
        "       current = queue.pop(0)\n",
        "       if current == final:\n",
        "           return True\n",
        "       if current not in visitados:\n",
        "        visitados.append(current)\n",
        "        lista_hijos = lista[current]\n",
        "        for vecino in lista_hijos:\n",
        "            if vecino not in visitados and vecino not in queue:\n",
        "             queue.append(vecino)\n",
        "    return False\n",
        "           \n",
        "        \n",
        "grafo = {\n",
        "    \"A\": [\"B\", \"C\"],\n",
        "    \"B\": [\"D\", \"E\"],\n",
        "    \"C\": [\"F\"],\n",
        "    \"D\": [],\n",
        "    \"E\": [\"F\"],\n",
        "    \"F\": [],\n",
        "    \"G\": [],\n",
        "    \"J\": []\n",
        "}\n",
        "\n",
        "print(BFS(grafo, \"A\",\"E\"))\n"
      ]
    },
    {
      "cell_type": "markdown",
      "metadata": {
        "id": "V-lOhx0wUDfC"
      },
      "source": [
        "\n",
        "---\n",
        "\n",
        "# 🧩 Ejercicio 4: Contar Componentes Conexas (usando DFS)\n",
        "\n",
        "## Descripción\n",
        "Dado un grafo no dirigido, encuentra cuántas **componentes conexas** tiene.\n",
        "\n",
        "## Ejemplo\n",
        "\n",
        "Entrada:\n",
        "```python\n",
        "grafo = {\n",
        "    '1': ['2'],\n",
        "    '2': ['1'],\n",
        "    '3': [],\n",
        "    '4': ['5'],\n",
        "    '5': ['4']\n",
        "}\n",
        "```\n",
        "\n",
        "Salida esperada:\n",
        "```python\n",
        "3\n",
        "```\n"
      ]
    },
    {
      "cell_type": "code",
      "execution_count": null,
      "metadata": {
        "id": "iAKITy_iUH1w"
      },
      "outputs": [],
      "source": [
        "def BFS(lista: list, inicio):\n",
        "    visitados = []\n",
        "    queue = []\n",
        "    queue.append(inicio)\n",
        "    \n",
        "    while queue:\n",
        "       current = queue.pop(0)\n",
        "       if current not in visitados:\n",
        "        visitados.append(current)\n",
        "        lista_hijos = lista[current]\n",
        "        for vecino in lista_hijos:\n",
        "            if vecino not in visitados and vecino not in queue:\n",
        "             queue.append(vecino)\n",
        "    return visitados\n",
        "           \n",
        "        \n",
        "grafo = {\n",
        "    \"A\": [\"B\", \"C\"],\n",
        "    \"B\": [\"D\", \"E\"],\n",
        "    \"C\": [\"F\"],\n",
        "    \"D\": [],\n",
        "    \"E\": [\"F\"],\n",
        "    \"F\": []\n",
        "}\n",
        "\n",
        "print(BFS(grafo, \"A\"))\n"
      ]
    },
    {
      "cell_type": "markdown",
      "metadata": {
        "id": "_VXuW04lTuex"
      },
      "source": [
        "\n",
        "\n",
        "\n",
        "\n",
        "\n",
        "\n",
        "---\n",
        "\n",
        "# 🧩 Ejercicio 5: Detección de ciclo en grafo dirigido (usando DFS)\n",
        "\n",
        "## Descripción\n",
        "Determina si un grafo dirigido tiene algún **ciclo**.\n",
        "\n",
        "## Ejemplo\n",
        "\n",
        "Entrada:\n",
        "```python\n",
        "grafo = {\n",
        "    'A': ['B'],\n",
        "    'B': ['C'],\n",
        "    'C': ['A']\n",
        "}\n",
        "```\n",
        "\n",
        "Salida esperada:\n",
        "```python\n",
        "True\n",
        "```\n",
        "\n",
        "Entrada:\n",
        "```python\n",
        "grafo = {\n",
        "    'X': ['Y'],\n",
        "    'Y': ['Z'],\n",
        "    'Z': []\n",
        "}\n",
        "```\n",
        "\n",
        "Salida esperada:\n",
        "```python\n",
        "False\n",
        "```\n"
      ]
    },
    {
      "cell_type": "code",
      "execution_count": null,
      "metadata": {
        "id": "k1rQq5gwUMNJ"
      },
      "outputs": [],
      "source": []
    },
    {
      "cell_type": "markdown",
      "metadata": {
        "id": "0i2RboEvVUhL"
      },
      "source": [
        "# 📘 Caminos Más Cortos en Grafos"
      ]
    },
    {
      "cell_type": "markdown",
      "metadata": {
        "id": "12PuexndVXBJ"
      },
      "source": [
        "---\n",
        "\n",
        "## 🌟 Introducción\n",
        "\n",
        "En esta sección exploraremos dos enfoques principales para encontrar caminos mínimos en un grafo:\n",
        "\n",
        "- **BFS especial** para grafos **no ponderados**\n",
        "- **Dijkstra** para grafos **ponderados**\n",
        "\n",
        "Estos algoritmos son esenciales en redes, mapas, planificación de rutas y muchas otras áreas. 🚀\n",
        "\n",
        "> 📌 **Modelo mental:** Buscar caminos mínimos es como encontrar la ruta más rápida para llegar a tu destino en una ciudad, dependiendo de si todas las calles cuestan lo mismo (BFS) o si algunas son más \"caras\" o \"lentas\" (Dijkstra)."
      ]
    },
    {
      "cell_type": "markdown",
      "metadata": {
        "id": "Go1RgDfJVa4B"
      },
      "source": []
    },
    {
      "cell_type": "markdown",
      "metadata": {
        "id": "oUyTfo8NVcly"
      },
      "source": [
        "---\n",
        "\n",
        "# 🧠 Distancias mínimas en grafos no ponderados (BFS especial)\n",
        "\n",
        "## 📋 Idea principal\n",
        "\n",
        "Cuando **todas las aristas** tienen el **mismo peso** (o no hay pesos), podemos usar **BFS** para encontrar el número mínimo de saltos o movimientos entre nodos.\n",
        "\n",
        "\n",
        "## 🛤️ Algoritmo de pensamiento\n",
        "\n",
        "1. Crear una estructura para marcar distancias:\n",
        "   - Inicializa todas las distancias en infinito (`inf`) o `None`.\n",
        "\n",
        "2. Crear una **cola** e insertar el nodo de partida con distancia 0.\n",
        "\n",
        "3. Mientras la cola no esté vacía:\n",
        "   - Extrae un nodo.\n",
        "   - Para cada vecino no visitado:\n",
        "     - Asigna distancia = distancia del nodo actual + 1.\n",
        "     - Agrega el vecino a la cola.\n",
        "\n",
        "\n",
        "## 🧠 Claves para recordarlo\n",
        "\n",
        "- BFS **siempre expande primero los caminos más cortos**.\n",
        "- No necesitas comparar distancias ni actualizar valores más de una vez.\n",
        "\n",
        "\n",
        "## 📌 Ejemplo de aplicación\n",
        "\n",
        "- Encontrar la **cantidad mínima de movimientos** en un tablero.\n",
        "- Determinar el **nivel de separación** en una red social.\n",
        "\n"
      ]
    },
    {
      "cell_type": "code",
      "execution_count": null,
      "metadata": {
        "id": "Fcp00nNVVdd6"
      },
      "outputs": [],
      "source": []
    },
    {
      "cell_type": "markdown",
      "metadata": {
        "id": "Ve8Tu5gMVS_J"
      },
      "source": [
        "\n",
        "\n",
        "\n",
        "\n",
        "\n",
        "---\n",
        "\n",
        "# 🧠 Dijkstra básico (para grafos ponderados)\n",
        "\n",
        "## 📋 Idea principal\n",
        "\n",
        "Cuando las aristas **tienen pesos positivos**, usamos **Dijkstra** para encontrar el camino más corto **en términos de peso total**.\n",
        "\n",
        "## 🛤️ Algoritmo de pensamiento\n",
        "\n",
        "1. Crear una estructura de distancias:\n",
        "   - Inicializa todas las distancias como infinito (`inf`), excepto el nodo de inicio (distancia 0).\n",
        "\n",
        "2. Crear un **min-heap** o un **set ordenado** para escoger el nodo con menor distancia conocida.\n",
        "\n",
        "3. Mientras haya nodos por procesar:\n",
        "   - Extrae el nodo con la menor distancia.\n",
        "   - Para cada vecino:\n",
        "     - Si la distancia al vecino mejora pasando por el nodo actual, actualízala.\n",
        "     - Agrega o actualiza el vecino en la estructura de prioridades.\n",
        "\n",
        "\n",
        "## 🧠 Claves para recordarlo\n",
        "\n",
        "- Siempre expandes el **nodo más cercano disponible**.\n",
        "- Las distancias **nunca aumentan** durante el algoritmo.\n",
        "- Una vez que procesas un nodo, su distancia es definitiva.\n",
        "\n",
        "\n",
        "## 📌 Ejemplo de aplicación\n",
        "\n",
        "- Encontrar el camino más rápido considerando **costos** (por ejemplo, tiempo, dinero, tráfico).\n",
        "- Sistemas de **GPS** o **navegación de redes**.\n",
        "\n",
        "\n",
        "\n"
      ]
    },
    {
      "cell_type": "code",
      "execution_count": null,
      "metadata": {
        "id": "qZ7Lp6sDViSZ"
      },
      "outputs": [],
      "source": []
    },
    {
      "cell_type": "code",
      "execution_count": null,
      "metadata": {},
      "outputs": [],
      "source": []
    },
    {
      "cell_type": "code",
      "execution_count": null,
      "metadata": {},
      "outputs": [],
      "source": []
    },
    {
      "cell_type": "code",
      "execution_count": null,
      "metadata": {},
      "outputs": [],
      "source": [
        "\n",
        "\n",
        "\n",
        "\n",
        "\n",
        "\n",
        "\n",
        "\n",
        "\n",
        "\n",
        "\n",
        "\n",
        "\n",
        "\n",
        "\n",
        "\n",
        "\n",
        "\n",
        "\n",
        "\n",
        "\n"
      ]
    }
  ],
  "metadata": {
    "colab": {
      "provenance": []
    },
    "kernelspec": {
      "display_name": "edd",
      "language": "python",
      "name": "python3"
    },
    "language_info": {
      "codemirror_mode": {
        "name": "ipython",
        "version": 3
      },
      "file_extension": ".py",
      "mimetype": "text/x-python",
      "name": "python",
      "nbconvert_exporter": "python",
      "pygments_lexer": "ipython3",
      "version": "3.13.2"
    }
  },
  "nbformat": 4,
  "nbformat_minor": 0
}
