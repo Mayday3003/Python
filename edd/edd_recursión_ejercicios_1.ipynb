{
  "cells": [
    {
      "cell_type": "markdown",
      "metadata": {
        "id": "5pAkyWSgAfDA"
      },
      "source": [
        "# 0,5"
      ]
    },
    {
      "cell_type": "markdown",
      "metadata": {
        "id": "O9UBOmlf_OuK"
      },
      "source": [
        "\n",
        "---\n",
        "\n",
        "### 1. **Sumatoria de una lista**\n",
        "   Implementa una función recursiva que reciba una lista de números y devuelva la suma de todos sus elementos.\n",
        "\n",
        "   ```python\n",
        "   def sumatoria(lista):\n",
        "       pass\n",
        "   ```\n",
        "\n",
        "   **Ejemplo:**\n",
        "   ```python\n",
        "   sumatoria([1, 2, 3, 4, 5])  # Output: 15\n",
        "   sumatoria([10, -5, 7])      # Output: 12\n",
        "   ```\n",
        "\n",
        "\n"
      ]
    },
    {
      "cell_type": "code",
      "execution_count": 1,
      "metadata": {
        "id": "129rD6Lk9m9I"
      },
      "outputs": [],
      "source": [
        "def sumatoria(lista, n=0):\n",
        "  if lista == 0:\n",
        "    return 0\n",
        "  return sumatoria(lista[n], n+1 )"
      ]
    },
    {
      "cell_type": "markdown",
      "metadata": {
        "id": "_kIrPUicABgz"
      },
      "source": [
        "---\n",
        "\n",
        "### 2. **Contar elementos en una lista anidada**\n",
        "   Escribe una función recursiva que cuente el número total de elementos en una lista, considerando que puede contener sublistas anidadas.\n",
        "\n",
        "   ```python\n",
        "   def contar_elementos(lista):\n",
        "       pass\n",
        "   ```\n",
        "\n",
        "   **Ejemplo:**\n",
        "   ```python\n",
        "   contar_elementos([1, [2, 3], [4, [5, 6]]])  # Output: 6\n",
        "   contar_elementos([[], [1, [2, 3]], 4])      # Output: 4\n",
        "   ```\n"
      ]
    },
    {
      "cell_type": "code",
      "execution_count": null,
      "metadata": {
        "id": "Zh3nG1EVAD9v"
      },
      "outputs": [],
      "source": []
    },
    {
      "cell_type": "markdown",
      "metadata": {
        "id": "Fg-dQbNkAEdB"
      },
      "source": [
        "\n",
        "---\n",
        "\n",
        "### 3. **Número de dígitos de un número**\n",
        "   Implementa una función recursiva que cuente cuántos dígitos tiene un número entero positivo.\n",
        "\n",
        "   ```python\n",
        "   def contar_digitos(n):\n",
        "       pass\n",
        "   ```\n",
        "\n",
        "   **Ejemplo:**\n",
        "   ```python\n",
        "   contar_digitos(12345)   # Output: 5\n",
        "   contar_digitos(987654)  # Output: 6\n",
        "   ```\n",
        "\n"
      ]
    },
    {
      "cell_type": "code",
      "execution_count": null,
      "metadata": {
        "id": "kW4zLu_EAGgD"
      },
      "outputs": [],
      "source": []
    },
    {
      "cell_type": "markdown",
      "metadata": {
        "id": "ghGjuMmRAHPK"
      },
      "source": [
        "---\n",
        "\n",
        "### 4. **Producto de dos números usando sumas**\n",
        "   Implementa una función recursiva para calcular el producto de dos números enteros positivos utilizando solo sumas.\n",
        "\n",
        "   ```python\n",
        "   def producto(a, b):\n",
        "       pass\n",
        "   ```\n",
        "\n",
        "   **Ejemplo:**\n",
        "   ```python\n",
        "   producto(3, 4)   # Output: 12\n",
        "   producto(5, 6)   # Output: 30\n",
        "   ```\n"
      ]
    },
    {
      "cell_type": "code",
      "execution_count": null,
      "metadata": {
        "id": "3cH3YOGsAJv6"
      },
      "outputs": [],
      "source": []
    },
    {
      "cell_type": "markdown",
      "metadata": {
        "id": "tqv8WAZuAKLx"
      },
      "source": [
        "\n",
        "---\n",
        "\n",
        "### 5. **Comprobar si una palabra es palíndromo**\n",
        "   Escribe una función recursiva que determine si una cadena es un palíndromo.\n",
        "\n",
        "   ```python\n",
        "   def es_palindromo(cadena):\n",
        "       pass\n",
        "   ```\n",
        "\n",
        "   **Ejemplo:**\n",
        "   ```python\n",
        "   es_palindromo(\"radar\")     # Output: True\n",
        "   es_palindromo(\"reconocer\") # Output: True\n",
        "   es_palindromo(\"python\")    # Output: False\n",
        "   ```\n"
      ]
    },
    {
      "cell_type": "code",
      "execution_count": null,
      "metadata": {
        "id": "IA7Rv4uV_UsO"
      },
      "outputs": [],
      "source": []
    }
  ],
  "metadata": {
    "colab": {
      "provenance": []
    },
    "kernelspec": {
      "display_name": "base",
      "language": "python",
      "name": "python3"
    },
    "language_info": {
      "codemirror_mode": {
        "name": "ipython",
        "version": 3
      },
      "file_extension": ".py",
      "mimetype": "text/x-python",
      "name": "python",
      "nbconvert_exporter": "python",
      "pygments_lexer": "ipython3",
      "version": "3.12.2"
    }
  },
  "nbformat": 4,
  "nbformat_minor": 0
}
