{
  "nbformat": 4,
  "nbformat_minor": 0,
  "metadata": {
    "colab": {
      "provenance": []
    },
    "kernelspec": {
      "name": "python3",
      "display_name": "Python 3"
    },
    "language_info": {
      "name": "python"
    }
  },
  "cells": [
    {
      "cell_type": "markdown",
      "source": [
        "---\n",
        "\n",
        "### 1️⃣ **Escalera de Pasos (Climbing Stairs)**\n",
        "\n",
        "💡 **Descripción:**  \n",
        "Estás subiendo una escalera que tiene **n** escalones. Puedes subir **1** o **2** escalones en cada movimiento. Tu tarea es determinar **de cuántas maneras distintas** puedes llegar a la cima.  \n",
        "\n",
        "🔹 **Reglas:**  \n",
        "- Puedes tomar **1** o **2** pasos en cada movimiento.  \n",
        "- Debes calcular el número total de formas en que puedes alcanzar el escalón **n**.  \n",
        "\n",
        "📌 **Ejemplos:**  \n",
        "\n",
        "```plaintext\n",
        "Entrada: n = 2\n",
        "Salida: 2\n",
        "Explicación: Hay dos formas de llegar a la cima:\n",
        "1. 1 escalón + 1 escalón\n",
        "2. 2 escalones\n",
        "```\n",
        "\n",
        "```plaintext\n",
        "Entrada: n = 3\n",
        "Salida: 3\n",
        "Explicación: Hay tres formas de llegar a la cima:\n",
        "1. 1 escalón + 1 escalón + 1 escalón\n",
        "2. 1 escalón + 2 escalones\n",
        "3. 2 escalones + 1 escalón\n",
        "```\n",
        "\n",
        "🔎 **Restricciones:**  \n",
        "- `1 ≤ n ≤ 45`  \n",
        "\n",
        "✅ **Objetivo:**  \n",
        "Este problema requiere que **identifiques un patrón matemático o una solución eficiente** usando **recursión, memoization o programación dinámica** para calcular el número de formas en que puedes llegar a la cima sin repetir cálculos innecesarios.  \n",
        "\n",
        "🚀 **Sugerencia:**  \n",
        "Piensa en cómo resolverías el problema para `n = 1`, `n = 2` y `n = 3`, y trata de encontrar una relación general para `n`."
      ],
      "metadata": {
        "id": "Fgg0CXhAUKXC"
      }
    },
    {
      "cell_type": "code",
      "execution_count": null,
      "metadata": {
        "id": "Q6VTEOmcUGw2"
      },
      "outputs": [],
      "source": []
    },
    {
      "cell_type": "markdown",
      "source": [
        "### 2️⃣ **Implementar una Cola Usando Pilas (Implement Queue using Stacks)**  \n",
        "\n",
        "💡 **Descripción:**  \n",
        "Debes implementar una **cola (FIFO – First In, First Out)** usando **solo dos pilas (stacks)**. La estructura resultante debe soportar las siguientes operaciones:  \n",
        "\n",
        "🔹 **Operaciones requeridas:**  \n",
        "- `push(int x)`: Agrega un elemento al final de la cola.  \n",
        "- `pop()`: Remueve y devuelve el elemento en el frente de la cola.  \n",
        "- `peek()`: Retorna el elemento en el frente sin removerlo.  \n",
        "- `empty()`: Devuelve `True` si la cola está vacía, `False` en caso contrario.  \n",
        "\n",
        "📌 **Ejemplo de ejecución:**  \n",
        "\n",
        "```plaintext\n",
        "Entrada:\n",
        "[\"MyQueue\", \"push\", \"push\", \"peek\", \"pop\", \"empty\"]\n",
        "[[], [1], [2], [], [], []]\n",
        "\n",
        "Salida:\n",
        "[null, null, null, 1, 1, false]\n",
        "```\n",
        "\n",
        "🔎 **Explicación paso a paso:**  \n",
        "1. `MyQueue myQueue = new MyQueue();` → Se inicializa la cola.  \n",
        "2. `myQueue.push(1);` → La cola es `[1]`.  \n",
        "3. `myQueue.push(2);` → La cola es `[1, 2]` (el **frente** es `1`).  \n",
        "4. `myQueue.peek();` → Retorna `1` (el elemento en el **frente** sin eliminarlo).  \n",
        "5. `myQueue.pop();` → Retorna `1`, la nueva cola es `[2]`.  \n",
        "6. `myQueue.empty();` → Retorna `False` porque aún hay elementos.  \n",
        "\n",
        "🔎 **Restricciones:**  \n",
        "- `1 ≤ x ≤ 9`  \n",
        "- Se realizarán hasta **100 llamadas** a `push`, `pop`, `peek` y `empty`.  \n",
        "- Se garantiza que todas las llamadas a `pop` y `peek` serán válidas.  \n",
        "\n",
        "✅ **Objetivo:**  \n",
        "Dado que las pilas siguen un orden **LIFO (Last In, First Out)**, y las colas siguen **FIFO (First In, First Out)**, debes idear una forma de simular una cola **usando únicamente pilas**.  \n",
        "\n",
        "🚀 **Sugerencia:**  \n",
        "- Considera el uso de **dos pilas** para mantener el orden correcto de los elementos.  \n",
        "- Intenta optimizar las operaciones de `push()` y `pop()` para que la complejidad amortizada sea **O(1)** en lugar de **O(n)**."
      ],
      "metadata": {
        "id": "zBZJXrvBUP_w"
      }
    },
    {
      "cell_type": "code",
      "source": [],
      "metadata": {
        "id": "l1_W_gpEVEAS"
      },
      "execution_count": null,
      "outputs": []
    },
    {
      "cell_type": "markdown",
      "source": [
        "### 3️⃣ **Eliminar Estrellas de una Cadena (Removing Stars From a String)**  \n",
        "\n",
        "💡 **Descripción:**  \n",
        "Se te da una cadena **s** que contiene letras minúsculas y caracteres `*`.  \n",
        "Cada `*` representa una operación especial en la que:  \n",
        "\n",
        "- Se elimina la **estrella** (`*`).  \n",
        "- Se elimina **el carácter más cercano a su izquierda** (eliminación en pareja).  \n",
        "\n",
        "Debes devolver la **cadena resultante** después de eliminar **todas** las estrellas siguiendo las reglas anteriores.  \n",
        "\n",
        "🔹 **Notas:**  \n",
        "- Siempre es posible realizar la operación según las reglas dadas.  \n",
        "- La cadena resultante será **única** para cada entrada.  \n",
        "\n",
        "📌 **Ejemplos:**  \n",
        "\n",
        "```plaintext\n",
        "Entrada: s = \"leet**cod*e\"\n",
        "Salida: \"lecoe\"\n",
        "\n",
        "Explicación:\n",
        "1. Se elimina `t` (el carácter más cercano a `*`) → \"lee*cod*e\"\n",
        "2. Se elimina `e` (el carácter más cercano a `*`) → \"lecod*e\"\n",
        "3. Se elimina `d` (el carácter más cercano a `*`) → \"lecoe\"\n",
        "```\n",
        "\n",
        "---\n",
        "\n",
        "```plaintext\n",
        "Entrada: s = \"erase*****\"\n",
        "Salida: \"\"\n",
        "\n",
        "Explicación:\n",
        "1. Se eliminan `e, r, a, s, e` con cada `*`, dejando una cadena vacía.\n",
        "```\n",
        "\n",
        "🔎 **Restricciones:**  \n",
        "- `1 ≤ s.length ≤ 10⁵`  \n",
        "- `s` contiene solo letras minúsculas (`a-z`) y `*`.  \n",
        "- Siempre hay suficientes caracteres antes de cada `*` para realizar la operación.  \n",
        "\n",
        "✅ **Objetivo:**  \n",
        "Utilizar una **estructura eficiente** para manejar las eliminaciones de manera óptima.  \n",
        "\n",
        "🚀 **Sugerencia:**  \n",
        "- **Usar una pila** es una excelente opción. Se pueden almacenar las letras en la pila y cuando se encuentra un `*`, se elimina el último carácter añadido.  \n",
        "- **Evitar manipulaciones innecesarias de la cadena** para mejorar el rendimiento, especialmente con entradas grandes."
      ],
      "metadata": {
        "id": "DQIfQMgyVS7z"
      }
    },
    {
      "cell_type": "code",
      "source": [],
      "metadata": {
        "id": "Y4zFEngaVW3A"
      },
      "execution_count": null,
      "outputs": []
    },
    {
      "cell_type": "markdown",
      "source": [
        "### 4️⃣ **Contar Subcadenas que Comienzan y Terminan con un Carácter Dado (Count Substrings Starting and Ending with Given Character)**  \n",
        "\n",
        "💡 **Descripción:**  \n",
        "Se te da una cadena **s** y un carácter **c**.  \n",
        "Debes contar **cuántas subcadenas de `s` comienzan y terminan con `c`**.  \n",
        "\n",
        "🔹 **Notas:**  \n",
        "- Una **subcadena** es una secuencia de caracteres **contiguos** dentro de la cadena original.  \n",
        "- La subcadena debe **comenzar y terminar** con el carácter dado `c`.  \n",
        "\n",
        "📌 **Ejemplos:**  \n",
        "\n",
        "```plaintext\n",
        "Entrada: s = \"abada\", c = \"a\"\n",
        "Salida: 6\n",
        "\n",
        "Explicación: Las subcadenas que comienzan y terminan con \"a\" son:\n",
        "1. \"a\" (posición 0)\n",
        "2. \"aba\"\n",
        "3. \"abada\"\n",
        "4. \"a\" (posición 2)\n",
        "5. \"ada\"\n",
        "6. \"a\" (posición 4)\n",
        "```\n",
        "\n",
        "---\n",
        "\n",
        "```plaintext\n",
        "Entrada: s = \"zzz\", c = \"z\"\n",
        "Salida: 6\n",
        "\n",
        "Explicación: Todas las subcadenas posibles comienzan y terminan con \"z\":\n",
        "1. \"z\" (posición 0)\n",
        "2. \"z\" (posición 1)\n",
        "3. \"z\" (posición 2)\n",
        "4. \"zz\"\n",
        "5. \"zz\"\n",
        "6. \"zzz\"\n",
        "```\n",
        "\n",
        "🔎 **Restricciones:**  \n",
        "- `1 ≤ s.length ≤ 10⁵`  \n",
        "- `s` y `c` contienen solo letras minúsculas (`a-z`).  \n",
        "\n",
        "✅ **Objetivo:**  \n",
        "Diseñar una solución eficiente para contar las subcadenas válidas, dado que `s` puede ser muy grande.  \n",
        "\n",
        "🚀 **Sugerencia:**  \n",
        "- **Observar la distribución de `c` en `s`** para determinar cuántas combinaciones posibles hay.  \n",
        "- **Evitar recorrer todas las subcadenas explícitamente** (lo cual sería muy ineficiente para grandes valores de `s.length`).  \n",
        "- **Usar matemáticas combinatorias**: Si `c` aparece `n` veces en `s`, la cantidad total de subcadenas válidas es `n * (n + 1) / 2`."
      ],
      "metadata": {
        "id": "J_ZlDyzFVv9L"
      }
    },
    {
      "cell_type": "code",
      "source": [],
      "metadata": {
        "id": "pXBlE0ydVzpz"
      },
      "execution_count": null,
      "outputs": []
    }
  ]
}