{
  "cells": [
    {
      "cell_type": "markdown",
      "metadata": {
        "id": "72dLRtQaR5Sz"
      },
      "source": [
        "---\n",
        "\n",
        "## **🟢 Nivel 1: Conceptos Básicos**\n",
        "### **1️⃣ Implementación Básica de una Pila**  \n",
        "Implementa una **pila (stack)** desde cero con las siguientes operaciones: `push()`, `pop()`, `peek()`, `isEmpty()` y `size()`. Luego, prueba la estructura agregando y eliminando elementos.  \n",
        "\n",
        "**Objetivo:** Comprender cómo funciona una pila y cómo manipular sus elementos.\n",
        "\n"
      ]
    },
    {
      "cell_type": "code",
      "execution_count": 67,
      "metadata": {
        "id": "e95Q_5lXR2yh"
      },
      "outputs": [
        {
          "name": "stdout",
          "output_type": "stream",
          "text": [
            "[1, 3]\n",
            "3\n"
          ]
        },
        {
          "data": {
            "text/plain": [
              "1"
            ]
          },
          "execution_count": 67,
          "metadata": {},
          "output_type": "execute_result"
        }
      ],
      "source": [
        "from dataclasses import dataclass , field\n",
        "\n",
        "class EmptyStackError(Exception):\n",
        "    pass\n",
        "\n",
        "@dataclass\n",
        "class Stack: \n",
        "    data: list = field(default_factory=list)\n",
        "\n",
        "    def push(self, value):\n",
        "        self.data.append(value)\n",
        "\n",
        "    def pop(self):\n",
        "        if self.is_empty():\n",
        "            raise EmptyStackError(\"Stack is empty\")\n",
        "        return self.data.pop()\n",
        "    \n",
        "    def peek(self):\n",
        "            if self.is_empty():\n",
        "                raise EmptyStackError(\"Stack is empty\")\n",
        "            return self.data[-1]\n",
        "        \n",
        "    def is_empty(self):\n",
        "        return len(self.data) == 0\n",
        "\n",
        "    def __repr__(self):\n",
        "        return f\"{self.data}\"\n",
        "    \n",
        "    def __len__(self):\n",
        "        return len(self.data)\n",
        "    \n",
        "    \n",
        "s = Stack()\n",
        "\n",
        "s.push(1)\n",
        "s.push(3)\n",
        "print(s)\n",
        "print(s.pop())\n",
        "s.pop()"
      ]
    },
    {
      "cell_type": "code",
      "execution_count": 58,
      "metadata": {},
      "outputs": [
        {
          "name": "stdout",
          "output_type": "stream",
          "text": [
            "[1, 2, 3, 4, 5, 6, 7]\n",
            "7\n",
            "6\n",
            "5\n",
            "4\n",
            "3\n",
            "2\n",
            "1\n",
            "[1, 2, 3, 4, 5, 6, 7]\n"
          ]
        }
      ],
      "source": [
        "def recorrer_pila(pila: Stack) -> list:\n",
        "    stack_aux = Stack()\n",
        "    while not pila.is_empty():\n",
        "        i = pila.pop()\n",
        "        print(i)\n",
        "        stack_aux.push(i)\n",
        "    \n",
        "   \n",
        "    while len(stack_aux) > 0:\n",
        "        pila.push(stack_aux.pop())\n",
        "    \n",
        "    return pila\n",
        "\n",
        "s1 = Stack()\n",
        "x = [1, 2, 3, 4, 5, 6, 7]\n",
        "for item in x:\n",
        "    s1.push(item)\n",
        "\n",
        "print(s1)\n",
        "\n",
        "recorrer_pila(s1)\n",
        "print(s1)"
      ]
    },
    {
      "cell_type": "markdown",
      "metadata": {
        "id": "tuk_QIxRR-YS"
      },
      "source": [
        "---\n",
        "\n",
        "### **2️⃣ Inversión de una Secuencia de Números**  \n",
        "Crea un programa que use una pila para invertir el orden de una secuencia de números ingresados por el usuario.  \n",
        "\n",
        "Ejemplo:  \n",
        "**Entrada:** `1, 2, 3, 4, 5`  \n",
        "**Salida:** `5, 4, 3, 2, 1`  \n",
        "\n",
        "**Objetivo:** Aplicar la propiedad **LIFO** en un caso práctico.\n",
        "\n"
      ]
    },
    {
      "cell_type": "code",
      "execution_count": null,
      "metadata": {
        "id": "U7EiF8P0SAiB"
      },
      "outputs": [
        {
          "data": {
            "text/plain": [
              "[7, 6, 5, 4, 3, 2, 1]"
            ]
          },
          "execution_count": 64,
          "metadata": {},
          "output_type": "execute_result"
        }
      ],
      "source": [
        "def inversión_pila(pila: Stack):\n",
        "    stack_aux1 = Stack()\n",
        "    stack_aux2 = Stack() \n",
        "    while not pila.is_empty():\n",
        "        i = pila.pop()\n",
        "        stack_aux1.push(i)\n",
        "        \n",
        "    while not stack_aux1.is_empty():\n",
        "        j = stack_aux1.pop()\n",
        "        stack_aux2.push(j)\n",
        "        \n",
        "    while not stack_aux2.is_empty():\n",
        "        j = stack_aux2.pop()\n",
        "        pila.push(j)\n",
        "        \n",
        "    return pila\n",
        "\n",
        "        \n",
        "    \n",
        "s1 = Stack()\n",
        "x = [1, 2, 3, 4, 5, 6, 7]\n",
        "for item in x:\n",
        "    s1.push(item)\n",
        "    \n",
        "inversión_pila(s1)\n",
        "        "
      ]
    },
    {
      "cell_type": "code",
      "execution_count": null,
      "metadata": {},
      "outputs": [],
      "source": [
        "#Hacer recursión y guardar en una variable el valor de los elementos que voy eliminando"
      ]
    },
    {
      "cell_type": "code",
      "execution_count": 73,
      "metadata": {},
      "outputs": [
        {
          "data": {
            "text/plain": [
              "[1, 2, 3, 4, 5, 6, 7]"
            ]
          },
          "execution_count": 73,
          "metadata": {},
          "output_type": "execute_result"
        }
      ],
      "source": [
        "def inversión_pila(pila: Stack):\n",
        "    for _ in range(len(pila)):\n",
        "        j = pila.peek()\n",
        "        i = pila.pop()\n",
        "        pila.push(j)\n",
        "    return pila\n",
        "    \n",
        "\n",
        "\n",
        "s2 = Stack()\n",
        "x = [1, 2, 3, 4, 5, 6, 7]\n",
        "for item in x:\n",
        "    s2.push(item)\n",
        "    \n",
        "inversión_pila(s2)\n",
        "        \n"
      ]
    },
    {
      "cell_type": "markdown",
      "metadata": {
        "id": "QZdV7jniSA1z"
      },
      "source": [
        "---\n",
        "\n",
        "### **3️⃣ Verificación de Balanceo de Paréntesis**  \n",
        "Diseña un algoritmo que determine si una expresión matemática tiene un **balance correcto** de paréntesis `()`, corchetes `[]` y llaves `{}`.  \n",
        "\n",
        "Ejemplo válido: `{ [ ( ) ] }`  \n",
        "Ejemplo inválido: `{ [ ( ] ) }`  \n",
        "\n",
        "**Objetivo:** Usar pilas para evaluar estructuras anidadas.\n",
        "\n",
        "\n",
        "\n",
        "\n",
        "\n",
        "\n",
        "\n",
        "\n",
        "\n"
      ]
    },
    {
      "cell_type": "code",
      "execution_count": null,
      "metadata": {
        "id": "_PSmY23-SZp6"
      },
      "outputs": [],
      "source": []
    },
    {
      "cell_type": "markdown",
      "metadata": {
        "id": "N3sbIPr9SYCG"
      },
      "source": [
        "---\n",
        "\n",
        "## **🟡 Nivel 2: Aplicaciones Intermedias**\n",
        "### **4️⃣ Conversión de Notación Infija a Postfija**  \n",
        "Desarrolla un algoritmo que convierta una expresión matemática **infija** (convencional) a **postfija** (*Notación Polaca Inversa* - RPN).  \n",
        "\n",
        "Ejemplo:  \n",
        "**Entrada:** `(3 + 4) * 5`  \n",
        "**Salida:** `3 4 + 5 *`  \n",
        "\n",
        "**Objetivo:** Aplicar pilas en procesamiento de expresiones.\n"
      ]
    },
    {
      "cell_type": "code",
      "execution_count": null,
      "metadata": {
        "id": "mn96U-9iSXiJ"
      },
      "outputs": [],
      "source": []
    },
    {
      "cell_type": "markdown",
      "metadata": {
        "id": "Z8ru8-7TSU63"
      },
      "source": [
        "\n",
        "---\n",
        "\n",
        "### **5️⃣ Evaluación de Expresiones Postfijas**  \n",
        "Implementa un evaluador de expresiones postfijas usando una pila.  \n",
        "\n",
        "Ejemplo:  \n",
        "**Entrada:** `3 4 + 5 *`  \n",
        "**Salida:** `35`  \n",
        "\n",
        "**Objetivo:** Simular el procesamiento de operaciones matemáticas mediante pilas.\n"
      ]
    },
    {
      "cell_type": "code",
      "execution_count": null,
      "metadata": {
        "id": "DoDbY7G8SUiq"
      },
      "outputs": [],
      "source": []
    },
    {
      "cell_type": "markdown",
      "metadata": {
        "id": "W4OtnggYSSW-"
      },
      "source": [
        "---\n",
        "\n",
        "### **6️⃣ Deshacer/Rehacer en un Editor de Texto**  \n",
        "Simula la funcionalidad **deshacer (undo) y rehacer (redo)** en un editor de texto. Usa dos pilas: una para almacenar las acciones realizadas y otra para las acciones que se pueden rehacer.  \n",
        "\n",
        "Ejemplo de operaciones:  \n",
        "1. `Escribir \"Hola\"`  \n",
        "2. `Escribir \" Mundo\"`  \n",
        "3. `Deshacer → \"Hola\"`  \n",
        "4. `Rehacer → \"Hola Mundo\"`  \n",
        "\n",
        "**Objetivo:** Aplicar pilas en un problema realista de software."
      ]
    },
    {
      "cell_type": "code",
      "execution_count": null,
      "metadata": {
        "id": "LH2m6NFvSR2X"
      },
      "outputs": [],
      "source": []
    },
    {
      "cell_type": "markdown",
      "metadata": {
        "id": "J5IxFR04SNU4"
      },
      "source": [
        "---\n",
        "\n",
        "## **🔴 Nivel 3: Desafíos Avanzados**\n",
        "### **7️⃣ Implementación de una Pila con un Arreglo Fijo**  \n",
        "Implementa una pila con un **tamaño máximo fijo**. Agrega una validación para evitar el **desbordamiento (stack overflow)** cuando la pila está llena.  \n",
        "\n",
        "**Objetivo:** Manejar restricciones de espacio en una estructura de datos."
      ]
    },
    {
      "cell_type": "code",
      "execution_count": null,
      "metadata": {
        "id": "HJOz36WDSMai"
      },
      "outputs": [],
      "source": []
    },
    {
      "cell_type": "markdown",
      "metadata": {
        "id": "J4YcuUsJSIgo"
      },
      "source": [
        "---\n",
        "\n",
        "### **8️⃣ Implementación de una Pila con Múltiples Mínimos**  \n",
        "Crea una pila que, además de las operaciones básicas, tenga una función `getMin()` que devuelva el **valor mínimo actual** en la pila en **O(1)**.  \n",
        "\n",
        "Ejemplo:  \n",
        "1. `push(5)`  \n",
        "2. `push(2)`  \n",
        "3. `push(7)`  \n",
        "4. `getMin() → 2`  \n",
        "5. `pop()`  \n",
        "6. `getMin() → 2`  \n",
        "\n",
        "**Objetivo:** Desarrollar una optimización sobre la estructura de una pila.\n"
      ]
    },
    {
      "cell_type": "code",
      "execution_count": null,
      "metadata": {
        "id": "MvIy5VfRSIRG"
      },
      "outputs": [],
      "source": []
    },
    {
      "cell_type": "markdown",
      "metadata": {
        "id": "wO2vv7fySFfU"
      },
      "source": [
        "---\n",
        "\n",
        "### **9️⃣ Evaluación de una Pila de Llamadas de Funciones Recursivas**  \n",
        "Simula una pila de llamadas de funciones y muestra cómo se almacena y resuelve una función recursiva.  \n",
        "\n",
        "Ejemplo: Calcula el factorial de `n` y muestra el estado de la pila en cada paso.  \n",
        "\n",
        "**Objetivo:** Relacionar pilas con la recursión y comprender la pila de ejecución en un programa."
      ]
    },
    {
      "cell_type": "code",
      "execution_count": null,
      "metadata": {
        "id": "3b6a6rF3SCxb"
      },
      "outputs": [],
      "source": []
    },
    {
      "cell_type": "markdown",
      "metadata": {
        "id": "mAtxZbmQSDCL"
      },
      "source": [
        "---\n",
        "\n",
        "### **🔟 Diseño de una Máquina de Estados Usando Pilas**  \n",
        "Implementa un sistema de navegación donde el usuario pueda moverse entre páginas web y usar las funciones de \"atrás\" y \"adelante\". Usa dos pilas para gestionar la navegación.  \n",
        "\n",
        "Ejemplo:  \n",
        "1. `Visitar \"Inicio\"`  \n",
        "2. `Visitar \"Perfil\"`  \n",
        "3. `Atrás → \"Inicio\"`  \n",
        "4. `Adelante → \"Perfil\"`  \n",
        "\n",
        "**Objetivo:** Aplicar pilas en un contexto de navegación en aplicaciones.\n",
        "\n"
      ]
    },
    {
      "cell_type": "code",
      "execution_count": null,
      "metadata": {
        "id": "dkPJqHUfSEjB"
      },
      "outputs": [],
      "source": []
    }
  ],
  "metadata": {
    "colab": {
      "provenance": []
    },
    "kernelspec": {
      "display_name": "edd",
      "language": "python",
      "name": "python3"
    },
    "language_info": {
      "codemirror_mode": {
        "name": "ipython",
        "version": 3
      },
      "file_extension": ".py",
      "mimetype": "text/x-python",
      "name": "python",
      "nbconvert_exporter": "python",
      "pygments_lexer": "ipython3",
      "version": "3.13.2"
    }
  },
  "nbformat": 4,
  "nbformat_minor": 0
}
