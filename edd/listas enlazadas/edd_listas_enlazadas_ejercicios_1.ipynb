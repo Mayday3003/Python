{
  "nbformat": 4,
  "nbformat_minor": 0,
  "metadata": {
    "colab": {
      "provenance": []
    },
    "kernelspec": {
      "name": "python3",
      "display_name": "Python 3"
    },
    "language_info": {
      "name": "python"
    }
  },
  "cells": [
    {
      "cell_type": "markdown",
      "source": [
        "# Ejercicios - 1"
      ],
      "metadata": {
        "id": "Ci_06KsiXKHy"
      }
    },
    {
      "cell_type": "markdown",
      "source": [
        "## Implementación base Lista Enlazada"
      ],
      "metadata": {
        "id": "RTt2p7hxRaeg"
      }
    },
    {
      "cell_type": "code",
      "source": [],
      "metadata": {
        "id": "tvZZMcWjRdZ5",
        "colab": {
          "base_uri": "https://localhost:8080/"
        },
        "outputId": "b2148fe0-c5e8-41d5-b70c-3bdf0c04e7ac"
      },
      "execution_count": null,
      "outputs": [
        {
          "output_type": "stream",
          "name": "stdout",
          "text": [
            "664\n",
            "14\n",
            "24\n",
            "34->54->\n"
          ]
        }
      ]
    },
    {
      "cell_type": "markdown",
      "source": [
        "## Implementar una pila con listas enlazadas"
      ],
      "metadata": {
        "id": "UMNs7Kj3RWEJ"
      }
    },
    {
      "cell_type": "code",
      "source": [],
      "metadata": {
        "colab": {
          "base_uri": "https://localhost:8080/"
        },
        "id": "CfivywgsRaAR",
        "outputId": "0e1ddced-a575-4a78-cf0d-b5a78e691569"
      },
      "execution_count": null,
      "outputs": [
        {
          "output_type": "stream",
          "name": "stdout",
          "text": [
            "4\n",
            "2\n",
            "1\n",
            "5\n",
            "5->\n"
          ]
        }
      ]
    },
    {
      "cell_type": "code",
      "source": [],
      "metadata": {
        "colab": {
          "base_uri": "https://localhost:8080/"
        },
        "id": "KmerugLSVjkx",
        "outputId": "4d0853f8-c3ea-432e-9747-758e0bfeb6f3"
      },
      "execution_count": null,
      "outputs": [
        {
          "output_type": "stream",
          "name": "stdout",
          "text": [
            "5\n",
            "1\n",
            "2\n",
            "4\n",
            "4->\n"
          ]
        }
      ]
    },
    {
      "cell_type": "markdown",
      "source": [
        "### **1️⃣ Revertir una Lista Enlazada Simple**\n",
        "📌 **Descripción**: Dada una lista enlazada simple, escribe un algoritmo que invierta su orden, es decir, que el último nodo se convierta en el primero, el penúltimo en el segundo, y así sucesivamente.  \n",
        "🔹 **Restricción**: La solución debe modificar los punteros de la lista y no usar estructuras auxiliares como pilas o arreglos.  \n",
        "🔍 **Ejemplo**:\n",
        "```\n",
        "Entrada: 1 → 2 → 3 → 4 → 5 → None\n",
        "Salida: 5 → 4 → 3 → 2 → 1 → None\n",
        "```\n"
      ],
      "metadata": {
        "id": "iMBw2GdLWgCC"
      }
    },
    {
      "cell_type": "code",
      "source": [],
      "metadata": {
        "id": "UtXFe4QeWkRB"
      },
      "execution_count": null,
      "outputs": []
    },
    {
      "cell_type": "markdown",
      "source": [
        "---\n",
        "\n",
        "### **2️⃣ Detectar y Eliminar Ciclos en una Lista Enlazada**\n",
        "📌 **Descripción**: Dada una lista enlazada, determina si contiene un ciclo (es decir, si algún nodo apunta a un nodo anterior en la lista). Si existe un ciclo, elimínalo.  \n",
        "🔹 **Restricción**: No puedes modificar los valores de los nodos, solo los punteros.  \n",
        "🔍 **Ejemplo**:\n",
        "```\n",
        "Entrada: A → B → C → D → E → C (ciclo en C)\n",
        "Salida: A → B → C → D → E → None\n",
        "```"
      ],
      "metadata": {
        "id": "xwxNUzO4WjD4"
      }
    },
    {
      "cell_type": "code",
      "source": [],
      "metadata": {
        "id": "yG3IBAzJWqGu"
      },
      "execution_count": null,
      "outputs": []
    },
    {
      "cell_type": "markdown",
      "source": [
        "---\n",
        "\n",
        "### **3️⃣ Fusionar Dos Listas Enlazadas Ordenadas**\n",
        "📌 **Descripción**: Dadas dos listas enlazadas simples ordenadas en orden ascendente, fusionarlas en una única lista también ordenada.  \n",
        "🔹 **Restricción**: No crear una nueva lista; modificar los punteros de los nodos existentes.  \n",
        "🔍 **Ejemplo**:\n",
        "```\n",
        "Entrada: 1 → 3 → 5 → None  y  2 → 4 → 6 → None\n",
        "Salida: 1 → 2 → 3 → 4 → 5 → 6 → None\n",
        "```\n"
      ],
      "metadata": {
        "id": "iFI5lUw6WqoO"
      }
    },
    {
      "cell_type": "code",
      "source": [],
      "metadata": {
        "id": "zBASx6-jWuLC"
      },
      "execution_count": null,
      "outputs": []
    },
    {
      "cell_type": "markdown",
      "source": [
        "---\n",
        "\n",
        "### **4️⃣ Rotar una Lista Enlazada K Veces**\n",
        "📌 **Descripción**: Dada una lista enlazada simple y un número entero **K**, rota la lista **K** veces a la derecha.  \n",
        "🔹 **Restricción**: La rotación debe realizarse modificando los punteros, sin reconstruir la lista desde cero.  \n",
        "🔍 **Ejemplo**:\n",
        "```\n",
        "Entrada: 1 → 2 → 3 → 4 → 5 → None, K = 2\n",
        "Salida: 4 → 5 → 1 → 2 → 3 → None\n",
        "```\n"
      ],
      "metadata": {
        "id": "muA0gkPtWvD9"
      }
    },
    {
      "cell_type": "code",
      "source": [],
      "metadata": {
        "id": "PQAz9geDWybq"
      },
      "execution_count": null,
      "outputs": []
    },
    {
      "cell_type": "markdown",
      "source": [
        "---\n",
        "\n",
        "### **5️⃣ Encontrar el Nodo Medio de una Lista Enlazada**\n",
        "📌 **Descripción**: Dada una lista enlazada simple, encuentra el nodo que está en el centro de la lista.  \n",
        "🔹 **Restricción**: No puedes contar los nodos explícitamente antes de encontrar el nodo medio.  \n",
        "🔍 **Ejemplo**:\n",
        "```\n",
        "Entrada: 1 → 2 → 3 → 4 → 5 → None\n",
        "Salida: 3\n",
        "```\n",
        "Si hay un número par de nodos, devuelve el segundo nodo medio."
      ],
      "metadata": {
        "id": "jRkA-p-vWyvh"
      }
    },
    {
      "cell_type": "code",
      "source": [],
      "metadata": {
        "id": "BrG4q1JkW1RM"
      },
      "execution_count": null,
      "outputs": []
    },
    {
      "cell_type": "markdown",
      "source": [
        "---\n",
        "\n",
        "### **6️⃣ Intercambiar Pares de Nodos en una Lista Enlazada**\n",
        "📌 **Descripción**: Intercambia los nodos en parejas dentro de una lista enlazada simple.  \n",
        "🔹 **Restricción**: No modificar los valores de los nodos, solo los punteros.  \n",
        "🔍 **Ejemplo**:\n",
        "```\n",
        "Entrada: 1 → 2 → 3 → 4 → 5 → None\n",
        "Salida: 2 → 1 → 4 → 3 → 5 → None\n",
        "```"
      ],
      "metadata": {
        "id": "3VP-wC3yW2MZ"
      }
    },
    {
      "cell_type": "code",
      "source": [],
      "metadata": {
        "id": "wB6moH5YW4uO"
      },
      "execution_count": null,
      "outputs": []
    },
    {
      "cell_type": "markdown",
      "source": [
        "---\n",
        "\n",
        "### **7️⃣ Clonar una Lista Enlazada con Punteros Aleatorios**\n",
        "📌 **Descripción**: Dada una lista enlazada donde cada nodo contiene una referencia adicional a cualquier otro nodo de la lista (o `None`), crea una copia exacta de la lista original.  \n",
        "🔹 **Restricción**: La copia debe ser una nueva estructura independiente, no debe compartir nodos con la original.  \n",
        "🔍 **Ejemplo**:\n",
        "```\n",
        "Nodo: [Dato, Next, Random]\n",
        "Entrada: A → B → C → None (con referencias aleatorias)\n",
        "Salida: Copia exacta de la lista con referencias intactas.\n",
        "```"
      ],
      "metadata": {
        "id": "xlmB9ITcW67I"
      }
    },
    {
      "cell_type": "code",
      "source": [],
      "metadata": {
        "id": "AMV6vXkwW7rO"
      },
      "execution_count": null,
      "outputs": []
    },
    {
      "cell_type": "markdown",
      "source": [
        "---\n",
        "\n",
        "### **8️⃣ Reorganizar una Lista Enlazada en un Patrón Alternante**\n",
        "📌 **Descripción**: Dada una lista enlazada simple, reorganízala de manera que el primer nodo se conecte al último, el segundo al penúltimo, el tercero al tercero desde el final, y así sucesivamente.  \n",
        "🔹 **Restricción**: Modificar solo los punteros, sin usar estructuras auxiliares.  \n",
        "🔍 **Ejemplo**:\n",
        "```\n",
        "Entrada: 1 → 2 → 3 → 4 → 5 → 6 → None\n",
        "Salida: 1 → 6 → 2 → 5 → 3 → 4 → None\n",
        "```"
      ],
      "metadata": {
        "id": "cUUDs2W7W95f"
      }
    },
    {
      "cell_type": "code",
      "source": [],
      "metadata": {
        "id": "JWet2KHVW-oo"
      },
      "execution_count": null,
      "outputs": []
    },
    {
      "cell_type": "markdown",
      "source": [
        "---\n",
        "\n",
        "### **9️⃣ Determinar si una Lista Enlazada es un Palíndromo**\n",
        "📌 **Descripción**: Dada una lista enlazada, determina si los valores almacenados en sus nodos forman un palíndromo.  \n",
        "🔹 **Restricción**: Debe hacerse en O(n) de tiempo y O(1) de espacio adicional.  \n",
        "🔍 **Ejemplo**:\n",
        "```\n",
        "Entrada: 1 → 2 → 3 → 2 → 1 → None\n",
        "Salida: True\n",
        "```"
      ],
      "metadata": {
        "id": "qi4Ht1prXBg1"
      }
    },
    {
      "cell_type": "code",
      "source": [],
      "metadata": {
        "id": "ES-k5YZNXHvb"
      },
      "execution_count": null,
      "outputs": []
    },
    {
      "cell_type": "markdown",
      "source": [
        "---\n",
        "\n",
        "### **🔟 Eliminar Nodos con un Dato Específico**\n",
        "📌 **Descripción**: Dada una lista enlazada y un valor específico, elimina **todas** las ocurrencias de dicho valor en la lista.  \n",
        "🔹 **Restricción**: No puedes crear una nueva lista, solo modificar la original.  \n",
        "🔍 **Ejemplo**:\n",
        "```\n",
        "Entrada: 1 → 2 → 6 → 3 → 4 → 5 → 6 → None, eliminar 6\n",
        "Salida: 1 → 2 → 3 → 4 → 5 → None\n",
        "```"
      ],
      "metadata": {
        "id": "G5yk3sfXXFvR"
      }
    },
    {
      "cell_type": "code",
      "execution_count": null,
      "metadata": {
        "id": "vUViCtFJVrJN"
      },
      "outputs": [],
      "source": []
    }
  ]
}