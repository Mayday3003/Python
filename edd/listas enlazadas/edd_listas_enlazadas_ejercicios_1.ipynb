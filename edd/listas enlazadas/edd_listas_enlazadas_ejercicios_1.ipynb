{
  "cells": [
    {
      "cell_type": "markdown",
      "metadata": {
        "id": "Ci_06KsiXKHy"
      },
      "source": [
        "# Ejercicios - 1"
      ]
    },
    {
      "cell_type": "markdown",
      "metadata": {
        "id": "RTt2p7hxRaeg"
      },
      "source": [
        "## Implementación base Lista Enlazada"
      ]
    },
    {
      "cell_type": "code",
      "execution_count": 1,
      "metadata": {
        "colab": {
          "base_uri": "https://localhost:8080/"
        },
        "id": "tvZZMcWjRdZ5",
        "outputId": "b2148fe0-c5e8-41d5-b70c-3bdf0c04e7ac"
      },
      "outputs": [],
      "source": [
        "class Nodo:\n",
        "    def __init__(self, value, next=None):\n",
        "        self.value = value  \n",
        "        self.next = next  \n",
        "\n",
        "    def __str__(self):\n",
        "        return str(self.value)\n",
        "\n",
        "\n",
        "class ListaEnlazada:\n",
        "    def __init__(self):\n",
        "        # Creamos un nodo centinela (dummy) como cabeza que nunca cambia\n",
        "        self.head = Nodo(None)  # Nodo centinela con valor None\n",
        "        self.tail = self.head  # Al inicio, tail apunta al mismo nodo centinela\n",
        "        self.size = 0  # Mantenemos size para operaciones por posición\n",
        "\n",
        "    def esta_vacia(self):\n",
        "        return self.head.next is None\n",
        "\n",
        "    def insertar_al_inicio(self, value):\n",
        "        nuevo_nodo = Nodo(value)\n",
        "        # Insertamos después del nodo centinela\n",
        "        nuevo_nodo.next = self.head.next\n",
        "        self.head.next = nuevo_nodo\n",
        "        \n",
        "        # Si la lista estaba vacía, actualizamos tail\n",
        "        if self.tail == self.head:\n",
        "            self.tail = nuevo_nodo\n",
        "        self.size += 1\n",
        "\n",
        "    def insertar_al_final(self, value):\n",
        "        nuevo_nodo = Nodo(value)\n",
        "        # El nuevo nodo se inserta después del tail actual\n",
        "        self.tail.next = nuevo_nodo\n",
        "        self.tail = nuevo_nodo  # Actualizamos tail\n",
        "        self.size += 1\n",
        "\n"
      ]
    },
    {
      "cell_type": "markdown",
      "metadata": {
        "id": "UMNs7Kj3RWEJ"
      },
      "source": [
        "## Implementar una pila con listas enlazadas"
      ]
    },
    {
      "cell_type": "code",
      "execution_count": null,
      "metadata": {
        "colab": {
          "base_uri": "https://localhost:8080/"
        },
        "id": "CfivywgsRaAR",
        "outputId": "0e1ddced-a575-4a78-cf0d-b5a78e691569"
      },
      "outputs": [
        {
          "name": "stdout",
          "output_type": "stream",
          "text": [
            "4\n",
            "2\n",
            "1\n",
            "5\n",
            "5->\n"
          ]
        }
      ],
      "source": []
    },
    {
      "cell_type": "code",
      "execution_count": null,
      "metadata": {
        "colab": {
          "base_uri": "https://localhost:8080/"
        },
        "id": "KmerugLSVjkx",
        "outputId": "4d0853f8-c3ea-432e-9747-758e0bfeb6f3"
      },
      "outputs": [
        {
          "name": "stdout",
          "output_type": "stream",
          "text": [
            "5\n",
            "1\n",
            "2\n",
            "4\n",
            "4->\n"
          ]
        }
      ],
      "source": []
    },
    {
      "cell_type": "markdown",
      "metadata": {
        "id": "iMBw2GdLWgCC"
      },
      "source": [
        "### **1️⃣ Revertir una Lista Enlazada Simple**\n",
        "📌 **Descripción**: Dada una lista enlazada simple, escribe un algoritmo que invierta su orden, es decir, que el último nodo se convierta en el primero, el penúltimo en el segundo, y así sucesivamente.  \n",
        "🔹 **Restricción**: La solución debe modificar los punteros de la lista y no usar estructuras auxiliares como pilas o arreglos.  \n",
        "🔍 **Ejemplo**:\n",
        "```\n",
        "Entrada: 1 → 2 → 3 → 4 → 5 → None\n",
        "Salida: 5 → 4 → 3 → 2 → 1 → None\n",
        "```\n"
      ]
    },
    {
      "cell_type": "code",
      "execution_count": null,
      "metadata": {
        "id": "UtXFe4QeWkRB"
      },
      "outputs": [],
      "source": []
    },
    {
      "cell_type": "markdown",
      "metadata": {
        "id": "xwxNUzO4WjD4"
      },
      "source": [
        "---\n",
        "\n",
        "### **2️⃣ Detectar y Eliminar Ciclos en una Lista Enlazada**\n",
        "📌 **Descripción**: Dada una lista enlazada, determina si contiene un ciclo (es decir, si algún nodo apunta a un nodo anterior en la lista). Si existe un ciclo, elimínalo.  \n",
        "🔹 **Restricción**: No puedes modificar los valores de los nodos, solo los punteros.  \n",
        "🔍 **Ejemplo**:\n",
        "```\n",
        "Entrada: A → B → C → D → E → C (ciclo en C)\n",
        "Salida: A → B → C → D → E → None\n",
        "```"
      ]
    },
    {
      "cell_type": "code",
      "execution_count": null,
      "metadata": {
        "id": "yG3IBAzJWqGu"
      },
      "outputs": [],
      "source": []
    },
    {
      "cell_type": "markdown",
      "metadata": {
        "id": "iFI5lUw6WqoO"
      },
      "source": [
        "---\n",
        "\n",
        "### **3️⃣ Fusionar Dos Listas Enlazadas Ordenadas**\n",
        "📌 **Descripción**: Dadas dos listas enlazadas simples ordenadas en orden ascendente, fusionarlas en una única lista también ordenada.  \n",
        "🔹 **Restricción**: No crear una nueva lista; modificar los punteros de los nodos existentes.  \n",
        "🔍 **Ejemplo**:\n",
        "```\n",
        "Entrada: 1 → 3 → 5 → None  y  2 → 4 → 6 → None\n",
        "Salida: 1 → 2 → 3 → 4 → 5 → 6 → None\n",
        "```\n"
      ]
    },
    {
      "cell_type": "code",
      "execution_count": null,
      "metadata": {},
      "outputs": [
        {
          "name": "stdout",
          "output_type": "stream",
          "text": [
            "Lista 1:\n",
            "1 -> 3 -> 5 -> None\n",
            "Lista 2:\n",
            "2 -> 4 -> 6 -> None\n",
            "Lista fusionada:\n",
            "1 -> 2 -> 3 -> 4 -> 5 -> 6 -> None\n"
          ]
        }
      ],
      "source": [
        "def fusionar_ordenadas(lista1: ListaEnlazada, lista2: ListaEnlazada):\n",
        "    if lista1.esta_vacia():\n",
        "        return lista2\n",
        "    if lista2.esta_vacia():\n",
        "        return lista1\n",
        "\n"
      ]
    },
    {
      "cell_type": "code",
      "execution_count": null,
      "metadata": {
        "id": "zBASx6-jWuLC"
      },
      "outputs": [],
      "source": [
        "def fusionar_ordenadas(lista1, lista2):\n",
        "    def merge_recursivo(p1, p2):\n",
        "        if p1 is None:\n",
        "            return p2\n",
        "        if p2 is None:\n",
        "            return p1\n",
        "        if p1.value <= p2.value:\n",
        "            p1.next = merge_recursivo(p1.next, p2)\n",
        "            return p1\n",
        "        else:\n",
        "            p2.next = merge_recursivo(p1, p2.next)\n",
        "            return p2\n",
        "\n",
        "    # Obtenemos los primeros nodos de cada lista (después del centinela)\n",
        "    p1 = lista1.head.next\n",
        "    p2 = lista2.head.next\n",
        "\n",
        "    # Fusionar recursivamente las listas\n",
        "    merged_head = merge_recursivo(p1, p2)\n",
        "\n",
        "    # Actualizar la lista1 con la nueva cabeza y cola\n",
        "    lista1.head.next = merged_head\n",
        "\n",
        "    # Encontrar la nueva cola\n",
        "    if merged_head is None:\n",
        "        lista1.tail = lista1.head\n",
        "    else:\n",
        "        current = merged_head\n",
        "        while current.next is not None:\n",
        "            current = current.next\n",
        "        lista1.tail = current\n",
        "\n",
        "    # Actualizar el tamaño de lista1\n",
        "    lista1.size += lista2.size\n",
        "\n",
        "    # Vaciar la lista2\n",
        "    lista2.head.next = None\n",
        "    lista2.tail = lista2.head\n",
        "    lista2.size = 0\n",
        "\n",
        "    return lista1"
      ]
    },
    {
      "cell_type": "markdown",
      "metadata": {
        "id": "muA0gkPtWvD9"
      },
      "source": [
        "---\n",
        "\n",
        "### **4️⃣ Rotar una Lista Enlazada K Veces**\n",
        "📌 **Descripción**: Dada una lista enlazada simple y un número entero **K**, rota la lista **K** veces a la derecha.  \n",
        "🔹 **Restricción**: La rotación debe realizarse modificando los punteros, sin reconstruir la lista desde cero.  \n",
        "🔍 **Ejemplo**:\n",
        "```\n",
        "Entrada: 1 → 2 → 3 → 4 → 5 → None, K = 2\n",
        "Salida: 4 → 5 → 1 → 2 → 3 → None\n",
        "```\n"
      ]
    },
    {
      "cell_type": "code",
      "execution_count": null,
      "metadata": {
        "id": "PQAz9geDWybq"
      },
      "outputs": [],
      "source": []
    },
    {
      "cell_type": "markdown",
      "metadata": {
        "id": "jRkA-p-vWyvh"
      },
      "source": [
        "---\n",
        "\n",
        "### **5️⃣ Encontrar el Nodo Medio de una Lista Enlazada**\n",
        "📌 **Descripción**: Dada una lista enlazada simple, encuentra el nodo que está en el centro de la lista.  \n",
        "🔹 **Restricción**: No puedes contar los nodos explícitamente antes de encontrar el nodo medio.  \n",
        "🔍 **Ejemplo**:\n",
        "```\n",
        "Entrada: 1 → 2 → 3 → 4 → 5 → None\n",
        "Salida: 3\n",
        "```\n",
        "Si hay un número par de nodos, devuelve el segundo nodo medio."
      ]
    },
    {
      "cell_type": "code",
      "execution_count": null,
      "metadata": {
        "id": "BrG4q1JkW1RM"
      },
      "outputs": [],
      "source": []
    },
    {
      "cell_type": "markdown",
      "metadata": {
        "id": "3VP-wC3yW2MZ"
      },
      "source": [
        "---\n",
        "\n",
        "### **6️⃣ Intercambiar Pares de Nodos en una Lista Enlazada**\n",
        "📌 **Descripción**: Intercambia los nodos en parejas dentro de una lista enlazada simple.  \n",
        "🔹 **Restricción**: No modificar los valores de los nodos, solo los punteros.  \n",
        "🔍 **Ejemplo**:\n",
        "```\n",
        "Entrada: 1 → 2 → 3 → 4 → 5 → None\n",
        "Salida: 2 → 1 → 4 → 3 → 5 → None\n",
        "```"
      ]
    },
    {
      "cell_type": "code",
      "execution_count": null,
      "metadata": {
        "id": "wB6moH5YW4uO"
      },
      "outputs": [],
      "source": []
    },
    {
      "cell_type": "markdown",
      "metadata": {
        "id": "xlmB9ITcW67I"
      },
      "source": [
        "---\n",
        "\n",
        "### **7️⃣ Clonar una Lista Enlazada con Punteros Aleatorios**\n",
        "📌 **Descripción**: Dada una lista enlazada donde cada nodo contiene una referencia adicional a cualquier otro nodo de la lista (o `None`), crea una copia exacta de la lista original.  \n",
        "🔹 **Restricción**: La copia debe ser una nueva estructura independiente, no debe compartir nodos con la original.  \n",
        "🔍 **Ejemplo**:\n",
        "```\n",
        "Nodo: [Dato, Next, Random]\n",
        "Entrada: A → B → C → None (con referencias aleatorias)\n",
        "Salida: Copia exacta de la lista con referencias intactas.\n",
        "```"
      ]
    },
    {
      "cell_type": "code",
      "execution_count": null,
      "metadata": {
        "id": "AMV6vXkwW7rO"
      },
      "outputs": [],
      "source": []
    },
    {
      "cell_type": "markdown",
      "metadata": {
        "id": "cUUDs2W7W95f"
      },
      "source": [
        "---\n",
        "\n",
        "### **8️⃣ Reorganizar una Lista Enlazada en un Patrón Alternante**\n",
        "📌 **Descripción**: Dada una lista enlazada simple, reorganízala de manera que el primer nodo se conecte al último, el segundo al penúltimo, el tercero al tercero desde el final, y así sucesivamente.  \n",
        "🔹 **Restricción**: Modificar solo los punteros, sin usar estructuras auxiliares.  \n",
        "🔍 **Ejemplo**:\n",
        "```\n",
        "Entrada: 1 → 2 → 3 → 4 → 5 → 6 → None\n",
        "Salida: 1 → 6 → 2 → 5 → 3 → 4 → None\n",
        "```"
      ]
    },
    {
      "cell_type": "code",
      "execution_count": null,
      "metadata": {
        "id": "JWet2KHVW-oo"
      },
      "outputs": [],
      "source": []
    },
    {
      "cell_type": "markdown",
      "metadata": {
        "id": "qi4Ht1prXBg1"
      },
      "source": [
        "---\n",
        "\n",
        "### **9️⃣ Determinar si una Lista Enlazada es un Palíndromo**\n",
        "📌 **Descripción**: Dada una lista enlazada, determina si los valores almacenados en sus nodos forman un palíndromo.  \n",
        "🔹 **Restricción**: Debe hacerse en O(n) de tiempo y O(1) de espacio adicional.  \n",
        "🔍 **Ejemplo**:\n",
        "```\n",
        "Entrada: 1 → 2 → 3 → 2 → 1 → None\n",
        "Salida: True\n",
        "```"
      ]
    },
    {
      "cell_type": "code",
      "execution_count": null,
      "metadata": {
        "id": "ES-k5YZNXHvb"
      },
      "outputs": [],
      "source": []
    },
    {
      "cell_type": "markdown",
      "metadata": {
        "id": "G5yk3sfXXFvR"
      },
      "source": [
        "---\n",
        "\n",
        "### **🔟 Eliminar Nodos con un Dato Específico**\n",
        "📌 **Descripción**: Dada una lista enlazada y un valor específico, elimina **todas** las ocurrencias de dicho valor en la lista.  \n",
        "🔹 **Restricción**: No puedes crear una nueva lista, solo modificar la original.  \n",
        "🔍 **Ejemplo**:\n",
        "```\n",
        "Entrada: 1 → 2 → 6 → 3 → 4 → 5 → 6 → None, eliminar 6\n",
        "Salida: 1 → 2 → 3 → 4 → 5 → None\n",
        "```"
      ]
    },
    {
      "cell_type": "code",
      "execution_count": null,
      "metadata": {
        "id": "vUViCtFJVrJN"
      },
      "outputs": [],
      "source": []
    }
  ],
  "metadata": {
    "colab": {
      "provenance": []
    },
    "kernelspec": {
      "display_name": "edd",
      "language": "python",
      "name": "python3"
    },
    "language_info": {
      "codemirror_mode": {
        "name": "ipython",
        "version": 3
      },
      "file_extension": ".py",
      "mimetype": "text/x-python",
      "name": "python",
      "nbconvert_exporter": "python",
      "pygments_lexer": "ipython3",
      "version": "3.13.2"
    }
  },
  "nbformat": 4,
  "nbformat_minor": 0
}
