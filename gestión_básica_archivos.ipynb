{
  "nbformat": 4,
  "nbformat_minor": 0,
  "metadata": {
    "colab": {
      "provenance": []
    },
    "kernelspec": {
      "name": "python3",
      "display_name": "Python 3"
    },
    "language_info": {
      "name": "python"
    }
  },
  "cells": [
    {
      "cell_type": "markdown",
      "source": [
        "# Gestión Básica de Archivos en Programación Orientada a Objetos (POO)\n",
        "\n",
        "## Introducción\n",
        "La gestión de archivos es un concepto clave en el desarrollo de software. Muchas aplicaciones requieren leer o escribir en archivos para almacenar datos de manera persistente. En Python, la gestión de archivos se puede realizar de manera sencilla, pero cuando se aplica en un contexto de POO, se deben considerar aspectos como el encapsulamiento, abstracción y la correcta gestión de recursos.\n",
        "\n",
        "## Conceptos Importantes\n",
        "\n",
        "### 1. Operaciones Básicas con Archivos\n",
        "Las operaciones más comunes con archivos son:\n",
        "- **Abrir** un archivo (`open()` en Python).\n",
        "- **Leer** contenido de un archivo (`read()`, `readline()`, `readlines()`).\n",
        "- **Escribir** en un archivo (`write()`).\n",
        "- **Cerrar** un archivo (`close()`).\n",
        "\n",
        "El manejo de archivos en Python se realiza con la función `open()` que recibe el nombre del archivo y el modo en el que se va a abrir (lectura, escritura, etc.).\n",
        "\n",
        "```python\n",
        "# Ejemplo básico de apertura y lectura de un archivo\n",
        "with open('archivo.txt', 'r') as archivo:\n",
        "    contenido = archivo.read()\n",
        "    print(contenido)\n",
        "```\n",
        "\n",
        "El uso del bloque `with` es importante porque asegura que el archivo se cierre automáticamente después de realizar las operaciones.\n",
        "\n",
        "### 2. Modos de Apertura de Archivos\n",
        "Existen diferentes modos para abrir archivos:\n",
        "- `'r'`: Modo lectura. El archivo debe existir, de lo contrario, arrojará un error.\n",
        "- `'w'`: Modo escritura. Si el archivo no existe, se crea uno nuevo; si ya existe, su contenido se sobrescribe.\n",
        "- `'a'`: Modo anexar. Si el archivo existe, se agrega contenido al final; si no existe, se crea uno nuevo.\n",
        "- `'r+'`: Modo lectura y escritura. El archivo debe existir.\n",
        "\n",
        "### 3. Gestión de Errores\n",
        "Es importante manejar los errores que pueden surgir al trabajar con archivos, como archivos inexistentes o problemas de permisos. Python ofrece la posibilidad de capturar excepciones para este propósito.\n",
        "\n",
        "```python\n",
        "try:\n",
        "    with open('archivo_inexistente.txt', 'r') as archivo:\n",
        "        contenido = archivo.read()\n",
        "except FileNotFoundError:\n",
        "    print(\"El archivo no existe.\")\n",
        "```\n",
        "\n",
        "### 4. Encapsulamiento y Abstracción en la Gestión de Archivos\n",
        "En el contexto de la POO, es recomendable encapsular las operaciones con archivos dentro de clases para mantener una adecuada separación de responsabilidades y mejorar la reutilización del código.\n",
        "\n",
        "Por ejemplo, podemos crear una clase que gestione un archivo específico y controle su apertura, lectura, y escritura.\n",
        "\n",
        "```python\n",
        "class ArchivoManager:\n",
        "    def __init__(self, ruta: str):\n",
        "        self.ruta = ruta\n",
        "\n",
        "    def leer(self) -> str:\n",
        "        try:\n",
        "            with open(self.ruta, 'r') as archivo:\n",
        "                return archivo.read()\n",
        "        except FileNotFoundError:\n",
        "            print(f\"Error: El archivo {self.ruta} no existe.\")\n",
        "            return \"\"\n",
        "\n",
        "    def escribir(self, contenido: str):\n",
        "        with open(self.ruta, 'w') as archivo:\n",
        "            archivo.write(contenido)\n",
        "            print(f\"Contenido escrito en {self.ruta}\")\n",
        "\n",
        "# Uso\n",
        "archivo = ArchivoManager('mi_archivo.txt')\n",
        "archivo.escribir(\"Este es un ejemplo.\")\n",
        "print(archivo.leer())\n",
        "```\n",
        "\n",
        "### 5. Buenas Prácticas en la Gestión de Archivos\n",
        "- **Usar el bloque `with`**: Asegura el cierre adecuado del archivo, incluso si ocurre una excepción durante las operaciones.\n",
        "- **Encapsular la lógica de manejo de archivos**: Separar el manejo de archivos de la lógica de negocio ayuda a mantener el código limpio y manejable.\n",
        "- **Manejo adecuado de excepciones**: Anticiparse a los posibles errores que puedan ocurrir durante las operaciones de archivo mejora la robustez del programa.\n",
        "\n",
        "## Casos de Uso Comunes\n",
        "- **Registro de logs**: Almacenar eventos importantes de un sistema.\n",
        "- **Lectura y escritura de configuraciones**: Almacenar configuraciones de un programa en archivos JSON o CSV.\n",
        "- **Almacenamiento temporal de datos**: Guardar datos entre ejecuciones del programa cuando no se requiere una base de datos completa.\n",
        "\n",
        "## Retos (0,2 c/u)\n",
        "\n",
        "### Reto 1: Contar Palabras en un Archivo\n",
        "Escribe una función que abra un archivo de texto y cuente cuántas palabras contiene. Luego, imprime el número total de palabras.\n",
        "\n",
        "---------\n",
        "### Reto 2: Copia de Archivos\n",
        "Desarrolla una clase `CopiadorDeArchivos` que permita copiar el contenido de un archivo de texto a otro archivo. La clase debe tener dos métodos:\n",
        "- `leer_y_copiar(origen: str, destino: str)`: Lee el archivo de origen y copia su contenido en el archivo destino.\n",
        "- `verificar_existencia(ruta: str)`: Verifica si un archivo existe en la ruta especificada.\n",
        "\n",
        "#### Indicaciones:\n",
        "- Si el archivo de destino ya existe, debe sobrescribirse.\n",
        "- Debe manejarse correctamente la excepción `FileNotFoundError` si el archivo de origen no existe.\n",
        "- Incluir un mensaje indicando que la copia fue exitosa o que el archivo de origen no existe.\n",
        "\n",
        "---------\n",
        "### Reto 3: Conteo de Frecuencia de Palabras en un Archivo\n",
        "Crea una clase `AnalizadorDeTexto` que analice un archivo de texto y determine la frecuencia de cada palabra en el archivo. La clase debe tener los siguientes métodos:\n",
        "- `leer_archivo()`: Lee el archivo y almacena su contenido.\n",
        "- `contar_palabras()`: Cuenta cuántas veces aparece cada palabra en el archivo y almacena los resultados en un diccionario.\n",
        "- `imprimir_frecuencia()`: Imprime el diccionario de frecuencias de palabras en formato `palabra: frecuencia`.\n",
        "\n",
        "#### Indicaciones:\n",
        "- Debes ignorar mayúsculas y minúsculas (por ejemplo, \"Casa\" y \"casa\" deben contarse como la misma palabra).\n",
        "- Excluye caracteres especiales (puntos, comas, etc.) de las palabras.\n",
        "- La salida debe mostrar la frecuencia de cada palabra en el archivo.\n",
        "\n",
        "---------\n",
        "\n"
      ],
      "metadata": {
        "id": "JvxoDBscGbxn"
      }
    },
    {
      "cell_type": "code",
      "execution_count": null,
      "metadata": {
        "colab": {
          "base_uri": "https://localhost:8080/"
        },
        "id": "wp0znNnZGIPu",
        "outputId": "189e4aff-7b76-4590-dc58-5c863c142fb9"
      },
      "outputs": [
        {
          "output_type": "stream",
          "name": "stdout",
          "text": [
            "# Gestión Básica de Archivos en Programación Orientada a Objetos (POO)\n",
            "\n",
            "## Introducción\n",
            "La gestión de archivos es un concepto clave en el desarrollo de software. Muchas aplicaciones requieren leer o escribir en archivos para almacenar datos de manera persistente. En Python, la gestión de archivos se puede realizar de manera sencilla, pero cuando se aplica en un contexto de POO, se deben considerar aspectos como el encapsulamiento, abstracción y la correcta gestión de recursos.\n",
            "\n",
            "## Conceptos Importantes\n",
            "\n",
            "----\n",
            "[]\n",
            "----\n",
            "\n",
            "----\n"
          ]
        }
      ],
      "source": [
        "#Lectura\n",
        "\n",
        "# Ejemplo básico de apertura y lectura de un archivo\n",
        "with open('archivo.txt', 'r') as archivo:\n",
        "    contenido_read = archivo.read() #lee todo y lo guarda como un string\n",
        "    contenido_readlines = archivo.readlines() #lee todo pero guarda línea a línea en una lista (también como string)\n",
        "    contenido_readline = archivo.readline() #lee línea a línea pero sólo me devuelve una\n",
        "    print(contenido_read)\n",
        "    print(\"----\")\n",
        "    print(contenido_readlines)\n",
        "    print(\"----\")\n",
        "    print(contenido_readline)\n",
        "    print(\"----\")"
      ]
    },
    {
      "cell_type": "code",
      "source": [
        "#Escritura\n",
        "contenido = \"contenido...\"\n",
        "with open(\"archivo.txt\", 'w') as archivo:\n",
        "  archivo.write(contenido)\n",
        "  print(f\"Contenido escrito en archivo.txt\")"
      ],
      "metadata": {
        "colab": {
          "base_uri": "https://localhost:8080/"
        },
        "id": "-4SZLLCiIJWh",
        "outputId": "4f375d1e-ba4a-42ac-da3b-f9697b7b86f1"
      },
      "execution_count": null,
      "outputs": [
        {
          "output_type": "stream",
          "name": "stdout",
          "text": [
            "Contenido escrito en archivo.txt\n"
          ]
        }
      ]
    },
    {
      "cell_type": "code",
      "source": [
        "contenido = \"contenido...\"\n",
        "with open(\"xxx.txt\", 'w') as archivo:\n",
        "  archivo.write(contenido)\n",
        "  print(f\"Contenido escrito en archivo.txt\")"
      ],
      "metadata": {
        "colab": {
          "base_uri": "https://localhost:8080/"
        },
        "id": "h__gmfxJM45I",
        "outputId": "e2850421-1461-43d3-c4c3-d54647b1974a"
      },
      "execution_count": null,
      "outputs": [
        {
          "output_type": "stream",
          "name": "stdout",
          "text": [
            "Contenido escrito en archivo.txt\n"
          ]
        }
      ]
    },
    {
      "cell_type": "code",
      "source": [
        "#Escritura\n",
        "contenido = \"\\nhola\"\n",
        "with open(\"archivo.txt\", 'a') as archivo:\n",
        "  archivo.write(contenido)\n",
        "  print(f\"Contenido escrito en archivo.txt\")"
      ],
      "metadata": {
        "colab": {
          "base_uri": "https://localhost:8080/"
        },
        "id": "2ggQKLzHIScI",
        "outputId": "9f3fb91e-d557-4e3e-f75b-1100bdf77d47"
      },
      "execution_count": null,
      "outputs": [
        {
          "output_type": "stream",
          "name": "stdout",
          "text": [
            "Contenido escrito en archivo.txt\n"
          ]
        }
      ]
    },
    {
      "cell_type": "code",
      "source": [
        "#Encapsulamiento\n",
        "class ArchivoManager:\n",
        "  def __init__(self, ruta: str):\n",
        "    self.ruta = ruta\n",
        "\n",
        "  def leer(self) -> str:\n",
        "    try:\n",
        "      with open(self.rut, 'r') as archivo:\n",
        "          return archivo.read()\n",
        "    except FileNotFoundError:\n",
        "      print(f\"Error: El archivo {self.ruta} no existe.\")\n",
        "      return \"\"\n",
        "\n",
        "  def escribir(self, contenido: str):\n",
        "    with open(self.ruta, 'a') as archivo:\n",
        "      archivo.write(contenido)\n",
        "      print(f\"Contenido escrito en {self.ruta}\")\n",
        "\n",
        "# Uso\n",
        "archivo = ArchivoManager('ZZZ.txt')\n",
        "#archivo.escribir(\"Este es un ejemplo.\")\n",
        "print(archivo.leer())"
      ],
      "metadata": {
        "colab": {
          "base_uri": "https://localhost:8080/"
        },
        "id": "JJ7_Bs1OIBxn",
        "outputId": "15b1facd-a66f-483c-e29b-85b955722854"
      },
      "execution_count": null,
      "outputs": [
        {
          "output_type": "stream",
          "name": "stdout",
          "text": [
            "Error: El archivo ZZZ.txt no existe.\n",
            "\n"
          ]
        }
      ]
    }
  ]
}