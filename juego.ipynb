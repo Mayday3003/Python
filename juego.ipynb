{
 "cells": [
  {
   "cell_type": "code",
   "execution_count": null,
   "metadata": {},
   "outputs": [],
   "source": [
    "from abc import ABC, abstractmethod\n",
    "import random\n",
    "\n",
    "\n",
    "class Position(ABC):\n",
    "    \n",
    "        \n",
    "    @abstractmethod\n",
    "    def  __str__(self):\n",
    "        return f'({self.x}, {self.y})'\n",
    "    \n",
    "\n",
    "class Lock:   \n",
    "class Grid:\n",
    "    def __init__(self, size):\n",
    "        self.size = size\n",
    "        self.grid = [[0 for i in range(size)] for i in range(size)]\n",
    "        self.blocked_cells = self.generate_blocked_cells()\n",
    "\n",
    "    def generate_blocked_cells(self):\n",
    "        num_blocked_cells = int(self.size ** 2 * 0.2)  #bloqueos en el 20% de las celdas\n",
    "        blocked_cells = set()\n",
    "        while len(blocked_cells) < num_blocked_cells:\n",
    "            x, y = random.randint(0, self.size - 1), random.randint(0, self.size - 1)\n",
    "            blocked_cells.add((x, y))\n",
    "        return blocked_cells\n",
    "   \n",
    "\n",
    "\n",
    "\n",
    "\n"
   ]
  }
 ],
 "metadata": {
  "kernelspec": {
   "display_name": "base",
   "language": "python",
   "name": "python3"
  },
  "language_info": {
   "codemirror_mode": {
    "name": "ipython",
    "version": 3
   },
   "file_extension": ".py",
   "mimetype": "text/x-python",
   "name": "python",
   "nbconvert_exporter": "python",
   "pygments_lexer": "ipython3",
   "version": "3.11.5"
  }
 },
 "nbformat": 4,
 "nbformat_minor": 2
}
