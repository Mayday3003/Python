{
  "cells": [
    {
      "cell_type": "markdown",
      "metadata": {
        "id": "io0H34N0P-M4"
      },
      "source": [
        "# 📘 Ejercicios Básicos de Grafos"
      ]
    },
    {
      "cell_type": "markdown",
      "metadata": {
        "id": "uRxDc-w6QMRn"
      },
      "source": [
        "\n",
        "# 🌟 Definiciones Base"
      ]
    },
    {
      "cell_type": "markdown",
      "metadata": {
        "id": "aC6yYBVqQBC4"
      },
      "source": [
        "\n",
        "---\n",
        "\n",
        "## 🛠️ Clase Grafo usando Lista de Adyacencia\n",
        "\n",
        "\n",
        "\n"
      ]
    },
    {
      "cell_type": "code",
      "execution_count": null,
      "metadata": {
        "colab": {
          "base_uri": "https://localhost:8080/"
        },
        "id": "W7j9KqP3QH9H",
        "outputId": "cb4ee3c7-3915-47ba-c51c-4a9fddac185a"
      },
      "outputs": [
        {
          "name": "stdout",
          "output_type": "stream",
          "text": [
            "{1: [3], 3: [1], 2: [10], 10: [2], 4: [6], 6: []}\n"
          ]
        }
      ],
      "source": [
        "class Graph:\n",
        "  def __init__(self):\n",
        "    self.adj_list: dict[(int,list[int])] = {}\n",
        "    self.size = 0\n",
        "    self.nonweight_value = 0 #valor no representativo\n",
        "    self.relation_value = 1\n",
        "\n",
        "  def add_vertex(self, vertex_value):\n",
        "    if(vertex_value in self.adj_list):\n",
        "      return\n",
        "\n",
        "    self.adj_list[vertex_value] = []\n",
        "    self.size += 1\n",
        "\n",
        "  def add_edge(self, vertex_1, vertex_2, directed = True, weight: int = None):\n",
        "    #si no existen los vértices, los creo...\n",
        "    if(vertex_1 not in self.adj_list):\n",
        "      self.add_vertex(vertex_1)\n",
        "\n",
        "    if(vertex_2 not in self.adj_list):\n",
        "      self.add_vertex(vertex_2)\n",
        "\n",
        "\n",
        "    #relation_weight = self.relation_value if weight is None else weight\n",
        "\n",
        "    if(not directed):\n",
        "      if(vertex_1 not in self.adj_list[vertex_2]):\n",
        "        self.adj_list[vertex_2].append(vertex_1)\n",
        "\n",
        "    if(vertex_2 not in self.adj_list[vertex_1]):\n",
        "      self.adj_list[vertex_1].append(vertex_2)\n",
        "\n",
        "  def __repr__(self):\n",
        "    return str(self.adj_list)\n",
        "\n",
        "g = Graph()\n",
        "g.add_edge(1,3)\n",
        "g.add_edge(2,10, directed = False)\n",
        "g.add_edge(3,1, weight = 99, directed = False)\n",
        "g.add_edge(4,6)\n",
        "print(g)"
      ]
    },
    {
      "cell_type": "markdown",
      "metadata": {
        "id": "kx7K9bHYQIUQ"
      },
      "source": [
        "---\n",
        "\n",
        "## 🛠️ Clase Grafo usando Matriz de Adyacencia"
      ]
    },
    {
      "cell_type": "code",
      "execution_count": null,
      "metadata": {
        "colab": {
          "base_uri": "https://localhost:8080/"
        },
        "id": "X0zPpmpCQNTv",
        "outputId": "86cfcc23-4a2f-4c00-8081-e3bedb65b7a4"
      },
      "outputs": [
        {
          "name": "stdout",
          "output_type": "stream",
          "text": [
            "[0, 99, 0, 0, 0, 0]\n",
            "[99, 0, 0, 0, 0, 0]\n",
            "[0, 0, 0, 1, 0, 0]\n",
            "[0, 0, 1, 0, 0, 0]\n",
            "[0, 0, 0, 0, 0, 1]\n",
            "[0, 0, 0, 0, 0, 0]\n",
            "\n",
            "[1, 3, 2, 10, 4, 6]\n"
          ]
        }
      ],
      "source": [
        "class Graph:\n",
        "  def __init__(self):\n",
        "    self.adj_matrix: list[list[int]] = []\n",
        "    self.nodes: list[int] = []\n",
        "    self.size = 0\n",
        "    self.nonweight_value = 0 #valor no representativo\n",
        "    self.relation_value = 1\n",
        "\n",
        "  def add_vertex(self, vertex_value):\n",
        "    if(vertex_value in self.nodes):\n",
        "      return\n",
        "\n",
        "    #agrego a la lista de nodos\n",
        "    self.nodes.append(vertex_value)\n",
        "    self.size += 1\n",
        "\n",
        "    #matriz de ady.\n",
        "    for row in self.adj_matrix:\n",
        "      row.append(self.nonweight_value)\n",
        "\n",
        "    self.adj_matrix.append([self.nonweight_value] * self.size)\n",
        "\n",
        "  def add_edge(self, vertex_1, vertex_2, directed = True, weight: int = None):\n",
        "    #si no existen los vértices, los creo...\n",
        "    if(vertex_1 not in self.nodes):\n",
        "      self.add_vertex(vertex_1)\n",
        "\n",
        "    if(vertex_2 not in self.nodes):\n",
        "      self.add_vertex(vertex_2)\n",
        "\n",
        "    pos_v1 = self.nodes.index(vertex_1)\n",
        "    pos_v2 = self.nodes.index(vertex_2)\n",
        "\n",
        "    relation_weight = self.relation_value if weight is None else weight\n",
        "\n",
        "    if(not directed):\n",
        "      self.adj_matrix[pos_v2][pos_v1] = relation_weight\n",
        "    self.adj_matrix[pos_v1][pos_v2] = relation_weight\n",
        "\n",
        "  def __repr__(self):\n",
        "    repr_matrix = \"\"\n",
        "    for row in self.adj_matrix:\n",
        "      repr_matrix += str(row) + \"\\n\"\n",
        "\n",
        "    repr_matrix += f\"\\n{self.nodes}\"\n",
        "\n",
        "    return repr_matrix\n",
        "\n",
        "g = Graph()\n",
        "g.add_edge(1,3)\n",
        "g.add_edge(2,10, directed = False)\n",
        "g.add_edge(3,1, weight = 99, directed = False)\n",
        "g.add_edge(4,6)\n",
        "print(g)"
      ]
    },
    {
      "cell_type": "code",
      "execution_count": null,
      "metadata": {
        "colab": {
          "base_uri": "https://localhost:8080/",
          "height": 159
        },
        "id": "c2tTVfYtVGdQ",
        "outputId": "f79f9606-1683-4c99-d4fd-e91013d7cbe5"
      },
      "outputs": [],
      "source": [
        "from typing import List\n",
        "#Implementación del grafo con matriz de adyacencia\n",
        "class Graph:\n",
        "    adyacent_matrix: List[List[int]]\n",
        "    nodes = List[int] = []\n",
        "    \n",
        "    \n",
        "    def add_node(self, value):\n",
        "        if self. \n",
        "        \n",
        "    "
      ]
    },
    {
      "cell_type": "markdown",
      "metadata": {
        "id": "6BpnQxWHQP7A"
      },
      "source": [
        "# 📝 Ejercicios propuestos"
      ]
    },
    {
      "cell_type": "markdown",
      "metadata": {
        "id": "ri09UckgQRpo"
      },
      "source": [
        "\n",
        "## 🧩 Ejercicio 1: Crear un Grafo Pequeño\n",
        "\n",
        "- Crea un grafo no dirigido con los vértices {A, B, C, D} y las aristas: A-B, A-C, B-D.\n",
        "- Muestra el grafo usando la **lista de adyacencia**.\n",
        "\n",
        "👉 **Tip**: Como es no dirigido, agrega las conexiones en ambos sentidos."
      ]
    },
    {
      "cell_type": "code",
      "execution_count": null,
      "metadata": {
        "id": "E6Br-_L_QSRh"
      },
      "outputs": [],
      "source": []
    },
    {
      "cell_type": "markdown",
      "metadata": {
        "id": "65s3Qlx2QUHX"
      },
      "source": [
        "---\n",
        "\n",
        "## 🧩 Ejercicio 2: Verificar conexión (Lista de Adyacencia)\n",
        "\n",
        "- Escribe una función `existe_conexion(grafo, u, v)` que devuelva `True` si existe una conexión de `u` a `v`.\n",
        "\n",
        "```python\n",
        "def existe_conexion(grafo, u, v):\n",
        "    return v in grafo.grafo.get(u, [])\n",
        "```\n",
        "\n",
        "Prueba con el grafo creado en el ejercicio 1."
      ]
    },
    {
      "cell_type": "code",
      "execution_count": null,
      "metadata": {
        "id": "BO9LqLe4QUtQ"
      },
      "outputs": [],
      "source": []
    },
    {
      "cell_type": "markdown",
      "metadata": {
        "id": "uyFwfYkzQV3C"
      },
      "source": [
        "---\n",
        "\n",
        "## 🧩 Ejercicio 3: Crear una Matriz de Adyacencia\n",
        "\n",
        "- Crea un grafo dirigido usando **matriz de adyacencia** con 4 vértices (0, 1, 2, 3).\n",
        "- Agrega las aristas: 0 -> 1, 0 -> 2, 1 -> 2, 2 -> 3.\n",
        "- Muestra la matriz."
      ]
    },
    {
      "cell_type": "code",
      "execution_count": null,
      "metadata": {
        "id": "EokCbRDKQWiY"
      },
      "outputs": [],
      "source": []
    },
    {
      "cell_type": "markdown",
      "metadata": {
        "id": "tODUgJeFQYM4"
      },
      "source": [
        "---\n",
        "\n",
        "## 🧩 Ejercicio 4: Verificar conexión (Matriz de Adyacencia)\n",
        "\n",
        "- Escribe una función `existe_conexion_matriz(grafo, u, v)` que devuelva `True` si existe una conexión de `u` a `v` en la matriz.\n",
        "\n",
        "```python\n",
        "def existe_conexion_matriz(grafo, u, v):\n",
        "    return grafo.matriz[u][v] == 1\n",
        "```\n",
        "\n",
        "Prueba con el grafo del ejercicio 3."
      ]
    },
    {
      "cell_type": "code",
      "execution_count": null,
      "metadata": {
        "id": "XhuB9MM7QZbo"
      },
      "outputs": [],
      "source": []
    },
    {
      "cell_type": "markdown",
      "metadata": {
        "id": "RBU5LdTuQbtx"
      },
      "source": [
        "---\n",
        "\n",
        "## 🧩 Ejercicio 5: Convertir Lista de Adyacencia a Matriz\n",
        "\n",
        "- Escribe una función que convierta una representación de **lista de adyacencia** a una **matriz de adyacencia**.\n",
        "\n",
        "👉 **Pista**: Necesitarás saber el número de vértices y mapearlos a índices."
      ]
    },
    {
      "cell_type": "code",
      "execution_count": null,
      "metadata": {
        "id": "f5CITMFQQcO4"
      },
      "outputs": [],
      "source": []
    },
    {
      "cell_type": "markdown",
      "metadata": {
        "id": "p9OHP8ylP7uS"
      },
      "source": [
        "\n",
        "\n",
        "\n",
        "\n",
        "\n",
        "\n",
        "\n",
        "\n",
        "\n",
        "\n",
        "\n",
        "\n",
        "\n",
        "\n",
        "\n",
        "---\n",
        "\n",
        "# 🚀 Resumen de lo aprendido\n",
        "\n",
        "- Crear grafos simples en ambas representaciones.\n",
        "- Buscar conexiones específicas.\n",
        "- Visualizar cómo se estructura internamente cada representación.\n",
        "\n",
        "✨ **Recuerda:** Entender estas representaciones es clave para los algoritmos de recorrido y búsqueda que veremos más adelante.\n",
        "\n",
        "---\n"
      ]
    },
    {
      "cell_type": "code",
      "execution_count": null,
      "metadata": {
        "id": "xErA2j6qP59M"
      },
      "outputs": [],
      "source": []
    }
  ],
  "metadata": {
    "colab": {
      "provenance": []
    },
    "kernelspec": {
      "display_name": "edd",
      "language": "python",
      "name": "python3"
    },
    "language_info": {
      "codemirror_mode": {
        "name": "ipython",
        "version": 3
      },
      "file_extension": ".py",
      "mimetype": "text/x-python",
      "name": "python",
      "nbconvert_exporter": "python",
      "pygments_lexer": "ipython3",
      "version": "3.13.2"
    }
  },
  "nbformat": 4,
  "nbformat_minor": 0
}
