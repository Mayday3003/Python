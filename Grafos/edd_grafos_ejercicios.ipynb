{
  "nbformat": 4,
  "nbformat_minor": 0,
  "metadata": {
    "colab": {
      "provenance": []
    },
    "kernelspec": {
      "name": "python3",
      "display_name": "Python 3"
    },
    "language_info": {
      "name": "python"
    }
  },
  "cells": [
    {
      "cell_type": "markdown",
      "source": [
        "# 📘 Ejercicios de Grafos"
      ],
      "metadata": {
        "id": "joHmmiDHbrIi"
      }
    },
    {
      "cell_type": "markdown",
      "source": [
        "\n",
        "---\n",
        "\n",
        "# 🧩 Ejercicio 1: Número de Islas\n",
        "\n",
        "## Descripción\n",
        "Dada una matriz de 0s y 1s, donde 1 representa tierra y 0 representa agua, cuenta el número de islas.\n",
        "Una isla está formada por un grupo de tierras conectadas **vertical u horizontalmente** (no en diagonal).\n",
        "\n",
        "Debes recorrer toda la matriz, identificando y contando cada isla como un grupo de tierras conectadas.\n",
        "\n",
        "## Ejemplo\n",
        "Entrada:\n",
        "```python\n",
        "matriz = [\n",
        "  ['1','1','0','0','0'],\n",
        "  ['1','1','0','0','0'],\n",
        "  ['0','0','1','0','0'],\n",
        "  ['0','0','0','1','1']\n",
        "]\n",
        "```\n",
        "Salida esperada:\n",
        "```python\n",
        "3\n",
        "```\n",
        "(Existen tres bloques separados de tierras.)"
      ],
      "metadata": {
        "id": "YAIoUd2ubvvS"
      }
    },
    {
      "cell_type": "code",
      "source": [],
      "metadata": {
        "id": "X4_NLbwvbzMz"
      },
      "execution_count": null,
      "outputs": []
    },
    {
      "cell_type": "markdown",
      "source": [
        "---\n",
        "\n",
        "# 🧩 Ejercicio 2: Nodo con Mayor Cantidad de Caminos\n",
        "\n",
        "## Descripción\n",
        "Dado un grafo dirigido, determina desde qué nodo se puede alcanzar la mayor cantidad de nodos diferentes.\n",
        "\n",
        "Para cada nodo, realiza un recorrido para ver a cuántos otros nodos puede llegar y selecciona el nodo con el mayor alcance.\n",
        "\n",
        "## Ejemplo\n",
        "Entrada:\n",
        "```python\n",
        "grafo = {\n",
        "  'A': ['B', 'C'],\n",
        "  'B': ['D'],\n",
        "  'C': ['D'],\n",
        "  'D': []\n",
        "}\n",
        "```\n",
        "Salida esperada:\n",
        "```python\n",
        "'A'\n",
        "```\n",
        "('A' puede llegar a 'B', 'C' y 'D')."
      ],
      "metadata": {
        "id": "_1xQtsIWbz-z"
      }
    },
    {
      "cell_type": "code",
      "source": [],
      "metadata": {
        "id": "VWFCvxw8b2a7"
      },
      "execution_count": null,
      "outputs": []
    },
    {
      "cell_type": "markdown",
      "source": [
        "---\n",
        "\n",
        "# 🧩 Ejercicio 3: Camino más corto en un laberinto\n",
        "\n",
        "## Descripción\n",
        "Dado un laberinto representado como una matriz de 0s (libre) y 1s (muro), encuentra la mínima cantidad de movimientos necesarios para ir de una posición de inicio a una posición de fin.\n",
        "\n",
        "Sólo puedes moverte **arriba, abajo, izquierda o derecha**.\n",
        "\n",
        "## Ejemplo\n",
        "Entrada:\n",
        "```python\n",
        "laberinto = [\n",
        "  [0, 1, 0, 0, 0],\n",
        "  [0, 1, 0, 1, 0],\n",
        "  [0, 0, 0, 1, 0],\n",
        "  [0, 1, 1, 1, 0],\n",
        "  [0, 0, 0, 0, 0]\n",
        "]\n",
        "Inicio = (0,0), Fin = (4,4)\n",
        "```\n",
        "Salida esperada:\n",
        "```python\n",
        "8\n",
        "```\n",
        "(Un posible camino tiene 8 pasos.)"
      ],
      "metadata": {
        "id": "QScwVPKJb4qq"
      }
    },
    {
      "cell_type": "code",
      "source": [],
      "metadata": {
        "id": "P7KrAF-3b5ey"
      },
      "execution_count": null,
      "outputs": []
    },
    {
      "cell_type": "markdown",
      "source": [
        "---\n",
        "\n",
        "# 🧩 Ejercicio 4: Detección de ciclo en grafo no dirigido\n",
        "\n",
        "## Descripción\n",
        "Dado un grafo no dirigido, determina si existe **algún ciclo**.\n",
        "\n",
        "Un ciclo es una secuencia de aristas donde se puede empezar en un nodo y volver al mismo nodo siguiendo las conexiones, sin repetir aristas.\n",
        "\n",
        "## Ejemplo\n",
        "Entrada:\n",
        "```python\n",
        "grafo = {\n",
        "  0: [1, 2],\n",
        "  1: [0, 2],\n",
        "  2: [0, 1, 3],\n",
        "  3: [2]\n",
        "}\n",
        "```\n",
        "Salida esperada:\n",
        "```python\n",
        "True\n",
        "```\n",
        "(Aquí 0-1-2-0 es un ciclo.)"
      ],
      "metadata": {
        "id": "czqTzRNscHBD"
      }
    },
    {
      "cell_type": "code",
      "source": [],
      "metadata": {
        "id": "1SPebj3qcHxL"
      },
      "execution_count": null,
      "outputs": []
    },
    {
      "cell_type": "markdown",
      "source": [
        "---\n",
        "\n",
        "# 🧩 Ejercicio 5: Componentes Fuertemente Conexas\n",
        "\n",
        "## Descripción\n",
        "Dado un grafo dirigido, encuentra el número de **componentes fuertemente conexas**.\n",
        "\n",
        "Un componente fuertemente conexo es un grupo de nodos donde **todos son alcanzables entre sí**.\n",
        "\n",
        "## Ejemplo\n",
        "Entrada:\n",
        "```python\n",
        "grafo = {\n",
        "  0: [1],\n",
        "  1: [2],\n",
        "  2: [0,3],\n",
        "  3: [4],\n",
        "  4: []\n",
        "}\n",
        "```\n",
        "Salida esperada:\n",
        "```python\n",
        "2\n",
        "```\n",
        "(El grupo {0,1,2} forma una componente fuerte, y {3} y {4} son independientes.)"
      ],
      "metadata": {
        "id": "syYg3lM-cKHT"
      }
    },
    {
      "cell_type": "code",
      "source": [],
      "metadata": {
        "id": "vp58tFqzcK3S"
      },
      "execution_count": null,
      "outputs": []
    },
    {
      "cell_type": "markdown",
      "source": [
        "---\n",
        "\n",
        "# 🧩 Ejercicio 6: Verificar si se pueden completar cursos\n",
        "\n",
        "## Descripción\n",
        "Dado un número de cursos y una lista de prerrequisitos (dependencias entre cursos), determina si es posible completarlos todos.\n",
        "\n",
        "Si hay ciclos en las dependencias, no será posible.\n",
        "\n",
        "## Ejemplo\n",
        "Entrada:\n",
        "```python\n",
        "numCursos = 4\n",
        "prerrequisitos = [[1,0],[2,1],[3,2]]\n",
        "```\n",
        "Salida esperada:\n",
        "```python\n",
        "True\n",
        "```\n",
        "(Todas las dependencias se pueden cumplir.)\n",
        "\n",
        "Entrada:\n",
        "```python\n",
        "numCursos = 2\n",
        "prerrequisitos = [[0,1],[1,0]]\n",
        "```\n",
        "Salida esperada:\n",
        "```python\n",
        "False\n",
        "```\n",
        "(Existe un ciclo entre los cursos.)"
      ],
      "metadata": {
        "id": "nizMl_4CcND5"
      }
    },
    {
      "cell_type": "code",
      "source": [],
      "metadata": {
        "id": "mheWQ0S7cOai"
      },
      "execution_count": null,
      "outputs": []
    },
    {
      "cell_type": "markdown",
      "source": [
        "---\n",
        "\n",
        "# 🧩 Ejercicio 7: Restaurar rutas en una red\n",
        "\n",
        "## Descripción\n",
        "Dado un grafo no dirigido y una computadora (nodo) que ha fallado, determina si es posible seguir comunicando todos los nodos restantes.\n",
        "\n",
        "Un grafo sigue comunicado si sigue siendo conexo luego de eliminar el nodo fallido.\n",
        "\n",
        "## Ejemplo\n",
        "Entrada:\n",
        "```python\n",
        "grafo = {\n",
        "  0: [1, 2],\n",
        "  1: [0, 2],\n",
        "  2: [0, 1, 3],\n",
        "  3: [2]\n",
        "}\n",
        "Caída = 1\n",
        "```\n",
        "Salida esperada:\n",
        "```python\n",
        "True\n",
        "```\n",
        "(A pesar de la caída, los otros nodos siguen conectados.)"
      ],
      "metadata": {
        "id": "40HxFwAocQTC"
      }
    },
    {
      "cell_type": "code",
      "source": [],
      "metadata": {
        "id": "NQ_afBFacRDi"
      },
      "execution_count": null,
      "outputs": []
    },
    {
      "cell_type": "markdown",
      "source": [
        "---\n",
        "\n",
        "# 🧩 Ejercicio 8: Número de caminos únicos entre dos nodos\n",
        "\n",
        "## Descripción\n",
        "Dado un grafo dirigido acíclico (DAG), encuentra el número total de **caminos diferentes** de un nodo origen a un nodo destino.\n",
        "\n",
        "Cada camino es una secuencia distinta de nodos.\n",
        "\n",
        "## Ejemplo\n",
        "Entrada:\n",
        "```python\n",
        "grafo = {\n",
        "  0: [1,2],\n",
        "  1: [3],\n",
        "  2: [3],\n",
        "  3: []\n",
        "}\n",
        "Inicio = 0, Fin = 3\n",
        "```\n",
        "Salida esperada:\n",
        "```python\n",
        "2\n",
        "```\n",
        "(Hay dos caminos: 0→1→3 y 0→2→3.)"
      ],
      "metadata": {
        "id": "zLtIfuqhcSwk"
      }
    },
    {
      "cell_type": "code",
      "source": [],
      "metadata": {
        "id": "yFxk4QeRcY4B"
      },
      "execution_count": null,
      "outputs": []
    },
    {
      "cell_type": "markdown",
      "source": [
        "---\n",
        "\n",
        "# 🧩 Ejercicio 9: Dijkstra básico\n",
        "\n",
        "## Descripción\n",
        "Implementa el algoritmo de Dijkstra para encontrar el costo mínimo desde un nodo origen a todos los demás nodos en un grafo ponderado con pesos positivos.\n",
        "\n",
        "## Ejemplo\n",
        "Entrada:\n",
        "```python\n",
        "grafo = {\n",
        "  0: [(1,4),(2,1)],\n",
        "  1: [(3,1)],\n",
        "  2: [(1,2),(3,5)],\n",
        "  3: []\n",
        "}\n",
        "Inicio = 0\n",
        "```\n",
        "Salida esperada:\n",
        "```python\n",
        "{0:0, 1:3, 2:1, 3:4}\n",
        "```\n",
        "\n",
        "(Desde 0, el costo mínimo para llegar a cada nodo.)"
      ],
      "metadata": {
        "id": "RZXc75_xcbK6"
      }
    },
    {
      "cell_type": "code",
      "source": [],
      "metadata": {
        "id": "Uvo1o8iech_6"
      },
      "execution_count": null,
      "outputs": []
    },
    {
      "cell_type": "markdown",
      "source": [
        "\n",
        "\n",
        "\n",
        "\n",
        "\n",
        "\n",
        "\n",
        "\n",
        "\n",
        "\n",
        "\n",
        "\n",
        "\n",
        "\n",
        "\n",
        "\n",
        "\n",
        "\n",
        "---\n",
        "\n",
        "# 🧩 Ejercicio 10: Ordenar tareas con dependencias\n",
        "\n",
        "## Descripción\n",
        "Dado un conjunto de tareas y dependencias, devuelve un **orden válido** de realización (ordenamiento topológico).\n",
        "\n",
        "Cada dependencia `('A', 'B')` indica que 'A' debe hacerse antes que 'B'.\n",
        "\n",
        "## Ejemplo\n",
        "Entrada:\n",
        "```python\n",
        "tareas = ['Cocinar', 'Poner la Mesa', 'Servir', 'Lavar Platos']\n",
        "dependencias = [\n",
        "  ('Cocinar', 'Servir'),\n",
        "  ('Poner la Mesa', 'Servir'),\n",
        "  ('Servir', 'Lavar Platos')\n",
        "]\n",
        "```\n",
        "Salida esperada (un posible orden):\n",
        "```python\n",
        "['Cocinar', 'Poner la Mesa', 'Servir', 'Lavar Platos']\n",
        "```\n",
        "\n"
      ],
      "metadata": {
        "id": "WeUjMDxkbpzV"
      }
    },
    {
      "cell_type": "code",
      "source": [],
      "metadata": {
        "id": "mNuKft-hc4di"
      },
      "execution_count": null,
      "outputs": []
    }
  ]
}