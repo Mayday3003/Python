{
  "nbformat": 4,
  "nbformat_minor": 0,
  "metadata": {
    "colab": {
      "provenance": []
    },
    "kernelspec": {
      "name": "python3",
      "display_name": "Python 3"
    },
    "language_info": {
      "name": "python"
    }
  },
  "cells": [
    {
      "cell_type": "markdown",
      "source": [
        "# 📝 **Recursión de Cola vs Recursión No de Cola**\n",
        "\n",
        "## 📌 **¿Qué es la recursión?**\n",
        "La **recursión** es una técnica en la que una función se llama a sí misma para resolver un problema dividiéndolo en subproblemas más pequeños. Sin embargo, existen dos tipos importantes:  \n",
        "\n",
        "1️⃣ **Recursión de Cola (Tail Recursion)**  \n",
        "2️⃣ **Recursión No de Cola (Non-Tail Recursion)**  \n",
        "\n",
        "---\n",
        "\n",
        "## 🌀 **1. Recursión de Cola (Tail Recursion)**\n",
        "### ✅ **Definición**  \n",
        "Una función tiene **recursión de cola** si la **llamada recursiva es la última operación** que realiza la función antes de retornar el resultado. No hay ninguna operación pendiente después de la recursión.  \n",
        "\n",
        "### 🚀 **Características Clave**\n",
        "- La llamada recursiva **es la última instrucción** en la función.\n",
        "- No requiere almacenar contextos intermedios en la pila de llamadas.\n",
        "- Puede optimizarse mediante **Tail Call Optimization (TCO)** en algunos lenguajes, reduciendo el consumo de memoria.\n",
        "- Puede convertirse fácilmente en una solución **iterativa**.\n",
        "\n",
        "### 🔎 **Ejemplo en Python**\n",
        "```python\n",
        "def factorial_tail(n, acc=1):\n",
        "    if n == 0:\n",
        "        return acc  # Caso base: devuelve el acumulador\n",
        "    return factorial_tail(n - 1, acc * n)  # Llamada recursiva como última operación\n",
        "\n",
        "print(factorial_tail(5))  # 120\n",
        "```\n",
        "🔹 Aquí, `acc` (acumulador) almacena el resultado parcial y se pasa a la siguiente llamada, evitando acumulaciones en la pila.\n",
        "\n",
        "---\n",
        "\n",
        "## 🌀 **2. Recursión No de Cola (Non-Tail Recursion)**\n",
        "### ✅ **Definición**  \n",
        "Una función tiene **recursión no de cola** cuando **la llamada recursiva no es la última operación** de la función. Después de la recursión, hay más cálculos o combinaciones de resultados antes de retornar.\n",
        "\n",
        "### 🚀 **Características Clave**\n",
        "- La llamada recursiva **no es la última instrucción**.\n",
        "- La pila de llamadas crece porque cada llamada debe recordar operaciones pendientes.\n",
        "- **Menos eficiente en términos de memoria**, especialmente en problemas con profundidad alta de recursión.\n",
        "- No se puede optimizar con **Tail Call Optimization (TCO)**.\n",
        "\n",
        "### 🔎 **Ejemplo en Python**\n",
        "```python\n",
        "def factorial_non_tail(n):\n",
        "    if n == 0:\n",
        "        return 1  # Caso base\n",
        "    return n * factorial_non_tail(n - 1)  # Multiplicación ocurre después de la recursión\n",
        "\n",
        "print(factorial_non_tail(5))  # 120\n",
        "```\n",
        "🔹 Aquí, la llamada `factorial_non_tail(n - 1)` se resuelve antes de realizar la multiplicación con `n`, lo que impide optimización de la pila.\n",
        "\n",
        "---\n",
        "\n",
        "## 📊 **Comparación Recursión de Cola vs No de Cola**\n",
        "| Característica           | Recursión de Cola  | Recursión No de Cola |\n",
        "|--------------------------|-------------------|----------------------|\n",
        "| **Posición de la llamada recursiva** | Última operación  | Antes de retornar |\n",
        "| **Uso de pila**         | No crece (optimizable) | Crece (llamadas pendientes) |\n",
        "| **Eficiencia**          | Más eficiente      | Menos eficiente |\n",
        "| **Conversión a iterativo** | Fácil            | Difícil |\n",
        "| **Optimización (TCO)** | Posible en algunos lenguajes | No aplicable |\n",
        "\n",
        "---\n",
        "\n",
        "## 🎯 **Conclusión**\n",
        "- ✅ **Usa recursión de cola** cuando sea posible para mejorar la eficiencia y evitar desbordamientos de pila.  \n",
        "- ❌ **Evita la recursión no de cola** en problemas con profundidad grande, ya que puede consumir demasiada memoria.  \n",
        "- 🔁 **Si el lenguaje no optimiza la recursión de cola**, considera **usar iteración** en su lugar.\n",
        "\n",
        "---\n"
      ],
      "metadata": {
        "id": "iOGKquLRIBLz"
      }
    },
    {
      "cell_type": "markdown",
      "source": [
        "# Contar cuántos pares hay en una lista."
      ],
      "metadata": {
        "id": "TwZpQKVVpDjA"
      }
    },
    {
      "cell_type": "code",
      "source": [
        "#Tail Recursion\n",
        "def contar_pares(lista: list[int], i:int = 0, pares: int = 0):\n",
        "  if(i == len(lista)):\n",
        "    return pares\n",
        "\n",
        "  if(lista[i] % 2 == 0):\n",
        "    pares += 1\n",
        "\n",
        "  return contar_pares(lista, i+1, pares)\n",
        "\n",
        "contar_pares([3,4,5,6])"
      ],
      "metadata": {
        "id": "B_c9K__RfrJO",
        "colab": {
          "base_uri": "https://localhost:8080/"
        },
        "outputId": "3f8627c5-2371-4558-a82a-a2279c2da684"
      },
      "execution_count": null,
      "outputs": [
        {
          "output_type": "execute_result",
          "data": {
            "text/plain": [
              "2"
            ]
          },
          "metadata": {},
          "execution_count": 1
        }
      ]
    },
    {
      "cell_type": "code",
      "source": [
        "#Non-Tail Recursion\n",
        "def contar_pares(lista: list[int], i:int = 0):\n",
        "  if(i == len(lista)):\n",
        "    return 0\n",
        "\n",
        "  if(lista[i] % 2 == 0):\n",
        "    return 1 + contar_pares(lista, i+1)\n",
        "  else:\n",
        "    return 0 + contar_pares(lista, i+1)\n",
        "\n",
        "\n",
        "contar_pares([3,4,5,6])"
      ],
      "metadata": {
        "colab": {
          "base_uri": "https://localhost:8080/"
        },
        "id": "qDz0dA0ZpV0A",
        "outputId": "b8364212-5152-436f-ba05-5035211b0a2e"
      },
      "execution_count": null,
      "outputs": [
        {
          "output_type": "execute_result",
          "data": {
            "text/plain": [
              "2"
            ]
          },
          "metadata": {},
          "execution_count": 2
        }
      ]
    },
    {
      "cell_type": "markdown",
      "source": [
        "---\n",
        "\n",
        "### 🧩 **1. Suma de los elementos de una lista**\n",
        "\n",
        "📝 **Enunciado:**\n",
        "Dada una lista de números enteros, escribe una función recursiva que calcule la suma total de sus elementos. Implementa una versión **no de cola** y una versión **con recursión de cola** que utilice un acumulador.\n",
        "\n",
        "🎯 **Evalúa:**\n",
        "\n",
        "* Transformación a tail recursion\n",
        "* Eficiencia en uso de memoria\n",
        "* Descomposición del problema\n"
      ],
      "metadata": {
        "id": "6LSQTvuPoosT"
      }
    },
    {
      "cell_type": "code",
      "source": [],
      "metadata": {
        "id": "S3LyPuOboq08"
      },
      "execution_count": null,
      "outputs": []
    },
    {
      "cell_type": "markdown",
      "source": [
        "\n",
        "---\n",
        "\n",
        "### 🔢 **2. Cálculo del n-ésimo número de Fibonacci**\n",
        "\n",
        "📝 **Enunciado:**\n",
        "Implementa una función recursiva que calcule el n-ésimo número de Fibonacci. Primero hazlo con una versión **tradicional (no de cola)**, y luego una versión **con recursión de cola** utilizando múltiples acumuladores.\n",
        "\n",
        "🎯 **Evalúa:**\n",
        "\n",
        "* Reescritura de funciones ineficientes\n",
        "* Transformación de funciones recursivas dobles\n",
        "* Control del crecimiento exponencial de llamadas\n"
      ],
      "metadata": {
        "id": "X7mh8TuAorD-"
      }
    },
    {
      "cell_type": "code",
      "source": [],
      "metadata": {
        "id": "YveBacSCosuX"
      },
      "execution_count": null,
      "outputs": []
    },
    {
      "cell_type": "markdown",
      "source": [
        "\n",
        "---\n",
        "\n",
        "### 📐 **3. Verificar si una cadena es un palíndromo**\n",
        "\n",
        "📝 **Enunciado:**\n",
        "Dada una cadena de texto, verifica si es un palíndromo utilizando recursión. Escribe una versión que sea naturalmente no de cola, y discute cómo (o si) puede transformarse en recursión de cola.\n",
        "\n",
        "🎯 **Evalúa:**\n",
        "\n",
        "* Limitaciones estructurales de tail recursion\n",
        "* Caso de retorno múltiple\n",
        "* Optimización y reversibilidad"
      ],
      "metadata": {
        "id": "RpE7FK2jotJ9"
      }
    },
    {
      "cell_type": "code",
      "source": [],
      "metadata": {
        "id": "X1Ld5TqPou0c"
      },
      "execution_count": null,
      "outputs": []
    },
    {
      "cell_type": "markdown",
      "source": [
        "---\n",
        "\n",
        "### 🌀 **4. Cálculo del factorial de un número**\n",
        "\n",
        "📝 **Enunciado:**\n",
        "Implementa una función recursiva para calcular el factorial de un número n. Realiza tanto la versión tradicional como la versión con acumulador (tail recursion). Compara la profundidad de la pila en ambos casos para n=1000.\n",
        "\n",
        "🎯 **Evalúa:**\n",
        "\n",
        "* Uso de acumuladores\n",
        "* Aplicación directa de tail recursion\n",
        "* Comparación de profundidad de pila"
      ],
      "metadata": {
        "id": "45Mqm0kqovQa"
      }
    },
    {
      "cell_type": "code",
      "source": [],
      "metadata": {
        "id": "QtxNZNMQoyFD"
      },
      "execution_count": null,
      "outputs": []
    },
    {
      "cell_type": "markdown",
      "source": [
        "\n",
        "\n",
        "---\n",
        "\n",
        "### 🔄 **5. Invertir una lista (sin usar slicing ni funciones built-in)**\n",
        "\n",
        "📝 **Enunciado:**\n",
        "Escribe una función recursiva que invierta una lista. Primero hazlo de forma **no de cola**, y luego intenta una versión **de cola** con una lista acumuladora como parámetro auxiliar.\n",
        "\n",
        "🎯 **Evalúa:**\n",
        "\n",
        "* Dificultad de transformar ciertas recursiones\n",
        "* Recorridos de derecha a izquierda\n",
        "* Técnicas de acumulación de resultados\n",
        "\n",
        "---\n",
        "\n"
      ],
      "metadata": {
        "id": "HljnbW5BomvF"
      }
    },
    {
      "cell_type": "code",
      "source": [],
      "metadata": {
        "id": "9t3pOIyTfrGq"
      },
      "execution_count": null,
      "outputs": []
    },
    {
      "cell_type": "markdown",
      "source": [
        "---\n",
        "\n",
        "### 🧠 **6. Evaluación de una expresión matemática en notación postfija**\n",
        "\n",
        "📝 **Enunciado:**\n",
        "Dada una lista que representa una expresión matemática en notación postfija (por ejemplo: `[\"3\", \"4\", \"+\", \"2\", \"*\"]`), implementa una función recursiva que la evalúe.\n",
        "\n",
        "* Primero, realiza una versión no de cola que procese la lista desde el final.\n",
        "* Luego, intenta convertirla en una versión tail-recursive usando una pila acumuladora.\n",
        "\n",
        "🎯 **Evalúa:**\n",
        "\n",
        "* Simulación explícita del stack de operaciones\n",
        "* Transformación de recursión implícita a explícita\n",
        "* Rol de acumuladores en contextos no triviales"
      ],
      "metadata": {
        "id": "-4b-hLC6pJNi"
      }
    },
    {
      "cell_type": "code",
      "source": [],
      "metadata": {
        "id": "HQVL7JG1pJ1z"
      },
      "execution_count": null,
      "outputs": []
    },
    {
      "cell_type": "markdown",
      "source": [
        "---\n",
        "\n",
        "### 🌲 **7. Recorrido inorder de un árbol binario y acumulación de valores**\n",
        "\n",
        "📝 **Enunciado:**\n",
        "Implementa una función recursiva que realice el recorrido **inorder** de un árbol binario y acumule los valores en una lista.\n",
        "\n",
        "* Discute si este tipo de recorrido puede implementarse con recursión de cola.\n",
        "* Propón una versión que utilice una pila auxiliar si es necesario.\n",
        "\n",
        "🎯 **Evalúa:**\n",
        "\n",
        "* Restricciones estructurales que impiden la tail recursion\n",
        "* Uso de estructuras auxiliares para lograr tail recursion\n",
        "* Separación de procesamiento entre subárboles izquierdo y derecho"
      ],
      "metadata": {
        "id": "eTZEycx1pLdD"
      }
    },
    {
      "cell_type": "code",
      "source": [],
      "metadata": {
        "id": "S8jlOIVbpMxl"
      },
      "execution_count": null,
      "outputs": []
    },
    {
      "cell_type": "markdown",
      "source": [
        "---\n",
        "\n",
        "### 🔍 **8. Búsqueda en un árbol general (n-ario)**\n",
        "\n",
        "📝 **Enunciado:**\n",
        "Dado un árbol general (no necesariamente binario), implementa una búsqueda recursiva para verificar si un nodo con un valor dado existe.\n",
        "\n",
        "* Escribe una versión que recorra el árbol de manera recursiva clásica (DFS preorden).\n",
        "* Intenta convertirla en tail recursion si es posible, y justifica tu diseño.\n",
        "\n",
        "🎯 **Evalúa:**\n",
        "\n",
        "* Profundidad vs. anchura en búsqueda\n",
        "* Control explícito de pila o cola de recorrido\n",
        "* Naturaleza no lineal que complica la tail recursion"
      ],
      "metadata": {
        "id": "GOmyIowVpNDM"
      }
    },
    {
      "cell_type": "code",
      "source": [],
      "metadata": {
        "id": "fiO_0mkopQIM"
      },
      "execution_count": null,
      "outputs": []
    },
    {
      "cell_type": "markdown",
      "source": [
        "---\n",
        "\n",
        "### 🔁 **9. Generación de todas las permutaciones de un conjunto con elementos repetidos**\n",
        "\n",
        "📝 **Enunciado:**\n",
        "Implementa una función recursiva que genere todas las permutaciones posibles de una lista de elementos (por ejemplo, `[1, 2, 2]`), **evitando repeticiones**.\n",
        "\n",
        "* Escribe una versión clásica recursiva.\n",
        "* Reflexiona si es posible aplicar tail recursion en este contexto y qué consecuencias tendría sobre la lógica del backtracking.\n",
        "\n",
        "🎯 **Evalúa:**\n",
        "\n",
        "* Interacción entre recursión y poda de ramas\n",
        "* Dificultad de usar acumuladores cuando se necesita retroceso (backtracking ≠ tail recursion)\n",
        "* El papel del estado en el camino de ejecución"
      ],
      "metadata": {
        "id": "0nBjSl_RpRwb"
      }
    },
    {
      "cell_type": "code",
      "source": [],
      "metadata": {
        "id": "-EnkeTGTpUCu"
      },
      "execution_count": null,
      "outputs": []
    },
    {
      "cell_type": "markdown",
      "source": [
        "---\n",
        "\n",
        "### 🧮 **10. Implementación de un algoritmo de división entera por restas sucesivas**\n",
        "\n",
        "📝 **Enunciado:**\n",
        "Implementa un algoritmo recursivo para dividir dos números enteros positivos `a` y `b` usando únicamente restas sucesivas.\n",
        "\n",
        "* Primero hazlo en versión no de cola.\n",
        "* Luego transforma la función a tail recursion usando un contador de cuántas veces se ha restado `b` de `a`.\n",
        "\n",
        "🎯 **Evalúa:**\n",
        "\n",
        "* Simulación de procesos iterativos usando tail recursion\n",
        "* Reorganización del orden de operaciones\n",
        "* Similitud con la implementación de bucles\n",
        "\n"
      ],
      "metadata": {
        "id": "jWfeU__FpUU0"
      }
    },
    {
      "cell_type": "code",
      "source": [],
      "metadata": {
        "id": "MgLnsDDIfrEJ"
      },
      "execution_count": null,
      "outputs": []
    }
  ]
}