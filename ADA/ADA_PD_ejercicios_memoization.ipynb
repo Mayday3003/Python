{
  "cells": [
    {
      "cell_type": "markdown",
      "metadata": {
        "id": "zwOJPSxwcpbw"
      },
      "source": [
        "# Ejercicios"
      ]
    },
    {
      "cell_type": "markdown",
      "metadata": {
        "id": "jqXQOnguctYW"
      },
      "source": [
        "## 1) 🧠 Climbing Stairs (variación clásica)\n",
        "\n",
        "**Enunciado.**\n",
        "Tienes una escalera con `n` peldaños. En cada movimiento puedes subir **1** o **2** peldaños. Retorna **cuántas formas distintas** hay de llegar exactamente al peldaño `n`.\n",
        "\n",
        "* **Entrada:** `n` (0 ≤ n ≤ 10⁴)\n",
        "* **Salida:** número de formas (entero)\n",
        "* **Ejemplos:**\n",
        "\n",
        "  * n=2 → 2  (1+1, 2)\n",
        "  * n=3 → 3  (1+1+1, 1+2, 2+1)\n",
        "\n",
        "**Pistas (memoization):**\n",
        "\n",
        "* **Estado:** `f(i)` = #formas de llegar a `i`.\n",
        "* **Casos base:** `f(0)=1` (una forma “vacía”), `i<0 ⇒ 0`.\n",
        "* **Transición:** `f(i) = f(i-1) + f(i-2)`.\n",
        "* **Complejidad esperada:** O(n) tiempo y O(n) espacio (memo + call stack).\n",
        "\n",
        "> 🎯 Objetivo didáctico: ver subproblemas superpuestos y el patrón “sumar opciones”.\n"
      ]
    },
    {
      "cell_type": "code",
      "execution_count": null,
      "metadata": {
        "colab": {
          "base_uri": "https://localhost:8080/"
        },
        "collapsed": true,
        "id": "pupLBeCpcw3g",
        "outputId": "ac3fc851-f7ec-4289-fb3b-a608f2dfc3db"
      },
      "outputs": [
        {
          "name": "stdout",
          "output_type": "stream",
          "text": [
            "{1: 1, 2: 2, 3: 3}\n",
            "{1: 1, 2: 2, 3: 3, 4: 5}\n",
            "{1: 1, 2: 2, 3: 3, 4: 5, 5: 8}\n",
            "{1: 1, 2: 2, 3: 3, 4: 5, 5: 8, 6: 13}\n",
            "{1: 1, 2: 2, 3: 3, 4: 5, 5: 8, 6: 13, 7: 21}\n",
            "{1: 1, 2: 2, 3: 3, 4: 5, 5: 8, 6: 13, 7: 21, 8: 34}\n",
            "{1: 1, 2: 2, 3: 3, 4: 5, 5: 8, 6: 13, 7: 21, 8: 34, 9: 55}\n",
            "{1: 1, 2: 2, 3: 3, 4: 5, 5: 8, 6: 13, 7: 21, 8: 34, 9: 55, 10: 89}\n",
            "{1: 1, 2: 2, 3: 3, 4: 5, 5: 8, 6: 13, 7: 21, 8: 34, 9: 55, 10: 89, 11: 144}\n",
            "{1: 1, 2: 2, 3: 3, 4: 5, 5: 8, 6: 13, 7: 21, 8: 34, 9: 55, 10: 89, 11: 144, 12: 233}\n",
            "{1: 1, 2: 2, 3: 3, 4: 5, 5: 8, 6: 13, 7: 21, 8: 34, 9: 55, 10: 89, 11: 144, 12: 233, 13: 377}\n",
            "{1: 1, 2: 2, 3: 3, 4: 5, 5: 8, 6: 13, 7: 21, 8: 34, 9: 55, 10: 89, 11: 144, 12: 233, 13: 377, 14: 610}\n",
            "{1: 1, 2: 2, 3: 3, 4: 5, 5: 8, 6: 13, 7: 21, 8: 34, 9: 55, 10: 89, 11: 144, 12: 233, 13: 377, 14: 610, 15: 987}\n",
            "{1: 1, 2: 2, 3: 3, 4: 5, 5: 8, 6: 13, 7: 21, 8: 34, 9: 55, 10: 89, 11: 144, 12: 233, 13: 377, 14: 610, 15: 987, 16: 1597}\n",
            "{1: 1, 2: 2, 3: 3, 4: 5, 5: 8, 6: 13, 7: 21, 8: 34, 9: 55, 10: 89, 11: 144, 12: 233, 13: 377, 14: 610, 15: 987, 16: 1597, 17: 2584}\n",
            "{1: 1, 2: 2, 3: 3, 4: 5, 5: 8, 6: 13, 7: 21, 8: 34, 9: 55, 10: 89, 11: 144, 12: 233, 13: 377, 14: 610, 15: 987, 16: 1597, 17: 2584, 18: 4181}\n",
            "{1: 1, 2: 2, 3: 3, 4: 5, 5: 8, 6: 13, 7: 21, 8: 34, 9: 55, 10: 89, 11: 144, 12: 233, 13: 377, 14: 610, 15: 987, 16: 1597, 17: 2584, 18: 4181, 19: 6765}\n",
            "{1: 1, 2: 2, 3: 3, 4: 5, 5: 8, 6: 13, 7: 21, 8: 34, 9: 55, 10: 89, 11: 144, 12: 233, 13: 377, 14: 610, 15: 987, 16: 1597, 17: 2584, 18: 4181, 19: 6765, 20: 10946}\n",
            "{1: 1, 2: 2, 3: 3, 4: 5, 5: 8, 6: 13, 7: 21, 8: 34, 9: 55, 10: 89, 11: 144, 12: 233, 13: 377, 14: 610, 15: 987, 16: 1597, 17: 2584, 18: 4181, 19: 6765, 20: 10946, 21: 17711}\n",
            "{1: 1, 2: 2, 3: 3, 4: 5, 5: 8, 6: 13, 7: 21, 8: 34, 9: 55, 10: 89, 11: 144, 12: 233, 13: 377, 14: 610, 15: 987, 16: 1597, 17: 2584, 18: 4181, 19: 6765, 20: 10946, 21: 17711, 22: 28657}\n",
            "{1: 1, 2: 2, 3: 3, 4: 5, 5: 8, 6: 13, 7: 21, 8: 34, 9: 55, 10: 89, 11: 144, 12: 233, 13: 377, 14: 610, 15: 987, 16: 1597, 17: 2584, 18: 4181, 19: 6765, 20: 10946, 21: 17711, 22: 28657, 23: 46368}\n",
            "{1: 1, 2: 2, 3: 3, 4: 5, 5: 8, 6: 13, 7: 21, 8: 34, 9: 55, 10: 89, 11: 144, 12: 233, 13: 377, 14: 610, 15: 987, 16: 1597, 17: 2584, 18: 4181, 19: 6765, 20: 10946, 21: 17711, 22: 28657, 23: 46368, 24: 75025}\n",
            "{1: 1, 2: 2, 3: 3, 4: 5, 5: 8, 6: 13, 7: 21, 8: 34, 9: 55, 10: 89, 11: 144, 12: 233, 13: 377, 14: 610, 15: 987, 16: 1597, 17: 2584, 18: 4181, 19: 6765, 20: 10946, 21: 17711, 22: 28657, 23: 46368, 24: 75025, 25: 121393}\n",
            "{1: 1, 2: 2, 3: 3, 4: 5, 5: 8, 6: 13, 7: 21, 8: 34, 9: 55, 10: 89, 11: 144, 12: 233, 13: 377, 14: 610, 15: 987, 16: 1597, 17: 2584, 18: 4181, 19: 6765, 20: 10946, 21: 17711, 22: 28657, 23: 46368, 24: 75025, 25: 121393, 26: 196418}\n",
            "{1: 1, 2: 2, 3: 3, 4: 5, 5: 8, 6: 13, 7: 21, 8: 34, 9: 55, 10: 89, 11: 144, 12: 233, 13: 377, 14: 610, 15: 987, 16: 1597, 17: 2584, 18: 4181, 19: 6765, 20: 10946, 21: 17711, 22: 28657, 23: 46368, 24: 75025, 25: 121393, 26: 196418, 27: 317811}\n",
            "{1: 1, 2: 2, 3: 3, 4: 5, 5: 8, 6: 13, 7: 21, 8: 34, 9: 55, 10: 89, 11: 144, 12: 233, 13: 377, 14: 610, 15: 987, 16: 1597, 17: 2584, 18: 4181, 19: 6765, 20: 10946, 21: 17711, 22: 28657, 23: 46368, 24: 75025, 25: 121393, 26: 196418, 27: 317811, 28: 514229}\n",
            "{1: 1, 2: 2, 3: 3, 4: 5, 5: 8, 6: 13, 7: 21, 8: 34, 9: 55, 10: 89, 11: 144, 12: 233, 13: 377, 14: 610, 15: 987, 16: 1597, 17: 2584, 18: 4181, 19: 6765, 20: 10946, 21: 17711, 22: 28657, 23: 46368, 24: 75025, 25: 121393, 26: 196418, 27: 317811, 28: 514229, 29: 832040}\n",
            "{1: 1, 2: 2, 3: 3, 4: 5, 5: 8, 6: 13, 7: 21, 8: 34, 9: 55, 10: 89, 11: 144, 12: 233, 13: 377, 14: 610, 15: 987, 16: 1597, 17: 2584, 18: 4181, 19: 6765, 20: 10946, 21: 17711, 22: 28657, 23: 46368, 24: 75025, 25: 121393, 26: 196418, 27: 317811, 28: 514229, 29: 832040, 30: 1346269}\n",
            "{1: 1, 2: 2, 3: 3, 4: 5, 5: 8, 6: 13, 7: 21, 8: 34, 9: 55, 10: 89, 11: 144, 12: 233, 13: 377, 14: 610, 15: 987, 16: 1597, 17: 2584, 18: 4181, 19: 6765, 20: 10946, 21: 17711, 22: 28657, 23: 46368, 24: 75025, 25: 121393, 26: 196418, 27: 317811, 28: 514229, 29: 832040, 30: 1346269, 31: 2178309}\n",
            "{1: 1, 2: 2, 3: 3, 4: 5, 5: 8, 6: 13, 7: 21, 8: 34, 9: 55, 10: 89, 11: 144, 12: 233, 13: 377, 14: 610, 15: 987, 16: 1597, 17: 2584, 18: 4181, 19: 6765, 20: 10946, 21: 17711, 22: 28657, 23: 46368, 24: 75025, 25: 121393, 26: 196418, 27: 317811, 28: 514229, 29: 832040, 30: 1346269, 31: 2178309, 32: 3524578}\n",
            "{1: 1, 2: 2, 3: 3, 4: 5, 5: 8, 6: 13, 7: 21, 8: 34, 9: 55, 10: 89, 11: 144, 12: 233, 13: 377, 14: 610, 15: 987, 16: 1597, 17: 2584, 18: 4181, 19: 6765, 20: 10946, 21: 17711, 22: 28657, 23: 46368, 24: 75025, 25: 121393, 26: 196418, 27: 317811, 28: 514229, 29: 832040, 30: 1346269, 31: 2178309, 32: 3524578, 33: 5702887}\n",
            "{1: 1, 2: 2, 3: 3, 4: 5, 5: 8, 6: 13, 7: 21, 8: 34, 9: 55, 10: 89, 11: 144, 12: 233, 13: 377, 14: 610, 15: 987, 16: 1597, 17: 2584, 18: 4181, 19: 6765, 20: 10946, 21: 17711, 22: 28657, 23: 46368, 24: 75025, 25: 121393, 26: 196418, 27: 317811, 28: 514229, 29: 832040, 30: 1346269, 31: 2178309, 32: 3524578, 33: 5702887, 34: 9227465}\n",
            "{1: 1, 2: 2, 3: 3, 4: 5, 5: 8, 6: 13, 7: 21, 8: 34, 9: 55, 10: 89, 11: 144, 12: 233, 13: 377, 14: 610, 15: 987, 16: 1597, 17: 2584, 18: 4181, 19: 6765, 20: 10946, 21: 17711, 22: 28657, 23: 46368, 24: 75025, 25: 121393, 26: 196418, 27: 317811, 28: 514229, 29: 832040, 30: 1346269, 31: 2178309, 32: 3524578, 33: 5702887, 34: 9227465, 35: 14930352}\n",
            "{1: 1, 2: 2, 3: 3, 4: 5, 5: 8, 6: 13, 7: 21, 8: 34, 9: 55, 10: 89, 11: 144, 12: 233, 13: 377, 14: 610, 15: 987, 16: 1597, 17: 2584, 18: 4181, 19: 6765, 20: 10946, 21: 17711, 22: 28657, 23: 46368, 24: 75025, 25: 121393, 26: 196418, 27: 317811, 28: 514229, 29: 832040, 30: 1346269, 31: 2178309, 32: 3524578, 33: 5702887, 34: 9227465, 35: 14930352, 36: 24157817}\n",
            "{1: 1, 2: 2, 3: 3, 4: 5, 5: 8, 6: 13, 7: 21, 8: 34, 9: 55, 10: 89, 11: 144, 12: 233, 13: 377, 14: 610, 15: 987, 16: 1597, 17: 2584, 18: 4181, 19: 6765, 20: 10946, 21: 17711, 22: 28657, 23: 46368, 24: 75025, 25: 121393, 26: 196418, 27: 317811, 28: 514229, 29: 832040, 30: 1346269, 31: 2178309, 32: 3524578, 33: 5702887, 34: 9227465, 35: 14930352, 36: 24157817, 37: 39088169}\n",
            "{1: 1, 2: 2, 3: 3, 4: 5, 5: 8, 6: 13, 7: 21, 8: 34, 9: 55, 10: 89, 11: 144, 12: 233, 13: 377, 14: 610, 15: 987, 16: 1597, 17: 2584, 18: 4181, 19: 6765, 20: 10946, 21: 17711, 22: 28657, 23: 46368, 24: 75025, 25: 121393, 26: 196418, 27: 317811, 28: 514229, 29: 832040, 30: 1346269, 31: 2178309, 32: 3524578, 33: 5702887, 34: 9227465, 35: 14930352, 36: 24157817, 37: 39088169, 38: 63245986}\n",
            "{1: 1, 2: 2, 3: 3, 4: 5, 5: 8, 6: 13, 7: 21, 8: 34, 9: 55, 10: 89, 11: 144, 12: 233, 13: 377, 14: 610, 15: 987, 16: 1597, 17: 2584, 18: 4181, 19: 6765, 20: 10946, 21: 17711, 22: 28657, 23: 46368, 24: 75025, 25: 121393, 26: 196418, 27: 317811, 28: 514229, 29: 832040, 30: 1346269, 31: 2178309, 32: 3524578, 33: 5702887, 34: 9227465, 35: 14930352, 36: 24157817, 37: 39088169, 38: 63245986, 39: 102334155}\n",
            "{1: 1, 2: 2, 3: 3, 4: 5, 5: 8, 6: 13, 7: 21, 8: 34, 9: 55, 10: 89, 11: 144, 12: 233, 13: 377, 14: 610, 15: 987, 16: 1597, 17: 2584, 18: 4181, 19: 6765, 20: 10946, 21: 17711, 22: 28657, 23: 46368, 24: 75025, 25: 121393, 26: 196418, 27: 317811, 28: 514229, 29: 832040, 30: 1346269, 31: 2178309, 32: 3524578, 33: 5702887, 34: 9227465, 35: 14930352, 36: 24157817, 37: 39088169, 38: 63245986, 39: 102334155, 40: 165580141}\n",
            "{1: 1, 2: 2, 3: 3, 4: 5, 5: 8, 6: 13, 7: 21, 8: 34, 9: 55, 10: 89, 11: 144, 12: 233, 13: 377, 14: 610, 15: 987, 16: 1597, 17: 2584, 18: 4181, 19: 6765, 20: 10946, 21: 17711, 22: 28657, 23: 46368, 24: 75025, 25: 121393, 26: 196418, 27: 317811, 28: 514229, 29: 832040, 30: 1346269, 31: 2178309, 32: 3524578, 33: 5702887, 34: 9227465, 35: 14930352, 36: 24157817, 37: 39088169, 38: 63245986, 39: 102334155, 40: 165580141, 41: 267914296}\n",
            "{1: 1, 2: 2, 3: 3, 4: 5, 5: 8, 6: 13, 7: 21, 8: 34, 9: 55, 10: 89, 11: 144, 12: 233, 13: 377, 14: 610, 15: 987, 16: 1597, 17: 2584, 18: 4181, 19: 6765, 20: 10946, 21: 17711, 22: 28657, 23: 46368, 24: 75025, 25: 121393, 26: 196418, 27: 317811, 28: 514229, 29: 832040, 30: 1346269, 31: 2178309, 32: 3524578, 33: 5702887, 34: 9227465, 35: 14930352, 36: 24157817, 37: 39088169, 38: 63245986, 39: 102334155, 40: 165580141, 41: 267914296, 42: 433494437}\n",
            "{1: 1, 2: 2, 3: 3, 4: 5, 5: 8, 6: 13, 7: 21, 8: 34, 9: 55, 10: 89, 11: 144, 12: 233, 13: 377, 14: 610, 15: 987, 16: 1597, 17: 2584, 18: 4181, 19: 6765, 20: 10946, 21: 17711, 22: 28657, 23: 46368, 24: 75025, 25: 121393, 26: 196418, 27: 317811, 28: 514229, 29: 832040, 30: 1346269, 31: 2178309, 32: 3524578, 33: 5702887, 34: 9227465, 35: 14930352, 36: 24157817, 37: 39088169, 38: 63245986, 39: 102334155, 40: 165580141, 41: 267914296, 42: 433494437, 43: 701408733}\n",
            "{1: 1, 2: 2, 3: 3, 4: 5, 5: 8, 6: 13, 7: 21, 8: 34, 9: 55, 10: 89, 11: 144, 12: 233, 13: 377, 14: 610, 15: 987, 16: 1597, 17: 2584, 18: 4181, 19: 6765, 20: 10946, 21: 17711, 22: 28657, 23: 46368, 24: 75025, 25: 121393, 26: 196418, 27: 317811, 28: 514229, 29: 832040, 30: 1346269, 31: 2178309, 32: 3524578, 33: 5702887, 34: 9227465, 35: 14930352, 36: 24157817, 37: 39088169, 38: 63245986, 39: 102334155, 40: 165580141, 41: 267914296, 42: 433494437, 43: 701408733, 44: 1134903170}\n",
            "{1: 1, 2: 2, 3: 3, 4: 5, 5: 8, 6: 13, 7: 21, 8: 34, 9: 55, 10: 89, 11: 144, 12: 233, 13: 377, 14: 610, 15: 987, 16: 1597, 17: 2584, 18: 4181, 19: 6765, 20: 10946, 21: 17711, 22: 28657, 23: 46368, 24: 75025, 25: 121393, 26: 196418, 27: 317811, 28: 514229, 29: 832040, 30: 1346269, 31: 2178309, 32: 3524578, 33: 5702887, 34: 9227465, 35: 14930352, 36: 24157817, 37: 39088169, 38: 63245986, 39: 102334155, 40: 165580141, 41: 267914296, 42: 433494437, 43: 701408733, 44: 1134903170, 45: 1836311903}\n",
            "{1: 1, 2: 2, 3: 3, 4: 5, 5: 8, 6: 13, 7: 21, 8: 34, 9: 55, 10: 89, 11: 144, 12: 233, 13: 377, 14: 610, 15: 987, 16: 1597, 17: 2584, 18: 4181, 19: 6765, 20: 10946, 21: 17711, 22: 28657, 23: 46368, 24: 75025, 25: 121393, 26: 196418, 27: 317811, 28: 514229, 29: 832040, 30: 1346269, 31: 2178309, 32: 3524578, 33: 5702887, 34: 9227465, 35: 14930352, 36: 24157817, 37: 39088169, 38: 63245986, 39: 102334155, 40: 165580141, 41: 267914296, 42: 433494437, 43: 701408733, 44: 1134903170, 45: 1836311903, 46: 2971215073}\n",
            "{1: 1, 2: 2, 3: 3, 4: 5, 5: 8, 6: 13, 7: 21, 8: 34, 9: 55, 10: 89, 11: 144, 12: 233, 13: 377, 14: 610, 15: 987, 16: 1597, 17: 2584, 18: 4181, 19: 6765, 20: 10946, 21: 17711, 22: 28657, 23: 46368, 24: 75025, 25: 121393, 26: 196418, 27: 317811, 28: 514229, 29: 832040, 30: 1346269, 31: 2178309, 32: 3524578, 33: 5702887, 34: 9227465, 35: 14930352, 36: 24157817, 37: 39088169, 38: 63245986, 39: 102334155, 40: 165580141, 41: 267914296, 42: 433494437, 43: 701408733, 44: 1134903170, 45: 1836311903, 46: 2971215073, 47: 4807526976}\n",
            "{1: 1, 2: 2, 3: 3, 4: 5, 5: 8, 6: 13, 7: 21, 8: 34, 9: 55, 10: 89, 11: 144, 12: 233, 13: 377, 14: 610, 15: 987, 16: 1597, 17: 2584, 18: 4181, 19: 6765, 20: 10946, 21: 17711, 22: 28657, 23: 46368, 24: 75025, 25: 121393, 26: 196418, 27: 317811, 28: 514229, 29: 832040, 30: 1346269, 31: 2178309, 32: 3524578, 33: 5702887, 34: 9227465, 35: 14930352, 36: 24157817, 37: 39088169, 38: 63245986, 39: 102334155, 40: 165580141, 41: 267914296, 42: 433494437, 43: 701408733, 44: 1134903170, 45: 1836311903, 46: 2971215073, 47: 4807526976, 48: 7778742049}\n",
            "{1: 1, 2: 2, 3: 3, 4: 5, 5: 8, 6: 13, 7: 21, 8: 34, 9: 55, 10: 89, 11: 144, 12: 233, 13: 377, 14: 610, 15: 987, 16: 1597, 17: 2584, 18: 4181, 19: 6765, 20: 10946, 21: 17711, 22: 28657, 23: 46368, 24: 75025, 25: 121393, 26: 196418, 27: 317811, 28: 514229, 29: 832040, 30: 1346269, 31: 2178309, 32: 3524578, 33: 5702887, 34: 9227465, 35: 14930352, 36: 24157817, 37: 39088169, 38: 63245986, 39: 102334155, 40: 165580141, 41: 267914296, 42: 433494437, 43: 701408733, 44: 1134903170, 45: 1836311903, 46: 2971215073, 47: 4807526976, 48: 7778742049, 49: 12586269025}\n",
            "{1: 1, 2: 2, 3: 3, 4: 5, 5: 8, 6: 13, 7: 21, 8: 34, 9: 55, 10: 89, 11: 144, 12: 233, 13: 377, 14: 610, 15: 987, 16: 1597, 17: 2584, 18: 4181, 19: 6765, 20: 10946, 21: 17711, 22: 28657, 23: 46368, 24: 75025, 25: 121393, 26: 196418, 27: 317811, 28: 514229, 29: 832040, 30: 1346269, 31: 2178309, 32: 3524578, 33: 5702887, 34: 9227465, 35: 14930352, 36: 24157817, 37: 39088169, 38: 63245986, 39: 102334155, 40: 165580141, 41: 267914296, 42: 433494437, 43: 701408733, 44: 1134903170, 45: 1836311903, 46: 2971215073, 47: 4807526976, 48: 7778742049, 49: 12586269025, 50: 20365011074}\n"
          ]
        },
        {
          "data": {
            "text/plain": [
              "20365011074"
            ]
          },
          "execution_count": 6,
          "metadata": {},
          "output_type": "execute_result"
        }
      ],
      "source": [
        "from typing import Dict\n",
        "def climbing_stairs(n: int, memo: Dict[int, int] = {1:1, 2:2}): #{n:cantidad de opciones}\n",
        "  if n in memo:\n",
        "    return memo[n]\n",
        "\n",
        "  one_step = climbing_stairs(n-1, memo)\n",
        "  two_step = climbing_stairs(n-2, memo)\n",
        "  total = one_step + two_step\n",
        "  memo[n] = total\n",
        "\n",
        "  print(memo)\n",
        "  return memo[n]\n",
        "\n",
        "climbing_stairs(50)"
      ]
    },
    {
      "cell_type": "code",
      "execution_count": null,
      "metadata": {
        "colab": {
          "base_uri": "https://localhost:8080/"
        },
        "id": "aCNeYE5MGAoW",
        "outputId": "a81757c3-46f8-4465-83d2-ae88f570a37b"
      },
      "outputs": [
        {
          "data": {
            "text/plain": [
              "8"
            ]
          },
          "execution_count": 10,
          "metadata": {},
          "output_type": "execute_result"
        }
      ],
      "source": [
        "from typing import Dict\n",
        "def climbing_stairs_memo(n: int):\n",
        "  memo = {1:1, 2:2}\n",
        "\n",
        "  def climbing_stairs(n: int): #{n:cantidad de opciones}\n",
        "    if n in memo:\n",
        "      return memo[n]\n",
        "\n",
        "    one_step = climbing_stairs(n-1)\n",
        "    two_step = climbing_stairs(n-2)\n",
        "    total = one_step + two_step\n",
        "    memo[n] = total\n",
        "\n",
        "    return memo[n]\n",
        "\n",
        "  return climbing_stairs(n)\n",
        "\n",
        "climbing_stairs_memo(5)"
      ]
    },
    {
      "cell_type": "markdown",
      "metadata": {
        "id": "DP-SoZMBcxc2"
      },
      "source": [
        "---\n",
        "\n",
        "## 2) 🗺️ Caminos en una grilla con obstáculos\n",
        "\n",
        "**Enunciado.**\n",
        "Dada una matriz binaria `grid` de tamaño `n×m`, donde `0` = libre y `1` = obstáculo, cuenta cuántos **caminos únicos** existen desde `(0,0)` hasta `(n-1,m-1)` moviendo solo **derecha** o **abajo** y sin pasar por obstáculos.\n",
        "\n",
        "* **Entrada:** `grid: List[List[int]]`\n",
        "* **Salida:** número de caminos (entero)\n",
        "* **Ejemplos:**\n",
        "\n",
        "  ```\n",
        "  grid = [[0,0,0],\n",
        "          [0,1,0],\n",
        "          [0,0,0]]  → 2\n",
        "  ```\n",
        "\n",
        "**Pistas (memoization):**\n",
        "\n",
        "* **Estado:** `dp(i,j)` = #caminos desde `(i,j)` a la meta.\n",
        "* **Casos base:** si `(i,j)` es la meta → 1; si está fuera o hay obstáculo → 0.\n",
        "* **Transición:** `dp(i,j) = dp(i+1,j) + dp(i,j+1)`.\n",
        "* **Complejidad esperada:** O(n·m) tiempo y espacio.\n",
        "\n",
        "> 🧩 Variante: cambiar “conteo” por “costo mínimo” reemplazando suma por `min` y celdas con costos."
      ]
    },
    {
      "cell_type": "code",
      "execution_count": null,
      "metadata": {
        "colab": {
          "base_uri": "https://localhost:8080/"
        },
        "id": "ad0eDcjwc0KW",
        "outputId": "2be834a2-e113-446a-b804-f3edfe54b58b"
      },
      "outputs": [
        {
          "data": {
            "text/plain": [
              "2"
            ]
          },
          "execution_count": 14,
          "metadata": {},
          "output_type": "execute_result"
        }
      ],
      "source": [
        "from typing import List, Dict, Tuple\n",
        "\n",
        "def grid_paths(matrix: List[List[int]]):\n",
        "  r = len(matrix)\n",
        "  c = len(matrix[0])\n",
        "  memo: Dict[Tuple[int, int], int] = {(r-1, c-1): 1}\n",
        "\n",
        "  def dp(row: int = 0, col: int = 0) -> int:\n",
        "    if(row == r or col == c or matrix[row][col] == 1):\n",
        "      return 0\n",
        "\n",
        "    if((row,col) in memo):\n",
        "      return memo[(row,col)]\n",
        "\n",
        "    #posibilidades\n",
        "    memo[(row,col)] = dp(row, col+1) + dp(row+1, col)\n",
        "    return memo[(row,col)]\n",
        "\n",
        "  return dp()\n",
        "\n",
        "grid = [[0,0,0],\n",
        "        [0,1,0],\n",
        "        [0,0,0]]\n",
        "\n",
        "grid_paths(grid)"
      ]
    },
    {
      "cell_type": "markdown",
      "metadata": {
        "id": "Npt6ZeAic0gO"
      },
      "source": [
        "---\n",
        "\n",
        "## 3) 🔐 Decode Ways (conteo de decodificaciones)\n",
        "\n",
        "**Enunciado.**\n",
        "Dado un string `s` de dígitos (sin espacios), donde `1→A`, `2→B`, …, `26→Z`, retorna **cuántas decodificaciones válidas** existen. Un ‘0’ **no** decodifica solo (p. ej. “10”=“J”), y “06” **no** es válido.\n",
        "\n",
        "* **Entrada:** `s` (1 ≤ |s| ≤ 10⁴)\n",
        "* **Salida:** número de decodificaciones (entero)\n",
        "* **Ejemplos:**\n",
        "\n",
        "  * “12” → 2 (“AB”, “L”)\n",
        "  * “226” → 3 (“BBF”, “BZ”, “VF”)\n",
        "  * “06” → 0\n",
        "\n",
        "**Pistas (memoization):**\n",
        "\n",
        "* **Estado:** `dp(i)` = #formas de decodificar `s[i:]`.\n",
        "* **Casos base:** `i==len(s) ⇒ 1`; si `s[i]=='0' ⇒ 0`.\n",
        "* **Transición:**\n",
        "\n",
        "  * Tomar 1 dígito: `dp(i+1)` si `s[i] != '0'`.\n",
        "  * Tomar 2 dígitos: `dp(i+2)` si `10 ≤ int(s[i:i+2]) ≤ 26`.\n",
        "  * `dp(i) = sum(opciones válidas)`.\n",
        "* **Complejidad esperada:** O(n) tiempo y O(n) espacio.\n",
        "\n",
        "> 🧠 Lección clave: manejo cuidadoso de **ceros** y ventanas de 1–2 caracteres."
      ]
    },
    {
      "cell_type": "code",
      "execution_count": 39,
      "metadata": {},
      "outputs": [
        {
          "name": "stdout",
          "output_type": "stream",
          "text": [
            "2\n",
            "3\n",
            "0\n",
            "1\n",
            "0\n",
            "1\n",
            "0\n"
          ]
        }
      ],
      "source": [
        "def num_decodings(s: str, memo=None, i: int = 0) -> int:\n",
        "    if memo is None:\n",
        "        memo = {}\n",
        "\n",
        "    if i == len(s):\n",
        "        return 1\n",
        "\n",
        "    if s[i] == '0':      \n",
        "        return 0\n",
        "\n",
        "    if i in memo:\n",
        "        return memo[i]\n",
        "\n",
        "    respuesta = num_decodings(s, memo, i + 1)\n",
        "\n",
        "    if i + 1 < len(s) and 10 <= int(s[i:i+2]) <= 26:\n",
        "        respuesta += num_decodings(s, memo, i + 2)\n",
        "\n",
        "    \n",
        "    memo[i] = respuesta\n",
        "    return respuesta\n",
        "\n",
        "\n",
        "print(num_decodings(\"12\"))   \n",
        "print(num_decodings(\"226\")) \n",
        "print(num_decodings(\"06\"))   \n",
        "print(num_decodings(\"10\"))   \n",
        "print(num_decodings(\"808\"))   \n",
        "print(num_decodings(\"208\"))   \n",
        "print(num_decodings(\"028\"))   \n",
        "\n"
      ]
    },
    {
      "cell_type": "code",
      "execution_count": 35,
      "metadata": {},
      "outputs": [
        {
          "name": "stdout",
          "output_type": "stream",
          "text": [
            "6\n"
          ]
        }
      ],
      "source": [
        "print(int('06'))"
      ]
    },
    {
      "cell_type": "markdown",
      "metadata": {
        "id": "5z_9CxCBc3bf"
      },
      "source": [
        "---\n",
        "\n",
        "## 4) 🪙 Coin Change (mínimo # de monedas)\n",
        "\n",
        "**Enunciado.**\n",
        "Tienes un conjunto de denominaciones `coins` (positivas) y un valor objetivo `amount`. Retorna **el mínimo número de monedas** para sumar exactamente `amount`. Si no es posible, retorna `-1`. Puedes usar una moneda **las veces que quieras**.\n",
        "\n",
        "* **Entrada:** `coins: List[int]`, `amount: int` (0 ≤ amount ≤ 10⁴)\n",
        "* **Salida:** entero (mínimo #monedas o -1)\n",
        "* **Ejemplos:**\n",
        "\n",
        "  * coins=\\[1,2,5], amount=11 → 3 (5+5+1)\n",
        "  * coins=\\[2], amount=3 → -1\n",
        "\n",
        "**Pistas (memoization):**\n",
        "\n",
        "* **Estado:** `dp(x)` = mínimo #monedas para `x`.\n",
        "* **Casos base:** `dp(0)=0`; `x<0 ⇒ +∞` (o un sentinel).\n",
        "* **Transición:** `dp(x) = 1 + min(dp(x - c) para c en coins)`.\n",
        "* **Complejidad esperada:** O(n·A) en el peor caso (n=#coins, A=amount), espacio O(A).\n",
        "\n",
        "> ⚠️ Enseña a usar un valor “infinito” grande o `None` para estados imposibles y mapear a `-1` al final."
      ]
    },
    {
      "cell_type": "code",
      "execution_count": null,
      "metadata": {
        "colab": {
          "base_uri": "https://localhost:8080/"
        },
        "id": "N1MfvSZDc6qv",
        "outputId": "be6fd294-46b8-4a0a-a022-dbd34da30f8b"
      },
      "outputs": [],
      "source": [
        "from typing import List\n",
        "\n",
        "def coinChange(coins: List[int], amount: int, memo = None) -> int:\n",
        "    if memo is None:\n",
        "        memo = {}\n",
        "        \n",
        "    INF = float('inf')\n",
        "\n",
        "    if amount < 0:\n",
        "        return INF\n",
        "    \n",
        "    if amount == 0:\n",
        "        return 0\n",
        "    \n",
        "    if memo[amount] is not None:\n",
        "     return memo[amount]\n",
        " \n",
        "    best = INF\n",
        "\n",
        "    for c in coins:\n",
        "        sub = coinChange(coins, amount - c, memo)\n",
        "\n",
        "\n",
        "\n",
        "\n"
      ]
    },
    {
      "cell_type": "markdown",
      "metadata": {},
      "source": [
        "## 5) ✂️ Longest Common Subsequence (LCS) – longitud\n",
        "\n",
        "**Enunciado.**\n",
        "Dadas dos cadenas `s` y `t`, retorna la **longitud** de su subsecuencia común más larga (no necesariamente contigua).\n",
        "\n",
        "* **Entrada:** `s`, `t` (0 ≤ |s|,|t| ≤ 10³–10⁴)\n",
        "* **Salida:** entero (longitud LCS)\n",
        "* **Ejemplos:**\n",
        "\n",
        "  * s=\"abcde\", t=\"ace\" → 3 (“ace”)\n",
        "  * s=\"abc\", t=\"def\" → 0\n",
        "\n",
        "**Pistas (memoization):**\n",
        "\n",
        "* **Estado:** `dp(i,j)` = LCS de `s[i:]` y `t[j:]`.\n",
        "* **Casos base:** si `i==len(s)` o `j==len(t)` ⇒ 0.\n",
        "* **Transición:**\n",
        "\n",
        "  * Si `s[i]==t[j]`: `1 + dp(i+1,j+1)`\n",
        "  * Si no: `max(dp(i+1,j), dp(i, j+1))`\n",
        "* **Complejidad esperada:** O(|s|·|t|) tiempo y espacio.\n",
        "\n"
      ]
    },
    {
      "cell_type": "code",
      "execution_count": 15,
      "metadata": {},
      "outputs": [
        {
          "ename": "RecursionError",
          "evalue": "maximum recursion depth exceeded",
          "output_type": "error",
          "traceback": [
            "\u001b[31m---------------------------------------------------------------------------\u001b[39m",
            "\u001b[31mRecursionError\u001b[39m                            Traceback (most recent call last)",
            "\u001b[36mCell\u001b[39m\u001b[36m \u001b[39m\u001b[32mIn[15]\u001b[39m\u001b[32m, line 19\u001b[39m\n\u001b[32m     15\u001b[39m t=\u001b[33m\"\u001b[39m\u001b[33mace\u001b[39m\u001b[33m\"\u001b[39m \u001b[38;5;66;03m#→ 3 (“ace”)\u001b[39;00m\n\u001b[32m     16\u001b[39m \u001b[38;5;66;03m#s=\"abc\"\u001b[39;00m\n\u001b[32m     17\u001b[39m \u001b[38;5;66;03m#t=\"def\"\u001b[39;00m\n\u001b[32m---> \u001b[39m\u001b[32m19\u001b[39m \u001b[43mlcs\u001b[49m\u001b[43m(\u001b[49m\u001b[43ms\u001b[49m\u001b[43m,\u001b[49m\u001b[43mt\u001b[49m\u001b[43m)\u001b[49m\n",
            "\u001b[36mCell\u001b[39m\u001b[36m \u001b[39m\u001b[32mIn[15]\u001b[39m\u001b[32m, line 8\u001b[39m, in \u001b[36mlcs\u001b[39m\u001b[34m(s1, s2, i, j, resultado)\u001b[39m\n\u001b[32m      6\u001b[39m \u001b[38;5;28;01mfor\u001b[39;00m j \u001b[38;5;129;01min\u001b[39;00m \u001b[38;5;28mrange\u001b[39m(\u001b[38;5;28mlen\u001b[39m(s2)):\n\u001b[32m      7\u001b[39m     \u001b[38;5;28;01mif\u001b[39;00m s1[i] == s2[j]:\n\u001b[32m----> \u001b[39m\u001b[32m8\u001b[39m         \u001b[38;5;28;01mreturn\u001b[39;00m \u001b[43mlcs\u001b[49m\u001b[43m(\u001b[49m\u001b[43ms1\u001b[49m\u001b[43m,\u001b[49m\u001b[43ms2\u001b[49m\u001b[43m,\u001b[49m\u001b[43mi\u001b[49m\u001b[43m+\u001b[49m\u001b[32;43m1\u001b[39;49m\u001b[43m,\u001b[49m\u001b[43mj\u001b[49m\u001b[43m+\u001b[49m\u001b[32;43m1\u001b[39;49m\u001b[43m,\u001b[49m\u001b[43m \u001b[49m\u001b[43mresultado\u001b[49m\u001b[43m \u001b[49m\u001b[43m+\u001b[49m\u001b[43m \u001b[49m\u001b[32;43m1\u001b[39;49m\u001b[43m)\u001b[49m\n\u001b[32m      9\u001b[39m     \u001b[38;5;28;01melse\u001b[39;00m: \n\u001b[32m     10\u001b[39m         \u001b[38;5;28;01mreturn\u001b[39;00m \u001b[38;5;28mmax\u001b[39m(lcs(s1,s2,i+\u001b[32m1\u001b[39m,j,resultado),lcs(s1,s2,i,j+\u001b[32m1\u001b[39m,resultado))\n",
            "\u001b[36mCell\u001b[39m\u001b[36m \u001b[39m\u001b[32mIn[15]\u001b[39m\u001b[32m, line 8\u001b[39m, in \u001b[36mlcs\u001b[39m\u001b[34m(s1, s2, i, j, resultado)\u001b[39m\n\u001b[32m      6\u001b[39m \u001b[38;5;28;01mfor\u001b[39;00m j \u001b[38;5;129;01min\u001b[39;00m \u001b[38;5;28mrange\u001b[39m(\u001b[38;5;28mlen\u001b[39m(s2)):\n\u001b[32m      7\u001b[39m     \u001b[38;5;28;01mif\u001b[39;00m s1[i] == s2[j]:\n\u001b[32m----> \u001b[39m\u001b[32m8\u001b[39m         \u001b[38;5;28;01mreturn\u001b[39;00m \u001b[43mlcs\u001b[49m\u001b[43m(\u001b[49m\u001b[43ms1\u001b[49m\u001b[43m,\u001b[49m\u001b[43ms2\u001b[49m\u001b[43m,\u001b[49m\u001b[43mi\u001b[49m\u001b[43m+\u001b[49m\u001b[32;43m1\u001b[39;49m\u001b[43m,\u001b[49m\u001b[43mj\u001b[49m\u001b[43m+\u001b[49m\u001b[32;43m1\u001b[39;49m\u001b[43m,\u001b[49m\u001b[43m \u001b[49m\u001b[43mresultado\u001b[49m\u001b[43m \u001b[49m\u001b[43m+\u001b[49m\u001b[43m \u001b[49m\u001b[32;43m1\u001b[39;49m\u001b[43m)\u001b[49m\n\u001b[32m      9\u001b[39m     \u001b[38;5;28;01melse\u001b[39;00m: \n\u001b[32m     10\u001b[39m         \u001b[38;5;28;01mreturn\u001b[39;00m \u001b[38;5;28mmax\u001b[39m(lcs(s1,s2,i+\u001b[32m1\u001b[39m,j,resultado),lcs(s1,s2,i,j+\u001b[32m1\u001b[39m,resultado))\n",
            "    \u001b[31m[... skipping similar frames: lcs at line 8 (2974 times)]\u001b[39m\n",
            "\u001b[36mCell\u001b[39m\u001b[36m \u001b[39m\u001b[32mIn[15]\u001b[39m\u001b[32m, line 8\u001b[39m, in \u001b[36mlcs\u001b[39m\u001b[34m(s1, s2, i, j, resultado)\u001b[39m\n\u001b[32m      6\u001b[39m \u001b[38;5;28;01mfor\u001b[39;00m j \u001b[38;5;129;01min\u001b[39;00m \u001b[38;5;28mrange\u001b[39m(\u001b[38;5;28mlen\u001b[39m(s2)):\n\u001b[32m      7\u001b[39m     \u001b[38;5;28;01mif\u001b[39;00m s1[i] == s2[j]:\n\u001b[32m----> \u001b[39m\u001b[32m8\u001b[39m         \u001b[38;5;28;01mreturn\u001b[39;00m \u001b[43mlcs\u001b[49m\u001b[43m(\u001b[49m\u001b[43ms1\u001b[49m\u001b[43m,\u001b[49m\u001b[43ms2\u001b[49m\u001b[43m,\u001b[49m\u001b[43mi\u001b[49m\u001b[43m+\u001b[49m\u001b[32;43m1\u001b[39;49m\u001b[43m,\u001b[49m\u001b[43mj\u001b[49m\u001b[43m+\u001b[49m\u001b[32;43m1\u001b[39;49m\u001b[43m,\u001b[49m\u001b[43m \u001b[49m\u001b[43mresultado\u001b[49m\u001b[43m \u001b[49m\u001b[43m+\u001b[49m\u001b[43m \u001b[49m\u001b[32;43m1\u001b[39;49m\u001b[43m)\u001b[49m\n\u001b[32m      9\u001b[39m     \u001b[38;5;28;01melse\u001b[39;00m: \n\u001b[32m     10\u001b[39m         \u001b[38;5;28;01mreturn\u001b[39;00m \u001b[38;5;28mmax\u001b[39m(lcs(s1,s2,i+\u001b[32m1\u001b[39m,j,resultado),lcs(s1,s2,i,j+\u001b[32m1\u001b[39m,resultado))\n",
            "\u001b[31mRecursionError\u001b[39m: maximum recursion depth exceeded"
          ]
        }
      ],
      "source": [
        "def lcs(s1:str,s2:str,i=0,j=0,resultado=0):\n",
        "    if i == len(s1) or j == len(s2):\n",
        "        return 0\n",
        "        \n",
        "    for i in range(len(s1)): \n",
        "        for j in range(len(s2)):\n",
        "            if s1[i] == s2[j]:\n",
        "                return lcs(s1,s2,i+1,j+1, resultado + 1)\n",
        "            else: \n",
        "                return max(lcs(s1,s2,i+1,j,resultado),lcs(s1,s2,i,j+1,resultado))\n",
        "            \n",
        "\n",
        "\n",
        "s=\"abcde\"\n",
        "t=\"ace\" #→ 3 (“ace”)\n",
        "#s=\"abc\"\n",
        "#t=\"def\"\n",
        "\n",
        "lcs(s,t)\n"
      ]
    },
    {
      "cell_type": "markdown",
      "metadata": {
        "id": "mcP75IxFkuv6"
      },
      "source": [
        "---\n",
        "\n",
        "### 🎒 Problema: 0/1 Knapsack Problem\n",
        "\n",
        "Tienes una **mochila** con una capacidad máxima de peso `W`. También tienes `n` objetos, cada uno con:\n",
        "\n",
        "* un **peso** `w[i]`,\n",
        "* y un **valor** `v[i]`.\n",
        "\n",
        "La mochila **no puede exceder su capacidad máxima**, y cada objeto puede ser:\n",
        "\n",
        "* **incluido completamente** en la mochila, o\n",
        "* **excluido** (no se pueden fraccionar los objetos).\n",
        "\n",
        "🎯 **Objetivo:**\n",
        "Encuentra el **valor máximo total** que se puede obtener seleccionando un subconjunto de objetos que quepa dentro de la mochila.\n",
        "\n",
        "---\n",
        "\n",
        "#### Ejemplo\n",
        "\n",
        "* **Entrada:**\n",
        "\n",
        "  ```\n",
        "  n = 3, W = 50\n",
        "  pesos = [10, 20, 30]\n",
        "  valores = [60, 100, 120]\n",
        "  ```\n",
        "\n",
        "* **Salida:**\n",
        "\n",
        "  ```\n",
        "  220\n",
        "  ```\n",
        "\n",
        "* **Explicación:**\n",
        "  El subconjunto óptimo es tomar los objetos de peso 20 y 30 → valor total = 100 + 120 = 220.\n",
        "\n",
        "---\n",
        "\n",
        "#### 📌 Restricciones\n",
        "\n",
        "* 1 ≤ n ≤ 1000\n",
        "* 1 ≤ W ≤ 10⁴ (o más, según variante)\n",
        "* 1 ≤ w\\[i], v\\[i] ≤ 10³\n",
        "\n",
        "---\n"
      ]
    }
  ],
  "metadata": {
    "colab": {
      "provenance": []
    },
    "kernelspec": {
      "display_name": "chem",
      "language": "python",
      "name": "python3"
    },
    "language_info": {
      "codemirror_mode": {
        "name": "ipython",
        "version": 3
      },
      "file_extension": ".py",
      "mimetype": "text/x-python",
      "name": "python",
      "nbconvert_exporter": "python",
      "pygments_lexer": "ipython3",
      "version": "3.13.5"
    }
  },
  "nbformat": 4,
  "nbformat_minor": 0
}
