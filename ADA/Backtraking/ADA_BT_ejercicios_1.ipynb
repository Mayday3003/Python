{
  "cells": [
    {
      "cell_type": "markdown",
      "metadata": {
        "id": "wA_-jPJxvnLh"
      },
      "source": [
        "---\n",
        "\n",
        "### 📌 Enunciado 1\n",
        "\n",
        "Se te da un string `pattern` de longitud `n` indexado desde 0, compuesto únicamente por los caracteres:\n",
        "\n",
        "* `'I'` → indica que la secuencia debe ser **increasing** (num\\[i] < num\\[i+1]).\n",
        "* `'D'` → indica que la secuencia debe ser **decreasing** (num\\[i] > num\\[i+1]).\n",
        "\n",
        "A partir de este `pattern`, debes construir un string `num` de longitud `n + 1` cumpliendo las siguientes condiciones:\n",
        "\n",
        "1. `num` está formado por los dígitos del `'1'` al `'9'`, y cada dígito puede usarse **a lo sumo una vez**.\n",
        "2. Para cada posición `i` en `pattern`:\n",
        "\n",
        "   * Si `pattern[i] == 'I'`, entonces `num[i] < num[i+1]`.\n",
        "   * Si `pattern[i] == 'D'`, entonces `num[i] > num[i+1]`.\n",
        "\n",
        "👉 Tu tarea es retornar el **menor número lexicográficamente posible** que cumpla con estas condiciones.\n",
        "\n",
        "---\n",
        "\n",
        "### Ejemplos\n",
        "\n",
        "**Ejemplo 1**\n",
        "\n",
        "```\n",
        "Entrada: pattern = \"IIIDIDDD\"  \n",
        "Salida: \"123549876\"  \n",
        "Explicación:  \n",
        "- En las posiciones 0, 1, 2 y 4: num[i] < num[i+1].  \n",
        "- En las posiciones 3, 5, 6 y 7: num[i] > num[i+1].  \n",
        "\n",
        "Algunas posibles construcciones son \"245639871\" o \"135749862\".  \n",
        "El número más pequeño que cumple las condiciones es \"123549876\".  \n",
        "No es válido \"123414321\" porque repite el dígito '1'.\n",
        "```\n",
        "\n",
        "**Ejemplo 2**\n",
        "\n",
        "```\n",
        "Entrada: pattern = \"DDD\"  \n",
        "Salida: \"4321\"  \n",
        "Explicación:  \n",
        "Posibles construcciones incluyen \"9876\", \"7321\" o \"8742\".  \n",
        "El menor número válido es \"4321\".\n",
        "```\n",
        "\n",
        "---\n",
        "\n",
        "___\n",
        "Leetcode 3275\n",
        "\n"
      ]
    },
    {
      "cell_type": "code",
      "execution_count": null,
      "metadata": {
        "id": "-LByi40Fvcpm"
      },
      "outputs": [],
      "source": []
    },
    {
      "cell_type": "markdown",
      "metadata": {
        "id": "_a-JBYfGv2dh"
      },
      "source": [
        "\n",
        "\n",
        "### 📌 Enunciado 2\n",
        "\n",
        "Se te da un **grafo dirigido acíclico (DAG)** con `n` nodos numerados del `0` al `n - 1`.\n",
        "\n",
        "* El grafo se representa mediante una lista de adyacencia:\n",
        "  `graph[i]` contiene todos los nodos a los que se puede ir directamente desde el nodo `i`.\n",
        "  Es decir, existe una arista dirigida desde `i` hacia cada `graph[i][j]`.\n",
        "\n",
        "👉 Tu tarea es encontrar **todas las rutas posibles** desde el nodo `0` (origen) hasta el nodo `n - 1` (destino) y retornarlas en cualquier orden.\n",
        "\n",
        "---\n",
        "\n",
        "### Ejemplos\n",
        "\n",
        "**Ejemplo 1**\n",
        "\n",
        "```\n",
        "Entrada: graph = [[1,2],[3],[3],[]]  \n",
        "Salida: [[0,1,3],[0,2,3]]  \n",
        "\n",
        "Explicación:  \n",
        "Existen dos caminos posibles:  \n",
        "- 0 → 1 → 3  \n",
        "- 0 → 2 → 3\n",
        "```\n",
        "\n",
        "**Ejemplo 2**\n",
        "\n",
        "```\n",
        "Entrada: graph = [[4,3,1],[3,2,4],[3],[4],[]]  \n",
        "Salida: [[0,4],[0,3,4],[0,1,3,4],[0,1,2,3,4],[0,1,4]]  \n",
        "```\n",
        "\n",
        "---\n",
        "\n",
        "### 🔒 Restricciones\n",
        "\n",
        "* `n == graph.length`\n",
        "* `2 <= n <= 15`\n",
        "* `0 <= graph[i][j] < n`\n",
        "* No existen **bucles propios**: `graph[i][j] != i`.\n",
        "* Todos los elementos en `graph[i]` son **únicos**.\n",
        "* La entrada siempre es un **DAG** (no hay ciclos).\n",
        "\n",
        "\n",
        "---\n",
        "Leetcode797"
      ]
    },
    {
      "cell_type": "code",
      "execution_count": null,
      "metadata": {
        "id": "D5aZzK-zwECJ"
      },
      "outputs": [],
      "source": []
    },
    {
      "cell_type": "markdown",
      "metadata": {
        "id": "BWNfOz3JwMRI"
      },
      "source": [
        "### 📌 Enunciado 3\n",
        "\n",
        "Se te da un número entero positivo `n`.\n",
        "\n",
        "Un string binario `x` de longitud `n` se considera **válido** si **ninguno de sus substrings de longitud 2 está compuesto únicamente por ceros**.\n",
        "👉 En otras palabras, en cada par de caracteres consecutivos debe aparecer al menos un `'1'`.\n",
        "\n",
        "Tu tarea es **generar y retornar todos los strings binarios válidos de longitud `n`**, en cualquier orden.\n",
        "\n",
        "---\n",
        "\n",
        "### Ejemplos\n",
        "\n",
        "**Ejemplo 1**\n",
        "\n",
        "```\n",
        "Entrada: n = 3\n",
        "Salida: [\"010\",\"011\",\"101\",\"110\",\"111\"]\n",
        "\n",
        "Explicación:  \n",
        "Los strings binarios de longitud 3 que cumplen la condición son:  \n",
        "\"010\", \"011\", \"101\", \"110\" y \"111\".\n",
        "```\n",
        "\n",
        "**Ejemplo 2**\n",
        "\n",
        "```\n",
        "Entrada: n = 1\n",
        "Salida: [\"0\",\"1\"]\n",
        "\n",
        "Explicación:  \n",
        "Para n = 1 ambos strings \"0\" y \"1\" son válidos, ya que no hay pares de ceros consecutivos.\n",
        "```\n",
        "\n",
        "---\n",
        "\n",
        "### 🔒 Restricciones\n",
        "\n",
        "* `1 <= n <= 18`\n",
        "\n",
        "\n",
        "---\n",
        "Leetcode 3211"
      ]
    },
    {
      "cell_type": "code",
      "execution_count": 12,
      "metadata": {},
      "outputs": [
        {
          "name": "stdout",
          "output_type": "stream",
          "text": [
            "[0, 0, 0, 0, 0]\n",
            "[0, 0, 0, 0, 0]\n",
            "[0, 0, 0, 0, 0]\n",
            "[0, 0, 0, 0, 0]\n",
            "[0, 0, 0, 0, 0]\n"
          ]
        }
      ],
      "source": [
        "def matriz_inicial(n: int):\n",
        "    matriz = []\n",
        "    for i in range(n):\n",
        "        fila = []\n",
        "        for j in range(n):\n",
        "            fila.append(0)\n",
        "        matriz.append(fila)\n",
        "\n",
        "    for fila in matriz:\n",
        "        print(fila)\n",
        "\n",
        "\n",
        "matriz_inicial(5)"
      ]
    },
    {
      "cell_type": "code",
      "execution_count": null,
      "metadata": {},
      "outputs": [],
      "source": [
        "def combinaciones_matriz(matriz, n=-1):\n",
        "    n = len(matriz)\n",
        "    \n",
        "    "
      ]
    },
    {
      "cell_type": "code",
      "execution_count": null,
      "metadata": {
        "id": "B9pE9z26wRow"
      },
      "outputs": [],
      "source": [
        "from typing import List\n",
        "def juego_raro(n:int,lista1:List[int],lista2:List[int])->List[List[int]]:\n",
        "    matriz = []\n",
        "    for i in range(n):\n",
        "        fila = []\n",
        "        matriz.append(fila)\n",
        "        for fila in range(n):\n",
        "            fila.append(0)\n",
        "        \n"
      ]
    },
    {
      "cell_type": "code",
      "execution_count": null,
      "metadata": {},
      "outputs": [
        {
          "ename": "IndentationError",
          "evalue": "expected an indented block after 'if' statement on line 8 (2477410856.py, line 12)",
          "output_type": "error",
          "traceback": [
            "  \u001b[36mCell\u001b[39m\u001b[36m \u001b[39m\u001b[32mIn[2]\u001b[39m\u001b[32m, line 12\u001b[39m\n\u001b[31m    \u001b[39m\u001b[31mnp.transpose(matriz)\u001b[39m\n    ^\n\u001b[31mIndentationError\u001b[39m\u001b[31m:\u001b[39m expected an indented block after 'if' statement on line 8\n"
          ]
        }
      ],
      "source": [
        "import numpy as np\n",
        "def validar(n:int, lista1:List[int],lista2:List[int], i = 0, j = 0, valor_temporal = 0, matriz = [])->List[List[int]]:\n",
        "    if valor_temporal == n**2:\n",
        "        return\n",
        "    \n",
        "    #validación filas \n",
        "    for i  in range(n):\n",
        "        if sum(matriz[i])== lista1[i]:\n",
        "            pass #valido \n",
        "        \n",
        "        if sum(matriz[i])>= lista1[i]:\n",
        "            return #i        if sum(matriz[i])>= lista1[i]:\n",
        "            return #invalido nvalido \n",
        "                    \n",
        "        #validación columnas \n",
        "        matriz_columnas = np.transpose(matriz)\n",
        "        \n",
        "        if sum(matriz_columnas[i]) == lista2[i]:\n",
        "            pass #valido\n",
        "        \n",
        "        if sum(matriz_columnas[i])>= lista2[i]:\n",
        "            return #invalido\n",
        "        \n",
        "    \n",
        "    "
      ]
    }
  ],
  "metadata": {
    "colab": {
      "provenance": []
    },
    "kernelspec": {
      "display_name": "programming",
      "language": "python",
      "name": "python3"
    },
    "language_info": {
      "codemirror_mode": {
        "name": "ipython",
        "version": 3
      },
      "file_extension": ".py",
      "mimetype": "text/x-python",
      "name": "python",
      "nbconvert_exporter": "python",
      "pygments_lexer": "ipython3",
      "version": "3.13.5"
    }
  },
  "nbformat": 4,
  "nbformat_minor": 0
}
