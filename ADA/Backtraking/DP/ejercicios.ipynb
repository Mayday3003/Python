{
 "cells": [
  {
   "cell_type": "code",
   "execution_count": null,
   "id": "2484629d",
   "metadata": {},
   "outputs": [],
   "source": [
    "def fibo_tab()"
   ]
  }
 ],
 "metadata": {
  "language_info": {
   "name": "python"
  }
 },
 "nbformat": 4,
 "nbformat_minor": 5
}
