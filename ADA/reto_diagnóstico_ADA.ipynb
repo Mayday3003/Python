{
  "cells": [
    {
      "cell_type": "code",
      "execution_count": null,
      "metadata": {
        "id": "U5QQUmQ9qtjq"
      },
      "outputs": [],
      "source": [
        "def NumberinString(string: str, first: int, last:int, current = 0)-> int:\n",
        "    \n",
        "    if current is isinstance"
      ]
    },
    {
      "cell_type": "code",
      "execution_count": null,
      "metadata": {},
      "outputs": [
        {
          "ename": "ValueError",
          "evalue": "invalid literal for int() with base 10: 'a'",
          "output_type": "error",
          "traceback": [
            "\u001b[0;31m---------------------------------------------------------------------------\u001b[0m",
            "\u001b[0;31mValueError\u001b[0m                                Traceback (most recent call last)",
            "Cell \u001b[0;32mIn[12], line 4\u001b[0m\n\u001b[1;32m      1\u001b[0m x \u001b[38;5;241m=\u001b[39m \u001b[38;5;124m'\u001b[39m\u001b[38;5;124maneoo57\u001b[39m\u001b[38;5;124m'\u001b[39m\n\u001b[1;32m      3\u001b[0m \u001b[38;5;28;01mfor\u001b[39;00m i \u001b[38;5;129;01min\u001b[39;00m x: \n\u001b[0;32m----> 4\u001b[0m     \u001b[38;5;28;43mint\u001b[39;49m\u001b[43m(\u001b[49m\u001b[43mi\u001b[49m\u001b[43m)\u001b[49m\n\u001b[1;32m      5\u001b[0m     \u001b[38;5;28;01mcontinue\u001b[39;00m\n\u001b[1;32m      9\u001b[0m \u001b[38;5;28;01mfor\u001b[39;00m i \u001b[38;5;129;01min\u001b[39;00m x: \n",
            "\u001b[0;31mValueError\u001b[0m: invalid literal for int() with base 10: 'a'"
          ]
        }
      ],
      "source": [
        "x = 'aneoo57'\n",
        "\n",
        "for i in x: \n",
        "    int(i)\n",
        "    \n",
        "\n",
        "\n",
        "\n",
        "for i in x: \n",
        "    print(isinstance(i, int))\n",
        "    \n"
      ]
    },
    {
      "cell_type": "markdown",
      "metadata": {
        "id": "VY2USbOfqud1"
      },
      "source": [
        "# 🧩 *Primer y último dígito*\n",
        "\n",
        "### 📘 Enunciado:\n",
        "\n",
        "Se tiene un conjunto de strings alfanuméricos (letras y dígitos), y se desea extraer los números de dos dígitos formados por el **primer y último dígito que aparece en cada string**.\n",
        "\n",
        "Tu tarea es implementar una función recursiva que reciba una **lista de strings** y retorne una lista de enteros, donde cada entero corresponde al número formado por el **primer dígito** y el **último dígito** de cada string.\n",
        "\n",
        "Si un string **no contiene al menos dos dígitos**, se debe omitir del resultado.\n",
        "\n",
        "---\n",
        "\n",
        "### ✅ Requisitos:\n",
        "\n",
        "* La solución debe ser **recursiva**.\n",
        "* No se deben usar bucles (`for`, `while`) en la solución.\n",
        "* Se puede usar funciones auxiliares recursivas si se considera necesario.\n",
        "\n",
        "---\n",
        "\n",
        "### 🧪 Ejemplo:\n",
        "\n",
        "```python\n",
        "entrada = [\"abc7x3t4z\", \"def23\", \"hello\", \"9a1b2\", \"g5h\"]\n",
        "salida_esperada = [74, 23, 92]\n",
        "```\n",
        "\n",
        "**Explicación:**\n",
        "\n",
        "* `\"abc7x3t4z\"` → dígitos: 7 y 4 → número: 74 ✅\n",
        "* `\"def23\"` → dígitos: 2 y 3 → número: 23 ✅\n",
        "* `\"hello\"` → no tiene dígitos → se omite ❌\n",
        "* `\"9a1b2\"` → dígitos: 9 y 2 → número: 92 ✅\n",
        "* `\"g5h\"` → solo un dígito → se omite ❌\n",
        "\n",
        "---\n",
        "\n"
      ]
    },
    {
      "cell_type": "markdown",
      "metadata": {
        "id": "RvXeduTKTci2"
      },
      "source": [
        "# 🧩 *Regiones calientes*\n",
        "\n",
        "### 📘 Enunciado:\n",
        "\n",
        "Una ciudad ha sido dividida en una cuadrícula de `MxN` celdas donde cada celda contiene la temperatura medida en grados Celsius. Se define una **región caliente** como un grupo de **celdas adyacentes** (solo en dirección arriba, abajo, izquierda o derecha, no en diagonal) que tienen temperatura **estrictamente mayor a un umbral dado** `T`.\n",
        "\n",
        "Tu tarea es implementar un algoritmo que reciba la matriz de temperaturas y el umbral `T`, y devuelva la **cantidad total de regiones calientes** que hay en el mapa.\n",
        "\n",
        "---\n",
        "\n",
        "### ✅ Requisitos:\n",
        "\n",
        "* Dos celdas pertenecen a la misma región si están conectadas por adyacencia directa y ambas tienen temperatura **mayor que T**.\n",
        "* Se debe contar cuántas **regiones independientes** existen.\n",
        "* Se espera una solución eficiente y clara. Puedes usar funciones auxiliares si lo necesitas.\n",
        "\n",
        "---\n",
        "\n",
        "### 📥 Entrada:\n",
        "\n",
        "* Una matriz de enteros `temperaturas` de dimensiones `M x N` (2 ≤ M, N ≤ 100), donde cada número representa una temperatura.\n",
        "* Un entero `T` representando el umbral de temperatura.\n",
        "\n",
        "---\n",
        "\n",
        "### 📤 Salida:\n",
        "\n",
        "* Un entero que representa el número total de regiones calientes encontradas.\n",
        "\n",
        "---\n",
        "\n",
        "### 🧪 Ejemplo:\n",
        "\n",
        "```python\n",
        "temperaturas = [\n",
        "    [35, 40, 38, 20],\n",
        "    [33, 45, 37, 18],\n",
        "    [20, 20, 50, 51],\n",
        "    [10, 12, 53, 52]\n",
        "]\n",
        "\n",
        "T = 37\n",
        "```\n",
        "\n",
        "🔍 **Explicación:**\n",
        "\n",
        "Las celdas con valor **mayor a 37** son:\n",
        "\n",
        "```\n",
        "[   , 40, 38,    ]\n",
        "[   , 45,   ,    ]\n",
        "[   ,   , 50, 51]\n",
        "[   ,   , 53, 52]\n",
        "```\n",
        "\n",
        "Forman **dos regiones calientes**:\n",
        "\n",
        "1. Primera región: `40, 38, 45` (conectadas entre sí).\n",
        "2. Segunda región: `50, 51, 53, 52` (conectadas entre sí, pero **no** con la región anterior).\n",
        "\n",
        "---\n",
        "\n",
        "### ✅ Resultado esperado: `2` regiones calientes\n",
        "\n"
      ]
    },
    {
      "cell_type": "code",
      "execution_count": null,
      "metadata": {
        "id": "tQElw7yiTj3G"
      },
      "outputs": [
        {
          "name": "stdout",
          "output_type": "stream",
          "text": [
            "b\n"
          ]
        }
      ],
      "source": [
        "def SeRepite(palabra: str, idx = 0, respuesta = None):\n",
        "    \n",
        "    if idx == len(palabra):\n",
        "        return respuesta\n",
        "    \n",
        "    if respuesta is None:\n",
        "        respuesta = palabra[0]\n",
        "    \n",
        "    if palabra.count(palabra[idx]) == 1:\n",
        "        return palabra[idx]\n",
        "           \n",
        "        \n",
        "    return SeRepite(palabra, idx+1, respuesta)\n",
        "\n",
        "    \n",
        "entrada = \"a\" * 500 + \"b\"\n",
        "\n",
        "print(SeRepite(entrada))\n",
        "\n"
      ]
    },
    {
      "cell_type": "code",
      "execution_count": 18,
      "metadata": {},
      "outputs": [
        {
          "name": "stdout",
          "output_type": "stream",
          "text": [
            "2\n"
          ]
        }
      ],
      "source": [
        "points = [1, 4, 2, 9, 7, 8, 9, 3, 1]\n",
        "\n",
        "x = points.count(9)\n",
        "print(x)"
      ]
    },
    {
      "cell_type": "markdown",
      "metadata": {
        "id": "6CC6nAjgVTJu"
      },
      "source": [
        "# 🅰️ *Primer carácter no repetido*\n",
        "\n",
        "### 📘 Enunciado:\n",
        "\n",
        "Dada una cadena de texto compuesta por letras minúsculas, implementa una función que retorne el **primer carácter que no se repite en toda la cadena**. Es decir, el primer carácter cuya frecuencia es exactamente 1.\n",
        "\n",
        "Si **todos los caracteres se repiten**, la función debe retornar `None`.\n",
        "\n",
        "---\n",
        "\n",
        "### 📥 Entrada:\n",
        "\n",
        "* Un string `s` (1 ≤ longitud ≤ 1000) compuesto únicamente por letras minúsculas del alfabeto inglés.\n",
        "\n",
        "---\n",
        "\n",
        "### 📤 Salida:\n",
        "\n",
        "* Un carácter (string de un solo carácter) que corresponde al **primer carácter no repetido**, o `None` si no hay ninguno.\n",
        "\n",
        "---\n",
        "\n",
        "¡Claro! Aquí tienes **tres ejemplos de prueba** con **strings de longitud mayor a 500**, ideales para comprobar la eficiencia y la robustez del código que los estudiantes implementen. En todos los casos, los strings cumplen con la restricción de contener únicamente **letras minúsculas**.\n",
        "\n",
        "---\n",
        "\n",
        "### 🔡 **Ejemplo 1 – Primer carácter único hacia el final**\n",
        "\n",
        "```python\n",
        "entrada = \"a\" * 500 + \"b\"\n",
        "salida_esperada = \"b\"\n",
        "```\n",
        "\n",
        "---\n",
        "\n",
        "### 🔡 **Ejemplo 2 – Todos repetidos**\n",
        "\n",
        "```python\n",
        "entrada = \"abc\" * 200  # Longitud = 600\n",
        "salida_esperada = None\n",
        "```\n",
        "\n",
        "---\n",
        "\n",
        "### 🔡 **Ejemplo 3 – Primer único en la posición 300**\n",
        "\n",
        "```python\n",
        "entrada = \"a\" * 300 + \"z\" + \"x\" + \"a\" * 300 + \"y\"\n",
        "salida_esperada = \"z\"\n",
        "```\n",
        "\n",
        "---\n"
      ]
    },
    {
      "cell_type": "code",
      "execution_count": null,
      "metadata": {
        "id": "US-gcfTNVrju"
      },
      "outputs": [],
      "source": []
    }
  ],
  "metadata": {
    "colab": {
      "provenance": []
    },
    "kernelspec": {
      "display_name": "edd",
      "language": "python",
      "name": "python3"
    },
    "language_info": {
      "codemirror_mode": {
        "name": "ipython",
        "version": 3
      },
      "file_extension": ".py",
      "mimetype": "text/x-python",
      "name": "python",
      "nbconvert_exporter": "python",
      "pygments_lexer": "ipython3",
      "version": "3.13.2"
    }
  },
  "nbformat": 4,
  "nbformat_minor": 0
}
