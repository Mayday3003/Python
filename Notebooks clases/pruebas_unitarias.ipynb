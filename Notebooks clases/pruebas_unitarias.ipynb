{
  "nbformat": 4,
  "nbformat_minor": 0,
  "metadata": {
    "colab": {
      "provenance": []
    },
    "kernelspec": {
      "name": "python3",
      "display_name": "Python 3"
    },
    "language_info": {
      "name": "python"
    }
  },
  "cells": [
    {
      "cell_type": "markdown",
      "source": [
        "---\n",
        "\n",
        "# **Pruebas Unitarias en Python**\n",
        "\n",
        "## **Introducción**\n",
        "Las pruebas unitarias son una parte esencial del desarrollo de software moderno. Estas pruebas permiten validar que cada componente individual (unidad) del código funcione correctamente de manera aislada. En Python, el módulo `unittest` facilita la creación de pruebas unitarias de forma estructurada.\n",
        "\n",
        "### **¿Qué son las pruebas unitarias?**\n",
        "Una prueba unitaria es una función que verifica una pequeña unidad de código (por lo general, una función o método) para asegurarse de que su comportamiento es el esperado. Las pruebas unitarias son importantes para:\n",
        "\n",
        "- Garantizar que las funciones devuelven los resultados correctos.\n",
        "- Detectar errores rápidamente durante el desarrollo.\n",
        "- Facilitar el mantenimiento y la expansión del código.\n",
        "- Proporcionar confianza al realizar refactorizaciones.\n",
        "\n",
        "## **Características clave de las pruebas unitarias**\n",
        "1. **Aislamiento:** Cada prueba debe funcionar de manera independiente de las demás.\n",
        "2. **Automatización:** Las pruebas se ejecutan de forma automática, sin intervención manual.\n",
        "3. **Repetitividad:** Las pruebas pueden ejecutarse cuantas veces sea necesario para detectar errores regresivos.\n",
        "4. **Simples y rápidas:** Las pruebas deben ser fáciles de escribir y ejecutarse rápidamente.\n",
        "\n",
        "---\n",
        "\n",
        "## **El módulo `unittest`**\n",
        "\n",
        "El módulo `unittest` es parte de la biblioteca estándar de Python y proporciona herramientas para escribir y ejecutar pruebas unitarias. Veamos cómo funciona paso a paso.\n",
        "\n",
        "### **Creación de una prueba unitaria básica**\n",
        "Vamos a crear un pequeño ejemplo para probar una función que suma dos números.\n",
        "\n",
        "```python\n",
        "# Código a probar\n",
        "def suma(a, b):\n",
        "    return a + b\n",
        "```\n",
        "\n",
        "### **Escribir la prueba unitaria**\n",
        "A continuación, escribimos una prueba unitaria para verificar el funcionamiento de la función `suma`.\n",
        "\n",
        "```python\n",
        "import unittest\n",
        "\n",
        "class TestSuma(unittest.TestCase):\n",
        "\n",
        "    def test_suma_positivos(self):\n",
        "        self.assertEqual(suma(2, 3), 5)\n",
        "\n",
        "    def test_suma_negativos(self):\n",
        "        self.assertEqual(suma(-1, -1), -2)\n",
        "\n",
        "    def test_suma_cero(self):\n",
        "        self.assertEqual(suma(0, 0), 0)\n",
        "\n",
        "if __name__ == '__main__':\n",
        "    unittest.main()\n",
        "```\n",
        "\n",
        "### **Explicación del código:**\n",
        "- **`import unittest`:** Importamos el módulo `unittest` para poder escribir pruebas.\n",
        "- **`class TestSuma(unittest.TestCase)`:** Definimos una clase de prueba que hereda de `unittest.TestCase`. Todas las pruebas se escriben dentro de esta clase.\n",
        "- **`self.assertEqual(...)`:** Comparamos el valor retornado por la función con el valor esperado usando el método `assertEqual`. Si los valores coinciden, la prueba pasa.\n",
        "- **`if __name__ == '__main__'`:** Esta línea asegura que las pruebas solo se ejecuten si el archivo se ejecuta directamente (y no si se importa).\n",
        "\n",
        "---\n",
        "\n",
        "## **Conceptos Importantes de `unittest`**\n",
        "\n",
        "### **1. `setUp` y `tearDown`**\n",
        "Estos métodos permiten configurar y limpiar datos antes y después de cada prueba. Se utilizan, por ejemplo, para inicializar variables o cerrar conexiones a bases de datos.\n",
        "\n",
        "```python\n",
        "class TestSuma(unittest.TestCase):\n",
        "\n",
        "    def setUp(self):\n",
        "        self.a = 10\n",
        "        self.b = 5\n",
        "\n",
        "    def test_suma_setup(self):\n",
        "        self.assertEqual(suma(self.a, self.b), 15)\n",
        "\n",
        "    def tearDown(self):\n",
        "        # Se puede usar para liberar recursos si es necesario\n",
        "        pass\n",
        "```\n",
        "\n",
        "### **2. Otros métodos de aserción**\n",
        "Además de `assertEqual`, `unittest` proporciona varios métodos para realizar diferentes tipos de comparaciones y verificaciones:\n",
        "\n",
        "- **`assertTrue(expression)`**: Verifica que la expresión sea verdadera.\n",
        "- **`assertFalse(expression)`**: Verifica que la expresión sea falsa.\n",
        "- **`assertRaises(exception, callable, ...)`**: Verifica que se lance una excepción específica.\n",
        "\n",
        "Ejemplo:\n",
        "\n",
        "```python\n",
        "def dividir(a, b):\n",
        "    if b == 0:\n",
        "        raise ValueError(\"No se puede dividir entre cero\")\n",
        "    return a / b\n",
        "\n",
        "class TestDivision(unittest.TestCase):\n",
        "\n",
        "    def test_division(self):\n",
        "        self.assertEqual(dividir(10, 2), 5)\n",
        "\n",
        "    def test_division_por_cero(self):\n",
        "        with self.assertRaises(ValueError):\n",
        "            dividir(10, 0)\n",
        "```\n",
        "\n",
        "---\n",
        "\n",
        "## **Ejecutar pruebas**\n",
        "\n",
        "Puedes ejecutar las pruebas de varias maneras:\n",
        "\n",
        "### **1. Desde el intérprete de Python**\n",
        "Si tienes un archivo llamado `test_mis_funciones.py`, puedes ejecutarlo desde la terminal usando:\n",
        "\n",
        "```bash\n",
        "python test_mis_funciones.py\n",
        "```\n",
        "\n",
        "### **2. Usar `unittest` desde la línea de comandos**\n",
        "Otra opción es ejecutar todas las pruebas en el directorio actual con:\n",
        "\n",
        "```bash\n",
        "python -m unittest\n",
        "```\n",
        "\n",
        "---\n",
        "\n",
        "## **Buenas Prácticas**\n",
        "\n",
        "- **Nombrado claro:** El nombre de las pruebas debe indicar claramente qué se está probando.\n",
        "- **Pruebas independientes:** Asegúrate de que las pruebas no dependan unas de otras.\n",
        "- **Cobertura:** Intenta cubrir la mayor cantidad posible de escenarios, incluyendo casos límite.\n",
        "- **Usar mocks:** Cuando pruebas funciones que dependen de recursos externos (como bases de datos), es recomendable usar mocks para evitar dependencias en pruebas unitarias.\n",
        "\n",
        "---\n",
        "\n",
        "## **Ejemplo de Pruebas con Mocks**\n",
        "\n",
        "A veces, necesitamos simular el comportamiento de una función o un objeto. Para esto, Python ofrece `unittest.mock`.\n",
        "\n",
        "```python\n",
        "from unittest.mock import Mock\n",
        "\n",
        "# Función dependiente de un API externo\n",
        "def obtener_datos(api_cliente):\n",
        "    respuesta = api_cliente.get('/datos')\n",
        "    if respuesta.status_code == 200:\n",
        "        return respuesta.json()\n",
        "    return None\n",
        "\n",
        "class TestAPI(unittest.TestCase):\n",
        "\n",
        "    def test_obtener_datos(self):\n",
        "        api_cliente_mock = Mock()\n",
        "        api_cliente_mock.get.return_value.status_code = 200\n",
        "        api_cliente_mock.get.return_value.json.return_value = {\"key\": \"value\"}\n",
        "        \n",
        "        self.assertEqual(obtener_datos(api_cliente_mock), {\"key\": \"value\"})\n",
        "```\n",
        "\n",
        "---\n",
        "\n",
        "## **Conclusión**\n",
        "\n",
        "Las pruebas unitarias son fundamentales para asegurar que el código funcione correctamente y para facilitar su mantenimiento. En Python, `unittest` ofrece un marco sólido para escribir, organizar y ejecutar pruebas. Con una buena cobertura de pruebas, podemos desarrollar con mayor confianza, refactorizando y agregando nuevas funcionalidades sin temor a romper el código existente.\n",
        "\n",
        "---\n",
        "\n",
        "\n"
      ],
      "metadata": {
        "id": "MZDdvrlydpUv"
      }
    },
    {
      "cell_type": "markdown",
      "source": [
        "# Códigos"
      ],
      "metadata": {
        "id": "f8RptVwkdxNp"
      }
    },
    {
      "cell_type": "markdown",
      "source": [
        "## Directamente desde Colab"
      ],
      "metadata": {
        "id": "Y0JvTxo6eaTW"
      }
    },
    {
      "cell_type": "code",
      "execution_count": null,
      "metadata": {
        "id": "hQTlrazydX2R"
      },
      "outputs": [],
      "source": [
        "# Código a probar\n",
        "class TipoDeDatoInvalido(Exception):\n",
        "  pass\n",
        "\n",
        "def suma(a, b):\n",
        "  if(isinstance(a, (int, float)) and isinstance(b, (int, float))):\n",
        "    return a + b\n",
        "  raise TipoDeDatoInvalido(\"Tipos de dato inválidos\")"
      ]
    },
    {
      "cell_type": "code",
      "source": [],
      "metadata": {
        "colab": {
          "base_uri": "https://localhost:8080/"
        },
        "id": "jcRZdtPzSakL",
        "outputId": "98f0b997-61fc-4817-ff08-1dc63db8fe4e"
      },
      "execution_count": null,
      "outputs": [
        {
          "output_type": "execute_result",
          "data": {
            "text/plain": [
              "1"
            ]
          },
          "metadata": {},
          "execution_count": 20
        }
      ]
    },
    {
      "cell_type": "code",
      "source": [
        "import unittest\n",
        "\n",
        "class TestSuma(unittest.TestCase):\n",
        "\n",
        "  def test_suma_positivos(self):\n",
        "    self.assertEqual(suma(2, 3), 5)\n",
        "\n",
        "  def test_suma_negativos(self):\n",
        "    self.assertEqual(suma(-1, -1), -2)\n",
        "\n",
        "  def test_suma_cero(self):\n",
        "    self.assertEqual(suma(0, 0), 0)\n",
        "\n",
        "  def test_tipo_de_datos(self):\n",
        "    with self.assertRaises(TipoDeDatoInvalido) as e:\n",
        "      suma(\"a\",1)\n",
        "\n",
        "  def test_tipo_de_datos_2(self):\n",
        "    self.assertRaises(TipoDeDatoInvalido,suma,\"a\",1)\n",
        "\n",
        "suite = unittest.TestLoader().loadTestsFromTestCase(TestSuma)\n",
        "unittest.TextTestRunner().run(suite)"
      ],
      "metadata": {
        "colab": {
          "base_uri": "https://localhost:8080/"
        },
        "id": "5UgC7dKId1XZ",
        "outputId": "03df8977-af29-4d23-c2a0-f7721d046e51"
      },
      "execution_count": null,
      "outputs": [
        {
          "output_type": "stream",
          "name": "stderr",
          "text": [
            ".....\n",
            "----------------------------------------------------------------------\n",
            "Ran 5 tests in 0.013s\n",
            "\n",
            "OK\n"
          ]
        },
        {
          "output_type": "execute_result",
          "data": {
            "text/plain": [
              "<unittest.runner.TextTestResult run=5 errors=0 failures=0>"
            ]
          },
          "metadata": {},
          "execution_count": 21
        }
      ]
    },
    {
      "cell_type": "markdown",
      "source": [
        "## Desde archivos independientes"
      ],
      "metadata": {
        "id": "0bk7r4wUedXh"
      }
    },
    {
      "cell_type": "code",
      "source": [
        "%%writefile mi_codigo.py\n",
        "\n",
        "# Función a probar\n",
        "def suma(a, b):\n",
        "  return a + b"
      ],
      "metadata": {
        "colab": {
          "base_uri": "https://localhost:8080/"
        },
        "id": "3vAweFrZefOD",
        "outputId": "a88f9e31-98cb-4c52-ec15-f5f1f8218c01"
      },
      "execution_count": null,
      "outputs": [
        {
          "output_type": "stream",
          "name": "stdout",
          "text": [
            "Writing mi_codigo.py\n"
          ]
        }
      ]
    },
    {
      "cell_type": "code",
      "source": [
        "%%writefile test_mi_codigo.py\n",
        "\n",
        "import unittest\n",
        "from mi_codigo import suma\n",
        "\n",
        "class TestSuma(unittest.TestCase):\n",
        "  def test_suma_positivos(self):\n",
        "    self.assertEqual(suma(2, 3), 5)\n",
        "\n",
        "  def test_suma_negativos(self):\n",
        "    self.assertEqual(suma(-1, -1), -2)\n",
        "\n",
        "  def test_suma_cero(self):\n",
        "    self.assertEqual(suma(0, 0), 0)\n",
        "\n",
        "if __name__ == '__main__':\n",
        "  unittest.main()"
      ],
      "metadata": {
        "colab": {
          "base_uri": "https://localhost:8080/"
        },
        "id": "kCqEq545eiN_",
        "outputId": "ef07c6db-f42a-41f0-c4f2-754e7e9a76bd"
      },
      "execution_count": null,
      "outputs": [
        {
          "output_type": "stream",
          "name": "stdout",
          "text": [
            "Writing test_mi_codigo.py\n"
          ]
        }
      ]
    },
    {
      "cell_type": "markdown",
      "source": [
        "### Corriendo el archivo de prueba"
      ],
      "metadata": {
        "id": "HPgXn11pepYZ"
      }
    },
    {
      "cell_type": "code",
      "source": [
        "!python3 test_mi_codigo.py"
      ],
      "metadata": {
        "colab": {
          "base_uri": "https://localhost:8080/"
        },
        "id": "5hPdMenBerFh",
        "outputId": "436ef27f-be95-4244-92f5-e329bb7aa586"
      },
      "execution_count": null,
      "outputs": [
        {
          "output_type": "stream",
          "name": "stdout",
          "text": [
            "...\n",
            "----------------------------------------------------------------------\n",
            "Ran 3 tests in 0.000s\n",
            "\n",
            "OK\n"
          ]
        }
      ]
    },
    {
      "cell_type": "markdown",
      "source": [
        "---\n",
        "# Ahora, con PyTest"
      ],
      "metadata": {
        "id": "QixhD59me2OH"
      }
    },
    {
      "cell_type": "code",
      "source": [
        "#Instalando pytest\n",
        "!pip install pytest"
      ],
      "metadata": {
        "colab": {
          "base_uri": "https://localhost:8080/"
        },
        "id": "tNL_EuS5e4cA",
        "outputId": "9cd5ef77-356f-4a12-f5ce-bc94f77b458b"
      },
      "execution_count": null,
      "outputs": [
        {
          "output_type": "stream",
          "name": "stdout",
          "text": [
            "Requirement already satisfied: pytest in /usr/local/lib/python3.10/dist-packages (7.4.4)\n",
            "Requirement already satisfied: iniconfig in /usr/local/lib/python3.10/dist-packages (from pytest) (2.0.0)\n",
            "Requirement already satisfied: packaging in /usr/local/lib/python3.10/dist-packages (from pytest) (24.1)\n",
            "Requirement already satisfied: pluggy<2.0,>=0.12 in /usr/local/lib/python3.10/dist-packages (from pytest) (1.5.0)\n",
            "Requirement already satisfied: exceptiongroup>=1.0.0rc8 in /usr/local/lib/python3.10/dist-packages (from pytest) (1.2.2)\n",
            "Requirement already satisfied: tomli>=1.0.0 in /usr/local/lib/python3.10/dist-packages (from pytest) (2.0.2)\n"
          ]
        }
      ]
    },
    {
      "cell_type": "code",
      "source": [
        "%%writefile mi_codigo_pytest.py\n",
        "\n",
        "# Función a probar\n",
        "def suma(a, b):\n",
        "  return a + b"
      ],
      "metadata": {
        "colab": {
          "base_uri": "https://localhost:8080/"
        },
        "id": "euLJlYTYfBzT",
        "outputId": "91413e34-7220-4776-83ff-f3cebd56a070"
      },
      "execution_count": null,
      "outputs": [
        {
          "output_type": "stream",
          "name": "stdout",
          "text": [
            "Writing mi_codigo_pytest.py\n"
          ]
        }
      ]
    },
    {
      "cell_type": "markdown",
      "source": [
        "* Nota: En pytest, no necesitas una clase ni heredar de ninguna clase base como en unittest. Simplemente defines funciones que comienzan con test_ para que pytest las detecte automáticamente.\n",
        "\n",
        "---\n",
        "* **assert**: A diferencia de unittest, en pytest simplemente usas el statement assert para verificar las condiciones.\n",
        "* **Descubrimiento automático de tests**: pytest detecta automáticamente todas las funciones que comienzan con test_ en archivos que también comienzan con test_."
      ],
      "metadata": {
        "id": "gc23wOKMfKsT"
      }
    },
    {
      "cell_type": "code",
      "source": [
        "%%writefile test_mi_codigo_pytest.py\n",
        "\n",
        "from mi_codigo_pytest import suma\n",
        "\n",
        "def test_suma_positivos():\n",
        "  assert suma(2, 3) == 5\n",
        "\n",
        "def test_suma_negativos():\n",
        "  assert suma(-1, -1) == -3\n",
        "\n",
        "def test_suma_cero():\n",
        "  assert suma(0, 0) == 0"
      ],
      "metadata": {
        "colab": {
          "base_uri": "https://localhost:8080/"
        },
        "id": "PBu4yBQ_fEgn",
        "outputId": "fbd7e91c-5083-4e48-ea06-688fd8fcab56"
      },
      "execution_count": null,
      "outputs": [
        {
          "output_type": "stream",
          "name": "stdout",
          "text": [
            "Writing test_mi_codigo_pytest.py\n"
          ]
        }
      ]
    },
    {
      "cell_type": "markdown",
      "source": [
        "* Ahora puedes ejecutar las pruebas utilizando el comando !pytest en Colab. Este comando buscará automáticamente los archivos que comienzan con test_ y ejecutará las pruebas que encuentre."
      ],
      "metadata": {
        "id": "lId8KI4IfPf5"
      }
    },
    {
      "cell_type": "code",
      "source": [
        "!pytest test_mi_codigo_pytest.py"
      ],
      "metadata": {
        "colab": {
          "base_uri": "https://localhost:8080/"
        },
        "id": "07NRDgbIfNrU",
        "outputId": "8f8008e4-2eec-414a-d7f7-cd43b2417d82"
      },
      "execution_count": null,
      "outputs": [
        {
          "output_type": "stream",
          "name": "stdout",
          "text": [
            "\u001b[1m======================================= test session starts ========================================\u001b[0m\n",
            "platform linux -- Python 3.10.12, pytest-7.4.4, pluggy-1.5.0\n",
            "rootdir: /content\n",
            "plugins: typeguard-4.3.0, anyio-3.7.1\n",
            "\u001b[1mcollecting ... \u001b[0m\u001b[1m\rcollected 3 items                                                                                  \u001b[0m\n",
            "\n",
            "test_mi_codigo_pytest.py \u001b[32m.\u001b[0m\u001b[31mF\u001b[0m\u001b[32m.\u001b[0m\u001b[31m                                                                 [100%]\u001b[0m\n",
            "\n",
            "============================================= FAILURES =============================================\n",
            "\u001b[31m\u001b[1m_______________________________________ test_suma_negativos ________________________________________\u001b[0m\n",
            "\n",
            "    \u001b[94mdef\u001b[39;49;00m \u001b[92mtest_suma_negativos\u001b[39;49;00m():\u001b[90m\u001b[39;49;00m\n",
            ">     \u001b[94massert\u001b[39;49;00m suma(-\u001b[94m1\u001b[39;49;00m, -\u001b[94m1\u001b[39;49;00m) == -\u001b[94m3\u001b[39;49;00m\u001b[90m\u001b[39;49;00m\n",
            "\u001b[1m\u001b[31mE     assert -2 == -3\u001b[0m\n",
            "\u001b[1m\u001b[31mE      +  where -2 = suma(-1, -1)\u001b[0m\n",
            "\n",
            "\u001b[1m\u001b[31mtest_mi_codigo_pytest.py\u001b[0m:8: AssertionError\n",
            "\u001b[36m\u001b[1m===================================== short test summary info ======================================\u001b[0m\n",
            "\u001b[31mFAILED\u001b[0m test_mi_codigo_pytest.py::\u001b[1mtest_suma_negativos\u001b[0m - assert -2 == -3\n",
            "\u001b[31m=================================== \u001b[31m\u001b[1m1 failed\u001b[0m, \u001b[32m2 passed\u001b[0m\u001b[31m in 0.11s\u001b[0m\u001b[31m ====================================\u001b[0m\n"
          ]
        }
      ]
    },
    {
      "cell_type": "markdown",
      "source": [
        "# Un ejemplo usando varias clases con dependencias"
      ],
      "metadata": {
        "id": "1Tqsgk2hgi3r"
      }
    },
    {
      "cell_type": "code",
      "source": [
        "%%writefile producto.py\n",
        "\n",
        "class Producto:\n",
        "  def __init__(self, nombre: str, precio: float):\n",
        "    self.nombre = nombre\n",
        "    self.precio = precio\n",
        "\n",
        "  def aplicar_descuento(self, porcentaje: float):\n",
        "    \"\"\"Aplica un descuento al precio del producto.\"\"\"\n",
        "    if 0 <= porcentaje <= 100:\n",
        "      self.precio -= self.precio * (porcentaje / 100)\n",
        "    else:\n",
        "      raise ValueError(\"El porcentaje de descuento debe estar entre 0 y 100\")\n"
      ],
      "metadata": {
        "colab": {
          "base_uri": "https://localhost:8080/"
        },
        "id": "Epn3uvhhgmRU",
        "outputId": "072da25c-8784-483b-d295-b694fc6126fc"
      },
      "execution_count": null,
      "outputs": [
        {
          "output_type": "stream",
          "name": "stdout",
          "text": [
            "Writing producto.py\n"
          ]
        }
      ]
    },
    {
      "cell_type": "code",
      "source": [
        "%%writefile carrito.py\n",
        "\n",
        "from producto import Producto\n",
        "\n",
        "class CarritoDeCompras:\n",
        "  def __init__(self):\n",
        "    self.productos = []\n",
        "\n",
        "  def agregar_producto(self, producto: Producto):\n",
        "    \"\"\"Agrega un producto al carrito.\"\"\"\n",
        "    self.productos.append(producto)\n",
        "\n",
        "  def calcular_total(self) -> float:\n",
        "    \"\"\"Calcula el total de todos los productos en el carrito.\"\"\"\n",
        "    return sum(producto.precio for producto in self.productos)\n",
        "\n",
        "  def aplicar_descuento(self, porcentaje: float):\n",
        "    \"\"\"Aplica un descuento a todos los productos del carrito.\"\"\"\n",
        "    for producto in self.productos:\n",
        "        producto.aplicar_descuento(porcentaje)\n"
      ],
      "metadata": {
        "colab": {
          "base_uri": "https://localhost:8080/"
        },
        "id": "9KYlMTZTgtsx",
        "outputId": "0d515bb0-03f6-4e98-990f-b35baea7c0f3"
      },
      "execution_count": null,
      "outputs": [
        {
          "output_type": "stream",
          "name": "stdout",
          "text": [
            "Writing carrito.py\n"
          ]
        }
      ]
    },
    {
      "cell_type": "code",
      "source": [
        "%%writefile test_carrito.py\n",
        "\n",
        "import pytest\n",
        "from producto import Producto\n",
        "from carrito import CarritoDeCompras\n",
        "\n",
        "def test_agregar_producto():\n",
        "  #creación\n",
        "  carrito = CarritoDeCompras()\n",
        "  producto = Producto(\"Laptop\", 1000)\n",
        "\n",
        "  #arreglo\n",
        "  carrito.agregar_producto(producto)\n",
        "\n",
        "  #aserción\n",
        "  assert len(carrito.productos) == 1\n",
        "  assert carrito.productos[0].nombre == \"Laptop\"\n",
        "  assert carrito.productos[0].precio == 1000\n",
        "\n",
        "def test_calcular_total():\n",
        "  carrito = CarritoDeCompras()\n",
        "  producto1 = Producto(\"Laptop\", 1000)\n",
        "  producto2 = Producto(\"Mouse\", 50)\n",
        "\n",
        "  carrito.agregar_producto(producto1)\n",
        "  carrito.agregar_producto(producto2)\n",
        "  assert carrito.calcular_total() == 1050\n",
        "\n",
        "def test_aplicar_descuento():\n",
        "  carrito = CarritoDeCompras()\n",
        "  producto1 = Producto(\"Laptop\", 1000)\n",
        "  producto2 = Producto(\"Mouse\", 50)\n",
        "\n",
        "  carrito.agregar_producto(producto1)\n",
        "  carrito.agregar_producto(producto2)\n",
        "\n",
        "  # Aplicamos un descuento del 10%\n",
        "  carrito.aplicar_descuento(10)\n",
        "\n",
        "  assert carrito.calcular_total() == 945  # 10% de descuento en 1050\n"
      ],
      "metadata": {
        "colab": {
          "base_uri": "https://localhost:8080/"
        },
        "id": "rcqA-ykggydb",
        "outputId": "d429c36d-35a6-4a72-e83e-54dd71f54d5f"
      },
      "execution_count": null,
      "outputs": [
        {
          "output_type": "stream",
          "name": "stdout",
          "text": [
            "Writing test_carrito.py\n"
          ]
        }
      ]
    },
    {
      "cell_type": "code",
      "source": [
        "%%writefile test_carrito.py\n",
        "\n",
        "import pytest\n",
        "from producto import Producto\n",
        "from carrito import CarritoDeCompras\n",
        "\n",
        "def test_agregar_producto():\n",
        "  carrito = CarritoDeCompras()\n",
        "  producto = Producto(\"Laptop\", 1000)\n",
        "\n",
        "  carrito.agregar_producto(producto)\n",
        "  assert len(carrito.productos) == 1\n",
        "  assert carrito.productos[0].nombre == \"Laptop\"\n",
        "  assert carrito.productos[0].precio == 1000\n",
        "\n",
        "def test_calcular_total():\n",
        "  carrito = CarritoDeCompras()\n",
        "  producto1 = Producto(\"Laptop\", 1000)\n",
        "  producto2 = Producto(\"Mouse\", 50)\n",
        "\n",
        "  carrito.agregar_producto(producto1)\n",
        "  carrito.agregar_producto(producto2)\n",
        "  assert carrito.calcular_total() == 1050\n",
        "\n",
        "def test_aplicar_descuento():\n",
        "  carrito = CarritoDeCompras()\n",
        "  producto1 = Producto(\"Laptop\", 1000)\n",
        "  producto2 = Producto(\"Mouse\", 50)\n",
        "\n",
        "  carrito.agregar_producto(producto1)\n",
        "  carrito.agregar_producto(producto2)\n",
        "\n",
        "  # Aplicamos un descuento del 10%\n",
        "  carrito.aplicar_descuento(10)\n",
        "\n",
        "  assert carrito.calcular_total() == 945  # 10% de descuento en 1050\n"
      ],
      "metadata": {
        "colab": {
          "base_uri": "https://localhost:8080/"
        },
        "id": "vI-X4jRxg2jy",
        "outputId": "8d7901d9-e67d-4022-cde9-25cd92806e9e"
      },
      "execution_count": null,
      "outputs": [
        {
          "output_type": "stream",
          "name": "stdout",
          "text": [
            "Overwriting test_carrito.py\n"
          ]
        }
      ]
    },
    {
      "cell_type": "code",
      "source": [
        "!pytest test_carrito.py"
      ],
      "metadata": {
        "colab": {
          "base_uri": "https://localhost:8080/"
        },
        "id": "GE8ehnM6g9BN",
        "outputId": "71194f42-c537-41d5-a80f-e05b8b3d1c63"
      },
      "execution_count": null,
      "outputs": [
        {
          "output_type": "stream",
          "name": "stdout",
          "text": [
            "\u001b[1m======================================= test session starts ========================================\u001b[0m\n",
            "platform linux -- Python 3.10.12, pytest-7.4.4, pluggy-1.5.0\n",
            "rootdir: /content\n",
            "plugins: typeguard-4.3.0, anyio-3.7.1\n",
            "\u001b[1mcollecting ... \u001b[0m\u001b[1m\rcollected 3 items                                                                                  \u001b[0m\n",
            "\n",
            "test_carrito.py \u001b[32m.\u001b[0m\u001b[32m.\u001b[0m\u001b[32m.\u001b[0m\u001b[32m                                                                          [100%]\u001b[0m\n",
            "\n",
            "\u001b[32m======================================== \u001b[32m\u001b[1m3 passed\u001b[0m\u001b[32m in 0.02s\u001b[0m\u001b[32m =========================================\u001b[0m\n"
          ]
        }
      ]
    },
    {
      "cell_type": "markdown",
      "source": [
        "# Uso del Assert: https://realpython.com/python-assert-statement/"
      ],
      "metadata": {
        "id": "VR1Nsxwehz3J"
      }
    },
    {
      "cell_type": "code",
      "source": [],
      "metadata": {
        "id": "MutuwugCh1ZM"
      },
      "execution_count": null,
      "outputs": []
    },
    {
      "cell_type": "markdown",
      "source": [
        "# RETO (0,05)\n",
        "\n",
        "* Generar pruebas unitarias para este programa.\n",
        "\n",
        "### **Clases:**\n",
        "\n",
        "1. **`Libro`**: Representa un libro en la biblioteca, con título, autor, y un estado de disponibilidad.\n",
        "2. **`Biblioteca`**: Administra una colección de libros y los préstamos.\n",
        "\n",
        "---\n",
        "\n",
        "### **Archivo `libro.py` para la clase `Libro`:**\n",
        "\n",
        "```python\n",
        "%%writefile libro.py\n",
        "\n",
        "class Libro:\n",
        "    def __init__(self, titulo: str, autor: str):\n",
        "        self.titulo = titulo\n",
        "        self.autor = autor\n",
        "        self.disponible = True  # El libro está disponible al crearlo\n",
        "\n",
        "    def prestar(self):\n",
        "        \"\"\"Marca el libro como prestado.\"\"\"\n",
        "        if not self.disponible:\n",
        "            raise ValueError(f\"El libro '{self.titulo}' ya está prestado\")\n",
        "        self.disponible = False\n",
        "\n",
        "    def devolver(self):\n",
        "        \"\"\"Marca el libro como disponible.\"\"\"\n",
        "        if self.disponible:\n",
        "            raise ValueError(f\"El libro '{self.titulo}' ya está disponible\")\n",
        "        self.disponible = True\n",
        "```\n",
        "\n",
        "---\n",
        "\n",
        "### **Archivo `biblioteca.py` para la clase `Biblioteca`:**\n",
        "\n",
        "```python\n",
        "%%writefile biblioteca.py\n",
        "\n",
        "from libro import Libro\n",
        "\n",
        "class Biblioteca:\n",
        "    def __init__(self):\n",
        "        self.libros = []\n",
        "\n",
        "    def agregar_libro(self, libro: Libro):\n",
        "        \"\"\"Agrega un libro a la biblioteca.\"\"\"\n",
        "        self.libros.append(libro)\n",
        "\n",
        "    def buscar_libro(self, titulo: str) -> Libro:\n",
        "        \"\"\"Busca un libro por título y lo devuelve si existe.\"\"\"\n",
        "        for libro in self.libros:\n",
        "            if libro.titulo == titulo:\n",
        "                return libro\n",
        "        raise ValueError(f\"El libro '{titulo}' no se encuentra en la biblioteca\")\n",
        "\n",
        "    def prestar_libro(self, titulo: str):\n",
        "        \"\"\"Busca un libro por título y lo presta si está disponible.\"\"\"\n",
        "        libro = self.buscar_libro(titulo)\n",
        "        libro.prestar()\n",
        "\n",
        "    def devolver_libro(self, titulo: str):\n",
        "        \"\"\"Busca un libro por título y lo devuelve si estaba prestado.\"\"\"\n",
        "        libro = self.buscar_libro(titulo)\n",
        "        libro.devolver()\n",
        "```\n",
        "\n",
        "---\n",
        "\n",
        "### **Actividad para los estudiantes:**\n",
        "\n",
        "Los estudiantes deben escribir pruebas unitarias que verifiquen el comportamiento de estas dos clases. Algunos aspectos que pueden probar incluyen:\n",
        "\n",
        "1. **Clase `Libro`:**\n",
        "   - Verificar que un libro se puede prestar correctamente.\n",
        "   - Probar que no se puede prestar un libro que ya está prestado (debe lanzar una excepción).\n",
        "   - Verificar que un libro se puede devolver correctamente.\n",
        "   - Probar que no se puede devolver un libro que ya está disponible (debe lanzar una excepción).\n",
        "\n",
        "2. **Clase `Biblioteca`:**\n",
        "   - Verificar que se pueden agregar libros a la biblioteca.\n",
        "   - Verificar que se puede buscar un libro existente en la biblioteca.\n",
        "   - Probar que lanzar una excepción si se intenta buscar un libro que no existe.\n",
        "   - Probar que se puede prestar un libro desde la biblioteca.\n",
        "   - Probar que se puede devolver un libro prestado desde la biblioteca.\n",
        "\n",
        "---\n",
        "\n",
        "### **Bonificación adicional:**\n",
        "- Crear pruebas adicionales que cubran escenarios como múltiples préstamos de libros, la búsqueda de libros no disponibles, entre otros.\n",
        "- Parametrizar pruebas para validar múltiples casos con un solo test usando `@pytest.mark.parametrize`.\n",
        "\n"
      ],
      "metadata": {
        "id": "6tFa_rDZiZOy"
      }
    }
  ]
}