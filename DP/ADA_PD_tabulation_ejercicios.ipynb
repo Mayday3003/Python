{
  "cells": [
    {
      "cell_type": "markdown",
      "metadata": {
        "id": "naKVghsqRRPB"
      },
      "source": []
    },
    {
      "cell_type": "markdown",
      "metadata": {
        "id": "_dBYI38WRX3m"
      },
      "source": [
        "## 🧩 **Ejercicios de Programación Dinámica con Tabulación (Bottom-Up)**\n",
        "\n",
        "---\n",
        "\n",
        "### 🟢 **Nivel básico — Tabulación 1D**\n",
        "\n",
        "#### 1️⃣ **70. Climbing Stairs**\n",
        "\n",
        "> 📘 *Sube Escaleras*\n",
        "\n",
        "Tienes una escalera con `n` peldaños.\n",
        "Cada vez puedes subir **1 o 2 escalones**.\n",
        "Determina de cuántas formas distintas puedes llegar hasta el último peldaño.\n",
        "\n",
        "📥 Entrada: `n` (1 ≤ n ≤ 45)\n",
        "📤 Salida: Número total de formas posibles.\n"
      ]
    },
    {
      "cell_type": "code",
      "execution_count": 8,
      "metadata": {
        "id": "Pb4W83TaRZD7"
      },
      "outputs": [
        {
          "name": "stdout",
          "output_type": "stream",
          "text": [
            "[0, 1, 2, 3]\n",
            "[0, 1, 2, 3, 5]\n",
            "[0, 1, 2, 3, 5, 8]\n"
          ]
        },
        {
          "data": {
            "text/plain": [
              "8"
            ]
          },
          "execution_count": 8,
          "metadata": {},
          "output_type": "execute_result"
        }
      ],
      "source": [
        "def climbing_stairs(n)->int:\n",
        "    arr = []\n",
        "    arr.append(0)\n",
        "    arr.append(1)\n",
        "    arr.append(2)\n",
        "    \n",
        "    for i in range(2,n):\n",
        "        opciones = arr[i] + arr[i-1]\n",
        "        arr.append(opciones)\n",
        "        print(arr)\n",
        "\n",
        "        \n",
        "    return arr[n]\n",
        "\n",
        "climbing_stairs(5)"
      ]
    },
    {
      "cell_type": "markdown",
      "metadata": {
        "id": "HwiXCzJIRaGy"
      },
      "source": [
        "---\n",
        "\n",
        "#### 2️⃣ **198. House Robber**\n",
        "\n",
        "> 📘 *Ladrón de Casas*\n",
        "\n",
        "Un ladrón planea robar casas en una calle.\n",
        "Cada casa tiene una cantidad de dinero, pero **no puede robar dos casas adyacentes**.\n",
        "Determina la cantidad máxima que puede robar.\n",
        "\n",
        "📥 Entrada: `nums` (lista de enteros ≥ 0)\n",
        "📤 Salida: Máximo dinero robado.\n"
      ]
    },
    {
      "cell_type": "code",
      "execution_count": 15,
      "metadata": {
        "id": "BEQS8c8bRdig"
      },
      "outputs": [
        {
          "data": {
            "text/plain": [
              "19"
            ]
          },
          "execution_count": 15,
          "metadata": {},
          "output_type": "execute_result"
        }
      ],
      "source": [
        "def house_robber(nums: list) -> int:\n",
        "    n = len(nums)\n",
        "    arr = [0]*(n+1)\n",
        "    \n",
        "    arr[1] = nums[0]\n",
        "    \n",
        "    for i in range(2,n+1):\n",
        "        agregar = max(nums[i-1] + arr[i-2], arr[n-1])\n",
        "        arr[i] = agregar\n",
        "    return arr[n]\n",
        "\n",
        "house_robber([0,2,6,5,1,2,11])\n",
        "house_robber([6,7,1,3,8,2,4])"
      ]
    },
    {
      "cell_type": "markdown",
      "metadata": {
        "id": "Ulc75sL4RfEP"
      },
      "source": [
        "---\n",
        "\n",
        "#### 3️⃣ **322. Coin Change**\n",
        "\n",
        "> 📘 *Cambio de Monedas*\n",
        "\n",
        "Dado un conjunto de monedas y un valor `amount`, encuentra el número mínimo de monedas necesarias para formar esa cantidad.\n",
        "Si no es posible, devuelve `-1`.\n",
        "\n",
        "📥 Entrada: `coins`, `amount`\n",
        "📤 Salida: Mínimo número de monedas.\n",
        "\n",
        "📌 **Idea de tabulación:**\n",
        "`tab[i] = min(tab[i], 1 + tab[i - coin])`\n",
        "Fortalece el concepto de **subproblemas acumulativos y mínimos locales**."
      ]
    },
    {
      "cell_type": "code",
      "execution_count": null,
      "metadata": {
        "id": "1hRA3CTBRhT4"
      },
      "outputs": [],
      "source": []
    },
    {
      "cell_type": "markdown",
      "metadata": {
        "id": "6hgK2TYRRiDN"
      },
      "source": [
        "---\n",
        "\n",
        "### 🟡 **Nivel intermedio — Tabulación 2D**\n",
        "\n",
        "#### 4️⃣ **1143. Longest Common Subsequence (LCS)**\n",
        "\n",
        "> 📘 *Subsecuencia Común Más Larga*\n",
        "\n",
        "Dadas dos cadenas, encuentra la longitud de su subsecuencia común más larga.\n",
        "Una subsecuencia mantiene el orden relativo pero no necesariamente la contigüidad.\n",
        "\n",
        "📥 Entrada: `text1`, `text2`\n",
        "📤 Salida: Longitud del LCS.\n",
        "\n"
      ]
    },
    {
      "cell_type": "code",
      "execution_count": 10,
      "metadata": {
        "id": "E-nezJFaRmUp"
      },
      "outputs": [
        {
          "name": "stdout",
          "output_type": "stream",
          "text": [
            "[[0, 0, 0, 0, 0, 0], [0, 0, 0, 0, 0, 0], [0, 0, 1, 1, 1, 1], [0, 0, 1, 2, 2, 2], [0, 0, 1, 2, 2, 2], [0, 0, 1, 2, 2, 2], [0, 0, 1, 2, 2, 2], [0, 0, 1, 2, 3, 3], [0, 0, 1, 2, 3, 4]]\n",
            "4\n"
          ]
        }
      ],
      "source": [
        "def lcs(S1, S2):\n",
        "    m = len(S1)\n",
        "    n = len(S2)\n",
        "\n",
        "    dp = [[0] * (n + 1) for x in range(m + 1)]\n",
        "\n",
        "    for i in range(1, m + 1):\n",
        "        for j in range(1, n + 1):\n",
        "            if S1[i - 1] == S2[j - 1]:\n",
        "                dp[i][j] = dp[i - 1][j - 1] + 1\n",
        "            else:\n",
        "                dp[i][j] = max(dp[i - 1][j],\n",
        "                               dp[i][j - 1])\n",
        "    print(dp)\n",
        "\n",
        "    return dp[m][n]\n",
        "\n",
        "\n",
        "S1 = \"cancelar\"\n",
        "S2 = \"ganar\"\n",
        "print(lcs(S1, S2))"
      ]
    },
    {
      "cell_type": "markdown",
      "metadata": {
        "id": "KLfBJuwxRm9D"
      },
      "source": [
        "---\n",
        "\n",
        "#### 5️⃣ **62. Unique Paths**\n",
        "\n",
        "> 📘 *Caminos Únicos en una Cuadrícula*\n",
        "\n",
        "Estás en la esquina superior izquierda de una cuadrícula `m x n` y solo puedes moverte **a la derecha o hacia abajo**.\n",
        "¿Cuántos caminos únicos hay hasta la esquina inferior derecha?\n",
        "\n",
        "📥 Entrada: `m`, `n`\n",
        "📤 Salida: Número total de caminos únicos.\n",
        "\n",
        "\n"
      ]
    },
    {
      "cell_type": "code",
      "execution_count": null,
      "metadata": {
        "id": "qbjCsy1kRpzs"
      },
      "outputs": [],
      "source": []
    },
    {
      "cell_type": "markdown",
      "metadata": {
        "id": "5k8dYQN_RtH5"
      },
      "source": [
        "---\n",
        "\n",
        "#### 6️⃣ **64. Minimum Path Sum**\n",
        "\n",
        "> 📘 *Suma de Camino Mínimo*\n",
        "\n",
        "Dada una cuadrícula de enteros positivos, encuentra el **camino con la suma mínima** desde la esquina superior izquierda hasta la inferior derecha.\n",
        "Solo puedes moverte hacia la derecha o hacia abajo.\n",
        "\n",
        "📥 Entrada: `grid`\n",
        "📤 Salida: Suma mínima.\n",
        "\n"
      ]
    },
    {
      "cell_type": "code",
      "execution_count": null,
      "metadata": {
        "id": "AI8ItVNURt55"
      },
      "outputs": [],
      "source": []
    },
    {
      "cell_type": "markdown",
      "metadata": {
        "id": "UTyZJiFNRuZ7"
      },
      "source": [
        "---\n",
        "\n",
        "### 🔴 **Nivel avanzado — Combinaciones y estados múltiples**\n",
        "\n",
        "#### 7️⃣ **494. Target Sum**\n",
        "\n",
        "> 📘 *Suma Objetivo*\n",
        "\n",
        "Dada una lista de enteros `nums` y un valor `target`, asigna un signo (+ o -) a cada número de forma que la suma sea igual a `target`.\n",
        "Cuenta el número de formas posibles.\n",
        "\n",
        "📥 Entrada: `nums`, `target`\n",
        "📤 Salida: Cantidad de formas de lograr la suma objetivo.\n",
        "\n"
      ]
    },
    {
      "cell_type": "code",
      "execution_count": null,
      "metadata": {
        "id": "wlO4V5htRxKy"
      },
      "outputs": [],
      "source": []
    },
    {
      "cell_type": "markdown",
      "metadata": {
        "id": "Wr5i2Yt-Rxmg"
      },
      "source": [
        "\n",
        "---\n",
        "\n",
        "#### 8️⃣ **72. Edit Distance**\n",
        "\n",
        "> 📘 *Distancia de Edición (Levenshtein)*\n",
        "\n",
        "Dadas dos palabras `word1` y `word2`, encuentra el número mínimo de operaciones (insertar, eliminar, reemplazar) necesarias para transformarlas.\n",
        "\n",
        "📥 Entrada: `word1`, `word2`\n",
        "📤 Salida: Número mínimo de operaciones.\n",
        "\n"
      ]
    },
    {
      "cell_type": "code",
      "execution_count": null,
      "metadata": {
        "id": "cidva0_yRzy2"
      },
      "outputs": [],
      "source": []
    },
    {
      "cell_type": "markdown",
      "metadata": {
        "id": "kQmurJNQR1kq"
      },
      "source": [
        "---\n",
        "\n",
        "#### 9️⃣ **300. Longest Increasing Subsequence (LIS)**\n",
        "\n",
        "> 📘 *Subsecuencia Creciente Más Larga*\n",
        "\n",
        "Dada una lista de enteros, encuentra la longitud de la subsecuencia estrictamente creciente más larga.\n",
        "\n",
        "📥 Entrada: `nums`\n",
        "📤 Salida: Longitud de la LIS.\n"
      ]
    },
    {
      "cell_type": "code",
      "execution_count": null,
      "metadata": {
        "id": "baWeRSNLR5Lt"
      },
      "outputs": [],
      "source": []
    },
    {
      "cell_type": "markdown",
      "metadata": {
        "id": "x2MmAhraRPiO"
      },
      "source": [
        "\n",
        "\n",
        "\n",
        "\n",
        "\n",
        "\n",
        "\n",
        "\n",
        "\n",
        "\n",
        "\n",
        "\n",
        "\n",
        "\n",
        "\n",
        "---\n",
        "\n",
        "## 🧭 **Resumen pedagógico**\n",
        "\n",
        "|  #  | Problema         | Nivel         | Tipo | Enfoque cognitivo dominante      |\n",
        "| :-: | ---------------- | ------------- | ---- | -------------------------------- |\n",
        "|  1  | Climbing Stairs  | 🟢 Básico     | 1D   | Casos base y recurrencia directa |\n",
        "|  2  | House Robber     | 🟢 Básico     | 1D   | Decisión excluyente              |\n",
        "|  3  | Coin Change      | 🟢 Intermedio | 1D   | Acumulación y minimización       |\n",
        "|  4  | LCS              | 🟡 Intermedio | 2D   | Dependencias diagonales          |\n",
        "|  5  | Unique Paths     | 🟡 Intermedio | 2D   | Propagación combinatoria         |\n",
        "|  6  | Minimum Path Sum | 🟡 Intermedio | 2D   | Costos acumulativos              |\n",
        "|  7  | Target Sum       | 🔴 Avanzado   | 2D   | Reformulación de subproblemas    |\n",
        "|  8  | Edit Distance    | 🔴 Avanzado   | 2D   | Costos con tres transiciones     |\n",
        "|  9  | LIS              | 🔴 Avanzado   | 1D   | Dependencias no contiguas        |\n",
        "\n",
        "---\n",
        "\n"
      ]
    },
    {
      "cell_type": "code",
      "execution_count": null,
      "metadata": {
        "id": "o3q-PoAiPNXT"
      },
      "outputs": [],
      "source": []
    }
  ],
  "metadata": {
    "colab": {
      "provenance": []
    },
    "kernelspec": {
      "display_name": "chem",
      "language": "python",
      "name": "python3"
    },
    "language_info": {
      "codemirror_mode": {
        "name": "ipython",
        "version": 3
      },
      "file_extension": ".py",
      "mimetype": "text/x-python",
      "name": "python",
      "nbconvert_exporter": "python",
      "pygments_lexer": "ipython3",
      "version": "3.13.5"
    }
  },
  "nbformat": 4,
  "nbformat_minor": 0
}
