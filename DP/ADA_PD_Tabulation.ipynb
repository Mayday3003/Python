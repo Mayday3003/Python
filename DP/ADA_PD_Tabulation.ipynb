{
  "cells": [
    {
      "cell_type": "markdown",
      "metadata": {
        "id": "GqZ4UUtNxYki"
      },
      "source": [
        "---\n",
        "\n",
        "# 🧩 Guía de Programación Dinámica: **Tabulación (Bottom-Up)**\n",
        "\n",
        "## 🎯 Objetivo general\n",
        "\n",
        "Comprender la **lógica de pensamiento** detrás de la programación dinámica basada en **tabulación**, su estructura conceptual, y la **transición natural** desde el enfoque recursivo (top-down) hacia uno completamente iterativo (bottom-up).\n",
        "\n",
        "---\n",
        "\n",
        "## 🧠 1. ¿Qué es la Programación Dinámica?\n",
        "\n",
        "La **Programación Dinámica (PD)** es una técnica para resolver problemas que pueden **dividirse en subproblemas más pequeños** que se **repiten** dentro de la solución global.\n",
        "\n",
        "El objetivo es **almacenar y reutilizar resultados** de esos subproblemas para evitar cálculos redundantes.\n",
        "\n",
        "### Principios fundamentales:\n",
        "\n",
        "1. **Optimalidad de subestructura** 🧩\n",
        "   Una solución óptima al problema global puede construirse a partir de soluciones óptimas de sus subproblemas.\n",
        "\n",
        "2. **Subproblemas superpuestos** 🔁\n",
        "   Los mismos subproblemas aparecen varias veces durante la resolución, lo que justifica guardar sus resultados.\n",
        "\n",
        "---\n",
        "\n",
        "## 🔄 2. Enfoques de Programación Dinámica\n",
        "\n",
        "| Enfoque       | Nombre común | Descripción general                                                                        |\n",
        "| ------------- | ------------ | ------------------------------------------------------------------------------------------ |\n",
        "| **Top-Down**  | Memoization  | Se basa en recursión y almacenamiento de resultados intermedios en un diccionario o tabla. |\n",
        "| **Bottom-Up** | Tabulación   | Se construye iterativamente una tabla desde los casos base hasta el resultado final.       |\n",
        "\n",
        "---\n",
        "\n",
        "## 🔀 3. Transición del enfoque **Top-Down** al **Bottom-Up**\n",
        "\n",
        "La diferencia entre ambos enfoques no está en la **lógica matemática**, sino en la **forma de recorrer el espacio de subproblemas**:\n",
        "\n",
        "| Paso | Razonamiento                                                                                           | Ejemplo conceptual                                      |\n",
        "| ---- | ------------------------------------------------------------------------------------------------------ | ------------------------------------------------------- |\n",
        "| 1️⃣  | En top-down, el algoritmo se **expande recursivamente** hacia los casos base.                          | Llamadas recursivas como ramas de un árbol.             |\n",
        "| 2️⃣  | En bottom-up, el algoritmo **empieza directamente desde los casos base** y **construye hacia arriba**. | Llenado de una tabla fila por fila o índice por índice. |\n",
        "| 3️⃣  | Ambos usan la **misma relación de recurrencia**, pero el orden de ejecución cambia.                    | `f(n) = f(n-1) + f(n-2)` se convierte en un bucle.      |\n",
        "\n",
        "> 💡 **Idea clave:** La tabulación es la forma *iterativa* de pensar la recursión.\n",
        "> En lugar de preguntar “¿qué necesito para resolver este problema?”, nos preguntamos “¿qué necesito construir primero para llegar a la solución?”.\n",
        "\n",
        "---\n",
        "\n",
        "## 🧩 4. Modelo de pensamiento para Tabulación\n",
        "\n",
        "El objetivo del modelo mental es que el estudiante **no memorice patrones**, sino que aprenda a **razonar** el diseño de una tabla paso a paso.\n",
        "\n",
        "| Etapa                                | Pregunta guía                                         | Acción cognitiva                                                                     |\n",
        "| ------------------------------------ | ----------------------------------------------------- | ------------------------------------------------------------------------------------ |\n",
        "| 🧱 **1. Definición del subproblema** | ¿Qué representa `tab[i]` o `tab[i][j]`?               | Traducir el problema a un conjunto de estados o “unidades de decisión”.              |\n",
        "| ⚙️ **2. Casos base**                 | ¿Qué valores son triviales o se conocen de antemano?  | Establecer los cimientos: los valores que no dependen de cálculos previos.           |\n",
        "| 🔁 **3. Relación de transición**     | ¿Cómo se conecta el estado actual con los anteriores? | Formular la ecuación de recurrencia que gobierna la tabla.                           |\n",
        "| ⏩ **4. Orden de llenado**            | ¿En qué secuencia deben resolverse los subproblemas?  | Determinar cómo recorrer la tabla: hacia adelante, hacia abajo, por diagonales, etc. |\n",
        "| 🎯 **5. Resultado final**            | ¿Dónde se encuentra la respuesta completa?            | Identificar la celda que contiene la solución global.                                |\n",
        "\n",
        "> 📌 **Pensar en tabulación es pensar en construcción:**\n",
        "> no se trata de encontrar el camino, sino de **edificar paso a paso los cimientos de la solución.**\n",
        "\n",
        "---\n",
        "\n",
        "## 🧮 5. Dimensionalidad en Tabulación\n",
        "\n",
        "La forma de la tabla depende del número de variables que definen el estado del problema.\n",
        "\n",
        "| Dimensión | Representación del estado | Tipo de problema                                                                        |\n",
        "| --------- | ------------------------- | --------------------------------------------------------------------------------------- |\n",
        "| **1D**    | `tab[i]`                  | Problemas con una sola variable (Fibonacci, mínimo de monedas, número de formas, etc.)  |\n",
        "| **2D**    | `tab[i][j]`               | Problemas que combinan dos variables (número de elementos y peso, dos secuencias, etc.) |\n",
        "\n",
        "### 💭 Modelo mental\n",
        "\n",
        "* En 1D: “cada posición depende de un subconjunto de posiciones anteriores”.\n",
        "* En 2D: “cada celda representa una combinación de decisiones en dos dimensiones”.\n",
        "\n",
        "---\n",
        "\n",
        "## 🧭 6. Comparativa conceptual entre 1D y 2D\n",
        "\n",
        "| Criterio             | Tabulación 1D                           | Tabulación 2D                              |\n",
        "| -------------------- | --------------------------------------- | ------------------------------------------ |\n",
        "| Estado representado  | Una sola magnitud (`n`, `target`, etc.) | Dos magnitudes (`i`, `j`) que interactúan. |\n",
        "| Tipo de tabla        | Vector lineal                           | Matriz rectangular                         |\n",
        "| Forma de llenado     | De izquierda a derecha                  | Por filas, columnas o diagonales           |\n",
        "| Dependencias         | Menos complejas                         | Combinaciones entre estados                |\n",
        "| Nivel de abstracción | Bajo (se percibe fácil de visualizar)   | Medio-alto (requiere más interpretación)   |\n",
        "\n",
        "---\n",
        "\n",
        "## 🧩 7. Síntesis visual del proceso de tabulación\n",
        "\n",
        "```\n",
        "┌────────────────────────────────────────┐\n",
        "│      MODELO MENTAL DE TABULACIÓN       │\n",
        "├────────────────────────────────────────┤\n",
        "│ 1️⃣  Define qué representa cada celda   │\n",
        "│ 2️⃣  Identifica los casos base          │\n",
        "│ 3️⃣  Formula la relación de transición  │\n",
        "│ 4️⃣  Establece el orden de llenado      │\n",
        "│ 5️⃣  Ubica el resultado final           │\n",
        "└────────────────────────────────────────┘\n",
        "```\n",
        "\n",
        "---\n",
        "\n",
        "## 🔚 8. Conclusión\n",
        "\n",
        "La **tabulación** transforma la forma de pensar la programación dinámica:\n",
        "\n",
        "* Pasa de la **resolución reactiva** (top-down) a la **construcción proactiva** (bottom-up).\n",
        "* Obliga a **razonar la secuencia de dependencias**, permitiendo mayor control sobre la ejecución y el uso de memoria.\n",
        "* Fomenta la **visualización estructurada** de la solución, ideal para análisis y diseño de algoritmos.\n",
        "\n",
        "> 🧩 *“La tabulación no solo optimiza el código, sino también el pensamiento algorítmico: enseña a construir soluciones desde los cimientos.”*\n",
        "\n",
        "---\n"
      ]
    },
    {
      "cell_type": "code",
      "execution_count": null,
      "metadata": {
        "id": "ylwjUrUUvOKc"
      },
      "outputs": [],
      "source": []
    },
    {
      "cell_type": "markdown",
      "metadata": {
        "id": "OtHA6_PQ7JaY"
      },
      "source": [
        "\n",
        "### 🧩 **Ejercicio 1 — Fibonacci por Tabulación (nivel básico)**\n",
        "\n",
        "📘 **Descripción:**\n",
        "Dado un número entero `n`, calcula el n-ésimo número de la secuencia de Fibonacci utilizando el enfoque **de tabulación (bottom-up)**.\n",
        "\n",
        "La secuencia de Fibonacci se define como:\n",
        "\n",
        "```\n",
        "F(0) = 0\n",
        "F(1) = 1\n",
        "F(n) = F(n-1) + F(n-2)  para n ≥ 2\n",
        "```\n",
        "\n",
        "Tu tarea es construir iterativamente una tabla que contenga los valores desde `F(0)` hasta `F(n)` y devolver el último valor.\n",
        "\n",
        "📥 **Entrada:**\n",
        "Un número entero `n` (0 ≤ n ≤ 50).\n",
        "\n",
        "📤 **Salida:**\n",
        "El valor de `F(n)`.\n",
        "\n",
        "📌 **Objetivo pedagógico:**\n",
        "Introducir el concepto de **casos base, relación de transición y orden de llenado** en una tabla 1D."
      ]
    },
    {
      "cell_type": "code",
      "execution_count": 29,
      "metadata": {
        "id": "eWts-3sY7Lu6"
      },
      "outputs": [
        {
          "name": "stdout",
          "output_type": "stream",
          "text": [
            "[0, 1, 1]\n",
            "[0, 1, 1, 2]\n",
            "[0, 1, 1, 2, 3]\n"
          ]
        },
        {
          "data": {
            "text/plain": [
              "3"
            ]
          },
          "execution_count": 29,
          "metadata": {},
          "output_type": "execute_result"
        }
      ],
      "source": [
        "def fibonacci(n) -> int:\n",
        "    arr = []\n",
        "    arr.append(0)\n",
        "    arr.append(1)\n",
        "    \n",
        "    for i in range(2,n):\n",
        "        \n",
        "        fibo = arr[i-1]+arr[i-2]\n",
        "        arr.append(fibo)\n",
        "        print(arr)\n",
        "    return arr[-1]\n",
        "\n",
        "fibonacci(5)"
      ]
    },
    {
      "cell_type": "markdown",
      "metadata": {
        "id": "Mj2pPtve7ODv"
      },
      "source": [
        "---\n",
        "\n",
        "### 💰 **Ejercicio 2 — Coin Change (nivel intermedio)**\n",
        "\n",
        "📘 **Descripción:**\n",
        "Tienes un conjunto de monedas con distintos valores y un monto objetivo `target`.\n",
        "Debes encontrar el **mínimo número de monedas necesarias** para alcanzar exactamente el valor `target`.\n",
        "Si no es posible formar el monto con las monedas dadas, devuelve `-1`.\n",
        "\n",
        "Por ejemplo, si las monedas son `[1, 3, 4]` y `target = 6`,\n",
        "una solución óptima sería `3 + 3 = 6` usando **2 monedas**.\n",
        "\n",
        "📥 **Entrada:**\n",
        "\n",
        "* Una lista de enteros `coins` con los valores de las monedas.\n",
        "* Un entero `target` que representa el monto total deseado.\n",
        "\n",
        "📤 **Salida:**\n",
        "Un entero con el número mínimo de monedas necesarias, o `-1` si no hay solución.\n",
        "\n",
        "📌 **Objetivo pedagógico:**\n",
        "Aplicar el modelo de pensamiento de tabulación 1D donde `tab[i]` representa **la mejor solución para una submeta**.\n",
        "Permite reforzar cómo se construyen soluciones acumulativas con dependencia hacia atrás."
      ]
    },
    {
      "cell_type": "code",
      "execution_count": 21,
      "metadata": {
        "id": "GUH2tbLJ7PkX"
      },
      "outputs": [
        {
          "data": {
            "text/plain": [
              "2"
            ]
          },
          "execution_count": 21,
          "metadata": {},
          "output_type": "execute_result"
        }
      ],
      "source": [
        "def coin_change(monedas: list, k :int)-> int:\n",
        "    n = len(monedas)\n",
        "    matrix = [[0]*(k+1) for i in range(n+1)]\n",
        "    \n",
        "    for columna in range(1,k+1):\n",
        "        matrix[0][columna] = float('inf')\n",
        "        \n",
        "    \n",
        "    \n",
        "    for fila in range(1,n+1):\n",
        "        moneda = monedas[fila-1]\n",
        "        for col in range(1,k+1):\n",
        "            \n",
        "            no_meterme = matrix[fila-1][col]\n",
        "\n",
        "            # me puedo meter?\n",
        "            if moneda <= col:\n",
        "                # qué es mejor? \n",
        "                \n",
        "                meterme =  1 + matrix[fila][col-(moneda)]\n",
        "                                     \n",
        "                if no_meterme >= meterme: \n",
        "                    matrix[fila][col] = meterme\n",
        "                else:\n",
        "                    matrix[fila][col] = no_meterme \n",
        "            else:\n",
        "                matrix[fila][col] = no_meterme  \n",
        "                \n",
        "    return matrix[n][k]\n",
        "\n",
        "\n",
        "coin_change([3,1,2],5)\n",
        "    "
      ]
    },
    {
      "cell_type": "markdown",
      "metadata": {
        "id": "EN5SSEo97G6n"
      },
      "source": [
        "\n",
        "\n",
        "\n",
        "\n",
        "---\n",
        "\n",
        "### 🎒 **Ejercicio 3 — 0/1 Knapsack (nivel avanzado)**\n",
        "\n",
        "📘 **Descripción:**\n",
        "Tienes una mochila con capacidad `W` y `n` objetos, cada uno con un **peso** y un **valor**.\n",
        "Debes determinar el **valor máximo total** que puedes transportar sin superar la capacidad de la mochila.\n",
        "\n",
        "Cada objeto puede ser tomado **una sola vez** (de ahí el nombre *0/1*).\n",
        "\n",
        "📥 **Entrada:**\n",
        "\n",
        "* Un entero `n` representando el número de objetos.\n",
        "* Dos listas de tamaño `n`:\n",
        "\n",
        "  * `weights[i]` → peso del objeto `i`.\n",
        "  * `values[i]` → valor del objeto `i`.\n",
        "* Un entero `W` representando la capacidad máxima de la mochila.\n",
        "\n",
        "📤 **Salida:**\n",
        "El **valor máximo total** posible sin exceder `W`.\n",
        "\n",
        "📌 **Objetivo pedagógico:**\n",
        "Introducir tabulación **2D**, visualizando la tabla `tab[i][w]` donde:\n",
        "\n",
        "* `i` representa la cantidad de objetos considerados,\n",
        "* `w` representa la capacidad actual de la mochila.\n",
        "\n",
        "---\n"
      ]
    },
    {
      "cell_type": "code",
      "execution_count": 30,
      "metadata": {
        "id": "2iHtZJLQ8jRH"
      },
      "outputs": [
        {
          "name": "stdout",
          "output_type": "stream",
          "text": [
            "[[0, 0, 0, 0, 0, 0], [0, 0, 5, 5, 5, 5], [0, 10, 10, 15, 15, 15], [0, 10, 10, 50, 60, 60]]\n"
          ]
        },
        {
          "data": {
            "text/plain": [
              "60"
            ]
          },
          "execution_count": 30,
          "metadata": {},
          "output_type": "execute_result"
        }
      ],
      "source": [
        "def mochila(k:int, pesos: list, valores:list)-> int:\n",
        "    n = len(pesos)\n",
        "    matrix = [[0]*(k+1) for i in range(n+1)]\n",
        "    \n",
        "    for fila in range(1,n+1):\n",
        "        for col in range(1,k+1):\n",
        "          no_meterme = matrix[fila-1][col]\n",
        "\n",
        "            # me puedo meter?\n",
        "          if pesos[fila-1] <= col:  #si            \n",
        "            meterme = valores[fila-1] + matrix[fila-1][col-pesos[fila-1]]\n",
        "            matrix[fila][col] = max(meterme, no_meterme)\n",
        "          else: \n",
        "            matrix[fila][col] = no_meterme\n",
        "          \n",
        "    print(matrix)\n",
        "    return matrix[n][k]\n",
        "\n",
        "\n",
        "mochila(5,[2,1,3],[5,10,50])"
      ]
    }
  ],
  "metadata": {
    "colab": {
      "provenance": []
    },
    "kernelspec": {
      "display_name": "chem",
      "language": "python",
      "name": "python3"
    },
    "language_info": {
      "codemirror_mode": {
        "name": "ipython",
        "version": 3
      },
      "file_extension": ".py",
      "mimetype": "text/x-python",
      "name": "python",
      "nbconvert_exporter": "python",
      "pygments_lexer": "ipython3",
      "version": "3.13.5"
    }
  },
  "nbformat": 4,
  "nbformat_minor": 0
}
