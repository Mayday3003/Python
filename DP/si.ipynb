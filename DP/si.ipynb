{
 "cells": [
  {
   "cell_type": "code",
   "execution_count": 6,
   "id": "b5779359",
   "metadata": {},
   "outputs": [
    {
     "data": {
      "text/plain": [
       "2"
      ]
     },
     "execution_count": 6,
     "metadata": {},
     "output_type": "execute_result"
    }
   ],
   "source": [
    "def coin_change(monedas: list, k :int)-> int:\n",
    "    n = len(monedas)\n",
    "    matrix = [[0]*(k+1) for i in range(n+1)]\n",
    "    \n",
    "    for columna in range(1,k+1):\n",
    "        matrix[0][columna] = float('inf')\n",
    "        \n",
    "    \n",
    "    \n",
    "    for fila in range(1,n+1):\n",
    "        moneda = monedas[fila-1]\n",
    "        for col in range(1,k+1):\n",
    "            \n",
    "            no_meterme = matrix[fila-1][col]\n",
    "\n",
    "            # me puedo meter?\n",
    "            if moneda <= col:\n",
    "                # qué es mejor? \n",
    "                \n",
    "                meterme =  1 + matrix[fila][col-(moneda)]\n",
    "                                     \n",
    "                if no_meterme >= meterme: \n",
    "                    matrix[fila][col] = meterme\n",
    "                else:\n",
    "                    matrix[fila][col] = no_meterme \n",
    "            else:\n",
    "                matrix[fila][col] = no_meterme  \n",
    "                \n",
    "    return matrix[n][k]\n",
    "\n",
    "\n",
    "coin_change([3,1,2],5)\n",
    "    "
   ]
  },
  {
   "cell_type": "code",
   "execution_count": 6,
   "id": "f03efb39",
   "metadata": {},
   "outputs": [
    {
     "name": "stdout",
     "output_type": "stream",
     "text": [
      "[[0, inf, inf, inf, inf, inf, inf], [0, 0, 0, 0, 0, 0, 0], [0, 0, 0, 0, 0, 0, 0], [0, 0, 0, 0, 0, 0, 0]]\n",
      "[[0, inf, inf, inf, inf, inf, inf], [0, inf, inf, inf, inf, 1, inf], [0, inf, inf, 1, inf, 1, 2], [0, inf, inf, 1, 1, 1, 2]]\n"
     ]
    },
    {
     "data": {
      "text/plain": [
       "2"
      ]
     },
     "execution_count": 6,
     "metadata": {},
     "output_type": "execute_result"
    }
   ],
   "source": [
    "def coin_change(monedas: list, k :int)-> int:\n",
    "    n = len(monedas)\n",
    "    matrix = [[0]*(k+1) for i in range(n+1)]\n",
    "    \n",
    "    for columna in range(1,k+1):\n",
    "        matrix[0][columna] = float('inf')\n",
    "    print(matrix)   \n",
    "    \n",
    "    \n",
    "    for fila in range(1,n+1):\n",
    "        moneda = monedas[fila-1]\n",
    "        for col in range(1,k+1):\n",
    "            \n",
    "            no_meterme = matrix[fila-1][col]\n",
    "\n",
    "            # me puedo meter?\n",
    "            if moneda <= col:\n",
    "                # qué es mejor? \n",
    "                \n",
    "                meterme =  1 + matrix[fila][col-(moneda)]\n",
    "                matrix[fila][col] = min(meterme, no_meterme)                     \n",
    " \n",
    "            else:\n",
    "                matrix[fila][col] = no_meterme  \n",
    "    print(matrix)           \n",
    "    return matrix[n][k]\n",
    "\n",
    "\n",
    "coin_change([5,3,4],6)\n",
    "    "
   ]
  },
  {
   "cell_type": "code",
   "execution_count": 13,
   "id": "0fd689e7",
   "metadata": {},
   "outputs": [
    {
     "name": "stdout",
     "output_type": "stream",
     "text": [
      "2\n"
     ]
    }
   ],
   "source": [
    "def coin_change(monedas: list, k: int) -> int:\n",
    "    dp = [float('inf')] * (k + 1)\n",
    "    dp[0] = 0\n",
    "    for moneda in monedas:\n",
    "        for col in range(moneda, k + 1): \n",
    "            dp[col] = min(dp[col], 1 + dp[col - moneda])\n",
    "    return dp[k]  \n",
    "\n",
    "print(coin_change([5,3,4], 6))  "
   ]
  },
  {
   "cell_type": "code",
   "execution_count": 13,
   "id": "9f3451ad",
   "metadata": {},
   "outputs": [
    {
     "data": {
      "text/plain": [
       "60"
      ]
     },
     "execution_count": 13,
     "metadata": {},
     "output_type": "execute_result"
    }
   ],
   "source": [
    "def mochila(k:int, pesos: list, valores:list)-> int:\n",
    "    n = len(pesos)\n",
    "    matrix = [[0]*(k+1) for i in range(n+1)]\n",
    "    \n",
    "    for fila in range(1,n+1):\n",
    "        for col in range(1,k+1):\n",
    "          no_meterme = matrix[fila-1][col]\n",
    "\n",
    "            # me puedo meter?\n",
    "          if pesos[fila-1] <= col:  #si            \n",
    "            meterme = valores[fila-1] + matrix[fila-1][col-pesos[fila-1]]\n",
    "            matrix[fila][col] = max(meterme, no_meterme)\n",
    "          else: \n",
    "            matrix[fila][col] = no_meterme\n",
    "          \n",
    "    \n",
    "    return matrix[n][k]\n",
    "\n",
    "\n",
    "mochila(5,[2,1,3],[5,10,50])"
   ]
  },
  {
   "cell_type": "code",
   "execution_count": null,
   "id": "55a3b1ec",
   "metadata": {},
   "outputs": [],
   "source": [
    "def lis(arr: list)->int:\n",
    "    pass"
   ]
  }
 ],
 "metadata": {
  "kernelspec": {
   "display_name": "chem",
   "language": "python",
   "name": "python3"
  },
  "language_info": {
   "codemirror_mode": {
    "name": "ipython",
    "version": 3
   },
   "file_extension": ".py",
   "mimetype": "text/x-python",
   "name": "python",
   "nbconvert_exporter": "python",
   "pygments_lexer": "ipython3",
   "version": "3.13.5"
  }
 },
 "nbformat": 4,
 "nbformat_minor": 5
}
